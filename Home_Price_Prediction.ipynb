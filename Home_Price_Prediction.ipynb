{
 "cells": [
  {
   "cell_type": "code",
   "execution_count": 5,
   "id": "f857a2cf-db5b-4ed4-aa20-cea738dfe3ee",
   "metadata": {},
   "outputs": [],
   "source": [
    "import numpy as np\n",
    "import pandas as pd\n",
    "import matplotlib.pyplot as plt"
   ]
  },
  {
   "cell_type": "code",
   "execution_count": 6,
   "id": "5549688b-7ec9-4aed-848f-5901c20d3ea7",
   "metadata": {},
   "outputs": [],
   "source": [
    "df = pd.read_csv(\"C:/Users/patel/Downloads/house_prices.csv/house_prices.csv\")"
   ]
  },
  {
   "cell_type": "code",
   "execution_count": 7,
   "id": "27600dfe-ec5a-4f0c-9f96-a18f8af44a40",
   "metadata": {},
   "outputs": [
    {
     "data": {
      "text/html": [
       "<div>\n",
       "<style scoped>\n",
       "    .dataframe tbody tr th:only-of-type {\n",
       "        vertical-align: middle;\n",
       "    }\n",
       "\n",
       "    .dataframe tbody tr th {\n",
       "        vertical-align: top;\n",
       "    }\n",
       "\n",
       "    .dataframe thead th {\n",
       "        text-align: right;\n",
       "    }\n",
       "</style>\n",
       "<table border=\"1\" class=\"dataframe\">\n",
       "  <thead>\n",
       "    <tr style=\"text-align: right;\">\n",
       "      <th></th>\n",
       "      <th>Index</th>\n",
       "      <th>Title</th>\n",
       "      <th>Description</th>\n",
       "      <th>Amount(in rupees)</th>\n",
       "      <th>Price (in rupees)</th>\n",
       "      <th>location</th>\n",
       "      <th>Carpet Area</th>\n",
       "      <th>Status</th>\n",
       "      <th>Floor</th>\n",
       "      <th>Transaction</th>\n",
       "      <th>...</th>\n",
       "      <th>facing</th>\n",
       "      <th>overlooking</th>\n",
       "      <th>Society</th>\n",
       "      <th>Bathroom</th>\n",
       "      <th>Balcony</th>\n",
       "      <th>Car Parking</th>\n",
       "      <th>Ownership</th>\n",
       "      <th>Super Area</th>\n",
       "      <th>Dimensions</th>\n",
       "      <th>Plot Area</th>\n",
       "    </tr>\n",
       "  </thead>\n",
       "  <tbody>\n",
       "    <tr>\n",
       "      <th>0</th>\n",
       "      <td>0</td>\n",
       "      <td>1 BHK Ready to Occupy Flat for sale in Srushti...</td>\n",
       "      <td>Bhiwandi, Thane has an attractive 1 BHK Flat f...</td>\n",
       "      <td>42 Lac</td>\n",
       "      <td>6000.0</td>\n",
       "      <td>thane</td>\n",
       "      <td>500 sqft</td>\n",
       "      <td>Ready to Move</td>\n",
       "      <td>10 out of 11</td>\n",
       "      <td>Resale</td>\n",
       "      <td>...</td>\n",
       "      <td>NaN</td>\n",
       "      <td>NaN</td>\n",
       "      <td>Srushti Siddhi Mangal Murti Complex</td>\n",
       "      <td>1</td>\n",
       "      <td>2</td>\n",
       "      <td>NaN</td>\n",
       "      <td>NaN</td>\n",
       "      <td>NaN</td>\n",
       "      <td>NaN</td>\n",
       "      <td>NaN</td>\n",
       "    </tr>\n",
       "    <tr>\n",
       "      <th>1</th>\n",
       "      <td>1</td>\n",
       "      <td>2 BHK Ready to Occupy Flat for sale in Dosti V...</td>\n",
       "      <td>One can find this stunning 2 BHK flat for sale...</td>\n",
       "      <td>98 Lac</td>\n",
       "      <td>13799.0</td>\n",
       "      <td>thane</td>\n",
       "      <td>473 sqft</td>\n",
       "      <td>Ready to Move</td>\n",
       "      <td>3 out of 22</td>\n",
       "      <td>Resale</td>\n",
       "      <td>...</td>\n",
       "      <td>East</td>\n",
       "      <td>Garden/Park</td>\n",
       "      <td>Dosti Vihar</td>\n",
       "      <td>2</td>\n",
       "      <td>NaN</td>\n",
       "      <td>1 Open</td>\n",
       "      <td>Freehold</td>\n",
       "      <td>NaN</td>\n",
       "      <td>NaN</td>\n",
       "      <td>NaN</td>\n",
       "    </tr>\n",
       "    <tr>\n",
       "      <th>2</th>\n",
       "      <td>2</td>\n",
       "      <td>2 BHK Ready to Occupy Flat for sale in Sunrise...</td>\n",
       "      <td>Up for immediate sale is a 2 BHK apartment in ...</td>\n",
       "      <td>1.40 Cr</td>\n",
       "      <td>17500.0</td>\n",
       "      <td>thane</td>\n",
       "      <td>779 sqft</td>\n",
       "      <td>Ready to Move</td>\n",
       "      <td>10 out of 29</td>\n",
       "      <td>Resale</td>\n",
       "      <td>...</td>\n",
       "      <td>East</td>\n",
       "      <td>Garden/Park</td>\n",
       "      <td>Sunrise by Kalpataru</td>\n",
       "      <td>2</td>\n",
       "      <td>NaN</td>\n",
       "      <td>1 Covered</td>\n",
       "      <td>Freehold</td>\n",
       "      <td>NaN</td>\n",
       "      <td>NaN</td>\n",
       "      <td>NaN</td>\n",
       "    </tr>\n",
       "    <tr>\n",
       "      <th>3</th>\n",
       "      <td>3</td>\n",
       "      <td>1 BHK Ready to Occupy Flat for sale Kasheli</td>\n",
       "      <td>This beautiful 1 BHK Flat is available for sal...</td>\n",
       "      <td>25 Lac</td>\n",
       "      <td>NaN</td>\n",
       "      <td>thane</td>\n",
       "      <td>530 sqft</td>\n",
       "      <td>Ready to Move</td>\n",
       "      <td>1 out of 3</td>\n",
       "      <td>Resale</td>\n",
       "      <td>...</td>\n",
       "      <td>NaN</td>\n",
       "      <td>NaN</td>\n",
       "      <td>NaN</td>\n",
       "      <td>1</td>\n",
       "      <td>1</td>\n",
       "      <td>NaN</td>\n",
       "      <td>NaN</td>\n",
       "      <td>NaN</td>\n",
       "      <td>NaN</td>\n",
       "      <td>NaN</td>\n",
       "    </tr>\n",
       "    <tr>\n",
       "      <th>4</th>\n",
       "      <td>4</td>\n",
       "      <td>2 BHK Ready to Occupy Flat for sale in TenX Ha...</td>\n",
       "      <td>This lovely 2 BHK Flat in Pokhran Road, Thane ...</td>\n",
       "      <td>1.60 Cr</td>\n",
       "      <td>18824.0</td>\n",
       "      <td>thane</td>\n",
       "      <td>635 sqft</td>\n",
       "      <td>Ready to Move</td>\n",
       "      <td>20 out of 42</td>\n",
       "      <td>Resale</td>\n",
       "      <td>...</td>\n",
       "      <td>West</td>\n",
       "      <td>Garden/Park, Main Road</td>\n",
       "      <td>TenX Habitat Raymond Realty</td>\n",
       "      <td>2</td>\n",
       "      <td>NaN</td>\n",
       "      <td>1 Covered</td>\n",
       "      <td>Co-operative Society</td>\n",
       "      <td>NaN</td>\n",
       "      <td>NaN</td>\n",
       "      <td>NaN</td>\n",
       "    </tr>\n",
       "  </tbody>\n",
       "</table>\n",
       "<p>5 rows × 21 columns</p>\n",
       "</div>"
      ],
      "text/plain": [
       "   Index                                              Title  \\\n",
       "0      0  1 BHK Ready to Occupy Flat for sale in Srushti...   \n",
       "1      1  2 BHK Ready to Occupy Flat for sale in Dosti V...   \n",
       "2      2  2 BHK Ready to Occupy Flat for sale in Sunrise...   \n",
       "3      3        1 BHK Ready to Occupy Flat for sale Kasheli   \n",
       "4      4  2 BHK Ready to Occupy Flat for sale in TenX Ha...   \n",
       "\n",
       "                                         Description Amount(in rupees)  \\\n",
       "0  Bhiwandi, Thane has an attractive 1 BHK Flat f...           42 Lac    \n",
       "1  One can find this stunning 2 BHK flat for sale...           98 Lac    \n",
       "2  Up for immediate sale is a 2 BHK apartment in ...          1.40 Cr    \n",
       "3  This beautiful 1 BHK Flat is available for sal...           25 Lac    \n",
       "4  This lovely 2 BHK Flat in Pokhran Road, Thane ...          1.60 Cr    \n",
       "\n",
       "   Price (in rupees) location Carpet Area         Status         Floor  \\\n",
       "0             6000.0    thane    500 sqft  Ready to Move  10 out of 11   \n",
       "1            13799.0    thane    473 sqft  Ready to Move   3 out of 22   \n",
       "2            17500.0    thane    779 sqft  Ready to Move  10 out of 29   \n",
       "3                NaN    thane    530 sqft  Ready to Move    1 out of 3   \n",
       "4            18824.0    thane    635 sqft  Ready to Move  20 out of 42   \n",
       "\n",
       "  Transaction  ... facing             overlooking  \\\n",
       "0      Resale  ...    NaN                     NaN   \n",
       "1      Resale  ...   East             Garden/Park   \n",
       "2      Resale  ...   East             Garden/Park   \n",
       "3      Resale  ...    NaN                     NaN   \n",
       "4      Resale  ...   West  Garden/Park, Main Road   \n",
       "\n",
       "                               Society Bathroom Balcony Car Parking  \\\n",
       "0  Srushti Siddhi Mangal Murti Complex        1       2         NaN   \n",
       "1                          Dosti Vihar        2     NaN      1 Open   \n",
       "2                 Sunrise by Kalpataru        2     NaN   1 Covered   \n",
       "3                                  NaN        1       1         NaN   \n",
       "4          TenX Habitat Raymond Realty        2     NaN   1 Covered   \n",
       "\n",
       "              Ownership Super Area Dimensions  Plot Area  \n",
       "0                   NaN        NaN        NaN        NaN  \n",
       "1              Freehold        NaN        NaN        NaN  \n",
       "2              Freehold        NaN        NaN        NaN  \n",
       "3                   NaN        NaN        NaN        NaN  \n",
       "4  Co-operative Society        NaN        NaN        NaN  \n",
       "\n",
       "[5 rows x 21 columns]"
      ]
     },
     "execution_count": 7,
     "metadata": {},
     "output_type": "execute_result"
    }
   ],
   "source": [
    "df.head()"
   ]
  },
  {
   "cell_type": "code",
   "execution_count": 8,
   "id": "99478324-0b21-4b84-afa5-a03d65f84a7b",
   "metadata": {},
   "outputs": [
    {
     "data": {
      "text/plain": [
       "Index                     0\n",
       "Title                     0\n",
       "Description            3023\n",
       "Amount(in rupees)         0\n",
       "Price (in rupees)     17665\n",
       "location                  0\n",
       "Carpet Area           80673\n",
       "Status                  615\n",
       "Floor                  7077\n",
       "Transaction              83\n",
       "Furnishing             2897\n",
       "facing                70233\n",
       "overlooking           81436\n",
       "Society              109678\n",
       "Bathroom                828\n",
       "Balcony               48935\n",
       "Car Parking          103357\n",
       "Ownership             65517\n",
       "Super Area           107685\n",
       "Dimensions           187531\n",
       "Plot Area            187531\n",
       "dtype: int64"
      ]
     },
     "execution_count": 8,
     "metadata": {},
     "output_type": "execute_result"
    }
   ],
   "source": [
    "df.isnull().sum()"
   ]
  },
  {
   "cell_type": "code",
   "execution_count": 9,
   "id": "55be38db-d8bb-4b47-9c06-53fb3959b533",
   "metadata": {},
   "outputs": [
    {
     "data": {
      "text/html": [
       "<div>\n",
       "<style scoped>\n",
       "    .dataframe tbody tr th:only-of-type {\n",
       "        vertical-align: middle;\n",
       "    }\n",
       "\n",
       "    .dataframe tbody tr th {\n",
       "        vertical-align: top;\n",
       "    }\n",
       "\n",
       "    .dataframe thead th {\n",
       "        text-align: right;\n",
       "    }\n",
       "</style>\n",
       "<table border=\"1\" class=\"dataframe\">\n",
       "  <thead>\n",
       "    <tr style=\"text-align: right;\">\n",
       "      <th></th>\n",
       "      <th>Index</th>\n",
       "      <th>Description</th>\n",
       "      <th>Amount(in rupees)</th>\n",
       "      <th>Price (in rupees)</th>\n",
       "      <th>location</th>\n",
       "      <th>Carpet Area</th>\n",
       "      <th>Status</th>\n",
       "      <th>Floor</th>\n",
       "      <th>Transaction</th>\n",
       "      <th>Furnishing</th>\n",
       "      <th>...</th>\n",
       "      <th>overlooking</th>\n",
       "      <th>Society</th>\n",
       "      <th>Bathroom</th>\n",
       "      <th>Balcony</th>\n",
       "      <th>Car Parking</th>\n",
       "      <th>Ownership</th>\n",
       "      <th>Super Area</th>\n",
       "      <th>Dimensions</th>\n",
       "      <th>Plot Area</th>\n",
       "      <th>Title [BHK]</th>\n",
       "    </tr>\n",
       "  </thead>\n",
       "  <tbody>\n",
       "    <tr>\n",
       "      <th>0</th>\n",
       "      <td>0</td>\n",
       "      <td>Bhiwandi, Thane has an attractive 1 BHK Flat f...</td>\n",
       "      <td>42 Lac</td>\n",
       "      <td>6000.0</td>\n",
       "      <td>thane</td>\n",
       "      <td>500 sqft</td>\n",
       "      <td>Ready to Move</td>\n",
       "      <td>10 out of 11</td>\n",
       "      <td>Resale</td>\n",
       "      <td>Unfurnished</td>\n",
       "      <td>...</td>\n",
       "      <td>NaN</td>\n",
       "      <td>Srushti Siddhi Mangal Murti Complex</td>\n",
       "      <td>1</td>\n",
       "      <td>2</td>\n",
       "      <td>NaN</td>\n",
       "      <td>NaN</td>\n",
       "      <td>NaN</td>\n",
       "      <td>NaN</td>\n",
       "      <td>NaN</td>\n",
       "      <td>1</td>\n",
       "    </tr>\n",
       "    <tr>\n",
       "      <th>1</th>\n",
       "      <td>1</td>\n",
       "      <td>One can find this stunning 2 BHK flat for sale...</td>\n",
       "      <td>98 Lac</td>\n",
       "      <td>13799.0</td>\n",
       "      <td>thane</td>\n",
       "      <td>473 sqft</td>\n",
       "      <td>Ready to Move</td>\n",
       "      <td>3 out of 22</td>\n",
       "      <td>Resale</td>\n",
       "      <td>Semi-Furnished</td>\n",
       "      <td>...</td>\n",
       "      <td>Garden/Park</td>\n",
       "      <td>Dosti Vihar</td>\n",
       "      <td>2</td>\n",
       "      <td>NaN</td>\n",
       "      <td>1 Open</td>\n",
       "      <td>Freehold</td>\n",
       "      <td>NaN</td>\n",
       "      <td>NaN</td>\n",
       "      <td>NaN</td>\n",
       "      <td>2</td>\n",
       "    </tr>\n",
       "    <tr>\n",
       "      <th>2</th>\n",
       "      <td>2</td>\n",
       "      <td>Up for immediate sale is a 2 BHK apartment in ...</td>\n",
       "      <td>1.40 Cr</td>\n",
       "      <td>17500.0</td>\n",
       "      <td>thane</td>\n",
       "      <td>779 sqft</td>\n",
       "      <td>Ready to Move</td>\n",
       "      <td>10 out of 29</td>\n",
       "      <td>Resale</td>\n",
       "      <td>Unfurnished</td>\n",
       "      <td>...</td>\n",
       "      <td>Garden/Park</td>\n",
       "      <td>Sunrise by Kalpataru</td>\n",
       "      <td>2</td>\n",
       "      <td>NaN</td>\n",
       "      <td>1 Covered</td>\n",
       "      <td>Freehold</td>\n",
       "      <td>NaN</td>\n",
       "      <td>NaN</td>\n",
       "      <td>NaN</td>\n",
       "      <td>2</td>\n",
       "    </tr>\n",
       "    <tr>\n",
       "      <th>3</th>\n",
       "      <td>3</td>\n",
       "      <td>This beautiful 1 BHK Flat is available for sal...</td>\n",
       "      <td>25 Lac</td>\n",
       "      <td>NaN</td>\n",
       "      <td>thane</td>\n",
       "      <td>530 sqft</td>\n",
       "      <td>Ready to Move</td>\n",
       "      <td>1 out of 3</td>\n",
       "      <td>Resale</td>\n",
       "      <td>Unfurnished</td>\n",
       "      <td>...</td>\n",
       "      <td>NaN</td>\n",
       "      <td>NaN</td>\n",
       "      <td>1</td>\n",
       "      <td>1</td>\n",
       "      <td>NaN</td>\n",
       "      <td>NaN</td>\n",
       "      <td>NaN</td>\n",
       "      <td>NaN</td>\n",
       "      <td>NaN</td>\n",
       "      <td>1</td>\n",
       "    </tr>\n",
       "    <tr>\n",
       "      <th>4</th>\n",
       "      <td>4</td>\n",
       "      <td>This lovely 2 BHK Flat in Pokhran Road, Thane ...</td>\n",
       "      <td>1.60 Cr</td>\n",
       "      <td>18824.0</td>\n",
       "      <td>thane</td>\n",
       "      <td>635 sqft</td>\n",
       "      <td>Ready to Move</td>\n",
       "      <td>20 out of 42</td>\n",
       "      <td>Resale</td>\n",
       "      <td>Unfurnished</td>\n",
       "      <td>...</td>\n",
       "      <td>Garden/Park, Main Road</td>\n",
       "      <td>TenX Habitat Raymond Realty</td>\n",
       "      <td>2</td>\n",
       "      <td>NaN</td>\n",
       "      <td>1 Covered</td>\n",
       "      <td>Co-operative Society</td>\n",
       "      <td>NaN</td>\n",
       "      <td>NaN</td>\n",
       "      <td>NaN</td>\n",
       "      <td>2</td>\n",
       "    </tr>\n",
       "  </tbody>\n",
       "</table>\n",
       "<p>5 rows × 21 columns</p>\n",
       "</div>"
      ],
      "text/plain": [
       "   Index                                        Description Amount(in rupees)  \\\n",
       "0      0  Bhiwandi, Thane has an attractive 1 BHK Flat f...           42 Lac    \n",
       "1      1  One can find this stunning 2 BHK flat for sale...           98 Lac    \n",
       "2      2  Up for immediate sale is a 2 BHK apartment in ...          1.40 Cr    \n",
       "3      3  This beautiful 1 BHK Flat is available for sal...           25 Lac    \n",
       "4      4  This lovely 2 BHK Flat in Pokhran Road, Thane ...          1.60 Cr    \n",
       "\n",
       "   Price (in rupees) location Carpet Area         Status         Floor  \\\n",
       "0             6000.0    thane    500 sqft  Ready to Move  10 out of 11   \n",
       "1            13799.0    thane    473 sqft  Ready to Move   3 out of 22   \n",
       "2            17500.0    thane    779 sqft  Ready to Move  10 out of 29   \n",
       "3                NaN    thane    530 sqft  Ready to Move    1 out of 3   \n",
       "4            18824.0    thane    635 sqft  Ready to Move  20 out of 42   \n",
       "\n",
       "  Transaction      Furnishing  ...             overlooking  \\\n",
       "0      Resale     Unfurnished  ...                     NaN   \n",
       "1      Resale  Semi-Furnished  ...             Garden/Park   \n",
       "2      Resale     Unfurnished  ...             Garden/Park   \n",
       "3      Resale     Unfurnished  ...                     NaN   \n",
       "4      Resale     Unfurnished  ...  Garden/Park, Main Road   \n",
       "\n",
       "                               Society Bathroom Balcony Car Parking  \\\n",
       "0  Srushti Siddhi Mangal Murti Complex        1       2         NaN   \n",
       "1                          Dosti Vihar        2     NaN      1 Open   \n",
       "2                 Sunrise by Kalpataru        2     NaN   1 Covered   \n",
       "3                                  NaN        1       1         NaN   \n",
       "4          TenX Habitat Raymond Realty        2     NaN   1 Covered   \n",
       "\n",
       "              Ownership Super Area Dimensions  Plot Area  Title [BHK]  \n",
       "0                   NaN        NaN        NaN        NaN            1  \n",
       "1              Freehold        NaN        NaN        NaN            2  \n",
       "2              Freehold        NaN        NaN        NaN            2  \n",
       "3                   NaN        NaN        NaN        NaN            1  \n",
       "4  Co-operative Society        NaN        NaN        NaN            2  \n",
       "\n",
       "[5 rows x 21 columns]"
      ]
     },
     "execution_count": 9,
     "metadata": {},
     "output_type": "execute_result"
    }
   ],
   "source": [
    "title = list(df['Title'])\n",
    "New_title = []\n",
    "Final_Title = []\n",
    "\n",
    "for i in range (len(title)):  \n",
    "    New_title.append(title[i].split()[0])\n",
    "    \n",
    "for i in New_title:\n",
    "    if i in ['Studio','Apartment','Builder','>']:\n",
    "        Final_Title.append(np.nan)\n",
    "    else:  \n",
    "        Final_Title.append(i)\n",
    "        \n",
    "df['Title [BHK]'] = pd.DataFrame(Final_Title)\n",
    "\n",
    "df.drop(['Title'],axis=1,inplace=True)\n",
    "df.head(5)\n"
   ]
  },
  {
   "cell_type": "code",
   "execution_count": 10,
   "id": "c97cb1cc-2571-414b-85ff-00ead861adb3",
   "metadata": {},
   "outputs": [
    {
     "data": {
      "text/plain": [
       "array(['1', '2', '3', '4', '5', nan, '6', '8', '7', '9', '10'],\n",
       "      dtype=object)"
      ]
     },
     "execution_count": 10,
     "metadata": {},
     "output_type": "execute_result"
    }
   ],
   "source": [
    "df['Title [BHK]'].unique()"
   ]
  },
  {
   "cell_type": "code",
   "execution_count": 11,
   "id": "0bb693b0-72d2-4810-b1ab-7e999eceff95",
   "metadata": {},
   "outputs": [
    {
     "data": {
      "text/html": [
       "<div>\n",
       "<style scoped>\n",
       "    .dataframe tbody tr th:only-of-type {\n",
       "        vertical-align: middle;\n",
       "    }\n",
       "\n",
       "    .dataframe tbody tr th {\n",
       "        vertical-align: top;\n",
       "    }\n",
       "\n",
       "    .dataframe thead th {\n",
       "        text-align: right;\n",
       "    }\n",
       "</style>\n",
       "<table border=\"1\" class=\"dataframe\">\n",
       "  <thead>\n",
       "    <tr style=\"text-align: right;\">\n",
       "      <th></th>\n",
       "      <th>Description</th>\n",
       "      <th>Amount(in rupees)</th>\n",
       "      <th>Price (in rupees)</th>\n",
       "      <th>location</th>\n",
       "      <th>Carpet Area</th>\n",
       "      <th>Status</th>\n",
       "      <th>Floor</th>\n",
       "      <th>Transaction</th>\n",
       "      <th>Furnishing</th>\n",
       "      <th>facing</th>\n",
       "      <th>overlooking</th>\n",
       "      <th>Society</th>\n",
       "      <th>Bathroom</th>\n",
       "      <th>Balcony</th>\n",
       "      <th>Car Parking</th>\n",
       "      <th>Ownership</th>\n",
       "      <th>Super Area</th>\n",
       "      <th>Dimensions</th>\n",
       "      <th>Plot Area</th>\n",
       "      <th>Title [BHK]</th>\n",
       "    </tr>\n",
       "  </thead>\n",
       "  <tbody>\n",
       "    <tr>\n",
       "      <th>0</th>\n",
       "      <td>Bhiwandi, Thane has an attractive 1 BHK Flat f...</td>\n",
       "      <td>42 Lac</td>\n",
       "      <td>6000.0</td>\n",
       "      <td>thane</td>\n",
       "      <td>500 sqft</td>\n",
       "      <td>Ready to Move</td>\n",
       "      <td>10 out of 11</td>\n",
       "      <td>Resale</td>\n",
       "      <td>Unfurnished</td>\n",
       "      <td>NaN</td>\n",
       "      <td>NaN</td>\n",
       "      <td>Srushti Siddhi Mangal Murti Complex</td>\n",
       "      <td>1</td>\n",
       "      <td>2</td>\n",
       "      <td>NaN</td>\n",
       "      <td>NaN</td>\n",
       "      <td>NaN</td>\n",
       "      <td>NaN</td>\n",
       "      <td>NaN</td>\n",
       "      <td>1</td>\n",
       "    </tr>\n",
       "    <tr>\n",
       "      <th>1</th>\n",
       "      <td>One can find this stunning 2 BHK flat for sale...</td>\n",
       "      <td>98 Lac</td>\n",
       "      <td>13799.0</td>\n",
       "      <td>thane</td>\n",
       "      <td>473 sqft</td>\n",
       "      <td>Ready to Move</td>\n",
       "      <td>3 out of 22</td>\n",
       "      <td>Resale</td>\n",
       "      <td>Semi-Furnished</td>\n",
       "      <td>East</td>\n",
       "      <td>Garden/Park</td>\n",
       "      <td>Dosti Vihar</td>\n",
       "      <td>2</td>\n",
       "      <td>NaN</td>\n",
       "      <td>1 Open</td>\n",
       "      <td>Freehold</td>\n",
       "      <td>NaN</td>\n",
       "      <td>NaN</td>\n",
       "      <td>NaN</td>\n",
       "      <td>2</td>\n",
       "    </tr>\n",
       "    <tr>\n",
       "      <th>2</th>\n",
       "      <td>Up for immediate sale is a 2 BHK apartment in ...</td>\n",
       "      <td>1.40 Cr</td>\n",
       "      <td>17500.0</td>\n",
       "      <td>thane</td>\n",
       "      <td>779 sqft</td>\n",
       "      <td>Ready to Move</td>\n",
       "      <td>10 out of 29</td>\n",
       "      <td>Resale</td>\n",
       "      <td>Unfurnished</td>\n",
       "      <td>East</td>\n",
       "      <td>Garden/Park</td>\n",
       "      <td>Sunrise by Kalpataru</td>\n",
       "      <td>2</td>\n",
       "      <td>NaN</td>\n",
       "      <td>1 Covered</td>\n",
       "      <td>Freehold</td>\n",
       "      <td>NaN</td>\n",
       "      <td>NaN</td>\n",
       "      <td>NaN</td>\n",
       "      <td>2</td>\n",
       "    </tr>\n",
       "    <tr>\n",
       "      <th>3</th>\n",
       "      <td>This beautiful 1 BHK Flat is available for sal...</td>\n",
       "      <td>25 Lac</td>\n",
       "      <td>NaN</td>\n",
       "      <td>thane</td>\n",
       "      <td>530 sqft</td>\n",
       "      <td>Ready to Move</td>\n",
       "      <td>1 out of 3</td>\n",
       "      <td>Resale</td>\n",
       "      <td>Unfurnished</td>\n",
       "      <td>NaN</td>\n",
       "      <td>NaN</td>\n",
       "      <td>NaN</td>\n",
       "      <td>1</td>\n",
       "      <td>1</td>\n",
       "      <td>NaN</td>\n",
       "      <td>NaN</td>\n",
       "      <td>NaN</td>\n",
       "      <td>NaN</td>\n",
       "      <td>NaN</td>\n",
       "      <td>1</td>\n",
       "    </tr>\n",
       "    <tr>\n",
       "      <th>4</th>\n",
       "      <td>This lovely 2 BHK Flat in Pokhran Road, Thane ...</td>\n",
       "      <td>1.60 Cr</td>\n",
       "      <td>18824.0</td>\n",
       "      <td>thane</td>\n",
       "      <td>635 sqft</td>\n",
       "      <td>Ready to Move</td>\n",
       "      <td>20 out of 42</td>\n",
       "      <td>Resale</td>\n",
       "      <td>Unfurnished</td>\n",
       "      <td>West</td>\n",
       "      <td>Garden/Park, Main Road</td>\n",
       "      <td>TenX Habitat Raymond Realty</td>\n",
       "      <td>2</td>\n",
       "      <td>NaN</td>\n",
       "      <td>1 Covered</td>\n",
       "      <td>Co-operative Society</td>\n",
       "      <td>NaN</td>\n",
       "      <td>NaN</td>\n",
       "      <td>NaN</td>\n",
       "      <td>2</td>\n",
       "    </tr>\n",
       "    <tr>\n",
       "      <th>5</th>\n",
       "      <td>Creatively planned and constructed is a 1 BHK ...</td>\n",
       "      <td>45 Lac</td>\n",
       "      <td>6618.0</td>\n",
       "      <td>thane</td>\n",
       "      <td>NaN</td>\n",
       "      <td>Ready to Move</td>\n",
       "      <td>2 out of 7</td>\n",
       "      <td>Resale</td>\n",
       "      <td>Unfurnished</td>\n",
       "      <td>East</td>\n",
       "      <td>Garden/Park, Main Road</td>\n",
       "      <td>Virat Aangan</td>\n",
       "      <td>1</td>\n",
       "      <td>1</td>\n",
       "      <td>NaN</td>\n",
       "      <td>Co-operative Society</td>\n",
       "      <td>680 sqft</td>\n",
       "      <td>NaN</td>\n",
       "      <td>NaN</td>\n",
       "      <td>1</td>\n",
       "    </tr>\n",
       "    <tr>\n",
       "      <th>6</th>\n",
       "      <td>This magnificent 1 BHK Flat is available for s...</td>\n",
       "      <td>16.5 Lac</td>\n",
       "      <td>2538.0</td>\n",
       "      <td>thane</td>\n",
       "      <td>550 sqft</td>\n",
       "      <td>Ready to Move</td>\n",
       "      <td>4 out of 5</td>\n",
       "      <td>Resale</td>\n",
       "      <td>Unfurnished</td>\n",
       "      <td>NaN</td>\n",
       "      <td>NaN</td>\n",
       "      <td>NaN</td>\n",
       "      <td>1</td>\n",
       "      <td>NaN</td>\n",
       "      <td>NaN</td>\n",
       "      <td>NaN</td>\n",
       "      <td>NaN</td>\n",
       "      <td>NaN</td>\n",
       "      <td>NaN</td>\n",
       "      <td>1</td>\n",
       "    </tr>\n",
       "    <tr>\n",
       "      <th>7</th>\n",
       "      <td>Creatively planned and constructed is a 1 BHK ...</td>\n",
       "      <td>60 Lac</td>\n",
       "      <td>10435.0</td>\n",
       "      <td>thane</td>\n",
       "      <td>NaN</td>\n",
       "      <td>Ready to Move</td>\n",
       "      <td>Ground out of 7</td>\n",
       "      <td>Resale</td>\n",
       "      <td>Furnished</td>\n",
       "      <td>NaN</td>\n",
       "      <td>NaN</td>\n",
       "      <td>NaN</td>\n",
       "      <td>1</td>\n",
       "      <td>NaN</td>\n",
       "      <td>NaN</td>\n",
       "      <td>NaN</td>\n",
       "      <td>575 sqft</td>\n",
       "      <td>NaN</td>\n",
       "      <td>NaN</td>\n",
       "      <td>1</td>\n",
       "    </tr>\n",
       "    <tr>\n",
       "      <th>8</th>\n",
       "      <td>Discover this immaculate 1 BHK flat for sale a...</td>\n",
       "      <td>60 Lac</td>\n",
       "      <td>10000.0</td>\n",
       "      <td>thane</td>\n",
       "      <td>NaN</td>\n",
       "      <td>Ready to Move</td>\n",
       "      <td>Ground out of 2</td>\n",
       "      <td>Resale</td>\n",
       "      <td>Furnished</td>\n",
       "      <td>NaN</td>\n",
       "      <td>NaN</td>\n",
       "      <td>NaN</td>\n",
       "      <td>1</td>\n",
       "      <td>NaN</td>\n",
       "      <td>NaN</td>\n",
       "      <td>Co-operative Society</td>\n",
       "      <td>600 sqft</td>\n",
       "      <td>NaN</td>\n",
       "      <td>NaN</td>\n",
       "      <td>1</td>\n",
       "    </tr>\n",
       "    <tr>\n",
       "      <th>9</th>\n",
       "      <td>One can find this stunning 3 BHK flat for sale...</td>\n",
       "      <td>1.60 Cr</td>\n",
       "      <td>11150.0</td>\n",
       "      <td>thane</td>\n",
       "      <td>900 sqft</td>\n",
       "      <td>Ready to Move</td>\n",
       "      <td>3 out of 27</td>\n",
       "      <td>Resale</td>\n",
       "      <td>Unfurnished</td>\n",
       "      <td>East</td>\n",
       "      <td>Garden/Park</td>\n",
       "      <td>Pride Palms</td>\n",
       "      <td>3</td>\n",
       "      <td>1</td>\n",
       "      <td>1 Covered</td>\n",
       "      <td>Freehold</td>\n",
       "      <td>NaN</td>\n",
       "      <td>NaN</td>\n",
       "      <td>NaN</td>\n",
       "      <td>3</td>\n",
       "    </tr>\n",
       "  </tbody>\n",
       "</table>\n",
       "</div>"
      ],
      "text/plain": [
       "                                         Description Amount(in rupees)  \\\n",
       "0  Bhiwandi, Thane has an attractive 1 BHK Flat f...           42 Lac    \n",
       "1  One can find this stunning 2 BHK flat for sale...           98 Lac    \n",
       "2  Up for immediate sale is a 2 BHK apartment in ...          1.40 Cr    \n",
       "3  This beautiful 1 BHK Flat is available for sal...           25 Lac    \n",
       "4  This lovely 2 BHK Flat in Pokhran Road, Thane ...          1.60 Cr    \n",
       "5  Creatively planned and constructed is a 1 BHK ...           45 Lac    \n",
       "6  This magnificent 1 BHK Flat is available for s...         16.5 Lac    \n",
       "7  Creatively planned and constructed is a 1 BHK ...           60 Lac    \n",
       "8  Discover this immaculate 1 BHK flat for sale a...           60 Lac    \n",
       "9  One can find this stunning 3 BHK flat for sale...          1.60 Cr    \n",
       "\n",
       "   Price (in rupees) location Carpet Area         Status            Floor  \\\n",
       "0             6000.0    thane    500 sqft  Ready to Move     10 out of 11   \n",
       "1            13799.0    thane    473 sqft  Ready to Move      3 out of 22   \n",
       "2            17500.0    thane    779 sqft  Ready to Move     10 out of 29   \n",
       "3                NaN    thane    530 sqft  Ready to Move       1 out of 3   \n",
       "4            18824.0    thane    635 sqft  Ready to Move     20 out of 42   \n",
       "5             6618.0    thane         NaN  Ready to Move       2 out of 7   \n",
       "6             2538.0    thane    550 sqft  Ready to Move       4 out of 5   \n",
       "7            10435.0    thane         NaN  Ready to Move  Ground out of 7   \n",
       "8            10000.0    thane         NaN  Ready to Move  Ground out of 2   \n",
       "9            11150.0    thane    900 sqft  Ready to Move      3 out of 27   \n",
       "\n",
       "  Transaction      Furnishing facing             overlooking  \\\n",
       "0      Resale     Unfurnished    NaN                     NaN   \n",
       "1      Resale  Semi-Furnished   East             Garden/Park   \n",
       "2      Resale     Unfurnished   East             Garden/Park   \n",
       "3      Resale     Unfurnished    NaN                     NaN   \n",
       "4      Resale     Unfurnished   West  Garden/Park, Main Road   \n",
       "5      Resale     Unfurnished   East  Garden/Park, Main Road   \n",
       "6      Resale     Unfurnished    NaN                     NaN   \n",
       "7      Resale       Furnished    NaN                     NaN   \n",
       "8      Resale       Furnished    NaN                     NaN   \n",
       "9      Resale     Unfurnished   East             Garden/Park   \n",
       "\n",
       "                               Society Bathroom Balcony Car Parking  \\\n",
       "0  Srushti Siddhi Mangal Murti Complex        1       2         NaN   \n",
       "1                          Dosti Vihar        2     NaN      1 Open   \n",
       "2                 Sunrise by Kalpataru        2     NaN   1 Covered   \n",
       "3                                  NaN        1       1         NaN   \n",
       "4          TenX Habitat Raymond Realty        2     NaN   1 Covered   \n",
       "5                         Virat Aangan        1       1         NaN   \n",
       "6                                  NaN        1     NaN         NaN   \n",
       "7                                  NaN        1     NaN         NaN   \n",
       "8                                  NaN        1     NaN         NaN   \n",
       "9                          Pride Palms        3       1   1 Covered   \n",
       "\n",
       "              Ownership Super Area  Dimensions  Plot Area Title [BHK]  \n",
       "0                   NaN        NaN         NaN        NaN           1  \n",
       "1              Freehold        NaN         NaN        NaN           2  \n",
       "2              Freehold        NaN         NaN        NaN           2  \n",
       "3                   NaN        NaN         NaN        NaN           1  \n",
       "4  Co-operative Society        NaN         NaN        NaN           2  \n",
       "5  Co-operative Society   680 sqft         NaN        NaN           1  \n",
       "6                   NaN        NaN         NaN        NaN           1  \n",
       "7                   NaN   575 sqft         NaN        NaN           1  \n",
       "8  Co-operative Society   600 sqft         NaN        NaN           1  \n",
       "9              Freehold        NaN         NaN        NaN           3  "
      ]
     },
     "execution_count": 11,
     "metadata": {},
     "output_type": "execute_result"
    }
   ],
   "source": [
    "df.drop(['Index'],axis=1,inplace=True)\n",
    "df.head(10)"
   ]
  },
  {
   "cell_type": "code",
   "execution_count": 12,
   "id": "c4456302-009a-4a2c-bfec-1034d80f052d",
   "metadata": {},
   "outputs": [
    {
     "data": {
      "text/plain": [
       "count     186578\n",
       "unique        10\n",
       "top            3\n",
       "freq       80848\n",
       "Name: Title [BHK], dtype: object"
      ]
     },
     "execution_count": 12,
     "metadata": {},
     "output_type": "execute_result"
    }
   ],
   "source": [
    "df['Title [BHK]'].describe()"
   ]
  },
  {
   "cell_type": "code",
   "execution_count": 13,
   "id": "0183fc6e-e85e-4b92-a77a-9c3d8cf76f74",
   "metadata": {},
   "outputs": [
    {
     "data": {
      "text/plain": [
       "Description            3023\n",
       "Amount(in rupees)         0\n",
       "Price (in rupees)     17665\n",
       "location                  0\n",
       "Carpet Area           80673\n",
       "Status                  615\n",
       "Floor                  7077\n",
       "Transaction              83\n",
       "Furnishing             2897\n",
       "facing                70233\n",
       "overlooking           81436\n",
       "Society              109678\n",
       "Bathroom                828\n",
       "Balcony               48935\n",
       "Car Parking          103357\n",
       "Ownership             65517\n",
       "Super Area           107685\n",
       "Dimensions           187531\n",
       "Plot Area            187531\n",
       "Title [BHK]             953\n",
       "dtype: int64"
      ]
     },
     "execution_count": 13,
     "metadata": {},
     "output_type": "execute_result"
    }
   ],
   "source": [
    "df.isnull().sum()"
   ]
  },
  {
   "cell_type": "code",
   "execution_count": 14,
   "id": "ffb78833-6b8f-47c6-9cee-1ce1d0a25deb",
   "metadata": {},
   "outputs": [],
   "source": [
    "df.drop(['Description'],axis=1,inplace=True)"
   ]
  },
  {
   "cell_type": "code",
   "execution_count": 15,
   "id": "1a08bf3c-da26-428e-9e00-c9ecaff49b98",
   "metadata": {},
   "outputs": [
    {
     "data": {
      "text/html": [
       "<div>\n",
       "<style scoped>\n",
       "    .dataframe tbody tr th:only-of-type {\n",
       "        vertical-align: middle;\n",
       "    }\n",
       "\n",
       "    .dataframe tbody tr th {\n",
       "        vertical-align: top;\n",
       "    }\n",
       "\n",
       "    .dataframe thead th {\n",
       "        text-align: right;\n",
       "    }\n",
       "</style>\n",
       "<table border=\"1\" class=\"dataframe\">\n",
       "  <thead>\n",
       "    <tr style=\"text-align: right;\">\n",
       "      <th></th>\n",
       "      <th>Amount(in rupees)</th>\n",
       "      <th>Price (in rupees)</th>\n",
       "      <th>location</th>\n",
       "      <th>Carpet Area</th>\n",
       "      <th>Status</th>\n",
       "      <th>Floor</th>\n",
       "      <th>Transaction</th>\n",
       "      <th>Furnishing</th>\n",
       "      <th>facing</th>\n",
       "      <th>overlooking</th>\n",
       "      <th>Society</th>\n",
       "      <th>Bathroom</th>\n",
       "      <th>Balcony</th>\n",
       "      <th>Car Parking</th>\n",
       "      <th>Ownership</th>\n",
       "      <th>Super Area</th>\n",
       "      <th>Dimensions</th>\n",
       "      <th>Plot Area</th>\n",
       "      <th>Title [BHK]</th>\n",
       "    </tr>\n",
       "  </thead>\n",
       "  <tbody>\n",
       "    <tr>\n",
       "      <th>0</th>\n",
       "      <td>42 Lac</td>\n",
       "      <td>6000.0</td>\n",
       "      <td>thane</td>\n",
       "      <td>500 sqft</td>\n",
       "      <td>Ready to Move</td>\n",
       "      <td>10 out of 11</td>\n",
       "      <td>Resale</td>\n",
       "      <td>Unfurnished</td>\n",
       "      <td>NaN</td>\n",
       "      <td>NaN</td>\n",
       "      <td>Srushti Siddhi Mangal Murti Complex</td>\n",
       "      <td>1</td>\n",
       "      <td>2</td>\n",
       "      <td>NaN</td>\n",
       "      <td>NaN</td>\n",
       "      <td>NaN</td>\n",
       "      <td>NaN</td>\n",
       "      <td>NaN</td>\n",
       "      <td>1</td>\n",
       "    </tr>\n",
       "    <tr>\n",
       "      <th>1</th>\n",
       "      <td>98 Lac</td>\n",
       "      <td>13799.0</td>\n",
       "      <td>thane</td>\n",
       "      <td>473 sqft</td>\n",
       "      <td>Ready to Move</td>\n",
       "      <td>3 out of 22</td>\n",
       "      <td>Resale</td>\n",
       "      <td>Semi-Furnished</td>\n",
       "      <td>East</td>\n",
       "      <td>Garden/Park</td>\n",
       "      <td>Dosti Vihar</td>\n",
       "      <td>2</td>\n",
       "      <td>NaN</td>\n",
       "      <td>1 Open</td>\n",
       "      <td>Freehold</td>\n",
       "      <td>NaN</td>\n",
       "      <td>NaN</td>\n",
       "      <td>NaN</td>\n",
       "      <td>2</td>\n",
       "    </tr>\n",
       "    <tr>\n",
       "      <th>2</th>\n",
       "      <td>1.40 Cr</td>\n",
       "      <td>17500.0</td>\n",
       "      <td>thane</td>\n",
       "      <td>779 sqft</td>\n",
       "      <td>Ready to Move</td>\n",
       "      <td>10 out of 29</td>\n",
       "      <td>Resale</td>\n",
       "      <td>Unfurnished</td>\n",
       "      <td>East</td>\n",
       "      <td>Garden/Park</td>\n",
       "      <td>Sunrise by Kalpataru</td>\n",
       "      <td>2</td>\n",
       "      <td>NaN</td>\n",
       "      <td>1 Covered</td>\n",
       "      <td>Freehold</td>\n",
       "      <td>NaN</td>\n",
       "      <td>NaN</td>\n",
       "      <td>NaN</td>\n",
       "      <td>2</td>\n",
       "    </tr>\n",
       "    <tr>\n",
       "      <th>3</th>\n",
       "      <td>25 Lac</td>\n",
       "      <td>NaN</td>\n",
       "      <td>thane</td>\n",
       "      <td>530 sqft</td>\n",
       "      <td>Ready to Move</td>\n",
       "      <td>1 out of 3</td>\n",
       "      <td>Resale</td>\n",
       "      <td>Unfurnished</td>\n",
       "      <td>NaN</td>\n",
       "      <td>NaN</td>\n",
       "      <td>NaN</td>\n",
       "      <td>1</td>\n",
       "      <td>1</td>\n",
       "      <td>NaN</td>\n",
       "      <td>NaN</td>\n",
       "      <td>NaN</td>\n",
       "      <td>NaN</td>\n",
       "      <td>NaN</td>\n",
       "      <td>1</td>\n",
       "    </tr>\n",
       "    <tr>\n",
       "      <th>4</th>\n",
       "      <td>1.60 Cr</td>\n",
       "      <td>18824.0</td>\n",
       "      <td>thane</td>\n",
       "      <td>635 sqft</td>\n",
       "      <td>Ready to Move</td>\n",
       "      <td>20 out of 42</td>\n",
       "      <td>Resale</td>\n",
       "      <td>Unfurnished</td>\n",
       "      <td>West</td>\n",
       "      <td>Garden/Park, Main Road</td>\n",
       "      <td>TenX Habitat Raymond Realty</td>\n",
       "      <td>2</td>\n",
       "      <td>NaN</td>\n",
       "      <td>1 Covered</td>\n",
       "      <td>Co-operative Society</td>\n",
       "      <td>NaN</td>\n",
       "      <td>NaN</td>\n",
       "      <td>NaN</td>\n",
       "      <td>2</td>\n",
       "    </tr>\n",
       "  </tbody>\n",
       "</table>\n",
       "</div>"
      ],
      "text/plain": [
       "  Amount(in rupees)  Price (in rupees) location Carpet Area         Status  \\\n",
       "0           42 Lac              6000.0    thane    500 sqft  Ready to Move   \n",
       "1           98 Lac             13799.0    thane    473 sqft  Ready to Move   \n",
       "2          1.40 Cr             17500.0    thane    779 sqft  Ready to Move   \n",
       "3           25 Lac                 NaN    thane    530 sqft  Ready to Move   \n",
       "4          1.60 Cr             18824.0    thane    635 sqft  Ready to Move   \n",
       "\n",
       "          Floor Transaction      Furnishing facing             overlooking  \\\n",
       "0  10 out of 11      Resale     Unfurnished    NaN                     NaN   \n",
       "1   3 out of 22      Resale  Semi-Furnished   East             Garden/Park   \n",
       "2  10 out of 29      Resale     Unfurnished   East             Garden/Park   \n",
       "3    1 out of 3      Resale     Unfurnished    NaN                     NaN   \n",
       "4  20 out of 42      Resale     Unfurnished   West  Garden/Park, Main Road   \n",
       "\n",
       "                               Society Bathroom Balcony Car Parking  \\\n",
       "0  Srushti Siddhi Mangal Murti Complex        1       2         NaN   \n",
       "1                          Dosti Vihar        2     NaN      1 Open   \n",
       "2                 Sunrise by Kalpataru        2     NaN   1 Covered   \n",
       "3                                  NaN        1       1         NaN   \n",
       "4          TenX Habitat Raymond Realty        2     NaN   1 Covered   \n",
       "\n",
       "              Ownership Super Area  Dimensions  Plot Area Title [BHK]  \n",
       "0                   NaN        NaN         NaN        NaN           1  \n",
       "1              Freehold        NaN         NaN        NaN           2  \n",
       "2              Freehold        NaN         NaN        NaN           2  \n",
       "3                   NaN        NaN         NaN        NaN           1  \n",
       "4  Co-operative Society        NaN         NaN        NaN           2  "
      ]
     },
     "execution_count": 15,
     "metadata": {},
     "output_type": "execute_result"
    }
   ],
   "source": [
    "df.head()"
   ]
  },
  {
   "cell_type": "code",
   "execution_count": 16,
   "id": "8a26f873-906e-4acc-a201-c7d881d3ab76",
   "metadata": {},
   "outputs": [
    {
     "data": {
      "text/html": [
       "<div>\n",
       "<style scoped>\n",
       "    .dataframe tbody tr th:only-of-type {\n",
       "        vertical-align: middle;\n",
       "    }\n",
       "\n",
       "    .dataframe tbody tr th {\n",
       "        vertical-align: top;\n",
       "    }\n",
       "\n",
       "    .dataframe thead th {\n",
       "        text-align: right;\n",
       "    }\n",
       "</style>\n",
       "<table border=\"1\" class=\"dataframe\">\n",
       "  <thead>\n",
       "    <tr style=\"text-align: right;\">\n",
       "      <th></th>\n",
       "      <th>Amount(in rupees)</th>\n",
       "      <th>location</th>\n",
       "      <th>Carpet Area</th>\n",
       "      <th>Status</th>\n",
       "      <th>Floor</th>\n",
       "      <th>Transaction</th>\n",
       "      <th>Furnishing</th>\n",
       "      <th>facing</th>\n",
       "      <th>overlooking</th>\n",
       "      <th>Society</th>\n",
       "      <th>Bathroom</th>\n",
       "      <th>Balcony</th>\n",
       "      <th>Car Parking</th>\n",
       "      <th>Ownership</th>\n",
       "      <th>Super Area</th>\n",
       "      <th>Dimensions</th>\n",
       "      <th>Plot Area</th>\n",
       "      <th>Title [BHK]</th>\n",
       "    </tr>\n",
       "  </thead>\n",
       "  <tbody>\n",
       "    <tr>\n",
       "      <th>0</th>\n",
       "      <td>42 Lac</td>\n",
       "      <td>thane</td>\n",
       "      <td>500 sqft</td>\n",
       "      <td>Ready to Move</td>\n",
       "      <td>10 out of 11</td>\n",
       "      <td>Resale</td>\n",
       "      <td>Unfurnished</td>\n",
       "      <td>NaN</td>\n",
       "      <td>NaN</td>\n",
       "      <td>Srushti Siddhi Mangal Murti Complex</td>\n",
       "      <td>1</td>\n",
       "      <td>2</td>\n",
       "      <td>NaN</td>\n",
       "      <td>NaN</td>\n",
       "      <td>NaN</td>\n",
       "      <td>NaN</td>\n",
       "      <td>NaN</td>\n",
       "      <td>1</td>\n",
       "    </tr>\n",
       "    <tr>\n",
       "      <th>1</th>\n",
       "      <td>98 Lac</td>\n",
       "      <td>thane</td>\n",
       "      <td>473 sqft</td>\n",
       "      <td>Ready to Move</td>\n",
       "      <td>3 out of 22</td>\n",
       "      <td>Resale</td>\n",
       "      <td>Semi-Furnished</td>\n",
       "      <td>East</td>\n",
       "      <td>Garden/Park</td>\n",
       "      <td>Dosti Vihar</td>\n",
       "      <td>2</td>\n",
       "      <td>NaN</td>\n",
       "      <td>1 Open</td>\n",
       "      <td>Freehold</td>\n",
       "      <td>NaN</td>\n",
       "      <td>NaN</td>\n",
       "      <td>NaN</td>\n",
       "      <td>2</td>\n",
       "    </tr>\n",
       "    <tr>\n",
       "      <th>2</th>\n",
       "      <td>1.40 Cr</td>\n",
       "      <td>thane</td>\n",
       "      <td>779 sqft</td>\n",
       "      <td>Ready to Move</td>\n",
       "      <td>10 out of 29</td>\n",
       "      <td>Resale</td>\n",
       "      <td>Unfurnished</td>\n",
       "      <td>East</td>\n",
       "      <td>Garden/Park</td>\n",
       "      <td>Sunrise by Kalpataru</td>\n",
       "      <td>2</td>\n",
       "      <td>NaN</td>\n",
       "      <td>1 Covered</td>\n",
       "      <td>Freehold</td>\n",
       "      <td>NaN</td>\n",
       "      <td>NaN</td>\n",
       "      <td>NaN</td>\n",
       "      <td>2</td>\n",
       "    </tr>\n",
       "    <tr>\n",
       "      <th>3</th>\n",
       "      <td>25 Lac</td>\n",
       "      <td>thane</td>\n",
       "      <td>530 sqft</td>\n",
       "      <td>Ready to Move</td>\n",
       "      <td>1 out of 3</td>\n",
       "      <td>Resale</td>\n",
       "      <td>Unfurnished</td>\n",
       "      <td>NaN</td>\n",
       "      <td>NaN</td>\n",
       "      <td>NaN</td>\n",
       "      <td>1</td>\n",
       "      <td>1</td>\n",
       "      <td>NaN</td>\n",
       "      <td>NaN</td>\n",
       "      <td>NaN</td>\n",
       "      <td>NaN</td>\n",
       "      <td>NaN</td>\n",
       "      <td>1</td>\n",
       "    </tr>\n",
       "    <tr>\n",
       "      <th>4</th>\n",
       "      <td>1.60 Cr</td>\n",
       "      <td>thane</td>\n",
       "      <td>635 sqft</td>\n",
       "      <td>Ready to Move</td>\n",
       "      <td>20 out of 42</td>\n",
       "      <td>Resale</td>\n",
       "      <td>Unfurnished</td>\n",
       "      <td>West</td>\n",
       "      <td>Garden/Park, Main Road</td>\n",
       "      <td>TenX Habitat Raymond Realty</td>\n",
       "      <td>2</td>\n",
       "      <td>NaN</td>\n",
       "      <td>1 Covered</td>\n",
       "      <td>Co-operative Society</td>\n",
       "      <td>NaN</td>\n",
       "      <td>NaN</td>\n",
       "      <td>NaN</td>\n",
       "      <td>2</td>\n",
       "    </tr>\n",
       "  </tbody>\n",
       "</table>\n",
       "</div>"
      ],
      "text/plain": [
       "  Amount(in rupees) location Carpet Area         Status         Floor  \\\n",
       "0           42 Lac     thane    500 sqft  Ready to Move  10 out of 11   \n",
       "1           98 Lac     thane    473 sqft  Ready to Move   3 out of 22   \n",
       "2          1.40 Cr     thane    779 sqft  Ready to Move  10 out of 29   \n",
       "3           25 Lac     thane    530 sqft  Ready to Move    1 out of 3   \n",
       "4          1.60 Cr     thane    635 sqft  Ready to Move  20 out of 42   \n",
       "\n",
       "  Transaction      Furnishing facing             overlooking  \\\n",
       "0      Resale     Unfurnished    NaN                     NaN   \n",
       "1      Resale  Semi-Furnished   East             Garden/Park   \n",
       "2      Resale     Unfurnished   East             Garden/Park   \n",
       "3      Resale     Unfurnished    NaN                     NaN   \n",
       "4      Resale     Unfurnished   West  Garden/Park, Main Road   \n",
       "\n",
       "                               Society Bathroom Balcony Car Parking  \\\n",
       "0  Srushti Siddhi Mangal Murti Complex        1       2         NaN   \n",
       "1                          Dosti Vihar        2     NaN      1 Open   \n",
       "2                 Sunrise by Kalpataru        2     NaN   1 Covered   \n",
       "3                                  NaN        1       1         NaN   \n",
       "4          TenX Habitat Raymond Realty        2     NaN   1 Covered   \n",
       "\n",
       "              Ownership Super Area  Dimensions  Plot Area Title [BHK]  \n",
       "0                   NaN        NaN         NaN        NaN           1  \n",
       "1              Freehold        NaN         NaN        NaN           2  \n",
       "2              Freehold        NaN         NaN        NaN           2  \n",
       "3                   NaN        NaN         NaN        NaN           1  \n",
       "4  Co-operative Society        NaN         NaN        NaN           2  "
      ]
     },
     "execution_count": 16,
     "metadata": {},
     "output_type": "execute_result"
    }
   ],
   "source": [
    "df.drop(['Price (in rupees)'],axis=1,inplace=True)\n",
    "df.head()"
   ]
  },
  {
   "cell_type": "code",
   "execution_count": 17,
   "id": "a2ecf3e7-3700-44c9-bfd4-c11f3effdb4d",
   "metadata": {},
   "outputs": [
    {
     "data": {
      "text/plain": [
       "array(['thane', 'navi-mumbai', 'nagpur', 'mumbai', 'ahmedabad',\n",
       "       'bangalore', 'chennai', 'gurgaon', 'hyderabad', 'indore', 'jaipur',\n",
       "       'kolkata', 'lucknow', 'new-delhi', 'noida', 'pune', 'agra',\n",
       "       'ahmadnagar', 'allahabad', 'aurangabad', 'badlapur', 'belgaum',\n",
       "       'bhiwadi', 'bhiwandi', 'bhopal', 'bhubaneswar', 'chandigarh',\n",
       "       'coimbatore', 'dehradun', 'durgapur', 'ernakulam', 'faridabad',\n",
       "       'ghaziabad', 'goa', 'greater-noida', 'guntur', 'guwahati',\n",
       "       'gwalior', 'haridwar', 'jabalpur', 'jamshedpur', 'jodhpur',\n",
       "       'kalyan', 'kanpur', 'kochi', 'kozhikode', 'ludhiana', 'madurai',\n",
       "       'mangalore', 'mohali', 'mysore', 'nashik', 'navsari', 'nellore',\n",
       "       'palakkad', 'palghar', 'panchkula', 'patna', 'pondicherry',\n",
       "       'raipur', 'rajahmundry', 'ranchi', 'satara', 'shimla', 'siliguri',\n",
       "       'solapur', 'sonipat', 'surat', 'thrissur', 'tirupati', 'trichy',\n",
       "       'trivandrum', 'udaipur', 'udupi', 'vadodara', 'vapi', 'varanasi',\n",
       "       'vijayawada', 'visakhapatnam', 'vrindavan', 'zirakpur'],\n",
       "      dtype=object)"
      ]
     },
     "execution_count": 17,
     "metadata": {},
     "output_type": "execute_result"
    }
   ],
   "source": [
    "df.location.unique()"
   ]
  },
  {
   "cell_type": "code",
   "execution_count": 18,
   "id": "6e717744-75bb-4f65-9039-bd70dd171020",
   "metadata": {},
   "outputs": [
    {
     "data": {
      "text/html": [
       "<div>\n",
       "<style scoped>\n",
       "    .dataframe tbody tr th:only-of-type {\n",
       "        vertical-align: middle;\n",
       "    }\n",
       "\n",
       "    .dataframe tbody tr th {\n",
       "        vertical-align: top;\n",
       "    }\n",
       "\n",
       "    .dataframe thead th {\n",
       "        text-align: right;\n",
       "    }\n",
       "</style>\n",
       "<table border=\"1\" class=\"dataframe\">\n",
       "  <thead>\n",
       "    <tr style=\"text-align: right;\">\n",
       "      <th></th>\n",
       "      <th>Amount(in rupees)</th>\n",
       "      <th>location</th>\n",
       "      <th>Carpet Area</th>\n",
       "      <th>Status</th>\n",
       "      <th>Floor</th>\n",
       "      <th>Transaction</th>\n",
       "      <th>Furnishing</th>\n",
       "      <th>facing</th>\n",
       "      <th>overlooking</th>\n",
       "      <th>Society</th>\n",
       "      <th>Bathroom</th>\n",
       "      <th>Balcony</th>\n",
       "      <th>Car Parking</th>\n",
       "      <th>Ownership</th>\n",
       "      <th>Super Area</th>\n",
       "      <th>Dimensions</th>\n",
       "      <th>Plot Area</th>\n",
       "      <th>Title [BHK]</th>\n",
       "      <th>location_freq_encoded</th>\n",
       "    </tr>\n",
       "  </thead>\n",
       "  <tbody>\n",
       "    <tr>\n",
       "      <th>0</th>\n",
       "      <td>42 Lac</td>\n",
       "      <td>thane</td>\n",
       "      <td>500 sqft</td>\n",
       "      <td>Ready to Move</td>\n",
       "      <td>10 out of 11</td>\n",
       "      <td>Resale</td>\n",
       "      <td>Unfurnished</td>\n",
       "      <td>NaN</td>\n",
       "      <td>NaN</td>\n",
       "      <td>Srushti Siddhi Mangal Murti Complex</td>\n",
       "      <td>1</td>\n",
       "      <td>2</td>\n",
       "      <td>NaN</td>\n",
       "      <td>NaN</td>\n",
       "      <td>NaN</td>\n",
       "      <td>NaN</td>\n",
       "      <td>NaN</td>\n",
       "      <td>1</td>\n",
       "      <td>0.010308</td>\n",
       "    </tr>\n",
       "    <tr>\n",
       "      <th>1</th>\n",
       "      <td>98 Lac</td>\n",
       "      <td>thane</td>\n",
       "      <td>473 sqft</td>\n",
       "      <td>Ready to Move</td>\n",
       "      <td>3 out of 22</td>\n",
       "      <td>Resale</td>\n",
       "      <td>Semi-Furnished</td>\n",
       "      <td>East</td>\n",
       "      <td>Garden/Park</td>\n",
       "      <td>Dosti Vihar</td>\n",
       "      <td>2</td>\n",
       "      <td>NaN</td>\n",
       "      <td>1 Open</td>\n",
       "      <td>Freehold</td>\n",
       "      <td>NaN</td>\n",
       "      <td>NaN</td>\n",
       "      <td>NaN</td>\n",
       "      <td>2</td>\n",
       "      <td>0.010308</td>\n",
       "    </tr>\n",
       "    <tr>\n",
       "      <th>2</th>\n",
       "      <td>1.40 Cr</td>\n",
       "      <td>thane</td>\n",
       "      <td>779 sqft</td>\n",
       "      <td>Ready to Move</td>\n",
       "      <td>10 out of 29</td>\n",
       "      <td>Resale</td>\n",
       "      <td>Unfurnished</td>\n",
       "      <td>East</td>\n",
       "      <td>Garden/Park</td>\n",
       "      <td>Sunrise by Kalpataru</td>\n",
       "      <td>2</td>\n",
       "      <td>NaN</td>\n",
       "      <td>1 Covered</td>\n",
       "      <td>Freehold</td>\n",
       "      <td>NaN</td>\n",
       "      <td>NaN</td>\n",
       "      <td>NaN</td>\n",
       "      <td>2</td>\n",
       "      <td>0.010308</td>\n",
       "    </tr>\n",
       "    <tr>\n",
       "      <th>3</th>\n",
       "      <td>25 Lac</td>\n",
       "      <td>thane</td>\n",
       "      <td>530 sqft</td>\n",
       "      <td>Ready to Move</td>\n",
       "      <td>1 out of 3</td>\n",
       "      <td>Resale</td>\n",
       "      <td>Unfurnished</td>\n",
       "      <td>NaN</td>\n",
       "      <td>NaN</td>\n",
       "      <td>NaN</td>\n",
       "      <td>1</td>\n",
       "      <td>1</td>\n",
       "      <td>NaN</td>\n",
       "      <td>NaN</td>\n",
       "      <td>NaN</td>\n",
       "      <td>NaN</td>\n",
       "      <td>NaN</td>\n",
       "      <td>1</td>\n",
       "      <td>0.010308</td>\n",
       "    </tr>\n",
       "    <tr>\n",
       "      <th>4</th>\n",
       "      <td>1.60 Cr</td>\n",
       "      <td>thane</td>\n",
       "      <td>635 sqft</td>\n",
       "      <td>Ready to Move</td>\n",
       "      <td>20 out of 42</td>\n",
       "      <td>Resale</td>\n",
       "      <td>Unfurnished</td>\n",
       "      <td>West</td>\n",
       "      <td>Garden/Park, Main Road</td>\n",
       "      <td>TenX Habitat Raymond Realty</td>\n",
       "      <td>2</td>\n",
       "      <td>NaN</td>\n",
       "      <td>1 Covered</td>\n",
       "      <td>Co-operative Society</td>\n",
       "      <td>NaN</td>\n",
       "      <td>NaN</td>\n",
       "      <td>NaN</td>\n",
       "      <td>2</td>\n",
       "      <td>0.010308</td>\n",
       "    </tr>\n",
       "    <tr>\n",
       "      <th>...</th>\n",
       "      <td>...</td>\n",
       "      <td>...</td>\n",
       "      <td>...</td>\n",
       "      <td>...</td>\n",
       "      <td>...</td>\n",
       "      <td>...</td>\n",
       "      <td>...</td>\n",
       "      <td>...</td>\n",
       "      <td>...</td>\n",
       "      <td>...</td>\n",
       "      <td>...</td>\n",
       "      <td>...</td>\n",
       "      <td>...</td>\n",
       "      <td>...</td>\n",
       "      <td>...</td>\n",
       "      <td>...</td>\n",
       "      <td>...</td>\n",
       "      <td>...</td>\n",
       "      <td>...</td>\n",
       "    </tr>\n",
       "    <tr>\n",
       "      <th>187526</th>\n",
       "      <td>63 Lac</td>\n",
       "      <td>zirakpur</td>\n",
       "      <td>NaN</td>\n",
       "      <td>Ready to Move</td>\n",
       "      <td>2 out of 4</td>\n",
       "      <td>New Property</td>\n",
       "      <td>Semi-Furnished</td>\n",
       "      <td>East</td>\n",
       "      <td>Garden/Park</td>\n",
       "      <td>Bollywood Esencia</td>\n",
       "      <td>3</td>\n",
       "      <td>3</td>\n",
       "      <td>1 Covered</td>\n",
       "      <td>Freehold</td>\n",
       "      <td>1953 sqft</td>\n",
       "      <td>NaN</td>\n",
       "      <td>NaN</td>\n",
       "      <td>3</td>\n",
       "      <td>0.008159</td>\n",
       "    </tr>\n",
       "    <tr>\n",
       "      <th>187527</th>\n",
       "      <td>55 Lac</td>\n",
       "      <td>zirakpur</td>\n",
       "      <td>NaN</td>\n",
       "      <td>Ready to Move</td>\n",
       "      <td>4 out of 6</td>\n",
       "      <td>Resale</td>\n",
       "      <td>Unfurnished</td>\n",
       "      <td>North - East</td>\n",
       "      <td>Garden/Park, Main Road</td>\n",
       "      <td>Sushma Urban Views</td>\n",
       "      <td>3</td>\n",
       "      <td>NaN</td>\n",
       "      <td>1 Covered</td>\n",
       "      <td>NaN</td>\n",
       "      <td>1680 sqft</td>\n",
       "      <td>NaN</td>\n",
       "      <td>NaN</td>\n",
       "      <td>3</td>\n",
       "      <td>0.008159</td>\n",
       "    </tr>\n",
       "    <tr>\n",
       "      <th>187528</th>\n",
       "      <td>76 Lac</td>\n",
       "      <td>zirakpur</td>\n",
       "      <td>1250 sqft</td>\n",
       "      <td>Ready to Move</td>\n",
       "      <td>1 out of 3</td>\n",
       "      <td>Resale</td>\n",
       "      <td>Furnished</td>\n",
       "      <td>East</td>\n",
       "      <td>Garden/Park, Main Road</td>\n",
       "      <td>Bollywood Esencia</td>\n",
       "      <td>3</td>\n",
       "      <td>2</td>\n",
       "      <td>1 Covered,</td>\n",
       "      <td>Freehold</td>\n",
       "      <td>NaN</td>\n",
       "      <td>NaN</td>\n",
       "      <td>NaN</td>\n",
       "      <td>3</td>\n",
       "      <td>0.008159</td>\n",
       "    </tr>\n",
       "    <tr>\n",
       "      <th>187529</th>\n",
       "      <td>30 Lac</td>\n",
       "      <td>zirakpur</td>\n",
       "      <td>NaN</td>\n",
       "      <td>Ready to Move</td>\n",
       "      <td>2 out of 2</td>\n",
       "      <td>Resale</td>\n",
       "      <td>Semi-Furnished</td>\n",
       "      <td>NaN</td>\n",
       "      <td>Main Road</td>\n",
       "      <td>Friends Enclave</td>\n",
       "      <td>2</td>\n",
       "      <td>NaN</td>\n",
       "      <td>NaN</td>\n",
       "      <td>NaN</td>\n",
       "      <td>709 sqft</td>\n",
       "      <td>NaN</td>\n",
       "      <td>NaN</td>\n",
       "      <td>2</td>\n",
       "      <td>0.008159</td>\n",
       "    </tr>\n",
       "    <tr>\n",
       "      <th>187530</th>\n",
       "      <td>1.18 Cr</td>\n",
       "      <td>zirakpur</td>\n",
       "      <td>NaN</td>\n",
       "      <td>Ready to Move</td>\n",
       "      <td>5 out of 13</td>\n",
       "      <td>Resale</td>\n",
       "      <td>Semi-Furnished</td>\n",
       "      <td>North - East</td>\n",
       "      <td>Garden/Park, Pool</td>\n",
       "      <td>Affinity Greens</td>\n",
       "      <td>4</td>\n",
       "      <td>4</td>\n",
       "      <td>1 Covered</td>\n",
       "      <td>Freehold</td>\n",
       "      <td>1915 sqft</td>\n",
       "      <td>NaN</td>\n",
       "      <td>NaN</td>\n",
       "      <td>3</td>\n",
       "      <td>0.008159</td>\n",
       "    </tr>\n",
       "  </tbody>\n",
       "</table>\n",
       "<p>187531 rows × 19 columns</p>\n",
       "</div>"
      ],
      "text/plain": [
       "       Amount(in rupees)  location Carpet Area         Status         Floor  \\\n",
       "0                42 Lac      thane    500 sqft  Ready to Move  10 out of 11   \n",
       "1                98 Lac      thane    473 sqft  Ready to Move   3 out of 22   \n",
       "2               1.40 Cr      thane    779 sqft  Ready to Move  10 out of 29   \n",
       "3                25 Lac      thane    530 sqft  Ready to Move    1 out of 3   \n",
       "4               1.60 Cr      thane    635 sqft  Ready to Move  20 out of 42   \n",
       "...                  ...       ...         ...            ...           ...   \n",
       "187526           63 Lac   zirakpur         NaN  Ready to Move    2 out of 4   \n",
       "187527           55 Lac   zirakpur         NaN  Ready to Move    4 out of 6   \n",
       "187528           76 Lac   zirakpur   1250 sqft  Ready to Move    1 out of 3   \n",
       "187529           30 Lac   zirakpur         NaN  Ready to Move    2 out of 2   \n",
       "187530          1.18 Cr   zirakpur         NaN  Ready to Move   5 out of 13   \n",
       "\n",
       "         Transaction      Furnishing        facing             overlooking  \\\n",
       "0             Resale     Unfurnished           NaN                     NaN   \n",
       "1             Resale  Semi-Furnished          East             Garden/Park   \n",
       "2             Resale     Unfurnished          East             Garden/Park   \n",
       "3             Resale     Unfurnished           NaN                     NaN   \n",
       "4             Resale     Unfurnished          West  Garden/Park, Main Road   \n",
       "...              ...             ...           ...                     ...   \n",
       "187526  New Property  Semi-Furnished          East             Garden/Park   \n",
       "187527        Resale     Unfurnished  North - East  Garden/Park, Main Road   \n",
       "187528        Resale       Furnished          East  Garden/Park, Main Road   \n",
       "187529        Resale  Semi-Furnished           NaN               Main Road   \n",
       "187530        Resale  Semi-Furnished  North - East       Garden/Park, Pool   \n",
       "\n",
       "                                    Society Bathroom Balcony Car Parking  \\\n",
       "0       Srushti Siddhi Mangal Murti Complex        1       2         NaN   \n",
       "1                               Dosti Vihar        2     NaN      1 Open   \n",
       "2                      Sunrise by Kalpataru        2     NaN   1 Covered   \n",
       "3                                       NaN        1       1         NaN   \n",
       "4               TenX Habitat Raymond Realty        2     NaN   1 Covered   \n",
       "...                                     ...      ...     ...         ...   \n",
       "187526                    Bollywood Esencia        3       3   1 Covered   \n",
       "187527                   Sushma Urban Views        3     NaN   1 Covered   \n",
       "187528                    Bollywood Esencia        3       2  1 Covered,   \n",
       "187529                      Friends Enclave        2     NaN         NaN   \n",
       "187530                      Affinity Greens        4       4   1 Covered   \n",
       "\n",
       "                   Ownership Super Area  Dimensions  Plot Area Title [BHK]  \\\n",
       "0                        NaN        NaN         NaN        NaN           1   \n",
       "1                   Freehold        NaN         NaN        NaN           2   \n",
       "2                   Freehold        NaN         NaN        NaN           2   \n",
       "3                        NaN        NaN         NaN        NaN           1   \n",
       "4       Co-operative Society        NaN         NaN        NaN           2   \n",
       "...                      ...        ...         ...        ...         ...   \n",
       "187526              Freehold  1953 sqft         NaN        NaN           3   \n",
       "187527                   NaN  1680 sqft         NaN        NaN           3   \n",
       "187528              Freehold        NaN         NaN        NaN           3   \n",
       "187529                   NaN   709 sqft         NaN        NaN           2   \n",
       "187530              Freehold  1915 sqft         NaN        NaN           3   \n",
       "\n",
       "        location_freq_encoded  \n",
       "0                    0.010308  \n",
       "1                    0.010308  \n",
       "2                    0.010308  \n",
       "3                    0.010308  \n",
       "4                    0.010308  \n",
       "...                       ...  \n",
       "187526               0.008159  \n",
       "187527               0.008159  \n",
       "187528               0.008159  \n",
       "187529               0.008159  \n",
       "187530               0.008159  \n",
       "\n",
       "[187531 rows x 19 columns]"
      ]
     },
     "execution_count": 18,
     "metadata": {},
     "output_type": "execute_result"
    }
   ],
   "source": [
    "frequency_map = df['location'].value_counts(normalize=True).to_dict()\n",
    "frequency_map\n",
    "df['location_freq_encoded'] = df['location'].map(frequency_map)\n",
    "df"
   ]
  },
  {
   "cell_type": "code",
   "execution_count": 19,
   "id": "300891f3-d0b6-45a9-b3b5-0482ad53b3cb",
   "metadata": {},
   "outputs": [
    {
     "data": {
      "text/html": [
       "<div>\n",
       "<style scoped>\n",
       "    .dataframe tbody tr th:only-of-type {\n",
       "        vertical-align: middle;\n",
       "    }\n",
       "\n",
       "    .dataframe tbody tr th {\n",
       "        vertical-align: top;\n",
       "    }\n",
       "\n",
       "    .dataframe thead th {\n",
       "        text-align: right;\n",
       "    }\n",
       "</style>\n",
       "<table border=\"1\" class=\"dataframe\">\n",
       "  <thead>\n",
       "    <tr style=\"text-align: right;\">\n",
       "      <th></th>\n",
       "      <th>Amount(in rupees)</th>\n",
       "      <th>location</th>\n",
       "      <th>Carpet Area</th>\n",
       "      <th>Status</th>\n",
       "      <th>Floor</th>\n",
       "      <th>Transaction</th>\n",
       "      <th>Furnishing</th>\n",
       "      <th>facing</th>\n",
       "      <th>overlooking</th>\n",
       "      <th>Society</th>\n",
       "      <th>Bathroom</th>\n",
       "      <th>Balcony</th>\n",
       "      <th>Car Parking</th>\n",
       "      <th>Ownership</th>\n",
       "      <th>Super Area</th>\n",
       "      <th>Dimensions</th>\n",
       "      <th>Plot Area</th>\n",
       "      <th>Title [BHK]</th>\n",
       "      <th>location_freq_encoded</th>\n",
       "    </tr>\n",
       "  </thead>\n",
       "  <tbody>\n",
       "    <tr>\n",
       "      <th>0</th>\n",
       "      <td>42 Lac</td>\n",
       "      <td>thane</td>\n",
       "      <td>500 sqft</td>\n",
       "      <td>Ready to Move</td>\n",
       "      <td>10 out of 11</td>\n",
       "      <td>Resale</td>\n",
       "      <td>Unfurnished</td>\n",
       "      <td>NaN</td>\n",
       "      <td>NaN</td>\n",
       "      <td>Srushti Siddhi Mangal Murti Complex</td>\n",
       "      <td>1</td>\n",
       "      <td>2</td>\n",
       "      <td>NaN</td>\n",
       "      <td>NaN</td>\n",
       "      <td>NaN</td>\n",
       "      <td>NaN</td>\n",
       "      <td>NaN</td>\n",
       "      <td>1</td>\n",
       "      <td>0.010308</td>\n",
       "    </tr>\n",
       "    <tr>\n",
       "      <th>1</th>\n",
       "      <td>98 Lac</td>\n",
       "      <td>thane</td>\n",
       "      <td>473 sqft</td>\n",
       "      <td>Ready to Move</td>\n",
       "      <td>3 out of 22</td>\n",
       "      <td>Resale</td>\n",
       "      <td>Semi-Furnished</td>\n",
       "      <td>East</td>\n",
       "      <td>Garden/Park</td>\n",
       "      <td>Dosti Vihar</td>\n",
       "      <td>2</td>\n",
       "      <td>NaN</td>\n",
       "      <td>1 Open</td>\n",
       "      <td>Freehold</td>\n",
       "      <td>NaN</td>\n",
       "      <td>NaN</td>\n",
       "      <td>NaN</td>\n",
       "      <td>2</td>\n",
       "      <td>0.010308</td>\n",
       "    </tr>\n",
       "    <tr>\n",
       "      <th>2</th>\n",
       "      <td>1.40 Cr</td>\n",
       "      <td>thane</td>\n",
       "      <td>779 sqft</td>\n",
       "      <td>Ready to Move</td>\n",
       "      <td>10 out of 29</td>\n",
       "      <td>Resale</td>\n",
       "      <td>Unfurnished</td>\n",
       "      <td>East</td>\n",
       "      <td>Garden/Park</td>\n",
       "      <td>Sunrise by Kalpataru</td>\n",
       "      <td>2</td>\n",
       "      <td>NaN</td>\n",
       "      <td>1 Covered</td>\n",
       "      <td>Freehold</td>\n",
       "      <td>NaN</td>\n",
       "      <td>NaN</td>\n",
       "      <td>NaN</td>\n",
       "      <td>2</td>\n",
       "      <td>0.010308</td>\n",
       "    </tr>\n",
       "    <tr>\n",
       "      <th>3</th>\n",
       "      <td>25 Lac</td>\n",
       "      <td>thane</td>\n",
       "      <td>530 sqft</td>\n",
       "      <td>Ready to Move</td>\n",
       "      <td>1 out of 3</td>\n",
       "      <td>Resale</td>\n",
       "      <td>Unfurnished</td>\n",
       "      <td>NaN</td>\n",
       "      <td>NaN</td>\n",
       "      <td>NaN</td>\n",
       "      <td>1</td>\n",
       "      <td>1</td>\n",
       "      <td>NaN</td>\n",
       "      <td>NaN</td>\n",
       "      <td>NaN</td>\n",
       "      <td>NaN</td>\n",
       "      <td>NaN</td>\n",
       "      <td>1</td>\n",
       "      <td>0.010308</td>\n",
       "    </tr>\n",
       "    <tr>\n",
       "      <th>4</th>\n",
       "      <td>1.60 Cr</td>\n",
       "      <td>thane</td>\n",
       "      <td>635 sqft</td>\n",
       "      <td>Ready to Move</td>\n",
       "      <td>20 out of 42</td>\n",
       "      <td>Resale</td>\n",
       "      <td>Unfurnished</td>\n",
       "      <td>West</td>\n",
       "      <td>Garden/Park, Main Road</td>\n",
       "      <td>TenX Habitat Raymond Realty</td>\n",
       "      <td>2</td>\n",
       "      <td>NaN</td>\n",
       "      <td>1 Covered</td>\n",
       "      <td>Co-operative Society</td>\n",
       "      <td>NaN</td>\n",
       "      <td>NaN</td>\n",
       "      <td>NaN</td>\n",
       "      <td>2</td>\n",
       "      <td>0.010308</td>\n",
       "    </tr>\n",
       "    <tr>\n",
       "      <th>...</th>\n",
       "      <td>...</td>\n",
       "      <td>...</td>\n",
       "      <td>...</td>\n",
       "      <td>...</td>\n",
       "      <td>...</td>\n",
       "      <td>...</td>\n",
       "      <td>...</td>\n",
       "      <td>...</td>\n",
       "      <td>...</td>\n",
       "      <td>...</td>\n",
       "      <td>...</td>\n",
       "      <td>...</td>\n",
       "      <td>...</td>\n",
       "      <td>...</td>\n",
       "      <td>...</td>\n",
       "      <td>...</td>\n",
       "      <td>...</td>\n",
       "      <td>...</td>\n",
       "      <td>...</td>\n",
       "    </tr>\n",
       "    <tr>\n",
       "      <th>187526</th>\n",
       "      <td>63 Lac</td>\n",
       "      <td>zirakpur</td>\n",
       "      <td>NaN</td>\n",
       "      <td>Ready to Move</td>\n",
       "      <td>2 out of 4</td>\n",
       "      <td>New Property</td>\n",
       "      <td>Semi-Furnished</td>\n",
       "      <td>East</td>\n",
       "      <td>Garden/Park</td>\n",
       "      <td>Bollywood Esencia</td>\n",
       "      <td>3</td>\n",
       "      <td>3</td>\n",
       "      <td>1 Covered</td>\n",
       "      <td>Freehold</td>\n",
       "      <td>1953 sqft</td>\n",
       "      <td>NaN</td>\n",
       "      <td>NaN</td>\n",
       "      <td>3</td>\n",
       "      <td>0.008159</td>\n",
       "    </tr>\n",
       "    <tr>\n",
       "      <th>187527</th>\n",
       "      <td>55 Lac</td>\n",
       "      <td>zirakpur</td>\n",
       "      <td>NaN</td>\n",
       "      <td>Ready to Move</td>\n",
       "      <td>4 out of 6</td>\n",
       "      <td>Resale</td>\n",
       "      <td>Unfurnished</td>\n",
       "      <td>North - East</td>\n",
       "      <td>Garden/Park, Main Road</td>\n",
       "      <td>Sushma Urban Views</td>\n",
       "      <td>3</td>\n",
       "      <td>NaN</td>\n",
       "      <td>1 Covered</td>\n",
       "      <td>NaN</td>\n",
       "      <td>1680 sqft</td>\n",
       "      <td>NaN</td>\n",
       "      <td>NaN</td>\n",
       "      <td>3</td>\n",
       "      <td>0.008159</td>\n",
       "    </tr>\n",
       "    <tr>\n",
       "      <th>187528</th>\n",
       "      <td>76 Lac</td>\n",
       "      <td>zirakpur</td>\n",
       "      <td>1250 sqft</td>\n",
       "      <td>Ready to Move</td>\n",
       "      <td>1 out of 3</td>\n",
       "      <td>Resale</td>\n",
       "      <td>Furnished</td>\n",
       "      <td>East</td>\n",
       "      <td>Garden/Park, Main Road</td>\n",
       "      <td>Bollywood Esencia</td>\n",
       "      <td>3</td>\n",
       "      <td>2</td>\n",
       "      <td>1 Covered,</td>\n",
       "      <td>Freehold</td>\n",
       "      <td>NaN</td>\n",
       "      <td>NaN</td>\n",
       "      <td>NaN</td>\n",
       "      <td>3</td>\n",
       "      <td>0.008159</td>\n",
       "    </tr>\n",
       "    <tr>\n",
       "      <th>187529</th>\n",
       "      <td>30 Lac</td>\n",
       "      <td>zirakpur</td>\n",
       "      <td>NaN</td>\n",
       "      <td>Ready to Move</td>\n",
       "      <td>2 out of 2</td>\n",
       "      <td>Resale</td>\n",
       "      <td>Semi-Furnished</td>\n",
       "      <td>NaN</td>\n",
       "      <td>Main Road</td>\n",
       "      <td>Friends Enclave</td>\n",
       "      <td>2</td>\n",
       "      <td>NaN</td>\n",
       "      <td>NaN</td>\n",
       "      <td>NaN</td>\n",
       "      <td>709 sqft</td>\n",
       "      <td>NaN</td>\n",
       "      <td>NaN</td>\n",
       "      <td>2</td>\n",
       "      <td>0.008159</td>\n",
       "    </tr>\n",
       "    <tr>\n",
       "      <th>187530</th>\n",
       "      <td>1.18 Cr</td>\n",
       "      <td>zirakpur</td>\n",
       "      <td>NaN</td>\n",
       "      <td>Ready to Move</td>\n",
       "      <td>5 out of 13</td>\n",
       "      <td>Resale</td>\n",
       "      <td>Semi-Furnished</td>\n",
       "      <td>North - East</td>\n",
       "      <td>Garden/Park, Pool</td>\n",
       "      <td>Affinity Greens</td>\n",
       "      <td>4</td>\n",
       "      <td>4</td>\n",
       "      <td>1 Covered</td>\n",
       "      <td>Freehold</td>\n",
       "      <td>1915 sqft</td>\n",
       "      <td>NaN</td>\n",
       "      <td>NaN</td>\n",
       "      <td>3</td>\n",
       "      <td>0.008159</td>\n",
       "    </tr>\n",
       "  </tbody>\n",
       "</table>\n",
       "<p>187531 rows × 19 columns</p>\n",
       "</div>"
      ],
      "text/plain": [
       "       Amount(in rupees)  location Carpet Area         Status         Floor  \\\n",
       "0                42 Lac      thane    500 sqft  Ready to Move  10 out of 11   \n",
       "1                98 Lac      thane    473 sqft  Ready to Move   3 out of 22   \n",
       "2               1.40 Cr      thane    779 sqft  Ready to Move  10 out of 29   \n",
       "3                25 Lac      thane    530 sqft  Ready to Move    1 out of 3   \n",
       "4               1.60 Cr      thane    635 sqft  Ready to Move  20 out of 42   \n",
       "...                  ...       ...         ...            ...           ...   \n",
       "187526           63 Lac   zirakpur         NaN  Ready to Move    2 out of 4   \n",
       "187527           55 Lac   zirakpur         NaN  Ready to Move    4 out of 6   \n",
       "187528           76 Lac   zirakpur   1250 sqft  Ready to Move    1 out of 3   \n",
       "187529           30 Lac   zirakpur         NaN  Ready to Move    2 out of 2   \n",
       "187530          1.18 Cr   zirakpur         NaN  Ready to Move   5 out of 13   \n",
       "\n",
       "         Transaction      Furnishing        facing             overlooking  \\\n",
       "0             Resale     Unfurnished           NaN                     NaN   \n",
       "1             Resale  Semi-Furnished          East             Garden/Park   \n",
       "2             Resale     Unfurnished          East             Garden/Park   \n",
       "3             Resale     Unfurnished           NaN                     NaN   \n",
       "4             Resale     Unfurnished          West  Garden/Park, Main Road   \n",
       "...              ...             ...           ...                     ...   \n",
       "187526  New Property  Semi-Furnished          East             Garden/Park   \n",
       "187527        Resale     Unfurnished  North - East  Garden/Park, Main Road   \n",
       "187528        Resale       Furnished          East  Garden/Park, Main Road   \n",
       "187529        Resale  Semi-Furnished           NaN               Main Road   \n",
       "187530        Resale  Semi-Furnished  North - East       Garden/Park, Pool   \n",
       "\n",
       "                                    Society Bathroom Balcony Car Parking  \\\n",
       "0       Srushti Siddhi Mangal Murti Complex        1       2         NaN   \n",
       "1                               Dosti Vihar        2     NaN      1 Open   \n",
       "2                      Sunrise by Kalpataru        2     NaN   1 Covered   \n",
       "3                                       NaN        1       1         NaN   \n",
       "4               TenX Habitat Raymond Realty        2     NaN   1 Covered   \n",
       "...                                     ...      ...     ...         ...   \n",
       "187526                    Bollywood Esencia        3       3   1 Covered   \n",
       "187527                   Sushma Urban Views        3     NaN   1 Covered   \n",
       "187528                    Bollywood Esencia        3       2  1 Covered,   \n",
       "187529                      Friends Enclave        2     NaN         NaN   \n",
       "187530                      Affinity Greens        4       4   1 Covered   \n",
       "\n",
       "                   Ownership Super Area  Dimensions  Plot Area Title [BHK]  \\\n",
       "0                        NaN        NaN         NaN        NaN           1   \n",
       "1                   Freehold        NaN         NaN        NaN           2   \n",
       "2                   Freehold        NaN         NaN        NaN           2   \n",
       "3                        NaN        NaN         NaN        NaN           1   \n",
       "4       Co-operative Society        NaN         NaN        NaN           2   \n",
       "...                      ...        ...         ...        ...         ...   \n",
       "187526              Freehold  1953 sqft         NaN        NaN           3   \n",
       "187527                   NaN  1680 sqft         NaN        NaN           3   \n",
       "187528              Freehold        NaN         NaN        NaN           3   \n",
       "187529                   NaN   709 sqft         NaN        NaN           2   \n",
       "187530              Freehold  1915 sqft         NaN        NaN           3   \n",
       "\n",
       "        location_freq_encoded  \n",
       "0                    0.010308  \n",
       "1                    0.010308  \n",
       "2                    0.010308  \n",
       "3                    0.010308  \n",
       "4                    0.010308  \n",
       "...                       ...  \n",
       "187526               0.008159  \n",
       "187527               0.008159  \n",
       "187528               0.008159  \n",
       "187529               0.008159  \n",
       "187530               0.008159  \n",
       "\n",
       "[187531 rows x 19 columns]"
      ]
     },
     "execution_count": 19,
     "metadata": {},
     "output_type": "execute_result"
    }
   ],
   "source": [
    "df1 = pd.concat([df],axis=1)\n",
    "df1"
   ]
  },
  {
   "cell_type": "code",
   "execution_count": 20,
   "id": "f1619880-50b2-4682-833f-fbd82e9cf4f5",
   "metadata": {},
   "outputs": [],
   "source": [
    "df1.drop(['location'],axis=1,inplace=True)"
   ]
  },
  {
   "cell_type": "code",
   "execution_count": 21,
   "id": "a4a44309-5b5c-4c3f-a3fa-c3edb5fccd98",
   "metadata": {},
   "outputs": [
    {
     "data": {
      "text/html": [
       "<div>\n",
       "<style scoped>\n",
       "    .dataframe tbody tr th:only-of-type {\n",
       "        vertical-align: middle;\n",
       "    }\n",
       "\n",
       "    .dataframe tbody tr th {\n",
       "        vertical-align: top;\n",
       "    }\n",
       "\n",
       "    .dataframe thead th {\n",
       "        text-align: right;\n",
       "    }\n",
       "</style>\n",
       "<table border=\"1\" class=\"dataframe\">\n",
       "  <thead>\n",
       "    <tr style=\"text-align: right;\">\n",
       "      <th></th>\n",
       "      <th>Amount(in rupees)</th>\n",
       "      <th>Carpet Area</th>\n",
       "      <th>Status</th>\n",
       "      <th>Floor</th>\n",
       "      <th>Transaction</th>\n",
       "      <th>Furnishing</th>\n",
       "      <th>facing</th>\n",
       "      <th>overlooking</th>\n",
       "      <th>Society</th>\n",
       "      <th>Bathroom</th>\n",
       "      <th>Balcony</th>\n",
       "      <th>Car Parking</th>\n",
       "      <th>Ownership</th>\n",
       "      <th>Super Area</th>\n",
       "      <th>Dimensions</th>\n",
       "      <th>Plot Area</th>\n",
       "      <th>Title [BHK]</th>\n",
       "      <th>location_freq_encoded</th>\n",
       "    </tr>\n",
       "  </thead>\n",
       "  <tbody>\n",
       "    <tr>\n",
       "      <th>0</th>\n",
       "      <td>42 Lac</td>\n",
       "      <td>500 sqft</td>\n",
       "      <td>Ready to Move</td>\n",
       "      <td>10 out of 11</td>\n",
       "      <td>Resale</td>\n",
       "      <td>Unfurnished</td>\n",
       "      <td>NaN</td>\n",
       "      <td>NaN</td>\n",
       "      <td>Srushti Siddhi Mangal Murti Complex</td>\n",
       "      <td>1</td>\n",
       "      <td>2</td>\n",
       "      <td>NaN</td>\n",
       "      <td>NaN</td>\n",
       "      <td>NaN</td>\n",
       "      <td>NaN</td>\n",
       "      <td>NaN</td>\n",
       "      <td>1</td>\n",
       "      <td>0.010308</td>\n",
       "    </tr>\n",
       "    <tr>\n",
       "      <th>1</th>\n",
       "      <td>98 Lac</td>\n",
       "      <td>473 sqft</td>\n",
       "      <td>Ready to Move</td>\n",
       "      <td>3 out of 22</td>\n",
       "      <td>Resale</td>\n",
       "      <td>Semi-Furnished</td>\n",
       "      <td>East</td>\n",
       "      <td>Garden/Park</td>\n",
       "      <td>Dosti Vihar</td>\n",
       "      <td>2</td>\n",
       "      <td>NaN</td>\n",
       "      <td>1 Open</td>\n",
       "      <td>Freehold</td>\n",
       "      <td>NaN</td>\n",
       "      <td>NaN</td>\n",
       "      <td>NaN</td>\n",
       "      <td>2</td>\n",
       "      <td>0.010308</td>\n",
       "    </tr>\n",
       "    <tr>\n",
       "      <th>2</th>\n",
       "      <td>1.40 Cr</td>\n",
       "      <td>779 sqft</td>\n",
       "      <td>Ready to Move</td>\n",
       "      <td>10 out of 29</td>\n",
       "      <td>Resale</td>\n",
       "      <td>Unfurnished</td>\n",
       "      <td>East</td>\n",
       "      <td>Garden/Park</td>\n",
       "      <td>Sunrise by Kalpataru</td>\n",
       "      <td>2</td>\n",
       "      <td>NaN</td>\n",
       "      <td>1 Covered</td>\n",
       "      <td>Freehold</td>\n",
       "      <td>NaN</td>\n",
       "      <td>NaN</td>\n",
       "      <td>NaN</td>\n",
       "      <td>2</td>\n",
       "      <td>0.010308</td>\n",
       "    </tr>\n",
       "    <tr>\n",
       "      <th>3</th>\n",
       "      <td>25 Lac</td>\n",
       "      <td>530 sqft</td>\n",
       "      <td>Ready to Move</td>\n",
       "      <td>1 out of 3</td>\n",
       "      <td>Resale</td>\n",
       "      <td>Unfurnished</td>\n",
       "      <td>NaN</td>\n",
       "      <td>NaN</td>\n",
       "      <td>NaN</td>\n",
       "      <td>1</td>\n",
       "      <td>1</td>\n",
       "      <td>NaN</td>\n",
       "      <td>NaN</td>\n",
       "      <td>NaN</td>\n",
       "      <td>NaN</td>\n",
       "      <td>NaN</td>\n",
       "      <td>1</td>\n",
       "      <td>0.010308</td>\n",
       "    </tr>\n",
       "    <tr>\n",
       "      <th>4</th>\n",
       "      <td>1.60 Cr</td>\n",
       "      <td>635 sqft</td>\n",
       "      <td>Ready to Move</td>\n",
       "      <td>20 out of 42</td>\n",
       "      <td>Resale</td>\n",
       "      <td>Unfurnished</td>\n",
       "      <td>West</td>\n",
       "      <td>Garden/Park, Main Road</td>\n",
       "      <td>TenX Habitat Raymond Realty</td>\n",
       "      <td>2</td>\n",
       "      <td>NaN</td>\n",
       "      <td>1 Covered</td>\n",
       "      <td>Co-operative Society</td>\n",
       "      <td>NaN</td>\n",
       "      <td>NaN</td>\n",
       "      <td>NaN</td>\n",
       "      <td>2</td>\n",
       "      <td>0.010308</td>\n",
       "    </tr>\n",
       "    <tr>\n",
       "      <th>...</th>\n",
       "      <td>...</td>\n",
       "      <td>...</td>\n",
       "      <td>...</td>\n",
       "      <td>...</td>\n",
       "      <td>...</td>\n",
       "      <td>...</td>\n",
       "      <td>...</td>\n",
       "      <td>...</td>\n",
       "      <td>...</td>\n",
       "      <td>...</td>\n",
       "      <td>...</td>\n",
       "      <td>...</td>\n",
       "      <td>...</td>\n",
       "      <td>...</td>\n",
       "      <td>...</td>\n",
       "      <td>...</td>\n",
       "      <td>...</td>\n",
       "      <td>...</td>\n",
       "    </tr>\n",
       "    <tr>\n",
       "      <th>187526</th>\n",
       "      <td>63 Lac</td>\n",
       "      <td>NaN</td>\n",
       "      <td>Ready to Move</td>\n",
       "      <td>2 out of 4</td>\n",
       "      <td>New Property</td>\n",
       "      <td>Semi-Furnished</td>\n",
       "      <td>East</td>\n",
       "      <td>Garden/Park</td>\n",
       "      <td>Bollywood Esencia</td>\n",
       "      <td>3</td>\n",
       "      <td>3</td>\n",
       "      <td>1 Covered</td>\n",
       "      <td>Freehold</td>\n",
       "      <td>1953 sqft</td>\n",
       "      <td>NaN</td>\n",
       "      <td>NaN</td>\n",
       "      <td>3</td>\n",
       "      <td>0.008159</td>\n",
       "    </tr>\n",
       "    <tr>\n",
       "      <th>187527</th>\n",
       "      <td>55 Lac</td>\n",
       "      <td>NaN</td>\n",
       "      <td>Ready to Move</td>\n",
       "      <td>4 out of 6</td>\n",
       "      <td>Resale</td>\n",
       "      <td>Unfurnished</td>\n",
       "      <td>North - East</td>\n",
       "      <td>Garden/Park, Main Road</td>\n",
       "      <td>Sushma Urban Views</td>\n",
       "      <td>3</td>\n",
       "      <td>NaN</td>\n",
       "      <td>1 Covered</td>\n",
       "      <td>NaN</td>\n",
       "      <td>1680 sqft</td>\n",
       "      <td>NaN</td>\n",
       "      <td>NaN</td>\n",
       "      <td>3</td>\n",
       "      <td>0.008159</td>\n",
       "    </tr>\n",
       "    <tr>\n",
       "      <th>187528</th>\n",
       "      <td>76 Lac</td>\n",
       "      <td>1250 sqft</td>\n",
       "      <td>Ready to Move</td>\n",
       "      <td>1 out of 3</td>\n",
       "      <td>Resale</td>\n",
       "      <td>Furnished</td>\n",
       "      <td>East</td>\n",
       "      <td>Garden/Park, Main Road</td>\n",
       "      <td>Bollywood Esencia</td>\n",
       "      <td>3</td>\n",
       "      <td>2</td>\n",
       "      <td>1 Covered,</td>\n",
       "      <td>Freehold</td>\n",
       "      <td>NaN</td>\n",
       "      <td>NaN</td>\n",
       "      <td>NaN</td>\n",
       "      <td>3</td>\n",
       "      <td>0.008159</td>\n",
       "    </tr>\n",
       "    <tr>\n",
       "      <th>187529</th>\n",
       "      <td>30 Lac</td>\n",
       "      <td>NaN</td>\n",
       "      <td>Ready to Move</td>\n",
       "      <td>2 out of 2</td>\n",
       "      <td>Resale</td>\n",
       "      <td>Semi-Furnished</td>\n",
       "      <td>NaN</td>\n",
       "      <td>Main Road</td>\n",
       "      <td>Friends Enclave</td>\n",
       "      <td>2</td>\n",
       "      <td>NaN</td>\n",
       "      <td>NaN</td>\n",
       "      <td>NaN</td>\n",
       "      <td>709 sqft</td>\n",
       "      <td>NaN</td>\n",
       "      <td>NaN</td>\n",
       "      <td>2</td>\n",
       "      <td>0.008159</td>\n",
       "    </tr>\n",
       "    <tr>\n",
       "      <th>187530</th>\n",
       "      <td>1.18 Cr</td>\n",
       "      <td>NaN</td>\n",
       "      <td>Ready to Move</td>\n",
       "      <td>5 out of 13</td>\n",
       "      <td>Resale</td>\n",
       "      <td>Semi-Furnished</td>\n",
       "      <td>North - East</td>\n",
       "      <td>Garden/Park, Pool</td>\n",
       "      <td>Affinity Greens</td>\n",
       "      <td>4</td>\n",
       "      <td>4</td>\n",
       "      <td>1 Covered</td>\n",
       "      <td>Freehold</td>\n",
       "      <td>1915 sqft</td>\n",
       "      <td>NaN</td>\n",
       "      <td>NaN</td>\n",
       "      <td>3</td>\n",
       "      <td>0.008159</td>\n",
       "    </tr>\n",
       "  </tbody>\n",
       "</table>\n",
       "<p>187531 rows × 18 columns</p>\n",
       "</div>"
      ],
      "text/plain": [
       "       Amount(in rupees) Carpet Area         Status         Floor  \\\n",
       "0                42 Lac     500 sqft  Ready to Move  10 out of 11   \n",
       "1                98 Lac     473 sqft  Ready to Move   3 out of 22   \n",
       "2               1.40 Cr     779 sqft  Ready to Move  10 out of 29   \n",
       "3                25 Lac     530 sqft  Ready to Move    1 out of 3   \n",
       "4               1.60 Cr     635 sqft  Ready to Move  20 out of 42   \n",
       "...                  ...         ...            ...           ...   \n",
       "187526           63 Lac          NaN  Ready to Move    2 out of 4   \n",
       "187527           55 Lac          NaN  Ready to Move    4 out of 6   \n",
       "187528           76 Lac    1250 sqft  Ready to Move    1 out of 3   \n",
       "187529           30 Lac          NaN  Ready to Move    2 out of 2   \n",
       "187530          1.18 Cr          NaN  Ready to Move   5 out of 13   \n",
       "\n",
       "         Transaction      Furnishing        facing             overlooking  \\\n",
       "0             Resale     Unfurnished           NaN                     NaN   \n",
       "1             Resale  Semi-Furnished          East             Garden/Park   \n",
       "2             Resale     Unfurnished          East             Garden/Park   \n",
       "3             Resale     Unfurnished           NaN                     NaN   \n",
       "4             Resale     Unfurnished          West  Garden/Park, Main Road   \n",
       "...              ...             ...           ...                     ...   \n",
       "187526  New Property  Semi-Furnished          East             Garden/Park   \n",
       "187527        Resale     Unfurnished  North - East  Garden/Park, Main Road   \n",
       "187528        Resale       Furnished          East  Garden/Park, Main Road   \n",
       "187529        Resale  Semi-Furnished           NaN               Main Road   \n",
       "187530        Resale  Semi-Furnished  North - East       Garden/Park, Pool   \n",
       "\n",
       "                                    Society Bathroom Balcony Car Parking  \\\n",
       "0       Srushti Siddhi Mangal Murti Complex        1       2         NaN   \n",
       "1                               Dosti Vihar        2     NaN      1 Open   \n",
       "2                      Sunrise by Kalpataru        2     NaN   1 Covered   \n",
       "3                                       NaN        1       1         NaN   \n",
       "4               TenX Habitat Raymond Realty        2     NaN   1 Covered   \n",
       "...                                     ...      ...     ...         ...   \n",
       "187526                    Bollywood Esencia        3       3   1 Covered   \n",
       "187527                   Sushma Urban Views        3     NaN   1 Covered   \n",
       "187528                    Bollywood Esencia        3       2  1 Covered,   \n",
       "187529                      Friends Enclave        2     NaN         NaN   \n",
       "187530                      Affinity Greens        4       4   1 Covered   \n",
       "\n",
       "                   Ownership Super Area  Dimensions  Plot Area Title [BHK]  \\\n",
       "0                        NaN        NaN         NaN        NaN           1   \n",
       "1                   Freehold        NaN         NaN        NaN           2   \n",
       "2                   Freehold        NaN         NaN        NaN           2   \n",
       "3                        NaN        NaN         NaN        NaN           1   \n",
       "4       Co-operative Society        NaN         NaN        NaN           2   \n",
       "...                      ...        ...         ...        ...         ...   \n",
       "187526              Freehold  1953 sqft         NaN        NaN           3   \n",
       "187527                   NaN  1680 sqft         NaN        NaN           3   \n",
       "187528              Freehold        NaN         NaN        NaN           3   \n",
       "187529                   NaN   709 sqft         NaN        NaN           2   \n",
       "187530              Freehold  1915 sqft         NaN        NaN           3   \n",
       "\n",
       "        location_freq_encoded  \n",
       "0                    0.010308  \n",
       "1                    0.010308  \n",
       "2                    0.010308  \n",
       "3                    0.010308  \n",
       "4                    0.010308  \n",
       "...                       ...  \n",
       "187526               0.008159  \n",
       "187527               0.008159  \n",
       "187528               0.008159  \n",
       "187529               0.008159  \n",
       "187530               0.008159  \n",
       "\n",
       "[187531 rows x 18 columns]"
      ]
     },
     "execution_count": 21,
     "metadata": {},
     "output_type": "execute_result"
    }
   ],
   "source": [
    "df1"
   ]
  },
  {
   "cell_type": "code",
   "execution_count": 22,
   "id": "0437850c-b139-4ea9-ad9f-c1c9d17a52c5",
   "metadata": {},
   "outputs": [
    {
     "data": {
      "text/plain": [
       "Amount(in rupees)             0\n",
       "Carpet Area               80673\n",
       "Status                      615\n",
       "Floor                      7077\n",
       "Transaction                  83\n",
       "Furnishing                 2897\n",
       "facing                    70233\n",
       "overlooking               81436\n",
       "Society                  109678\n",
       "Bathroom                    828\n",
       "Balcony                   48935\n",
       "Car Parking              103357\n",
       "Ownership                 65517\n",
       "Super Area               107685\n",
       "Dimensions               187531\n",
       "Plot Area                187531\n",
       "Title [BHK]                 953\n",
       "location_freq_encoded         0\n",
       "dtype: int64"
      ]
     },
     "execution_count": 22,
     "metadata": {},
     "output_type": "execute_result"
    }
   ],
   "source": [
    "df1.isnull().sum()"
   ]
  },
  {
   "cell_type": "code",
   "execution_count": 23,
   "id": "aadf263c-ab0b-418d-88de-de96d38d5a0d",
   "metadata": {},
   "outputs": [
    {
     "data": {
      "text/plain": [
       "array(['1', '2', '3', '4', '6', nan, '5', '10', '9', '8', '> 10', '7'],\n",
       "      dtype=object)"
      ]
     },
     "execution_count": 23,
     "metadata": {},
     "output_type": "execute_result"
    }
   ],
   "source": [
    "df1.Bathroom.unique()"
   ]
  },
  {
   "cell_type": "code",
   "execution_count": 24,
   "id": "461362d7-9133-43a5-bf13-51c43dd51192",
   "metadata": {},
   "outputs": [
    {
     "name": "stderr",
     "output_type": "stream",
     "text": [
      "C:\\Users\\patel\\AppData\\Local\\Temp\\ipykernel_17820\\815378714.py:1: FutureWarning: A value is trying to be set on a copy of a DataFrame or Series through chained assignment using an inplace method.\n",
      "The behavior will change in pandas 3.0. This inplace method will never work because the intermediate object on which we are setting values always behaves as a copy.\n",
      "\n",
      "For example, when doing 'df[col].method(value, inplace=True)', try using 'df.method({col: value}, inplace=True)' or df[col] = df[col].method(value) instead, to perform the operation inplace on the original object.\n",
      "\n",
      "\n",
      "  df1.Bathroom.replace(['> 10','nan'],np.nan,inplace=True)\n"
     ]
    }
   ],
   "source": [
    "df1.Bathroom.replace(['> 10','nan'],np.nan,inplace=True)"
   ]
  },
  {
   "cell_type": "code",
   "execution_count": 25,
   "id": "4446f806-87ad-4578-ab94-4fe8ae9bfad5",
   "metadata": {},
   "outputs": [
    {
     "data": {
      "text/plain": [
       "array(['1', '2', '3', '4', '6', nan, '5', '10', '9', '8', '7'],\n",
       "      dtype=object)"
      ]
     },
     "execution_count": 25,
     "metadata": {},
     "output_type": "execute_result"
    }
   ],
   "source": [
    "df1.Bathroom.unique()"
   ]
  },
  {
   "cell_type": "code",
   "execution_count": 26,
   "id": "d2d93c77-d253-4265-a6be-a58db7fb7739",
   "metadata": {},
   "outputs": [],
   "source": [
    "df1.Bathroom.fillna(0,inplace=True)"
   ]
  },
  {
   "cell_type": "code",
   "execution_count": 27,
   "id": "b6ebda6e-5ab5-4ae3-8298-98937978a9f0",
   "metadata": {},
   "outputs": [
    {
     "name": "stderr",
     "output_type": "stream",
     "text": [
      "C:\\Users\\patel\\AppData\\Local\\Temp\\ipykernel_17820\\3129481920.py:1: FutureWarning: Downcasting behavior in `replace` is deprecated and will be removed in a future version. To retain the old behavior, explicitly call `result.infer_objects(copy=False)`. To opt-in to the future behavior, set `pd.set_option('future.no_silent_downcasting', True)`\n",
      "  df1.Bathroom.replace(['1','2','3','4','6','5','10','9','8','7'],[1,2,3,4,6,5,10,9,8,7],inplace=True)\n"
     ]
    }
   ],
   "source": [
    "df1.Bathroom.replace(['1','2','3','4','6','5','10','9','8','7'],[1,2,3,4,6,5,10,9,8,7],inplace=True)"
   ]
  },
  {
   "cell_type": "code",
   "execution_count": 28,
   "id": "f81e116f-9d2f-47bb-b0d4-64fa2f752d17",
   "metadata": {},
   "outputs": [
    {
     "data": {
      "text/plain": [
       "array([ 1,  2,  3,  4,  6,  0,  5, 10,  9,  8,  7], dtype=int64)"
      ]
     },
     "execution_count": 28,
     "metadata": {},
     "output_type": "execute_result"
    }
   ],
   "source": [
    "df1.Bathroom.unique()"
   ]
  },
  {
   "cell_type": "code",
   "execution_count": 29,
   "id": "b2cd5e09-bbf3-4b9e-86f4-ddfade0acafd",
   "metadata": {},
   "outputs": [],
   "source": [
    "df1.Bathroom.replace([0],np.nan,inplace=True)"
   ]
  },
  {
   "cell_type": "code",
   "execution_count": 30,
   "id": "f9dae946-7304-4e54-b94c-b1ee24e3eae2",
   "metadata": {},
   "outputs": [
    {
     "data": {
      "text/plain": [
       "count    186668.000000\n",
       "mean          2.426640\n",
       "std           0.863244\n",
       "min           1.000000\n",
       "25%           2.000000\n",
       "50%           2.000000\n",
       "75%           3.000000\n",
       "max          10.000000\n",
       "Name: Bathroom, dtype: float64"
      ]
     },
     "execution_count": 30,
     "metadata": {},
     "output_type": "execute_result"
    }
   ],
   "source": [
    "df1.Bathroom.describe()"
   ]
  },
  {
   "cell_type": "code",
   "execution_count": 31,
   "id": "c8b3fe30-536d-4739-90ba-f02ce5ff780a",
   "metadata": {},
   "outputs": [
    {
     "data": {
      "text/plain": [
       "array([ 1.,  2.,  3.,  4.,  6., nan,  5., 10.,  9.,  8.,  7.])"
      ]
     },
     "execution_count": 31,
     "metadata": {},
     "output_type": "execute_result"
    }
   ],
   "source": [
    "df1.Bathroom.unique()"
   ]
  },
  {
   "cell_type": "code",
   "execution_count": 32,
   "id": "eb310424-6538-4b13-bf53-5c4dc8cc39d7",
   "metadata": {},
   "outputs": [],
   "source": [
    "df1.Bathroom.fillna(int(df1.Bathroom.mean()),inplace=True)"
   ]
  },
  {
   "cell_type": "code",
   "execution_count": 33,
   "id": "87a8f7e1-9e90-4a7b-9c57-3377dee18870",
   "metadata": {},
   "outputs": [
    {
     "data": {
      "text/plain": [
       "array([ 1.,  2.,  3.,  4.,  6.,  5., 10.,  9.,  8.,  7.])"
      ]
     },
     "execution_count": 33,
     "metadata": {},
     "output_type": "execute_result"
    }
   ],
   "source": [
    "df1.Bathroom.unique()"
   ]
  },
  {
   "cell_type": "code",
   "execution_count": 34,
   "id": "12321474-8189-4f59-aeb8-946c5129f50c",
   "metadata": {},
   "outputs": [
    {
     "data": {
      "text/plain": [
       "(1.0, 5.0)"
      ]
     },
     "execution_count": 34,
     "metadata": {},
     "output_type": "execute_result"
    }
   ],
   "source": [
    "bathroom_min , bathroom_max = df1.Bathroom.quantile([0.01,0.99])\n",
    "bathroom_min , bathroom_max "
   ]
  },
  {
   "cell_type": "code",
   "execution_count": 35,
   "id": "6f492b65-867f-4c80-837f-cde2e2614d38",
   "metadata": {},
   "outputs": [
    {
     "data": {
      "text/plain": [
       "(187531, 18)"
      ]
     },
     "execution_count": 35,
     "metadata": {},
     "output_type": "execute_result"
    }
   ],
   "source": [
    "df1.shape"
   ]
  },
  {
   "cell_type": "markdown",
   "id": "5b30b5ca-dbc9-4ab2-b0c7-e12997c16059",
   "metadata": {},
   "source": [
    "# Remove the outlier of Bathroom"
   ]
  },
  {
   "cell_type": "code",
   "execution_count": 36,
   "id": "b6857a09-1000-4d0f-8d8a-d8bb1045c237",
   "metadata": {},
   "outputs": [
    {
     "data": {
      "text/plain": [
       "(283, 19)"
      ]
     },
     "execution_count": 36,
     "metadata": {},
     "output_type": "execute_result"
    }
   ],
   "source": [
    "df1['zscore_bathroom'] = (df1['Bathroom'] - df1['Bathroom'].mean()) / df1['Bathroom'].std()\n",
    "Outliers_bathroom = df1[(df1.zscore_bathroom > 4)|(df1.zscore_bathroom < -4)]\n",
    "Outliers_bathroom.shape"
   ]
  },
  {
   "cell_type": "code",
   "execution_count": 37,
   "id": "ee49230b-dfaa-44b8-a174-f4c949a86bd2",
   "metadata": {},
   "outputs": [],
   "source": [
    "df2 = df1[(df1.zscore_bathroom <= 4)&(df1.zscore_bathroom >= -4)]"
   ]
  },
  {
   "cell_type": "code",
   "execution_count": 38,
   "id": "c4f943bf-937e-4547-acf6-1424060770dd",
   "metadata": {},
   "outputs": [
    {
     "data": {
      "text/plain": [
       "(187248, 19)"
      ]
     },
     "execution_count": 38,
     "metadata": {},
     "output_type": "execute_result"
    }
   ],
   "source": [
    "df2.shape"
   ]
  },
  {
   "cell_type": "code",
   "execution_count": 39,
   "id": "3b4eae2f-f445-43fb-b451-74e15967331e",
   "metadata": {},
   "outputs": [
    {
     "data": {
      "text/plain": [
       "0"
      ]
     },
     "execution_count": 39,
     "metadata": {},
     "output_type": "execute_result"
    }
   ],
   "source": [
    "df2.Bathroom.isnull().sum()"
   ]
  },
  {
   "cell_type": "markdown",
   "id": "54fb625a-637a-43c3-893f-a5b4ec1d4ba6",
   "metadata": {},
   "source": [
    "# Now doing for the balcony same as Bathroom"
   ]
  },
  {
   "cell_type": "code",
   "execution_count": 40,
   "id": "91feae12-ebf6-4f93-acc3-163ab1247649",
   "metadata": {},
   "outputs": [
    {
     "data": {
      "text/plain": [
       "array(['2', nan, '1', '3', '4', '6', '5', '7', '> 10', '10', '8', '9'],\n",
       "      dtype=object)"
      ]
     },
     "execution_count": 40,
     "metadata": {},
     "output_type": "execute_result"
    }
   ],
   "source": [
    "df2.Balcony.unique()"
   ]
  },
  {
   "cell_type": "code",
   "execution_count": 41,
   "id": "f578e614-5257-4785-8cc5-6e40f0c1feac",
   "metadata": {},
   "outputs": [
    {
     "name": "stderr",
     "output_type": "stream",
     "text": [
      "C:\\Users\\patel\\AppData\\Local\\Temp\\ipykernel_17820\\3421897716.py:1: FutureWarning: A value is trying to be set on a copy of a DataFrame or Series through chained assignment using an inplace method.\n",
      "The behavior will change in pandas 3.0. This inplace method will never work because the intermediate object on which we are setting values always behaves as a copy.\n",
      "\n",
      "For example, when doing 'df[col].method(value, inplace=True)', try using 'df.method({col: value}, inplace=True)' or df[col] = df[col].method(value) instead, to perform the operation inplace on the original object.\n",
      "\n",
      "\n",
      "  df2.Balcony.replace(['> 10','2','1','3','4','6','5','7','10','8','9'],[np.nan,2,1,3,4,6,5,7,10,8,9],inplace=True)\n",
      "C:\\Users\\patel\\AppData\\Local\\Temp\\ipykernel_17820\\3421897716.py:1: FutureWarning: Downcasting behavior in `replace` is deprecated and will be removed in a future version. To retain the old behavior, explicitly call `result.infer_objects(copy=False)`. To opt-in to the future behavior, set `pd.set_option('future.no_silent_downcasting', True)`\n",
      "  df2.Balcony.replace(['> 10','2','1','3','4','6','5','7','10','8','9'],[np.nan,2,1,3,4,6,5,7,10,8,9],inplace=True)\n",
      "C:\\Users\\patel\\AppData\\Local\\Temp\\ipykernel_17820\\3421897716.py:1: SettingWithCopyWarning: \n",
      "A value is trying to be set on a copy of a slice from a DataFrame\n",
      "\n",
      "See the caveats in the documentation: https://pandas.pydata.org/pandas-docs/stable/user_guide/indexing.html#returning-a-view-versus-a-copy\n",
      "  df2.Balcony.replace(['> 10','2','1','3','4','6','5','7','10','8','9'],[np.nan,2,1,3,4,6,5,7,10,8,9],inplace=True)\n"
     ]
    },
    {
     "data": {
      "text/plain": [
       "array([ 2., nan,  1.,  3.,  4.,  6.,  5.,  7., 10.,  8.,  9.])"
      ]
     },
     "execution_count": 41,
     "metadata": {},
     "output_type": "execute_result"
    }
   ],
   "source": [
    "df2.Balcony.replace(['> 10','2','1','3','4','6','5','7','10','8','9'],[np.nan,2,1,3,4,6,5,7,10,8,9],inplace=True)\n",
    "df2.Balcony.unique()"
   ]
  },
  {
   "cell_type": "code",
   "execution_count": 42,
   "id": "503a6808-3e54-439e-baee-c2fd0885ceea",
   "metadata": {},
   "outputs": [
    {
     "data": {
      "text/plain": [
       "count    138365.00000\n",
       "mean          1.99794\n",
       "std           0.94739\n",
       "min           1.00000\n",
       "25%           1.00000\n",
       "50%           2.00000\n",
       "75%           3.00000\n",
       "max          10.00000\n",
       "Name: Balcony, dtype: float64"
      ]
     },
     "execution_count": 42,
     "metadata": {},
     "output_type": "execute_result"
    }
   ],
   "source": [
    "df2.Balcony.describe()"
   ]
  },
  {
   "cell_type": "code",
   "execution_count": 43,
   "id": "c83dc7d3-9670-400b-b967-e8a85f283404",
   "metadata": {},
   "outputs": [
    {
     "name": "stderr",
     "output_type": "stream",
     "text": [
      "C:\\Users\\patel\\AppData\\Local\\Temp\\ipykernel_17820\\275808852.py:1: SettingWithCopyWarning: \n",
      "A value is trying to be set on a copy of a slice from a DataFrame\n",
      "\n",
      "See the caveats in the documentation: https://pandas.pydata.org/pandas-docs/stable/user_guide/indexing.html#returning-a-view-versus-a-copy\n",
      "  df2.Balcony.fillna((int(df2.Balcony.mean())+1),inplace=True)\n"
     ]
    }
   ],
   "source": [
    "df2.Balcony.fillna((int(df2.Balcony.mean())+1),inplace=True)"
   ]
  },
  {
   "cell_type": "code",
   "execution_count": 44,
   "id": "0a6f9d53-adeb-4dbd-88cc-22e5080be4c7",
   "metadata": {},
   "outputs": [
    {
     "data": {
      "text/plain": [
       "(1.0, 4.0)"
      ]
     },
     "execution_count": 44,
     "metadata": {},
     "output_type": "execute_result"
    }
   ],
   "source": [
    "Balcony_min , Balcony_max = df2.Balcony.quantile([0.01,0.99])\n",
    "Balcony_min , Balcony_max"
   ]
  },
  {
   "cell_type": "markdown",
   "id": "90e2a0ef-7184-4b41-b177-c98add01e769",
   "metadata": {},
   "source": [
    "# Remove the Balcony Outliers"
   ]
  },
  {
   "cell_type": "code",
   "execution_count": 45,
   "id": "38df9c9d-2228-4d3f-8a19-61fec9d8a3a2",
   "metadata": {},
   "outputs": [
    {
     "name": "stderr",
     "output_type": "stream",
     "text": [
      "C:\\Users\\patel\\AppData\\Local\\Temp\\ipykernel_17820\\1390179293.py:1: SettingWithCopyWarning: \n",
      "A value is trying to be set on a copy of a slice from a DataFrame.\n",
      "Try using .loc[row_indexer,col_indexer] = value instead\n",
      "\n",
      "See the caveats in the documentation: https://pandas.pydata.org/pandas-docs/stable/user_guide/indexing.html#returning-a-view-versus-a-copy\n",
      "  df2['zscore_balcony'] = (df2['Balcony'] - df2['Bathroom'].mean()) / df2['Bathroom'].std()\n"
     ]
    },
    {
     "data": {
      "text/plain": [
       "(144, 20)"
      ]
     },
     "execution_count": 45,
     "metadata": {},
     "output_type": "execute_result"
    }
   ],
   "source": [
    "df2['zscore_balcony'] = (df2['Balcony'] - df2['Bathroom'].mean()) / df2['Bathroom'].std()\n",
    "Outliers = df2[(df2.zscore_balcony > 4)|(df2.zscore_balcony < -4)]\n",
    "Outliers.shape"
   ]
  },
  {
   "cell_type": "code",
   "execution_count": 46,
   "id": "967893b9-c570-41fb-a257-db41d7d801eb",
   "metadata": {},
   "outputs": [],
   "source": [
    "df3 = df2[(df2.zscore_balcony <= 4)&(df2.zscore_balcony >= -4)]"
   ]
  },
  {
   "cell_type": "code",
   "execution_count": 47,
   "id": "b54c8f85-93ed-4213-a20b-7bdbb311abea",
   "metadata": {},
   "outputs": [
    {
     "data": {
      "text/plain": [
       "(187104, 20)"
      ]
     },
     "execution_count": 47,
     "metadata": {},
     "output_type": "execute_result"
    }
   ],
   "source": [
    "df3.shape"
   ]
  },
  {
   "cell_type": "code",
   "execution_count": 48,
   "id": "d1d17d8f-9ca6-464d-b4d6-69dfeb3d924a",
   "metadata": {},
   "outputs": [
    {
     "name": "stdout",
     "output_type": "stream",
     "text": [
      "0\n",
      "0\n"
     ]
    }
   ],
   "source": [
    "print(df3.Bathroom.isnull().sum())\n",
    "print(df3.Balcony.isnull().sum())"
   ]
  },
  {
   "cell_type": "code",
   "execution_count": 49,
   "id": "01980a08-4cf5-4b9b-b405-132da02a8fd8",
   "metadata": {},
   "outputs": [],
   "source": [
    "# Converting Title [BHK] to int from string"
   ]
  },
  {
   "cell_type": "code",
   "execution_count": 50,
   "id": "3d98945a-dce8-4378-8929-f9ad74c6d23f",
   "metadata": {},
   "outputs": [
    {
     "data": {
      "text/plain": [
       "array(['1', '2', '3', '4', '5', nan, '8', '6', '7', '9', '10'],\n",
       "      dtype=object)"
      ]
     },
     "execution_count": 50,
     "metadata": {},
     "output_type": "execute_result"
    }
   ],
   "source": [
    "df3['Title [BHK]'].unique()"
   ]
  },
  {
   "cell_type": "code",
   "execution_count": 51,
   "id": "7a7afff9-c884-4ca1-a00b-8f8949525df9",
   "metadata": {},
   "outputs": [
    {
     "name": "stderr",
     "output_type": "stream",
     "text": [
      "C:\\Users\\patel\\AppData\\Local\\Temp\\ipykernel_17820\\2000538227.py:1: FutureWarning: A value is trying to be set on a copy of a DataFrame or Series through chained assignment using an inplace method.\n",
      "The behavior will change in pandas 3.0. This inplace method will never work because the intermediate object on which we are setting values always behaves as a copy.\n",
      "\n",
      "For example, when doing 'df[col].method(value, inplace=True)', try using 'df.method({col: value}, inplace=True)' or df[col] = df[col].method(value) instead, to perform the operation inplace on the original object.\n",
      "\n",
      "\n",
      "  df3['Title [BHK]'].replace(['1', '2', '3', '4', '5', '8', '6', '7', '9', '10'],[1,2,3,4,5,8,6,7,9,10],inplace=True)\n",
      "C:\\Users\\patel\\AppData\\Local\\Temp\\ipykernel_17820\\2000538227.py:1: FutureWarning: Downcasting behavior in `replace` is deprecated and will be removed in a future version. To retain the old behavior, explicitly call `result.infer_objects(copy=False)`. To opt-in to the future behavior, set `pd.set_option('future.no_silent_downcasting', True)`\n",
      "  df3['Title [BHK]'].replace(['1', '2', '3', '4', '5', '8', '6', '7', '9', '10'],[1,2,3,4,5,8,6,7,9,10],inplace=True)\n",
      "C:\\Users\\patel\\AppData\\Local\\Temp\\ipykernel_17820\\2000538227.py:1: SettingWithCopyWarning: \n",
      "A value is trying to be set on a copy of a slice from a DataFrame\n",
      "\n",
      "See the caveats in the documentation: https://pandas.pydata.org/pandas-docs/stable/user_guide/indexing.html#returning-a-view-versus-a-copy\n",
      "  df3['Title [BHK]'].replace(['1', '2', '3', '4', '5', '8', '6', '7', '9', '10'],[1,2,3,4,5,8,6,7,9,10],inplace=True)\n"
     ]
    },
    {
     "data": {
      "text/plain": [
       "array([ 1.,  2.,  3.,  4.,  5., nan,  8.,  6.,  7.,  9., 10.])"
      ]
     },
     "execution_count": 51,
     "metadata": {},
     "output_type": "execute_result"
    }
   ],
   "source": [
    "df3['Title [BHK]'].replace(['1', '2', '3', '4', '5', '8', '6', '7', '9', '10'],[1,2,3,4,5,8,6,7,9,10],inplace=True)\n",
    "df3['Title [BHK]'].unique()"
   ]
  },
  {
   "cell_type": "code",
   "execution_count": 52,
   "id": "5f602586-5846-4493-9598-7a6035d73b62",
   "metadata": {},
   "outputs": [
    {
     "data": {
      "text/plain": [
       "count    186160.000000\n",
       "mean          2.563327\n",
       "std           0.771017\n",
       "min           1.000000\n",
       "25%           2.000000\n",
       "50%           3.000000\n",
       "75%           3.000000\n",
       "max          10.000000\n",
       "Name: Title [BHK], dtype: float64"
      ]
     },
     "execution_count": 52,
     "metadata": {},
     "output_type": "execute_result"
    }
   ],
   "source": [
    "df3['Title [BHK]'].describe()"
   ]
  },
  {
   "cell_type": "code",
   "execution_count": 53,
   "id": "2b27be57-e29b-4b2d-a02f-722276b48211",
   "metadata": {},
   "outputs": [],
   "source": [
    "# First Checking by the percentile"
   ]
  },
  {
   "cell_type": "code",
   "execution_count": 54,
   "id": "2835d6ae-ee39-4f6a-81a9-0b60a13d0458",
   "metadata": {},
   "outputs": [
    {
     "data": {
      "text/plain": [
       "(1.0, 4.0)"
      ]
     },
     "execution_count": 54,
     "metadata": {},
     "output_type": "execute_result"
    }
   ],
   "source": [
    "BHK_min , BHK_max = df3['Title [BHK]'].quantile([0.01,0.99])\n",
    "BHK_min , BHK_max"
   ]
  },
  {
   "cell_type": "code",
   "execution_count": 55,
   "id": "854e705a-e1c6-430d-b370-391efcfd06e5",
   "metadata": {},
   "outputs": [
    {
     "name": "stderr",
     "output_type": "stream",
     "text": [
      "C:\\Users\\patel\\AppData\\Local\\Temp\\ipykernel_17820\\2660540536.py:1: SettingWithCopyWarning: \n",
      "A value is trying to be set on a copy of a slice from a DataFrame\n",
      "\n",
      "See the caveats in the documentation: https://pandas.pydata.org/pandas-docs/stable/user_guide/indexing.html#returning-a-view-versus-a-copy\n",
      "  df3['Title [BHK]'].fillna(int(df3['Title [BHK]'].mean()),inplace=True)\n"
     ]
    }
   ],
   "source": [
    "df3['Title [BHK]'].fillna(int(df3['Title [BHK]'].mean()),inplace=True)"
   ]
  },
  {
   "cell_type": "code",
   "execution_count": 56,
   "id": "7c2d8389-332a-4191-8250-6c40a084d4e4",
   "metadata": {},
   "outputs": [
    {
     "data": {
      "text/plain": [
       "array([ 1.,  2.,  3.,  4.,  5.,  8.,  6.,  7.,  9., 10.])"
      ]
     },
     "execution_count": 56,
     "metadata": {},
     "output_type": "execute_result"
    }
   ],
   "source": [
    "df3['Title [BHK]'].unique()"
   ]
  },
  {
   "cell_type": "code",
   "execution_count": 57,
   "id": "31077db4-fa1a-4a50-bec5-ffa140c8d5f7",
   "metadata": {},
   "outputs": [],
   "source": [
    "# Outliers = df3[(df3['Title [BHK]']<BHK_max)|(df3['Title [BHK]']>BHK_min)]\n",
    "# Outliers.shape"
   ]
  },
  {
   "cell_type": "code",
   "execution_count": 58,
   "id": "125c7ef3-445a-45bd-8af3-3ea52460ae8a",
   "metadata": {},
   "outputs": [
    {
     "name": "stderr",
     "output_type": "stream",
     "text": [
      "C:\\Users\\patel\\AppData\\Local\\Temp\\ipykernel_17820\\3507228986.py:1: SettingWithCopyWarning: \n",
      "A value is trying to be set on a copy of a slice from a DataFrame.\n",
      "Try using .loc[row_indexer,col_indexer] = value instead\n",
      "\n",
      "See the caveats in the documentation: https://pandas.pydata.org/pandas-docs/stable/user_guide/indexing.html#returning-a-view-versus-a-copy\n",
      "  df3['zscore_title'] = (df3['Title [BHK]'] - df3['Title [BHK]'].mean()) / df3['Title [BHK]'].std()\n"
     ]
    },
    {
     "data": {
      "text/plain": [
       "(58, 21)"
      ]
     },
     "execution_count": 58,
     "metadata": {},
     "output_type": "execute_result"
    }
   ],
   "source": [
    "df3['zscore_title'] = (df3['Title [BHK]'] - df3['Title [BHK]'].mean()) / df3['Title [BHK]'].std()\n",
    "Outliers = df3[(df3.zscore_title > 4)|(df3.zscore_title < -4)]\n",
    "Outliers.shape"
   ]
  },
  {
   "cell_type": "code",
   "execution_count": 59,
   "id": "5716b8ed-f907-435d-a7f3-591f098804df",
   "metadata": {},
   "outputs": [],
   "source": [
    "# Here by using the z-score outliers are very small "
   ]
  },
  {
   "cell_type": "code",
   "execution_count": 60,
   "id": "7efc7d7a-f35d-407b-85ff-9a58bcdba60f",
   "metadata": {},
   "outputs": [
    {
     "data": {
      "text/plain": [
       "(187046, 21)"
      ]
     },
     "execution_count": 60,
     "metadata": {},
     "output_type": "execute_result"
    }
   ],
   "source": [
    "df4 = df3[(df3.zscore_title <= 4)&(df3.zscore_title >= -4)]\n",
    "df4.shape"
   ]
  },
  {
   "cell_type": "code",
   "execution_count": 61,
   "id": "99d65924-dde6-4ad8-906a-35a92db2bd2b",
   "metadata": {},
   "outputs": [
    {
     "data": {
      "text/plain": [
       "Index(['Amount(in rupees)', 'Carpet Area', 'Status', 'Floor', 'Transaction',\n",
       "       'Furnishing', 'facing', 'overlooking', 'Society', 'Bathroom', 'Balcony',\n",
       "       'Car Parking', 'Ownership', 'Super Area', 'Dimensions', 'Plot Area',\n",
       "       'Title [BHK]', 'location_freq_encoded', 'zscore_bathroom',\n",
       "       'zscore_balcony', 'zscore_title'],\n",
       "      dtype='object')"
      ]
     },
     "execution_count": 61,
     "metadata": {},
     "output_type": "execute_result"
    }
   ],
   "source": [
    "df4.columns"
   ]
  },
  {
   "cell_type": "code",
   "execution_count": 62,
   "id": "e13d6919-eb97-49f1-b1c7-b9f5fc2a88a1",
   "metadata": {},
   "outputs": [
    {
     "name": "stderr",
     "output_type": "stream",
     "text": [
      "C:\\Users\\patel\\AppData\\Local\\Temp\\ipykernel_17820\\3097407049.py:1: SettingWithCopyWarning: \n",
      "A value is trying to be set on a copy of a slice from a DataFrame\n",
      "\n",
      "See the caveats in the documentation: https://pandas.pydata.org/pandas-docs/stable/user_guide/indexing.html#returning-a-view-versus-a-copy\n",
      "  df4.drop(['Status'],axis=1,inplace=True)\n"
     ]
    }
   ],
   "source": [
    "df4.drop(['Status'],axis=1,inplace=True)"
   ]
  },
  {
   "cell_type": "code",
   "execution_count": 63,
   "id": "ed6d5786-e0aa-4228-a893-c443f46bdcdb",
   "metadata": {},
   "outputs": [
    {
     "data": {
      "text/plain": [
       "Index(['Amount(in rupees)', 'Carpet Area', 'Floor', 'Transaction',\n",
       "       'Furnishing', 'facing', 'overlooking', 'Society', 'Bathroom', 'Balcony',\n",
       "       'Car Parking', 'Ownership', 'Super Area', 'Dimensions', 'Plot Area',\n",
       "       'Title [BHK]', 'location_freq_encoded', 'zscore_bathroom',\n",
       "       'zscore_balcony', 'zscore_title'],\n",
       "      dtype='object')"
      ]
     },
     "execution_count": 63,
     "metadata": {},
     "output_type": "execute_result"
    }
   ],
   "source": [
    "df4.columns"
   ]
  },
  {
   "cell_type": "code",
   "execution_count": 64,
   "id": "bb92be3c-b08d-40c9-a9b2-a917121beeda",
   "metadata": {},
   "outputs": [
    {
     "name": "stderr",
     "output_type": "stream",
     "text": [
      "C:\\Users\\patel\\AppData\\Local\\Temp\\ipykernel_17820\\2505200548.py:1: SettingWithCopyWarning: \n",
      "A value is trying to be set on a copy of a slice from a DataFrame\n",
      "\n",
      "See the caveats in the documentation: https://pandas.pydata.org/pandas-docs/stable/user_guide/indexing.html#returning-a-view-versus-a-copy\n",
      "  df4.dropna(subset=['Transaction'], axis=0,inplace=True)\n"
     ]
    },
    {
     "data": {
      "text/plain": [
       "(186963, 20)"
      ]
     },
     "execution_count": 64,
     "metadata": {},
     "output_type": "execute_result"
    }
   ],
   "source": [
    "df4.dropna(subset=['Transaction'], axis=0,inplace=True)\n",
    "df4.shape"
   ]
  },
  {
   "cell_type": "code",
   "execution_count": 65,
   "id": "c32e42b5-7908-400d-80d0-9f12fa3e1380",
   "metadata": {},
   "outputs": [
    {
     "data": {
      "text/plain": [
       "array([nan, 'East', 'West', 'North - East', 'North', 'North - West',\n",
       "       'South', 'South -West', 'South - East'], dtype=object)"
      ]
     },
     "execution_count": 65,
     "metadata": {},
     "output_type": "execute_result"
    }
   ],
   "source": [
    "df4.facing.unique()"
   ]
  },
  {
   "cell_type": "code",
   "execution_count": 66,
   "id": "5ab0c427-32cf-420c-aea6-851c80c54262",
   "metadata": {},
   "outputs": [
    {
     "data": {
      "text/plain": [
       "70037"
      ]
     },
     "execution_count": 66,
     "metadata": {},
     "output_type": "execute_result"
    }
   ],
   "source": [
    "df4.facing.isnull().sum()"
   ]
  },
  {
   "cell_type": "code",
   "execution_count": 67,
   "id": "6a581500-6615-4985-b6b6-27a569cbca90",
   "metadata": {},
   "outputs": [
    {
     "name": "stderr",
     "output_type": "stream",
     "text": [
      "C:\\Users\\patel\\AppData\\Local\\Temp\\ipykernel_17820\\3142978390.py:1: SettingWithCopyWarning: \n",
      "A value is trying to be set on a copy of a slice from a DataFrame\n",
      "\n",
      "See the caveats in the documentation: https://pandas.pydata.org/pandas-docs/stable/user_guide/indexing.html#returning-a-view-versus-a-copy\n",
      "  df4.drop(['facing'],axis=1,inplace=True)\n"
     ]
    }
   ],
   "source": [
    "df4.drop(['facing'],axis=1,inplace=True)"
   ]
  },
  {
   "cell_type": "code",
   "execution_count": 68,
   "id": "a96618c3-d826-4800-ab50-4223afc333b3",
   "metadata": {},
   "outputs": [
    {
     "data": {
      "text/plain": [
       "(186963, 19)"
      ]
     },
     "execution_count": 68,
     "metadata": {},
     "output_type": "execute_result"
    }
   ],
   "source": [
    "df4.shape"
   ]
  },
  {
   "cell_type": "code",
   "execution_count": 69,
   "id": "df7fc915-1d47-4418-98b0-422eb333cfd0",
   "metadata": {},
   "outputs": [
    {
     "data": {
      "text/plain": [
       "Index(['Amount(in rupees)', 'Carpet Area', 'Floor', 'Transaction',\n",
       "       'Furnishing', 'overlooking', 'Society', 'Bathroom', 'Balcony',\n",
       "       'Car Parking', 'Ownership', 'Super Area', 'Dimensions', 'Plot Area',\n",
       "       'Title [BHK]', 'location_freq_encoded', 'zscore_bathroom',\n",
       "       'zscore_balcony', 'zscore_title'],\n",
       "      dtype='object')"
      ]
     },
     "execution_count": 69,
     "metadata": {},
     "output_type": "execute_result"
    }
   ],
   "source": [
    "df4.columns"
   ]
  },
  {
   "cell_type": "code",
   "execution_count": 70,
   "id": "9ba11508-853f-4e0c-a8c1-1e2222e8325f",
   "metadata": {},
   "outputs": [
    {
     "data": {
      "text/plain": [
       "array(['Resale', 'New Property', 'Other', 'Rent/Lease'], dtype=object)"
      ]
     },
     "execution_count": 70,
     "metadata": {},
     "output_type": "execute_result"
    }
   ],
   "source": [
    "df4.Transaction.unique()"
   ]
  },
  {
   "cell_type": "code",
   "execution_count": 71,
   "id": "b4e32c90-5d8f-4dbb-8732-1b3f95061203",
   "metadata": {},
   "outputs": [
    {
     "data": {
      "text/html": [
       "<div>\n",
       "<style scoped>\n",
       "    .dataframe tbody tr th:only-of-type {\n",
       "        vertical-align: middle;\n",
       "    }\n",
       "\n",
       "    .dataframe tbody tr th {\n",
       "        vertical-align: top;\n",
       "    }\n",
       "\n",
       "    .dataframe thead th {\n",
       "        text-align: right;\n",
       "    }\n",
       "</style>\n",
       "<table border=\"1\" class=\"dataframe\">\n",
       "  <thead>\n",
       "    <tr style=\"text-align: right;\">\n",
       "      <th></th>\n",
       "      <th>Other</th>\n",
       "      <th>Rent/Lease</th>\n",
       "      <th>Resale</th>\n",
       "    </tr>\n",
       "  </thead>\n",
       "  <tbody>\n",
       "    <tr>\n",
       "      <th>0</th>\n",
       "      <td>False</td>\n",
       "      <td>False</td>\n",
       "      <td>True</td>\n",
       "    </tr>\n",
       "    <tr>\n",
       "      <th>1</th>\n",
       "      <td>False</td>\n",
       "      <td>False</td>\n",
       "      <td>True</td>\n",
       "    </tr>\n",
       "    <tr>\n",
       "      <th>2</th>\n",
       "      <td>False</td>\n",
       "      <td>False</td>\n",
       "      <td>True</td>\n",
       "    </tr>\n",
       "    <tr>\n",
       "      <th>3</th>\n",
       "      <td>False</td>\n",
       "      <td>False</td>\n",
       "      <td>True</td>\n",
       "    </tr>\n",
       "    <tr>\n",
       "      <th>4</th>\n",
       "      <td>False</td>\n",
       "      <td>False</td>\n",
       "      <td>True</td>\n",
       "    </tr>\n",
       "    <tr>\n",
       "      <th>...</th>\n",
       "      <td>...</td>\n",
       "      <td>...</td>\n",
       "      <td>...</td>\n",
       "    </tr>\n",
       "    <tr>\n",
       "      <th>187526</th>\n",
       "      <td>False</td>\n",
       "      <td>False</td>\n",
       "      <td>False</td>\n",
       "    </tr>\n",
       "    <tr>\n",
       "      <th>187527</th>\n",
       "      <td>False</td>\n",
       "      <td>False</td>\n",
       "      <td>True</td>\n",
       "    </tr>\n",
       "    <tr>\n",
       "      <th>187528</th>\n",
       "      <td>False</td>\n",
       "      <td>False</td>\n",
       "      <td>True</td>\n",
       "    </tr>\n",
       "    <tr>\n",
       "      <th>187529</th>\n",
       "      <td>False</td>\n",
       "      <td>False</td>\n",
       "      <td>True</td>\n",
       "    </tr>\n",
       "    <tr>\n",
       "      <th>187530</th>\n",
       "      <td>False</td>\n",
       "      <td>False</td>\n",
       "      <td>True</td>\n",
       "    </tr>\n",
       "  </tbody>\n",
       "</table>\n",
       "<p>186963 rows × 3 columns</p>\n",
       "</div>"
      ],
      "text/plain": [
       "        Other  Rent/Lease  Resale\n",
       "0       False       False    True\n",
       "1       False       False    True\n",
       "2       False       False    True\n",
       "3       False       False    True\n",
       "4       False       False    True\n",
       "...       ...         ...     ...\n",
       "187526  False       False   False\n",
       "187527  False       False    True\n",
       "187528  False       False    True\n",
       "187529  False       False    True\n",
       "187530  False       False    True\n",
       "\n",
       "[186963 rows x 3 columns]"
      ]
     },
     "execution_count": 71,
     "metadata": {},
     "output_type": "execute_result"
    }
   ],
   "source": [
    "transaction = pd.get_dummies(df4['Transaction'],drop_first=True)\n",
    "transaction"
   ]
  },
  {
   "cell_type": "code",
   "execution_count": 72,
   "id": "5910e36f-c667-45e5-8b1f-7222fc581de8",
   "metadata": {},
   "outputs": [],
   "source": [
    "df4 = pd.concat([df4,transaction],axis=1)     "
   ]
  },
  {
   "cell_type": "code",
   "execution_count": 73,
   "id": "abe39636-0530-46f8-8841-586326d28520",
   "metadata": {},
   "outputs": [
    {
     "data": {
      "text/plain": [
       "array(['Unfurnished', 'Semi-Furnished', 'Furnished', nan], dtype=object)"
      ]
     },
     "execution_count": 73,
     "metadata": {},
     "output_type": "execute_result"
    }
   ],
   "source": [
    "df4.Furnishing.unique()"
   ]
  },
  {
   "cell_type": "code",
   "execution_count": 74,
   "id": "0ff514b8-6785-42e3-b43e-dc5ac372050e",
   "metadata": {},
   "outputs": [
    {
     "data": {
      "text/plain": [
       "2881"
      ]
     },
     "execution_count": 74,
     "metadata": {},
     "output_type": "execute_result"
    }
   ],
   "source": [
    "df4.Furnishing.isnull().sum()"
   ]
  },
  {
   "cell_type": "code",
   "execution_count": 75,
   "id": "2280169b-101e-4b48-901c-22187e5511c9",
   "metadata": {},
   "outputs": [
    {
     "data": {
      "text/plain": [
       "(184082, 22)"
      ]
     },
     "execution_count": 75,
     "metadata": {},
     "output_type": "execute_result"
    }
   ],
   "source": [
    "df4.dropna(subset=['Furnishing'],axis=0,inplace=True)\n",
    "df4.shape"
   ]
  },
  {
   "cell_type": "code",
   "execution_count": 76,
   "id": "82af798e-3925-4246-889f-9cef4cb7b617",
   "metadata": {},
   "outputs": [
    {
     "data": {
      "text/html": [
       "<div>\n",
       "<style scoped>\n",
       "    .dataframe tbody tr th:only-of-type {\n",
       "        vertical-align: middle;\n",
       "    }\n",
       "\n",
       "    .dataframe tbody tr th {\n",
       "        vertical-align: top;\n",
       "    }\n",
       "\n",
       "    .dataframe thead th {\n",
       "        text-align: right;\n",
       "    }\n",
       "</style>\n",
       "<table border=\"1\" class=\"dataframe\">\n",
       "  <thead>\n",
       "    <tr style=\"text-align: right;\">\n",
       "      <th></th>\n",
       "      <th>Semi-Furnished</th>\n",
       "      <th>Unfurnished</th>\n",
       "    </tr>\n",
       "  </thead>\n",
       "  <tbody>\n",
       "    <tr>\n",
       "      <th>0</th>\n",
       "      <td>False</td>\n",
       "      <td>True</td>\n",
       "    </tr>\n",
       "    <tr>\n",
       "      <th>1</th>\n",
       "      <td>True</td>\n",
       "      <td>False</td>\n",
       "    </tr>\n",
       "    <tr>\n",
       "      <th>2</th>\n",
       "      <td>False</td>\n",
       "      <td>True</td>\n",
       "    </tr>\n",
       "    <tr>\n",
       "      <th>3</th>\n",
       "      <td>False</td>\n",
       "      <td>True</td>\n",
       "    </tr>\n",
       "    <tr>\n",
       "      <th>4</th>\n",
       "      <td>False</td>\n",
       "      <td>True</td>\n",
       "    </tr>\n",
       "    <tr>\n",
       "      <th>...</th>\n",
       "      <td>...</td>\n",
       "      <td>...</td>\n",
       "    </tr>\n",
       "    <tr>\n",
       "      <th>187526</th>\n",
       "      <td>True</td>\n",
       "      <td>False</td>\n",
       "    </tr>\n",
       "    <tr>\n",
       "      <th>187527</th>\n",
       "      <td>False</td>\n",
       "      <td>True</td>\n",
       "    </tr>\n",
       "    <tr>\n",
       "      <th>187528</th>\n",
       "      <td>False</td>\n",
       "      <td>False</td>\n",
       "    </tr>\n",
       "    <tr>\n",
       "      <th>187529</th>\n",
       "      <td>True</td>\n",
       "      <td>False</td>\n",
       "    </tr>\n",
       "    <tr>\n",
       "      <th>187530</th>\n",
       "      <td>True</td>\n",
       "      <td>False</td>\n",
       "    </tr>\n",
       "  </tbody>\n",
       "</table>\n",
       "<p>184082 rows × 2 columns</p>\n",
       "</div>"
      ],
      "text/plain": [
       "        Semi-Furnished  Unfurnished\n",
       "0                False         True\n",
       "1                 True        False\n",
       "2                False         True\n",
       "3                False         True\n",
       "4                False         True\n",
       "...                ...          ...\n",
       "187526            True        False\n",
       "187527           False         True\n",
       "187528           False        False\n",
       "187529            True        False\n",
       "187530            True        False\n",
       "\n",
       "[184082 rows x 2 columns]"
      ]
     },
     "execution_count": 76,
     "metadata": {},
     "output_type": "execute_result"
    }
   ],
   "source": [
    "furnishing = pd.get_dummies(df4['Furnishing'],drop_first=True)\n",
    "furnishing"
   ]
  },
  {
   "cell_type": "code",
   "execution_count": 77,
   "id": "d67fa773-6697-455c-8ba5-6f177a80228d",
   "metadata": {},
   "outputs": [],
   "source": [
    "df4 = pd.concat([df4,furnishing],axis=1)"
   ]
  },
  {
   "cell_type": "code",
   "execution_count": 78,
   "id": "8b11dfd7-f12f-4089-9d75-42ee9793150b",
   "metadata": {},
   "outputs": [
    {
     "data": {
      "text/plain": [
       "array([nan, 'Garden/Park', 'Garden/Park, Main Road', 'Main Road',\n",
       "       'Pool, Garden/Park, Main Road', 'Garden/Park, Pool, Main Road',\n",
       "       'Garden/Park, Pool', 'Main Road, Garden/Park',\n",
       "       'Main Road, Garden/Park, Pool', 'Pool, Garden/Park', 'Pool',\n",
       "       'Garden/Park, Main Road, Pool', 'Pool, Main Road',\n",
       "       'Main Road, Pool, Garden/Park', 'Pool, Main Road, Garden/Park',\n",
       "       'Main Road, Not Available', 'Main Road, Pool',\n",
       "       'Garden/Park, Pool, Main Road, Not Available',\n",
       "       'Garden/Park, Not Available', 'Pool, Main Road, Not Available'],\n",
       "      dtype=object)"
      ]
     },
     "execution_count": 78,
     "metadata": {},
     "output_type": "execute_result"
    }
   ],
   "source": [
    "df4.overlooking.unique()"
   ]
  },
  {
   "cell_type": "code",
   "execution_count": 79,
   "id": "f276b5e8-7b3a-425c-826c-fc6d733526a2",
   "metadata": {},
   "outputs": [
    {
     "data": {
      "text/plain": [
       "78406"
      ]
     },
     "execution_count": 79,
     "metadata": {},
     "output_type": "execute_result"
    }
   ],
   "source": [
    "df4.overlooking.isnull().sum()"
   ]
  },
  {
   "cell_type": "code",
   "execution_count": 80,
   "id": "3a223ce2-27dc-4c06-a908-698b81437544",
   "metadata": {},
   "outputs": [],
   "source": [
    "df4.drop(['overlooking'],axis=1,inplace=True)"
   ]
  },
  {
   "cell_type": "code",
   "execution_count": 81,
   "id": "c663d599-af19-45f8-9b07-ec59728d13f0",
   "metadata": {},
   "outputs": [
    {
     "data": {
      "text/plain": [
       "(184082, 23)"
      ]
     },
     "execution_count": 81,
     "metadata": {},
     "output_type": "execute_result"
    }
   ],
   "source": [
    "df4.shape"
   ]
  },
  {
   "cell_type": "code",
   "execution_count": 82,
   "id": "136c86d4-c33f-404f-b0e2-fdbc0af9087b",
   "metadata": {},
   "outputs": [
    {
     "data": {
      "text/plain": [
       "Index(['Amount(in rupees)', 'Carpet Area', 'Floor', 'Transaction',\n",
       "       'Furnishing', 'Society', 'Bathroom', 'Balcony', 'Car Parking',\n",
       "       'Ownership', 'Super Area', 'Dimensions', 'Plot Area', 'Title [BHK]',\n",
       "       'location_freq_encoded', 'zscore_bathroom', 'zscore_balcony',\n",
       "       'zscore_title', 'Other', 'Rent/Lease', 'Resale', 'Semi-Furnished',\n",
       "       'Unfurnished'],\n",
       "      dtype='object')"
      ]
     },
     "execution_count": 82,
     "metadata": {},
     "output_type": "execute_result"
    }
   ],
   "source": [
    "df4.columns"
   ]
  },
  {
   "cell_type": "code",
   "execution_count": 83,
   "id": "d0502861-95eb-46fc-abab-5e0c41e1f1f1",
   "metadata": {},
   "outputs": [
    {
     "data": {
      "text/plain": [
       "array([nan, 'Freehold', 'Co-operative Society', 'Power Of Attorney',\n",
       "       'Leasehold'], dtype=object)"
      ]
     },
     "execution_count": 83,
     "metadata": {},
     "output_type": "execute_result"
    }
   ],
   "source": [
    "df4.Ownership.unique()"
   ]
  },
  {
   "cell_type": "code",
   "execution_count": 84,
   "id": "c475b6cd-7713-4617-9b06-a40980113719",
   "metadata": {},
   "outputs": [
    {
     "data": {
      "text/plain": [
       "62535"
      ]
     },
     "execution_count": 84,
     "metadata": {},
     "output_type": "execute_result"
    }
   ],
   "source": [
    "df4.Ownership.isnull().sum()"
   ]
  },
  {
   "cell_type": "code",
   "execution_count": 85,
   "id": "b9e1e184-7b47-49c0-bcf0-fce89bf7d017",
   "metadata": {},
   "outputs": [
    {
     "name": "stderr",
     "output_type": "stream",
     "text": [
      "C:\\Users\\patel\\AppData\\Local\\Temp\\ipykernel_17820\\133691161.py:1: FutureWarning: A value is trying to be set on a copy of a DataFrame or Series through chained assignment using an inplace method.\n",
      "The behavior will change in pandas 3.0. This inplace method will never work because the intermediate object on which we are setting values always behaves as a copy.\n",
      "\n",
      "For example, when doing 'df[col].method(value, inplace=True)', try using 'df.method({col: value}, inplace=True)' or df[col] = df[col].method(value) instead, to perform the operation inplace on the original object.\n",
      "\n",
      "\n",
      "  df4.Ownership.replace(['Freehold', 'Co-operative Society', 'Power Of Attorney','Leasehold'],[1,2,3,4],inplace=True)\n",
      "C:\\Users\\patel\\AppData\\Local\\Temp\\ipykernel_17820\\133691161.py:1: FutureWarning: Downcasting behavior in `replace` is deprecated and will be removed in a future version. To retain the old behavior, explicitly call `result.infer_objects(copy=False)`. To opt-in to the future behavior, set `pd.set_option('future.no_silent_downcasting', True)`\n",
      "  df4.Ownership.replace(['Freehold', 'Co-operative Society', 'Power Of Attorney','Leasehold'],[1,2,3,4],inplace=True)\n"
     ]
    }
   ],
   "source": [
    "df4.Ownership.replace(['Freehold', 'Co-operative Society', 'Power Of Attorney','Leasehold'],[1,2,3,4],inplace=True)"
   ]
  },
  {
   "cell_type": "code",
   "execution_count": 86,
   "id": "3461a766-87cb-4fa3-8cfa-e1db59207aa0",
   "metadata": {},
   "outputs": [
    {
     "data": {
      "text/plain": [
       "array([nan,  1.,  2.,  3.,  4.])"
      ]
     },
     "execution_count": 86,
     "metadata": {},
     "output_type": "execute_result"
    }
   ],
   "source": [
    "df4.Ownership.unique()"
   ]
  },
  {
   "cell_type": "code",
   "execution_count": 87,
   "id": "4b6e907f-7eb2-4dae-8e98-5522834e7380",
   "metadata": {},
   "outputs": [
    {
     "data": {
      "text/plain": [
       "array([0., 1., 2., 3., 4.])"
      ]
     },
     "execution_count": 87,
     "metadata": {},
     "output_type": "execute_result"
    }
   ],
   "source": [
    "df4.Ownership.fillna(0,inplace=True)\n",
    "df4.Ownership.unique()"
   ]
  },
  {
   "cell_type": "markdown",
   "id": "379d1454-724b-4413-bd1c-264b07b924b6",
   "metadata": {},
   "source": [
    "# Now Lets' Do for amount in amount there is values in crore and lackhs so convert it into lackhs"
   ]
  },
  {
   "cell_type": "code",
   "execution_count": 88,
   "id": "af6db161-6dfd-4f25-9ea5-6a664021a616",
   "metadata": {},
   "outputs": [
    {
     "data": {
      "text/plain": [
       "8809"
      ]
     },
     "execution_count": 88,
     "metadata": {},
     "output_type": "execute_result"
    }
   ],
   "source": [
    "sum(df4['Amount(in rupees)']==\"Call for Price\")"
   ]
  },
  {
   "cell_type": "code",
   "execution_count": 89,
   "id": "8902f0be-e504-42a4-921f-672d68d931a6",
   "metadata": {},
   "outputs": [],
   "source": [
    "amount = list(df4['Amount(in rupees)'])\n",
    "# new_amount = []\n",
    "\n",
    "for i in range (len(amount)):\n",
    "    if len(amount[i].split()) <=2:\n",
    "        if \"Cr\" in amount[i]:\n",
    "            amount[i] = pd.to_numeric(amount[i].split()[0])*100\n",
    "            # (amount[i]) * 100\n",
    "        elif \"Lac\" in amount[i]:\n",
    "            amount[i] = pd.to_numeric(amount[i].split()[0])\n",
    "        else:\n",
    "            amount[i] = np.nan\n",
    "    else:\n",
    "        amount[i] = np.nan\n",
    "\n",
    "df4['Amount'] = pd.DataFrame(amount)"
   ]
  },
  {
   "cell_type": "code",
   "execution_count": 90,
   "id": "c30bbecb-aa14-418f-99f8-7ff80b2531e9",
   "metadata": {},
   "outputs": [
    {
     "data": {
      "text/plain": [
       "0     42.0\n",
       "1     98.0\n",
       "2    140.0\n",
       "3     25.0\n",
       "4    160.0\n",
       "5     45.0\n",
       "6     16.5\n",
       "7     60.0\n",
       "8     60.0\n",
       "9    160.0\n",
       "Name: Amount, dtype: float64"
      ]
     },
     "execution_count": 90,
     "metadata": {},
     "output_type": "execute_result"
    }
   ],
   "source": [
    "df4.Amount.head(10)"
   ]
  },
  {
   "cell_type": "code",
   "execution_count": 91,
   "id": "e356c985-0694-41ea-88b2-dbf442c51484",
   "metadata": {},
   "outputs": [
    {
     "data": {
      "text/plain": [
       "12040"
      ]
     },
     "execution_count": 91,
     "metadata": {},
     "output_type": "execute_result"
    }
   ],
   "source": [
    "df4.Amount.isnull().sum()"
   ]
  },
  {
   "cell_type": "code",
   "execution_count": 92,
   "id": "13857493-54f3-4228-a77a-f805c1128c3e",
   "metadata": {},
   "outputs": [
    {
     "data": {
      "text/plain": [
       "count    172042.000000\n",
       "mean        118.947330\n",
       "std         396.977879\n",
       "min           1.000000\n",
       "25%          48.000000\n",
       "50%          78.000000\n",
       "75%         145.000000\n",
       "max      140030.000000\n",
       "Name: Amount, dtype: float64"
      ]
     },
     "execution_count": 92,
     "metadata": {},
     "output_type": "execute_result"
    }
   ],
   "source": [
    "df4.Amount.describe()"
   ]
  },
  {
   "cell_type": "code",
   "execution_count": 93,
   "id": "0a4ab722-030a-4d30-80df-2c6bca472b09",
   "metadata": {},
   "outputs": [
    {
     "name": "stderr",
     "output_type": "stream",
     "text": [
      "C:\\Users\\patel\\AppData\\Local\\Temp\\ipykernel_17820\\3159651066.py:1: FutureWarning: A value is trying to be set on a copy of a DataFrame or Series through chained assignment using an inplace method.\n",
      "The behavior will change in pandas 3.0. This inplace method will never work because the intermediate object on which we are setting values always behaves as a copy.\n",
      "\n",
      "For example, when doing 'df[col].method(value, inplace=True)', try using 'df.method({col: value}, inplace=True)' or df[col] = df[col].method(value) instead, to perform the operation inplace on the original object.\n",
      "\n",
      "\n",
      "  df4.Amount.fillna(df4.Amount.mean(),inplace=True)\n"
     ]
    }
   ],
   "source": [
    "df4.Amount.fillna(df4.Amount.mean(),inplace=True)"
   ]
  },
  {
   "cell_type": "code",
   "execution_count": 94,
   "id": "20429a5d-8327-49cf-b693-9daf2ee7eebc",
   "metadata": {},
   "outputs": [],
   "source": [
    "# Finding Out the Z-score"
   ]
  },
  {
   "cell_type": "code",
   "execution_count": 95,
   "id": "4fd7954c-72e6-4e1e-ae2d-e6caca34be6b",
   "metadata": {},
   "outputs": [],
   "source": [
    "df4['zscore_amount'] = (df4.Amount-df4.Amount.mean())/df4.Amount.std()"
   ]
  },
  {
   "cell_type": "code",
   "execution_count": 96,
   "id": "726400f3-7260-4ee3-b32b-7f4d0a659a8d",
   "metadata": {},
   "outputs": [
    {
     "data": {
      "text/plain": [
       "(184082, 25)"
      ]
     },
     "execution_count": 96,
     "metadata": {},
     "output_type": "execute_result"
    }
   ],
   "source": [
    "df4.shape"
   ]
  },
  {
   "cell_type": "code",
   "execution_count": 97,
   "id": "7e7f0d19-bfdb-4e7a-98a8-f4080d991be8",
   "metadata": {},
   "outputs": [
    {
     "data": {
      "text/plain": [
       "(60, 25)"
      ]
     },
     "execution_count": 97,
     "metadata": {},
     "output_type": "execute_result"
    }
   ],
   "source": [
    "Outlier = df4[(df4.zscore_amount<-4)|(df4.zscore_amount>4)]\n",
    "Outlier.shape"
   ]
  },
  {
   "cell_type": "code",
   "execution_count": 98,
   "id": "882c60b6-a313-43d1-bc16-fdd06de067d9",
   "metadata": {},
   "outputs": [],
   "source": [
    "# Removing the outlier"
   ]
  },
  {
   "cell_type": "code",
   "execution_count": 99,
   "id": "dd4f545a-8c0a-4f49-80ba-df94448a1d15",
   "metadata": {},
   "outputs": [],
   "source": [
    "df5 = df4[(df4.zscore_amount>-4)&(df4.zscore_amount<4)]"
   ]
  },
  {
   "cell_type": "code",
   "execution_count": 100,
   "id": "5f2d08c6-a5db-4f5b-a712-3a6c98fceb0e",
   "metadata": {},
   "outputs": [
    {
     "data": {
      "text/plain": [
       "Index(['Amount(in rupees)', 'Carpet Area', 'Floor', 'Transaction',\n",
       "       'Furnishing', 'Society', 'Bathroom', 'Balcony', 'Car Parking',\n",
       "       'Ownership', 'Super Area', 'Dimensions', 'Plot Area', 'Title [BHK]',\n",
       "       'location_freq_encoded', 'zscore_bathroom', 'zscore_balcony',\n",
       "       'zscore_title', 'Other', 'Rent/Lease', 'Resale', 'Semi-Furnished',\n",
       "       'Unfurnished', 'Amount', 'zscore_amount'],\n",
       "      dtype='object')"
      ]
     },
     "execution_count": 100,
     "metadata": {},
     "output_type": "execute_result"
    }
   ],
   "source": [
    "df5.columns"
   ]
  },
  {
   "cell_type": "code",
   "execution_count": 101,
   "id": "3cc314a3-0095-4210-94b5-55a95a968487",
   "metadata": {},
   "outputs": [
    {
     "data": {
      "text/plain": [
       "array(['10 out of 11', '3 out of 22', '10 out of 29', '1 out of 3',\n",
       "       '20 out of 42', '2 out of 7', '4 out of 5', 'Ground out of 7',\n",
       "       'Ground out of 2', '3 out of 27', '6 out of 20', '16 out of 24',\n",
       "       '8 out of 20', '18 out of 27', '2 out of 3', '10 out of 16',\n",
       "       '5 out of 7', '20 out of 28', '3 out of 3', '3 out of 7',\n",
       "       '15 out of 31', '2 out of 28', '27 out of 27', '6 out of 7',\n",
       "       '5 out of 5', '3 out of 8', '11 out of 17', '9 out of 24',\n",
       "       '16 out of 27', '14 out of 29', '12 out of 27', '1 out of 27',\n",
       "       '2 out of 4', '16 out of 38', '3 out of 4', '2 out of 17',\n",
       "       '12 out of 28', '3 out of 19', '6 out of 28', '1 out of 4',\n",
       "       '7 out of 16', '2 out of 2', '1 out of 9', '7 out of 12',\n",
       "       '10 out of 10', '4 out of 4', '14 out of 17', '21 out of 27',\n",
       "       '5 out of 8', '7 out of 30', '6 out of 18', '14 out of 28',\n",
       "       '3 out of 5', '2 out of 24', '1 out of 8', '2 out of 16',\n",
       "       '7 out of 7', '4 out of 28', '4 out of 26', '1 out of 17',\n",
       "       '20 out of 32', '10 out of 25', '15 out of 17', '8 out of 9',\n",
       "       'Upper Basement out of 9', '8 out of 27', '8 out of 19',\n",
       "       '2 out of 8', '15 out of 30', '21 out of 26', '5 out of 12',\n",
       "       '3 out of 18', '5 out of 14', '1 out of 29', '5 out of 16',\n",
       "       '3 out of 28', '4 out of 20', '1 out of 5', nan, '29 out of 29',\n",
       "       '10 out of 12', '10 out of 30', '13 out of 26', 'Ground out of 3',\n",
       "       '5 out of 28', '2 out of 5', '12 out of 12', '1 out of 6',\n",
       "       'Ground out of 4', '3 out of 20', '7 out of 15', '6 out of 13',\n",
       "       '2 out of 29', '4 out of 7', '1 out of 7', '20 out of 35',\n",
       "       '13 out of 31', '3 out of 23', '19 out of 19', '11 out of 18',\n",
       "       '18 out of 30', '10 out of 20', '2 out of 19', '16 out of 23',\n",
       "       '3 out of 30', '8 out of 8', '17 out of 27', '5 out of 6',\n",
       "       '11 out of 26', '12 out of 30', '4 out of 6', '1 out of 1',\n",
       "       '10 out of 14', '14 out of 32', '15 out of 32', '6 out of 29',\n",
       "       '1 out of 20', '28 out of 32', '6 out of 8', '12 out of 21',\n",
       "       '14 out of 22', '30 out of 36', '23 out of 32', '25 out of 30',\n",
       "       '12 out of 22', '26 out of 27', '9 out of 19', '4 out of 24',\n",
       "       '7 out of 8', '4 out of 8', '19 out of 30', '12 out of 19',\n",
       "       '10 out of 31', '3 out of 6', '24 out of 32', '21 out of 28',\n",
       "       '16 out of 22', '19 out of 24', '7 out of 19', 'Ground out of 5',\n",
       "       '14 out of 23', '4 out of 30', '1 out of 14', '7 out of 13',\n",
       "       '23 out of 35', '17 out of 18', '2 out of 21', '7 out of 31',\n",
       "       '10 out of 18', '20 out of 26', '14 out of 19', '9 out of 16',\n",
       "       '12 out of 18', '6 out of 21', '8 out of 16', '18 out of 20',\n",
       "       '6 out of 40', '5 out of 11', '12 out of 24', '6 out of 16',\n",
       "       '1 out of 19', '8 out of 12', '10 out of 28', '19 out of 23',\n",
       "       '5 out of 17', '16 out of 17', '17 out of 17', '1 out of 2',\n",
       "       '17 out of 32', '15 out of 15', '7 out of 18', '19 out of 36',\n",
       "       '13 out of 27', '21 out of 32', '8 out of 18', '29 out of 30',\n",
       "       '16 out of 28', '22 out of 29', '23 out of 24', '4 out of 12',\n",
       "       '11 out of 32', '21 out of 24', '16 out of 30', '26 out of 30',\n",
       "       '25 out of 36', '7 out of 26', '9 out of 29', '11 out of 29',\n",
       "       '8 out of 15', '12 out of 25', '16 out of 32', '2 out of 6',\n",
       "       '5 out of 18', '5 out of 13', '14 out of 30', '4 out of 18',\n",
       "       '7 out of 14', '9 out of 10', '14 out of 27', '9 out of 12',\n",
       "       '10 out of 19', '4 out of 23', '16 out of 16', '14 out of 26',\n",
       "       '9 out of 17', '8 out of 23', '4 out of 17', 'Ground out of 1',\n",
       "       '5 out of 21', '19 out of 20', '4 out of 10', '6 out of 15',\n",
       "       '20 out of 29', '6 out of 30', '7 out of 9', '4 out of 16',\n",
       "       '21 out of 45', '16 out of 19', '6 out of 12', '19 out of 26',\n",
       "       '22 out of 25', '2 out of 10', '6 out of 27', '15 out of 27',\n",
       "       '16 out of 26', '13 out of 20', '9 out of 22', '9 out of 18',\n",
       "       '3 out of 11', '6 out of 10', '4 out of 15', '3 out of 12',\n",
       "       '18 out of 23', '3 out of 13', '10 out of 13', '2 out of 12',\n",
       "       '18 out of 28', '2 out of 15', '1 out of 26', 'Ground out of 6',\n",
       "       '17 out of 30', '25 out of 27', '8 out of 30', '15 out of 18',\n",
       "       '7 out of 11', '11 out of 28', '5 out of 9', '20 out of 36',\n",
       "       '5 out of 27', '7 out of 22', '5 out of 19', '6 out of 22',\n",
       "       '4 out of 22', '1 out of 13', '9 out of 15', '15 out of 20',\n",
       "       '13 out of 30', '12 out of 23', '28 out of 30', '10 out of 22',\n",
       "       '24 out of 26', '25 out of 32', '16 out of 18', '9 out of 20',\n",
       "       '10 out of 27', '15 out of 16', '9 out of 14', '23 out of 27',\n",
       "       '27 out of 36', '17 out of 25', '23 out of 28', '12 out of 31',\n",
       "       '32 out of 36', '25 out of 29', '12 out of 33', '1 out of 12',\n",
       "       '10 out of 26', '3 out of 16', '17 out of 19', '2 out of 27',\n",
       "       '13 out of 42', '27 out of 31', '2 out of 14', '7 out of 17',\n",
       "       '11 out of 25', '15 out of 28', '13 out of 16', '1 out of 30',\n",
       "       '13 out of 32', '5 out of 30', '5 out of 33', '17 out of 29',\n",
       "       '11 out of 24', '13 out of 24', '18 out of 24', '13 out of 25',\n",
       "       '2 out of 9', 'Ground out of 28', '9 out of 11', '1 out of 16',\n",
       "       '8 out of 25', '14 out of 20', '5 out of 22', '2 out of 20',\n",
       "       '10 out of 24', '8 out of 28', '10 out of 36', '2 out of 11',\n",
       "       '22 out of 33', '8 out of 17', '2 out of 18', '13 out of 14',\n",
       "       '3 out of 31', '30 out of 32', '11 out of 19', '19 out of 31',\n",
       "       '4 out of 36', '13 out of 34', '6 out of 37', '11 out of 27',\n",
       "       '8 out of 36', '1 out of 28', '11 out of 36', '3 out of 15',\n",
       "       '6 out of 14', '6 out of 17', '22 out of 24', '9 out of 23',\n",
       "       '8 out of 11', '12 out of 29', '4 out of 27', '2 out of 23',\n",
       "       '9 out of 21', '8 out of 14', '11 out of 20', '21 out of 23',\n",
       "       '15 out of 19', 'Ground out of 8', '22 out of 30', '25 out of 28',\n",
       "       '20 out of 30', '19 out of 28', '16 out of 21', '30 out of 34',\n",
       "       '24 out of 28', '2 out of 31', '12 out of 13', '24 out of 25',\n",
       "       '2 out of 22', '26 out of 28', '27 out of 28', '8 out of 26',\n",
       "       '16 out of 29', '16 out of 20', '17 out of 20', '13 out of 13',\n",
       "       'Ground out of 14', '12 out of 14', '5 out of 15', '9 out of 38',\n",
       "       '18 out of 38', '33 out of 36', '15 out of 23', '11 out of 22',\n",
       "       '6 out of 6', '7 out of 33', '20 out of 39', '4 out of 13',\n",
       "       '9 out of 13', '9 out of 25', '1 out of 15', '5 out of 23',\n",
       "       '9 out of 26', '9 out of 34', '5 out of 34', '20 out of 38',\n",
       "       '7 out of 34', '10 out of 34', 'Lower Basement out of 7',\n",
       "       '10 out of 15', '11 out of 16', '8 out of 13', '11 out of 14',\n",
       "       '14 out of 15', '3 out of 21', '24 out of 29', '13 out of 17',\n",
       "       '14 out of 14', '2 out of 40', '18 out of 26', '17 out of 21',\n",
       "       '3 out of 25', '20 out of 31', 'Upper Basement out of 7',\n",
       "       '15 out of 22', '20 out of 27', '1 out of 18', '9 out of 9',\n",
       "       'Upper Basement out of 4', '22 out of 27', '25 out of 34',\n",
       "       '11 out of 13', '10 out of 17', '19 out of 32', '9 out of 28',\n",
       "       'Upper Basement out of 8', '2 out of 13', '11 out of 15',\n",
       "       '21 out of 31', '14 out of 31', '4 out of 9', '5 out of 10',\n",
       "       '1 out of 10', '7 out of 10', '13 out of 15', '1 out of 88',\n",
       "       '4 out of 11', '20 out of 21', '23 out of 30', '18 out of 29',\n",
       "       '8 out of 55', '10 out of 32', '3 out of 45', '9 out of 45',\n",
       "       '5 out of 41', '40 out of 51', '7 out of 27', '8 out of 22',\n",
       "       '1 out of 23', '7 out of 21', '35 out of 44', '12 out of 20',\n",
       "       '20 out of 40', '24 out of 33', '4 out of 19', '10 out of 23',\n",
       "       '8 out of 10', '14 out of 24', '40 out of 60', '20 out of 20',\n",
       "       '20 out of 22', '4 out of 21', '40 out of 54', '5 out of 20',\n",
       "       '13 out of 36', '18 out of 18', '21 out of 36', '9 out of 27',\n",
       "       '28 out of 60', '28 out of 31', '19 out of 27', '6 out of 9',\n",
       "       '26 out of 35', '17 out of 58', '10 out of 21', '12 out of 15',\n",
       "       'Ground out of 12', '22 out of 40', '14 out of 21', '21 out of 25',\n",
       "       '15 out of 36', '23 out of 40', '12 out of 16', '20 out of 23',\n",
       "       'Upper Basement out of 10', '23 out of 68', '25 out of 41',\n",
       "       '11 out of 21', '12 out of 40', '20 out of 56', '42 out of 60',\n",
       "       '17 out of 60', '38 out of 67', '21 out of 30', '34 out of 91',\n",
       "       '7 out of 32', '17 out of 52', '6 out of 26', '17 out of 45',\n",
       "       '18 out of 21', '19 out of 42', '31 out of 38', '27 out of 47',\n",
       "       '17 out of 24', '19 out of 22', '21 out of 21', '11 out of 40',\n",
       "       '20 out of 48', '14 out of 18', '19 out of 21', '16 out of 36',\n",
       "       '18 out of 39', '37 out of 38', '25 out of 37', '11 out of 60',\n",
       "       '23 out of 34', '5 out of 55', '20 out of 60', '8 out of 21',\n",
       "       '18 out of 22', '18 out of 41', '13 out of 22', '33 out of 40',\n",
       "       '18 out of 34', '34 out of 36', '26 out of 36', '60 out of 78',\n",
       "       '21 out of 37', '7 out of 20', '4 out of 14', '3 out of 43',\n",
       "       '39 out of 42', '29 out of 38', '9 out of 30', '15 out of 40',\n",
       "       '17 out of 37', 'Upper Basement out of 22', '12 out of 35',\n",
       "       '11 out of 23', '14 out of 35', '29 out of 36', '15 out of 21',\n",
       "       '7 out of 54', '14 out of 39', '15 out of 45', '44 out of 91',\n",
       "       '3 out of 10', '32 out of 42', '16 out of 44', '34 out of 53',\n",
       "       '16 out of 40', '30 out of 37', '35 out of 77', '21 out of 22',\n",
       "       '3 out of 14', '25 out of 45', '18 out of 35', '29 out of 34',\n",
       "       '40 out of 40', '27 out of 54', '5 out of 29', '32 out of 44',\n",
       "       '38 out of 91', '2 out of 25', '16 out of 43', '30 out of 43',\n",
       "       '34 out of 43', '35 out of 43', '12 out of 43', '7 out of 25',\n",
       "       '11 out of 30', '28 out of 56', '19 out of 35', '25 out of 40',\n",
       "       '18 out of 42', '6 out of 34', '3 out of 9', '16 out of 41',\n",
       "       '11 out of 38', '15 out of 38', '15 out of 35', '13 out of 23',\n",
       "       '22 out of 22', '28 out of 50', '17 out of 22', '24 out of 52',\n",
       "       '5 out of 35', 'Upper Basement out of 15', '22 out of 35',\n",
       "       '13 out of 54', '6 out of 25', '36 out of 54', '21 out of 39',\n",
       "       '20 out of 25', '59 out of 75', '11 out of 12', '21 out of 29',\n",
       "       '45 out of 76', '11 out of 51', '12 out of 55', '16 out of 63',\n",
       "       '23 out of 41', '13 out of 41', '24 out of 39', '16 out of 39',\n",
       "       '12 out of 52', '51 out of 78', '13 out of 28', '30 out of 44',\n",
       "       '12 out of 17', '21 out of 38', '4 out of 40', '32 out of 61',\n",
       "       '4 out of 32', '30 out of 40', '28 out of 42', '32 out of 68',\n",
       "       '8 out of 53', '9 out of 60', '18 out of 25',\n",
       "       'Lower Basement out of 12', '11 out of 11',\n",
       "       'Lower Basement out of 8', '1 out of 11', 'Ground out of 10',\n",
       "       'Lower Basement out of 14', 'Upper Basement out of 14',\n",
       "       'Lower Basement out of 3', '6 out of 11',\n",
       "       'Lower Basement out of 13', 'Lower Basement out of 5',\n",
       "       '19 out of 25', '3 out of 17', 'Lower Basement out of 11',\n",
       "       'Ground out of 13', '7 out of 23', 'Upper Basement out of 3',\n",
       "       '13 out of 18', 'Ground', '3 out of 60', '6 out of 23',\n",
       "       'Ground out of 11', 'Upper Basement out of 5', '12 out of 32',\n",
       "       '20 out of 24', '31 out of 31', '19 out of 40', '23 out of 23',\n",
       "       '25 out of 26', '27 out of 32', 'Ground out of 9', '18 out of 19',\n",
       "       'Ground out of 20', '12 out of 37', '6 out of 19', '8 out of 24',\n",
       "       '9 out of 32', '14 out of 37', '27 out of 30', '1 out of 33',\n",
       "       'Ground out of 15', '15 out of 37', '25 out of 31', '13 out of 21',\n",
       "       'Ground out of 21', '5 out of 25', '18 out of 32', '17 out of 26',\n",
       "       'Lower Basement out of 4', '27 out of 34', '24 out of 30',\n",
       "       '1 out of 21', '9 out of 40', '4', '11 out of 34', '2 out of 50',\n",
       "       '19 out of 29', '29 out of 32', '21 out of 40', 'Ground out of 19',\n",
       "       'Upper Basement out of 16', '5 out of 32', '1 out of 31',\n",
       "       '2 out of 30', '2 out of 32', '22 out of 32', '29 out of 35',\n",
       "       '13 out of 19', '16 out of 25', '17 out of 23', '4 out of 29',\n",
       "       '1 out of 22', 'Ground out of 18', '5 out of 31', '30 out of 31',\n",
       "       'Upper Basement out of 18', 'Ground out of 40',\n",
       "       'Upper Basement out of 12', '14 out of 16', '1 out of 25',\n",
       "       'Ground out of 32', '25 out of 25', '15 out of 34', '15 out of 24',\n",
       "       '22 out of 23', '17 out of 31', '31 out of 32', 'Ground out of 16',\n",
       "       '24 out of 27', '9 out of 35', '22 out of 26', '22 out of 34',\n",
       "       '3 out of 26', '10 out of 33', '30 out of 33', '25 out of 44',\n",
       "       '5 out of 26', '8 out of 29', '24 out of 38', '24 out of 40',\n",
       "       '32 out of 32', '7 out of 28', '29 out of 45',\n",
       "       'Upper Basement out of 11', '31 out of 35', '1', '16 out of 45',\n",
       "       'Upper Basement out of 6', 'Upper Basement out of 2',\n",
       "       'Ground out of 17', '26 out of 29', '26 out of 45',\n",
       "       'Lower Basement out of 2', '10 out of 35', '35 out of 35',\n",
       "       '27 out of 29', '12 out of 36', '3 out of 42', '3', '22 out of 28',\n",
       "       'Upper Basement out of 1', '28 out of 40', '10 out of 40',\n",
       "       'Lower Basement out of 29', '29 out of 51', '11 out of 33',\n",
       "       '3 out of 24', '12 out of 34', '4 out of 38', '15 out of 51',\n",
       "       '2 out of 26', '10 out of 42', '8 out of 38', '16 out of 35',\n",
       "       '12 out of 26', '30 out of 30', '4 out of 42', '23 out of 25',\n",
       "       '20 out of 43', '4 out of 25', '20 out of 33', '17 out of 51',\n",
       "       '6 out of 32', '18 out of 33', '3 out of 32', '10 out of 38',\n",
       "       '4 out of 41', '14 out of 43', 'Ground out of 30', '8 out of 31',\n",
       "       '20 out of 34', '14 out of 25', '30 out of 35', '23 out of 36',\n",
       "       '14 out of 34', '17 out of 33', '24 out of 24',\n",
       "       'Lower Basement out of 10', '34 out of 42', '6 out of 42',\n",
       "       '7 out of 40', '2 out of 38', '23 out of 33', '19 out of 33',\n",
       "       '8 out of 32', '4 out of 34', '13 out of 35', '25 out of 42',\n",
       "       '4 out of 39', '16 out of 31', '35 out of 42', '7 out of 24',\n",
       "       '8 out of 42', '20 out of 44', '14 out of 36', '9 out of 42',\n",
       "       '27 out of 38', '1 out of 40', '32 out of 35', '22 out of 37',\n",
       "       '9 out of 33', '18 out of 44', 'Lower Basement out of 9',\n",
       "       '7 out of 29', '15 out of 25', '5 out of 38', '17 out of 35',\n",
       "       '14 out of 38', '22 out of 31', '26 out of 40', '6 out of 31',\n",
       "       '23 out of 38', '28 out of 53', '10 out of 39', '4 out of 37',\n",
       "       '26 out of 31', '11 out of 31', 'Lower Basement out of 16',\n",
       "       '25 out of 35', '7 out of 50', '15 out of 29', '14 out of 40',\n",
       "       '11 out of 35', 'Upper Basement out of 29', '5 out of 40',\n",
       "       '5 out of 24', '30 out of 51', '22 out of 36', '19 out of 34',\n",
       "       '29 out of 33', '24 out of 35', 'Ground out of 24', '19 out of 52',\n",
       "       '6 out of 24', '14 out of 42', '4 out of 35', '17 out of 34',\n",
       "       '39 out of 39', '18 out of 40', '21 out of 35', '15 out of 26',\n",
       "       'Upper Basement out of 20', '26 out of 33', '21 out of 34',\n",
       "       'Upper Basement out of 17', '26 out of 38', '13 out of 40',\n",
       "       'Lower Basement out of 1', '31 out of 33', '6 out of 35',\n",
       "       'Lower Basement out of 20', 'Lower Basement out of 50',\n",
       "       '38 out of 40', '1 out of 24', 'Ground out of 27', '16 out of 34',\n",
       "       'Ground out of 31', '3 out of 1', '34 out of 34',\n",
       "       'Upper Basement out of 23', '7 out of 35', '3 out of 2',\n",
       "       '6 out of 2', '17 out of 36', '2 out of 35', '33 out of 35',\n",
       "       '10 out of 45', '32 out of 34', '6 out of 36', '23 out of 45',\n",
       "       '3 out of 40', '14 out of 33', '37 out of 46', '27 out of 35',\n",
       "       '28 out of 33', '27 out of 33', '45 out of 45', '42 out of 45',\n",
       "       '5 out of 44', '20 out of 41', '20 out of 45', '11 out of 45',\n",
       "       '8 out of 35', 'Ground out of 33', '42 out of 43', '32 out of 45',\n",
       "       '2', '25 out of 46', '15 out of 42', '38 out of 41',\n",
       "       '18 out of 45', '26 out of 34', '7 out of 37', '18 out of 36',\n",
       "       '21 out of 43', '28 out of 36', 'Ground out of 25', '4 out of 2',\n",
       "       '31 out of 41', 'Ground out of 26', '17 out of 28', '18 out of 31',\n",
       "       '33 out of 72', '29 out of 44', '9 out of 39', 'Ground out of 22',\n",
       "       '1 out of 35', '7 out of 76', '11 out of 84', 'Ground out of 23',\n",
       "       '33 out of 44', '24 out of 31', '15 out of 33', '6 out of 45',\n",
       "       '32 out of 33', 'Lower Basement out of 23', 'Ground out of 29',\n",
       "       'Lower Basement out of 6', '6', 'Upper Basement out of 13',\n",
       "       '38 out of 38', '1 out of 150', '3 out of 36', '26 out of 43',\n",
       "       '7 out of 56', '13', '26 out of 26', '1 out of 34', '28 out of 39',\n",
       "       '28 out of 28', '4 out of 3', '24 out of 36', '28 out of 29',\n",
       "       '2 out of 67', '3 out of 29', '26 out of 32', '12', '23 out of 26',\n",
       "       'Upper Basement out of 21', '20', '23 out of 29', '25 out of 39',\n",
       "       '1 out of 32', 'Lower Basement out of 18', '5',\n",
       "       'Upper Basement out of 24', '200 out of 200', '33 out of 43',\n",
       "       '35 out of 37', 'Lower Basement out of 15', '2 out of 36',\n",
       "       '5 out of 50', '7 out of 70'], dtype=object)"
      ]
     },
     "execution_count": 101,
     "metadata": {},
     "output_type": "execute_result"
    }
   ],
   "source": [
    "df5['Floor'].unique()"
   ]
  },
  {
   "cell_type": "code",
   "execution_count": 102,
   "id": "5fcfdc27-db41-44b7-bb1d-9b5fdd784d9b",
   "metadata": {},
   "outputs": [
    {
     "data": {
      "text/plain": [
       "count         177697\n",
       "unique           932\n",
       "top       2 out of 4\n",
       "freq           12334\n",
       "Name: Floor, dtype: object"
      ]
     },
     "execution_count": 102,
     "metadata": {},
     "output_type": "execute_result"
    }
   ],
   "source": [
    "df5.Floor.describe()"
   ]
  },
  {
   "cell_type": "code",
   "execution_count": 103,
   "id": "4f1a606a-aa81-4dd3-94c4-0a5f1e874d16",
   "metadata": {},
   "outputs": [
    {
     "name": "stderr",
     "output_type": "stream",
     "text": [
      "C:\\Users\\patel\\AppData\\Local\\Temp\\ipykernel_17820\\441087942.py:21: SettingWithCopyWarning: \n",
      "A value is trying to be set on a copy of a slice from a DataFrame.\n",
      "Try using .loc[row_indexer,col_indexer] = value instead\n",
      "\n",
      "See the caveats in the documentation: https://pandas.pydata.org/pandas-docs/stable/user_guide/indexing.html#returning-a-view-versus-a-copy\n",
      "  df5['Floor_number'] = pd.DataFrame(new_floor)\n"
     ]
    }
   ],
   "source": [
    "floor = list(df5['Floor'])\n",
    "new_floor = []\n",
    "\n",
    "for i in range (len(floor)):\n",
    "    if isinstance(floor[i],str):\n",
    "        if len(floor[i].split()) >=2 :\n",
    "            if \"Upper\" in floor[i]:\n",
    "                new_floor.append(np.nan)\n",
    "            elif \"Lower\" in floor[i]:\n",
    "                new_floor.append(np.nan)\n",
    "            elif \"Ground\" in floor[i]:\n",
    "                new_floor.append(0)\n",
    "            else:\n",
    "                new_floor.append(pd.to_numeric(floor[i].split()[0]))\n",
    "        else:\n",
    "            new_floor.append(0)\n",
    "    else:   \n",
    "        new_floor.append(np.nan)\n",
    "        \n",
    "pd.to_numeric(new_floor)    \n",
    "df5['Floor_number'] = pd.DataFrame(new_floor)"
   ]
  },
  {
   "cell_type": "code",
   "execution_count": 104,
   "id": "2844201d-8ba9-48c9-bf4c-ae2a3df241e1",
   "metadata": {},
   "outputs": [
    {
     "data": {
      "text/plain": [
       "0    10.0\n",
       "1     3.0\n",
       "2    10.0\n",
       "3     1.0\n",
       "4    20.0\n",
       "5     2.0\n",
       "6     4.0\n",
       "7     0.0\n",
       "8     0.0\n",
       "9     3.0\n",
       "Name: Floor_number, dtype: float64"
      ]
     },
     "execution_count": 104,
     "metadata": {},
     "output_type": "execute_result"
    }
   ],
   "source": [
    "df5.Floor_number.head(10)"
   ]
  },
  {
   "cell_type": "code",
   "execution_count": 105,
   "id": "4ffc7939-73a5-4e94-bb8e-4b4c7ce83106",
   "metadata": {},
   "outputs": [
    {
     "data": {
      "text/plain": [
       "9963"
      ]
     },
     "execution_count": 105,
     "metadata": {},
     "output_type": "execute_result"
    }
   ],
   "source": [
    "df5.Floor_number.isnull().sum()"
   ]
  },
  {
   "cell_type": "code",
   "execution_count": 106,
   "id": "b62d8047-ad8a-4e30-a340-1ded4f8c19c8",
   "metadata": {},
   "outputs": [
    {
     "data": {
      "text/plain": [
       "count    174059.000000\n",
       "mean          4.456196\n",
       "std           4.616142\n",
       "min           0.000000\n",
       "25%           2.000000\n",
       "50%           3.000000\n",
       "75%           6.000000\n",
       "max         200.000000\n",
       "Name: Floor_number, dtype: float64"
      ]
     },
     "execution_count": 106,
     "metadata": {},
     "output_type": "execute_result"
    }
   ],
   "source": [
    "df5.Floor_number.describe()"
   ]
  },
  {
   "cell_type": "code",
   "execution_count": 107,
   "id": "274fe052-a304-4ac6-9d1e-4d1aca89883e",
   "metadata": {},
   "outputs": [
    {
     "name": "stderr",
     "output_type": "stream",
     "text": [
      "C:\\Users\\patel\\AppData\\Local\\Temp\\ipykernel_17820\\4160662212.py:1: FutureWarning: A value is trying to be set on a copy of a DataFrame or Series through chained assignment using an inplace method.\n",
      "The behavior will change in pandas 3.0. This inplace method will never work because the intermediate object on which we are setting values always behaves as a copy.\n",
      "\n",
      "For example, when doing 'df[col].method(value, inplace=True)', try using 'df.method({col: value}, inplace=True)' or df[col] = df[col].method(value) instead, to perform the operation inplace on the original object.\n",
      "\n",
      "\n",
      "  df5.Floor_number.fillna(df5.Floor_number.mean(),inplace=True)\n",
      "C:\\Users\\patel\\AppData\\Local\\Temp\\ipykernel_17820\\4160662212.py:1: SettingWithCopyWarning: \n",
      "A value is trying to be set on a copy of a slice from a DataFrame\n",
      "\n",
      "See the caveats in the documentation: https://pandas.pydata.org/pandas-docs/stable/user_guide/indexing.html#returning-a-view-versus-a-copy\n",
      "  df5.Floor_number.fillna(df5.Floor_number.mean(),inplace=True)\n"
     ]
    }
   ],
   "source": [
    "df5.Floor_number.fillna(df5.Floor_number.mean(),inplace=True)"
   ]
  },
  {
   "cell_type": "code",
   "execution_count": 108,
   "id": "944a334e-f0e8-48a3-a887-149a363abac8",
   "metadata": {},
   "outputs": [
    {
     "data": {
      "text/plain": [
       "0"
      ]
     },
     "execution_count": 108,
     "metadata": {},
     "output_type": "execute_result"
    }
   ],
   "source": [
    "df5.Floor_number.isnull().sum()"
   ]
  },
  {
   "cell_type": "code",
   "execution_count": 109,
   "id": "c38c3596-8809-4617-908e-9825a82a2fb3",
   "metadata": {},
   "outputs": [
    {
     "name": "stderr",
     "output_type": "stream",
     "text": [
      "C:\\Users\\patel\\AppData\\Local\\Temp\\ipykernel_17820\\3336062715.py:1: SettingWithCopyWarning: \n",
      "A value is trying to be set on a copy of a slice from a DataFrame.\n",
      "Try using .loc[row_indexer,col_indexer] = value instead\n",
      "\n",
      "See the caveats in the documentation: https://pandas.pydata.org/pandas-docs/stable/user_guide/indexing.html#returning-a-view-versus-a-copy\n",
      "  df5['zscore_floor'] = (df5.Floor_number - df5.Floor_number.mean()) / df5.Floor_number.std()\n"
     ]
    }
   ],
   "source": [
    "df5['zscore_floor'] = (df5.Floor_number - df5.Floor_number.mean()) / df5.Floor_number.std()"
   ]
  },
  {
   "cell_type": "code",
   "execution_count": 110,
   "id": "a61c2da8-41c3-4aac-a732-5d4d7b6e9ff1",
   "metadata": {},
   "outputs": [
    {
     "data": {
      "text/plain": [
       "(1284, 27)"
      ]
     },
     "execution_count": 110,
     "metadata": {},
     "output_type": "execute_result"
    }
   ],
   "source": [
    "Outliers = df5[(df5.zscore_floor>4)|(df5.zscore_floor<-4)]\n",
    "Outliers.shape"
   ]
  },
  {
   "cell_type": "code",
   "execution_count": 111,
   "id": "077fb656-0053-4dfb-bde3-27dce76bc46e",
   "metadata": {},
   "outputs": [
    {
     "data": {
      "text/plain": [
       "(182738, 27)"
      ]
     },
     "execution_count": 111,
     "metadata": {},
     "output_type": "execute_result"
    }
   ],
   "source": [
    "df6 = df5[(df5.zscore_floor>=-4)&(df5.zscore_floor<=4)]\n",
    "df6.shape"
   ]
  },
  {
   "cell_type": "code",
   "execution_count": 112,
   "id": "6be59f20-9ccf-475f-88d2-f04fa4758c0e",
   "metadata": {},
   "outputs": [
    {
     "name": "stderr",
     "output_type": "stream",
     "text": [
      "C:\\Users\\patel\\AppData\\Local\\Temp\\ipykernel_17820\\1767528180.py:1: SettingWithCopyWarning: \n",
      "A value is trying to be set on a copy of a slice from a DataFrame\n",
      "\n",
      "See the caveats in the documentation: https://pandas.pydata.org/pandas-docs/stable/user_guide/indexing.html#returning-a-view-versus-a-copy\n",
      "  df6.drop(['Society'],axis=1,inplace=True)\n"
     ]
    }
   ],
   "source": [
    "df6.drop(['Society'],axis=1,inplace=True)"
   ]
  },
  {
   "cell_type": "code",
   "execution_count": 113,
   "id": "9b426e02-01bf-4697-98b7-d3cecb690cbe",
   "metadata": {},
   "outputs": [
    {
     "data": {
      "text/plain": [
       "(182738, 26)"
      ]
     },
     "execution_count": 113,
     "metadata": {},
     "output_type": "execute_result"
    }
   ],
   "source": [
    "df6.shape"
   ]
  },
  {
   "cell_type": "code",
   "execution_count": 114,
   "id": "b5010293-13c7-4b31-a106-a08536a87837",
   "metadata": {},
   "outputs": [
    {
     "data": {
      "text/plain": [
       "99488"
      ]
     },
     "execution_count": 114,
     "metadata": {},
     "output_type": "execute_result"
    }
   ],
   "source": [
    "df6['Car Parking'].isnull().sum()"
   ]
  },
  {
   "cell_type": "code",
   "execution_count": 115,
   "id": "85deef7e-edc5-40f2-8273-83630bc7d0f9",
   "metadata": {},
   "outputs": [
    {
     "name": "stderr",
     "output_type": "stream",
     "text": [
      "C:\\Users\\patel\\AppData\\Local\\Temp\\ipykernel_17820\\588827575.py:1: SettingWithCopyWarning: \n",
      "A value is trying to be set on a copy of a slice from a DataFrame\n",
      "\n",
      "See the caveats in the documentation: https://pandas.pydata.org/pandas-docs/stable/user_guide/indexing.html#returning-a-view-versus-a-copy\n",
      "  df6.drop(['Car Parking'],axis=1,inplace=True)\n"
     ]
    }
   ],
   "source": [
    "df6.drop(['Car Parking'],axis=1,inplace=True)"
   ]
  },
  {
   "cell_type": "code",
   "execution_count": 116,
   "id": "be95de6b-70c8-4333-b67f-2a0ef62a4c65",
   "metadata": {},
   "outputs": [
    {
     "data": {
      "text/plain": [
       "(182738, 25)"
      ]
     },
     "execution_count": 116,
     "metadata": {},
     "output_type": "execute_result"
    }
   ],
   "source": [
    "df6.shape"
   ]
  },
  {
   "cell_type": "code",
   "execution_count": 117,
   "id": "70f51117-cdff-4ce9-9243-b2a327a33b97",
   "metadata": {},
   "outputs": [
    {
     "data": {
      "text/plain": [
       "105927"
      ]
     },
     "execution_count": 117,
     "metadata": {},
     "output_type": "execute_result"
    }
   ],
   "source": [
    "df6['Super Area'].isnull().sum()"
   ]
  },
  {
   "cell_type": "code",
   "execution_count": 118,
   "id": "0cda3a32-d5c5-455b-aa0e-47523a167956",
   "metadata": {},
   "outputs": [
    {
     "name": "stderr",
     "output_type": "stream",
     "text": [
      "C:\\Users\\patel\\AppData\\Local\\Temp\\ipykernel_17820\\1730187119.py:1: SettingWithCopyWarning: \n",
      "A value is trying to be set on a copy of a slice from a DataFrame\n",
      "\n",
      "See the caveats in the documentation: https://pandas.pydata.org/pandas-docs/stable/user_guide/indexing.html#returning-a-view-versus-a-copy\n",
      "  df6.drop(['Super Area'],axis=1,inplace=True)\n"
     ]
    }
   ],
   "source": [
    "df6.drop(['Super Area'],axis=1,inplace=True)"
   ]
  },
  {
   "cell_type": "code",
   "execution_count": 119,
   "id": "a498f971-2db8-47fe-9bee-0b870cb4c4d8",
   "metadata": {},
   "outputs": [
    {
     "data": {
      "text/plain": [
       "(182738, 24)"
      ]
     },
     "execution_count": 119,
     "metadata": {},
     "output_type": "execute_result"
    }
   ],
   "source": [
    "df6.shape"
   ]
  },
  {
   "cell_type": "code",
   "execution_count": 120,
   "id": "b748206a-31f0-46d0-95f0-98c470e0ae24",
   "metadata": {},
   "outputs": [
    {
     "name": "stdout",
     "output_type": "stream",
     "text": [
      "['500 sqft' '473 sqft' '779 sqft' ... '1634 sqft' '164 sqyrd' '136 sqft']\n"
     ]
    }
   ],
   "source": [
    "print(df6['Carpet Area'].unique())"
   ]
  },
  {
   "cell_type": "code",
   "execution_count": 121,
   "id": "629b393f-6f65-4360-aa57-a3ab5cd8286f",
   "metadata": {},
   "outputs": [
    {
     "name": "stderr",
     "output_type": "stream",
     "text": [
      "C:\\Users\\patel\\AppData\\Local\\Temp\\ipykernel_17820\\915233473.py:15: SettingWithCopyWarning: \n",
      "A value is trying to be set on a copy of a slice from a DataFrame.\n",
      "Try using .loc[row_indexer,col_indexer] = value instead\n",
      "\n",
      "See the caveats in the documentation: https://pandas.pydata.org/pandas-docs/stable/user_guide/indexing.html#returning-a-view-versus-a-copy\n",
      "  df6['Carpet_area(sqft)'] = pd.DataFrame(new_carpet_area)\n"
     ]
    }
   ],
   "source": [
    "carpet_area = list(df6['Carpet Area'])\n",
    "new_carpet_area = []\n",
    "\n",
    "for i in range (len(carpet_area)):\n",
    "    if isinstance(carpet_area[i],str):\n",
    "        if len(carpet_area[i].split()) <= 2:\n",
    "            if \"sqyrd\" in carpet_area[i]:\n",
    "                new_carpet_area.append(pd.to_numeric(carpet_area[i].split()[0])*9)\n",
    "            else:\n",
    "                new_carpet_area.append(pd.to_numeric(carpet_area[i].split()[0]))\n",
    "        else:\n",
    "            new_carpet_area.append(np.nan)\n",
    "    else:\n",
    "            new_carpet_area.append(np.nan)\n",
    "df6['Carpet_area(sqft)'] = pd.DataFrame(new_carpet_area)"
   ]
  },
  {
   "cell_type": "code",
   "execution_count": 122,
   "id": "821decb3-c735-450e-8df5-6eee11b3aa80",
   "metadata": {},
   "outputs": [
    {
     "data": {
      "text/plain": [
       "count    103343.000000\n",
       "mean       1241.276294\n",
       "std        2543.133883\n",
       "min           1.000000\n",
       "25%         787.000000\n",
       "50%        1060.000000\n",
       "75%        1500.000000\n",
       "max      709222.000000\n",
       "Name: Carpet_area(sqft), dtype: float64"
      ]
     },
     "execution_count": 122,
     "metadata": {},
     "output_type": "execute_result"
    }
   ],
   "source": [
    "df6['Carpet_area(sqft)'].describe()"
   ]
  },
  {
   "cell_type": "code",
   "execution_count": 123,
   "id": "e4b40de0-dab3-4959-9222-cc20cbb3bfa4",
   "metadata": {},
   "outputs": [
    {
     "data": {
      "text/plain": [
       "79395"
      ]
     },
     "execution_count": 123,
     "metadata": {},
     "output_type": "execute_result"
    }
   ],
   "source": [
    "df6['Carpet_area(sqft)'].isnull().sum()"
   ]
  },
  {
   "cell_type": "code",
   "execution_count": 124,
   "id": "22397316-8fc7-4912-a220-3128e51fc1f6",
   "metadata": {},
   "outputs": [
    {
     "name": "stderr",
     "output_type": "stream",
     "text": [
      "C:\\Users\\patel\\AppData\\Local\\Temp\\ipykernel_17820\\1226629162.py:1: SettingWithCopyWarning: \n",
      "A value is trying to be set on a copy of a slice from a DataFrame\n",
      "\n",
      "See the caveats in the documentation: https://pandas.pydata.org/pandas-docs/stable/user_guide/indexing.html#returning-a-view-versus-a-copy\n",
      "  df6.dropna(subset = ['Carpet_area(sqft)'],axis=0,inplace=True)\n"
     ]
    }
   ],
   "source": [
    "df6.dropna(subset = ['Carpet_area(sqft)'],axis=0,inplace=True)"
   ]
  },
  {
   "cell_type": "code",
   "execution_count": 125,
   "id": "58d146b9-7b95-4637-a161-3bf0bf4bf1bb",
   "metadata": {},
   "outputs": [
    {
     "data": {
      "text/plain": [
       "(103343, 25)"
      ]
     },
     "execution_count": 125,
     "metadata": {},
     "output_type": "execute_result"
    }
   ],
   "source": [
    "df6.shape"
   ]
  },
  {
   "cell_type": "code",
   "execution_count": 126,
   "id": "9b716122-868c-43bd-8220-db84d4fc72be",
   "metadata": {},
   "outputs": [
    {
     "data": {
      "text/plain": [
       "0"
      ]
     },
     "execution_count": 126,
     "metadata": {},
     "output_type": "execute_result"
    }
   ],
   "source": [
    "df6['Carpet_area(sqft)'].isnull().sum()"
   ]
  },
  {
   "cell_type": "code",
   "execution_count": 127,
   "id": "8c8a7691-e4ec-4bf3-885e-3aa74a3415ec",
   "metadata": {},
   "outputs": [
    {
     "data": {
      "text/plain": [
       "count    103343.000000\n",
       "mean       1241.276294\n",
       "std        2543.133883\n",
       "min           1.000000\n",
       "25%         787.000000\n",
       "50%        1060.000000\n",
       "75%        1500.000000\n",
       "max      709222.000000\n",
       "Name: Carpet_area(sqft), dtype: float64"
      ]
     },
     "execution_count": 127,
     "metadata": {},
     "output_type": "execute_result"
    }
   ],
   "source": [
    "df6['Carpet_area(sqft)'].describe()"
   ]
  },
  {
   "cell_type": "code",
   "execution_count": 128,
   "id": "ed9a535e-5328-43f9-876f-5f1a978aa91b",
   "metadata": {},
   "outputs": [
    {
     "name": "stderr",
     "output_type": "stream",
     "text": [
      "C:\\Users\\patel\\AppData\\Local\\Temp\\ipykernel_17820\\2098192114.py:1: SettingWithCopyWarning: \n",
      "A value is trying to be set on a copy of a slice from a DataFrame.\n",
      "Try using .loc[row_indexer,col_indexer] = value instead\n",
      "\n",
      "See the caveats in the documentation: https://pandas.pydata.org/pandas-docs/stable/user_guide/indexing.html#returning-a-view-versus-a-copy\n",
      "  df6['zscore_carpetarea'] = (df6['Carpet_area(sqft)'] -  df6['Carpet_area(sqft)'].mean()) /  df6['Carpet_area(sqft)'] .std()\n"
     ]
    }
   ],
   "source": [
    "df6['zscore_carpetarea'] = (df6['Carpet_area(sqft)'] -  df6['Carpet_area(sqft)'].mean()) /  df6['Carpet_area(sqft)'] .std() "
   ]
  },
  {
   "cell_type": "code",
   "execution_count": 129,
   "id": "66925e2d-8532-46e7-8a39-b74105302076",
   "metadata": {},
   "outputs": [
    {
     "data": {
      "text/plain": [
       "(43, 26)"
      ]
     },
     "execution_count": 129,
     "metadata": {},
     "output_type": "execute_result"
    }
   ],
   "source": [
    "Outlier = df6[(df6.zscore_carpetarea >4)|(df6.zscore_carpetarea <-4)]\n",
    "Outlier.shape"
   ]
  },
  {
   "cell_type": "code",
   "execution_count": 130,
   "id": "e4ddf168-f9b4-414f-8319-4fd30bbc5c0e",
   "metadata": {},
   "outputs": [
    {
     "data": {
      "text/plain": [
       "(103343, 26)"
      ]
     },
     "execution_count": 130,
     "metadata": {},
     "output_type": "execute_result"
    }
   ],
   "source": [
    "df7 = df6[(df6.zscore_carpetarea >= -4)|(df6.zscore_carpetarea <= 4)]\n",
    "df7.shape"
   ]
  },
  {
   "cell_type": "code",
   "execution_count": 131,
   "id": "00dfdf41-6f16-475f-aa1d-0dbee4d97a11",
   "metadata": {},
   "outputs": [
    {
     "data": {
      "text/plain": [
       "Index(['Amount(in rupees)', 'Carpet Area', 'Floor', 'Transaction',\n",
       "       'Furnishing', 'Bathroom', 'Balcony', 'Ownership', 'Dimensions',\n",
       "       'Plot Area', 'Title [BHK]', 'location_freq_encoded', 'zscore_bathroom',\n",
       "       'zscore_balcony', 'zscore_title', 'Other', 'Rent/Lease', 'Resale',\n",
       "       'Semi-Furnished', 'Unfurnished', 'Amount', 'zscore_amount',\n",
       "       'Floor_number', 'zscore_floor', 'Carpet_area(sqft)',\n",
       "       'zscore_carpetarea'],\n",
       "      dtype='object')"
      ]
     },
     "execution_count": 131,
     "metadata": {},
     "output_type": "execute_result"
    }
   ],
   "source": [
    "df7.columns"
   ]
  },
  {
   "cell_type": "code",
   "execution_count": 132,
   "id": "b585652b-3744-4ece-b219-d65c37adf3d0",
   "metadata": {},
   "outputs": [],
   "source": [
    "df7.drop(['Amount(in rupees)','Carpet Area','Floor','Transaction','Furnishing'],axis=1,inplace=True)"
   ]
  },
  {
   "cell_type": "code",
   "execution_count": 133,
   "id": "cb6d9a05-7145-4696-9dea-85c0dcc74db7",
   "metadata": {},
   "outputs": [
    {
     "data": {
      "text/plain": [
       "Index(['Bathroom', 'Balcony', 'Ownership', 'Dimensions', 'Plot Area',\n",
       "       'Title [BHK]', 'location_freq_encoded', 'zscore_bathroom',\n",
       "       'zscore_balcony', 'zscore_title', 'Other', 'Rent/Lease', 'Resale',\n",
       "       'Semi-Furnished', 'Unfurnished', 'Amount', 'zscore_amount',\n",
       "       'Floor_number', 'zscore_floor', 'Carpet_area(sqft)',\n",
       "       'zscore_carpetarea'],\n",
       "      dtype='object')"
      ]
     },
     "execution_count": 133,
     "metadata": {},
     "output_type": "execute_result"
    }
   ],
   "source": [
    "df7.columns"
   ]
  },
  {
   "cell_type": "code",
   "execution_count": 134,
   "id": "65743f1b-a057-465a-b8ff-da38e3465067",
   "metadata": {},
   "outputs": [
    {
     "data": {
      "text/plain": [
       "(103343, 21)"
      ]
     },
     "execution_count": 134,
     "metadata": {},
     "output_type": "execute_result"
    }
   ],
   "source": [
    "df7.shape"
   ]
  },
  {
   "cell_type": "code",
   "execution_count": 135,
   "id": "a3376021-2df1-44c1-86b6-63a3917fa979",
   "metadata": {},
   "outputs": [],
   "source": [
    "# df7 = pd.concat([df6,'transaction','furnishing'],axis=1)\n",
    "# df7.shape"
   ]
  },
  {
   "cell_type": "code",
   "execution_count": 136,
   "id": "5d0a9a94-43b5-4ab1-bcfb-d56866115272",
   "metadata": {},
   "outputs": [
    {
     "data": {
      "text/plain": [
       "Index(['Bathroom', 'Balcony', 'Ownership', 'Dimensions', 'Plot Area',\n",
       "       'Title [BHK]', 'location_freq_encoded', 'zscore_bathroom',\n",
       "       'zscore_balcony', 'zscore_title', 'Other', 'Rent/Lease', 'Resale',\n",
       "       'Semi-Furnished', 'Unfurnished', 'Amount', 'zscore_amount',\n",
       "       'Floor_number', 'zscore_floor', 'Carpet_area(sqft)',\n",
       "       'zscore_carpetarea'],\n",
       "      dtype='object')"
      ]
     },
     "execution_count": 136,
     "metadata": {},
     "output_type": "execute_result"
    }
   ],
   "source": [
    "df7.columns"
   ]
  },
  {
   "cell_type": "code",
   "execution_count": 137,
   "id": "c9d42068-b5b6-46dd-8b9c-7c717a377c06",
   "metadata": {},
   "outputs": [
    {
     "data": {
      "text/plain": [
       "Index(['Bathroom', 'Balcony', 'Ownership', 'Dimensions', 'Plot Area',\n",
       "       'Title [BHK]', 'location_freq_encoded', 'Other', 'Rent/Lease', 'Resale',\n",
       "       'Semi-Furnished', 'Unfurnished', 'Floor_number', 'Carpet_area(sqft)'],\n",
       "      dtype='object')"
      ]
     },
     "execution_count": 137,
     "metadata": {},
     "output_type": "execute_result"
    }
   ],
   "source": [
    "X = df7.drop(['Amount','zscore_amount','zscore_floor','zscore_carpetarea','zscore_bathroom', 'zscore_balcony',\n",
    "       'zscore_title',],axis=1)\n",
    "X.columns"
   ]
  },
  {
   "cell_type": "code",
   "execution_count": 138,
   "id": "b86c4c99-0086-4acc-80f3-0ad277a444b6",
   "metadata": {},
   "outputs": [
    {
     "data": {
      "text/plain": [
       "Bathroom                      0\n",
       "Balcony                       0\n",
       "Ownership                     0\n",
       "Dimensions               103343\n",
       "Plot Area                103343\n",
       "Title [BHK]                   0\n",
       "location_freq_encoded         0\n",
       "zscore_bathroom               0\n",
       "zscore_balcony                0\n",
       "zscore_title                  0\n",
       "Other                         0\n",
       "Rent/Lease                    0\n",
       "Resale                        0\n",
       "Semi-Furnished                0\n",
       "Unfurnished                   0\n",
       "Amount                        0\n",
       "zscore_amount                 0\n",
       "Floor_number                  0\n",
       "zscore_floor                  0\n",
       "Carpet_area(sqft)             0\n",
       "zscore_carpetarea             0\n",
       "dtype: int64"
      ]
     },
     "execution_count": 138,
     "metadata": {},
     "output_type": "execute_result"
    }
   ],
   "source": [
    "df7.isnull().sum()"
   ]
  },
  {
   "cell_type": "code",
   "execution_count": 139,
   "id": "eb7d67a0-b560-4c70-b282-aedecc22c268",
   "metadata": {},
   "outputs": [],
   "source": [
    "y = df7.Amount"
   ]
  },
  {
   "cell_type": "code",
   "execution_count": 140,
   "id": "a1dcf5e0",
   "metadata": {},
   "outputs": [
    {
     "data": {
      "text/html": [
       "<div>\n",
       "<style scoped>\n",
       "    .dataframe tbody tr th:only-of-type {\n",
       "        vertical-align: middle;\n",
       "    }\n",
       "\n",
       "    .dataframe tbody tr th {\n",
       "        vertical-align: top;\n",
       "    }\n",
       "\n",
       "    .dataframe thead th {\n",
       "        text-align: right;\n",
       "    }\n",
       "</style>\n",
       "<table border=\"1\" class=\"dataframe\">\n",
       "  <thead>\n",
       "    <tr style=\"text-align: right;\">\n",
       "      <th></th>\n",
       "      <th>Bathroom</th>\n",
       "      <th>Balcony</th>\n",
       "      <th>Ownership</th>\n",
       "      <th>Dimensions</th>\n",
       "      <th>Plot Area</th>\n",
       "      <th>Title [BHK]</th>\n",
       "      <th>location_freq_encoded</th>\n",
       "      <th>Other</th>\n",
       "      <th>Rent/Lease</th>\n",
       "      <th>Resale</th>\n",
       "      <th>Semi-Furnished</th>\n",
       "      <th>Unfurnished</th>\n",
       "      <th>Floor_number</th>\n",
       "      <th>Carpet_area(sqft)</th>\n",
       "    </tr>\n",
       "  </thead>\n",
       "  <tbody>\n",
       "    <tr>\n",
       "      <th>0</th>\n",
       "      <td>1.0</td>\n",
       "      <td>2.0</td>\n",
       "      <td>0.0</td>\n",
       "      <td>NaN</td>\n",
       "      <td>NaN</td>\n",
       "      <td>1.0</td>\n",
       "      <td>0.010308</td>\n",
       "      <td>False</td>\n",
       "      <td>False</td>\n",
       "      <td>True</td>\n",
       "      <td>False</td>\n",
       "      <td>True</td>\n",
       "      <td>10.0</td>\n",
       "      <td>500.0</td>\n",
       "    </tr>\n",
       "    <tr>\n",
       "      <th>1</th>\n",
       "      <td>2.0</td>\n",
       "      <td>2.0</td>\n",
       "      <td>1.0</td>\n",
       "      <td>NaN</td>\n",
       "      <td>NaN</td>\n",
       "      <td>2.0</td>\n",
       "      <td>0.010308</td>\n",
       "      <td>False</td>\n",
       "      <td>False</td>\n",
       "      <td>True</td>\n",
       "      <td>True</td>\n",
       "      <td>False</td>\n",
       "      <td>3.0</td>\n",
       "      <td>473.0</td>\n",
       "    </tr>\n",
       "    <tr>\n",
       "      <th>2</th>\n",
       "      <td>2.0</td>\n",
       "      <td>2.0</td>\n",
       "      <td>1.0</td>\n",
       "      <td>NaN</td>\n",
       "      <td>NaN</td>\n",
       "      <td>2.0</td>\n",
       "      <td>0.010308</td>\n",
       "      <td>False</td>\n",
       "      <td>False</td>\n",
       "      <td>True</td>\n",
       "      <td>False</td>\n",
       "      <td>True</td>\n",
       "      <td>10.0</td>\n",
       "      <td>779.0</td>\n",
       "    </tr>\n",
       "    <tr>\n",
       "      <th>3</th>\n",
       "      <td>1.0</td>\n",
       "      <td>1.0</td>\n",
       "      <td>0.0</td>\n",
       "      <td>NaN</td>\n",
       "      <td>NaN</td>\n",
       "      <td>1.0</td>\n",
       "      <td>0.010308</td>\n",
       "      <td>False</td>\n",
       "      <td>False</td>\n",
       "      <td>True</td>\n",
       "      <td>False</td>\n",
       "      <td>True</td>\n",
       "      <td>1.0</td>\n",
       "      <td>530.0</td>\n",
       "    </tr>\n",
       "    <tr>\n",
       "      <th>4</th>\n",
       "      <td>2.0</td>\n",
       "      <td>2.0</td>\n",
       "      <td>2.0</td>\n",
       "      <td>NaN</td>\n",
       "      <td>NaN</td>\n",
       "      <td>2.0</td>\n",
       "      <td>0.010308</td>\n",
       "      <td>False</td>\n",
       "      <td>False</td>\n",
       "      <td>True</td>\n",
       "      <td>False</td>\n",
       "      <td>True</td>\n",
       "      <td>20.0</td>\n",
       "      <td>635.0</td>\n",
       "    </tr>\n",
       "    <tr>\n",
       "      <th>...</th>\n",
       "      <td>...</td>\n",
       "      <td>...</td>\n",
       "      <td>...</td>\n",
       "      <td>...</td>\n",
       "      <td>...</td>\n",
       "      <td>...</td>\n",
       "      <td>...</td>\n",
       "      <td>...</td>\n",
       "      <td>...</td>\n",
       "      <td>...</td>\n",
       "      <td>...</td>\n",
       "      <td>...</td>\n",
       "      <td>...</td>\n",
       "      <td>...</td>\n",
       "    </tr>\n",
       "    <tr>\n",
       "      <th>182729</th>\n",
       "      <td>2.0</td>\n",
       "      <td>1.0</td>\n",
       "      <td>0.0</td>\n",
       "      <td>NaN</td>\n",
       "      <td>NaN</td>\n",
       "      <td>1.0</td>\n",
       "      <td>0.012734</td>\n",
       "      <td>False</td>\n",
       "      <td>False</td>\n",
       "      <td>True</td>\n",
       "      <td>False</td>\n",
       "      <td>True</td>\n",
       "      <td>5.0</td>\n",
       "      <td>1200.0</td>\n",
       "    </tr>\n",
       "    <tr>\n",
       "      <th>182730</th>\n",
       "      <td>4.0</td>\n",
       "      <td>1.0</td>\n",
       "      <td>0.0</td>\n",
       "      <td>NaN</td>\n",
       "      <td>NaN</td>\n",
       "      <td>3.0</td>\n",
       "      <td>0.012734</td>\n",
       "      <td>False</td>\n",
       "      <td>False</td>\n",
       "      <td>True</td>\n",
       "      <td>True</td>\n",
       "      <td>False</td>\n",
       "      <td>14.0</td>\n",
       "      <td>1705.0</td>\n",
       "    </tr>\n",
       "    <tr>\n",
       "      <th>182731</th>\n",
       "      <td>1.0</td>\n",
       "      <td>2.0</td>\n",
       "      <td>0.0</td>\n",
       "      <td>NaN</td>\n",
       "      <td>NaN</td>\n",
       "      <td>1.0</td>\n",
       "      <td>0.012734</td>\n",
       "      <td>False</td>\n",
       "      <td>False</td>\n",
       "      <td>True</td>\n",
       "      <td>False</td>\n",
       "      <td>False</td>\n",
       "      <td>4.0</td>\n",
       "      <td>895.0</td>\n",
       "    </tr>\n",
       "    <tr>\n",
       "      <th>182732</th>\n",
       "      <td>1.0</td>\n",
       "      <td>1.0</td>\n",
       "      <td>0.0</td>\n",
       "      <td>NaN</td>\n",
       "      <td>NaN</td>\n",
       "      <td>1.0</td>\n",
       "      <td>0.012734</td>\n",
       "      <td>False</td>\n",
       "      <td>False</td>\n",
       "      <td>True</td>\n",
       "      <td>True</td>\n",
       "      <td>False</td>\n",
       "      <td>2.0</td>\n",
       "      <td>1050.0</td>\n",
       "    </tr>\n",
       "    <tr>\n",
       "      <th>182735</th>\n",
       "      <td>3.0</td>\n",
       "      <td>2.0</td>\n",
       "      <td>1.0</td>\n",
       "      <td>NaN</td>\n",
       "      <td>NaN</td>\n",
       "      <td>3.0</td>\n",
       "      <td>0.012734</td>\n",
       "      <td>False</td>\n",
       "      <td>False</td>\n",
       "      <td>True</td>\n",
       "      <td>False</td>\n",
       "      <td>True</td>\n",
       "      <td>4.0</td>\n",
       "      <td>1250.0</td>\n",
       "    </tr>\n",
       "  </tbody>\n",
       "</table>\n",
       "<p>103343 rows × 14 columns</p>\n",
       "</div>"
      ],
      "text/plain": [
       "        Bathroom  Balcony  Ownership  Dimensions  Plot Area  Title [BHK]  \\\n",
       "0            1.0      2.0        0.0         NaN        NaN          1.0   \n",
       "1            2.0      2.0        1.0         NaN        NaN          2.0   \n",
       "2            2.0      2.0        1.0         NaN        NaN          2.0   \n",
       "3            1.0      1.0        0.0         NaN        NaN          1.0   \n",
       "4            2.0      2.0        2.0         NaN        NaN          2.0   \n",
       "...          ...      ...        ...         ...        ...          ...   \n",
       "182729       2.0      1.0        0.0         NaN        NaN          1.0   \n",
       "182730       4.0      1.0        0.0         NaN        NaN          3.0   \n",
       "182731       1.0      2.0        0.0         NaN        NaN          1.0   \n",
       "182732       1.0      1.0        0.0         NaN        NaN          1.0   \n",
       "182735       3.0      2.0        1.0         NaN        NaN          3.0   \n",
       "\n",
       "        location_freq_encoded  Other  Rent/Lease  Resale  Semi-Furnished  \\\n",
       "0                    0.010308  False       False    True           False   \n",
       "1                    0.010308  False       False    True            True   \n",
       "2                    0.010308  False       False    True           False   \n",
       "3                    0.010308  False       False    True           False   \n",
       "4                    0.010308  False       False    True           False   \n",
       "...                       ...    ...         ...     ...             ...   \n",
       "182729               0.012734  False       False    True           False   \n",
       "182730               0.012734  False       False    True            True   \n",
       "182731               0.012734  False       False    True           False   \n",
       "182732               0.012734  False       False    True            True   \n",
       "182735               0.012734  False       False    True           False   \n",
       "\n",
       "        Unfurnished  Floor_number  Carpet_area(sqft)  \n",
       "0              True          10.0              500.0  \n",
       "1             False           3.0              473.0  \n",
       "2              True          10.0              779.0  \n",
       "3              True           1.0              530.0  \n",
       "4              True          20.0              635.0  \n",
       "...             ...           ...                ...  \n",
       "182729         True           5.0             1200.0  \n",
       "182730        False          14.0             1705.0  \n",
       "182731        False           4.0              895.0  \n",
       "182732        False           2.0             1050.0  \n",
       "182735         True           4.0             1250.0  \n",
       "\n",
       "[103343 rows x 14 columns]"
      ]
     },
     "execution_count": 140,
     "metadata": {},
     "output_type": "execute_result"
    }
   ],
   "source": [
    "X"
   ]
  },
  {
   "cell_type": "code",
   "execution_count": 143,
   "id": "55991b15-9fdc-4f32-bf63-d66656466dcc",
   "metadata": {},
   "outputs": [],
   "source": [
    "from sklearn.model_selection import train_test_split\n",
    "from sklearn.linear_model import LinearRegression\n",
    "from sklearn.ensemble import RandomForestRegressor"
   ]
  },
  {
   "cell_type": "code",
   "execution_count": 144,
   "id": "1b8c4067-af97-4464-80e5-634a50fd3e3b",
   "metadata": {},
   "outputs": [],
   "source": [
    "model = LinearRegression()\n",
    "random_model = RandomForestRegressor()"
   ]
  },
  {
   "cell_type": "code",
   "execution_count": 145,
   "id": "dac021d6-5782-4a64-9a4b-b9ecbe26e6b7",
   "metadata": {},
   "outputs": [],
   "source": [
    "X_train,X_test,y_train,y_test = train_test_split(X,y,test_size=0.3)"
   ]
  },
  {
   "cell_type": "code",
   "execution_count": 146,
   "id": "91e71a09",
   "metadata": {
    "scrolled": true
   },
   "outputs": [
    {
     "data": {
      "text/plain": [
       "Bathroom                     0\n",
       "Balcony                      0\n",
       "Ownership                    0\n",
       "Dimensions               72340\n",
       "Plot Area                72340\n",
       "Title [BHK]                  0\n",
       "location_freq_encoded        0\n",
       "Other                        0\n",
       "Rent/Lease                   0\n",
       "Resale                       0\n",
       "Semi-Furnished               0\n",
       "Unfurnished                  0\n",
       "Floor_number                 0\n",
       "Carpet_area(sqft)            0\n",
       "dtype: int64"
      ]
     },
     "execution_count": 146,
     "metadata": {},
     "output_type": "execute_result"
    }
   ],
   "source": [
    "X_train.isnull().sum()"
   ]
  },
  {
   "cell_type": "code",
   "execution_count": 147,
   "id": "e1476be7",
   "metadata": {},
   "outputs": [
    {
     "data": {
      "text/html": [
       "<div>\n",
       "<style scoped>\n",
       "    .dataframe tbody tr th:only-of-type {\n",
       "        vertical-align: middle;\n",
       "    }\n",
       "\n",
       "    .dataframe tbody tr th {\n",
       "        vertical-align: top;\n",
       "    }\n",
       "\n",
       "    .dataframe thead th {\n",
       "        text-align: right;\n",
       "    }\n",
       "</style>\n",
       "<table border=\"1\" class=\"dataframe\">\n",
       "  <thead>\n",
       "    <tr style=\"text-align: right;\">\n",
       "      <th></th>\n",
       "      <th>Bathroom</th>\n",
       "      <th>Balcony</th>\n",
       "      <th>Ownership</th>\n",
       "      <th>Title [BHK]</th>\n",
       "      <th>location_freq_encoded</th>\n",
       "      <th>Other</th>\n",
       "      <th>Rent/Lease</th>\n",
       "      <th>Resale</th>\n",
       "      <th>Semi-Furnished</th>\n",
       "      <th>Unfurnished</th>\n",
       "      <th>Floor_number</th>\n",
       "      <th>Carpet_area(sqft)</th>\n",
       "    </tr>\n",
       "  </thead>\n",
       "  <tbody>\n",
       "    <tr>\n",
       "      <th>89002</th>\n",
       "      <td>3.0</td>\n",
       "      <td>3.0</td>\n",
       "      <td>1.0</td>\n",
       "      <td>3.0</td>\n",
       "      <td>0.045273</td>\n",
       "      <td>False</td>\n",
       "      <td>False</td>\n",
       "      <td>True</td>\n",
       "      <td>True</td>\n",
       "      <td>False</td>\n",
       "      <td>3.0</td>\n",
       "      <td>870.0</td>\n",
       "    </tr>\n",
       "    <tr>\n",
       "      <th>127996</th>\n",
       "      <td>3.0</td>\n",
       "      <td>1.0</td>\n",
       "      <td>1.0</td>\n",
       "      <td>3.0</td>\n",
       "      <td>0.147170</td>\n",
       "      <td>False</td>\n",
       "      <td>False</td>\n",
       "      <td>True</td>\n",
       "      <td>False</td>\n",
       "      <td>True</td>\n",
       "      <td>8.0</td>\n",
       "      <td>63.0</td>\n",
       "    </tr>\n",
       "    <tr>\n",
       "      <th>62360</th>\n",
       "      <td>3.0</td>\n",
       "      <td>2.0</td>\n",
       "      <td>0.0</td>\n",
       "      <td>3.0</td>\n",
       "      <td>0.107022</td>\n",
       "      <td>False</td>\n",
       "      <td>False</td>\n",
       "      <td>False</td>\n",
       "      <td>False</td>\n",
       "      <td>True</td>\n",
       "      <td>4.0</td>\n",
       "      <td>1300.0</td>\n",
       "    </tr>\n",
       "    <tr>\n",
       "      <th>90011</th>\n",
       "      <td>2.0</td>\n",
       "      <td>2.0</td>\n",
       "      <td>1.0</td>\n",
       "      <td>2.0</td>\n",
       "      <td>0.045273</td>\n",
       "      <td>False</td>\n",
       "      <td>False</td>\n",
       "      <td>False</td>\n",
       "      <td>False</td>\n",
       "      <td>True</td>\n",
       "      <td>2.0</td>\n",
       "      <td>725.0</td>\n",
       "    </tr>\n",
       "    <tr>\n",
       "      <th>102239</th>\n",
       "      <td>2.0</td>\n",
       "      <td>2.0</td>\n",
       "      <td>0.0</td>\n",
       "      <td>2.0</td>\n",
       "      <td>0.119340</td>\n",
       "      <td>False</td>\n",
       "      <td>False</td>\n",
       "      <td>True</td>\n",
       "      <td>False</td>\n",
       "      <td>True</td>\n",
       "      <td>2.0</td>\n",
       "      <td>890.0</td>\n",
       "    </tr>\n",
       "    <tr>\n",
       "      <th>...</th>\n",
       "      <td>...</td>\n",
       "      <td>...</td>\n",
       "      <td>...</td>\n",
       "      <td>...</td>\n",
       "      <td>...</td>\n",
       "      <td>...</td>\n",
       "      <td>...</td>\n",
       "      <td>...</td>\n",
       "      <td>...</td>\n",
       "      <td>...</td>\n",
       "      <td>...</td>\n",
       "      <td>...</td>\n",
       "    </tr>\n",
       "    <tr>\n",
       "      <th>35461</th>\n",
       "      <td>3.0</td>\n",
       "      <td>3.0</td>\n",
       "      <td>1.0</td>\n",
       "      <td>3.0</td>\n",
       "      <td>0.128139</td>\n",
       "      <td>False</td>\n",
       "      <td>False</td>\n",
       "      <td>True</td>\n",
       "      <td>True</td>\n",
       "      <td>False</td>\n",
       "      <td>2.0</td>\n",
       "      <td>1000.0</td>\n",
       "    </tr>\n",
       "    <tr>\n",
       "      <th>58378</th>\n",
       "      <td>3.0</td>\n",
       "      <td>2.0</td>\n",
       "      <td>1.0</td>\n",
       "      <td>3.0</td>\n",
       "      <td>0.107022</td>\n",
       "      <td>False</td>\n",
       "      <td>False</td>\n",
       "      <td>True</td>\n",
       "      <td>True</td>\n",
       "      <td>False</td>\n",
       "      <td>3.0</td>\n",
       "      <td>1296.0</td>\n",
       "    </tr>\n",
       "    <tr>\n",
       "      <th>34884</th>\n",
       "      <td>2.0</td>\n",
       "      <td>2.0</td>\n",
       "      <td>0.0</td>\n",
       "      <td>2.0</td>\n",
       "      <td>0.128139</td>\n",
       "      <td>False</td>\n",
       "      <td>False</td>\n",
       "      <td>True</td>\n",
       "      <td>True</td>\n",
       "      <td>False</td>\n",
       "      <td>1.0</td>\n",
       "      <td>880.0</td>\n",
       "    </tr>\n",
       "    <tr>\n",
       "      <th>141794</th>\n",
       "      <td>2.0</td>\n",
       "      <td>2.0</td>\n",
       "      <td>1.0</td>\n",
       "      <td>3.0</td>\n",
       "      <td>0.147170</td>\n",
       "      <td>False</td>\n",
       "      <td>False</td>\n",
       "      <td>True</td>\n",
       "      <td>True</td>\n",
       "      <td>False</td>\n",
       "      <td>10.0</td>\n",
       "      <td>504.0</td>\n",
       "    </tr>\n",
       "    <tr>\n",
       "      <th>145476</th>\n",
       "      <td>5.0</td>\n",
       "      <td>2.0</td>\n",
       "      <td>1.0</td>\n",
       "      <td>4.0</td>\n",
       "      <td>0.011865</td>\n",
       "      <td>False</td>\n",
       "      <td>False</td>\n",
       "      <td>True</td>\n",
       "      <td>False</td>\n",
       "      <td>True</td>\n",
       "      <td>4.0</td>\n",
       "      <td>540.0</td>\n",
       "    </tr>\n",
       "  </tbody>\n",
       "</table>\n",
       "<p>72340 rows × 12 columns</p>\n",
       "</div>"
      ],
      "text/plain": [
       "        Bathroom  Balcony  Ownership  Title [BHK]  location_freq_encoded  \\\n",
       "89002        3.0      3.0        1.0          3.0               0.045273   \n",
       "127996       3.0      1.0        1.0          3.0               0.147170   \n",
       "62360        3.0      2.0        0.0          3.0               0.107022   \n",
       "90011        2.0      2.0        1.0          2.0               0.045273   \n",
       "102239       2.0      2.0        0.0          2.0               0.119340   \n",
       "...          ...      ...        ...          ...                    ...   \n",
       "35461        3.0      3.0        1.0          3.0               0.128139   \n",
       "58378        3.0      2.0        1.0          3.0               0.107022   \n",
       "34884        2.0      2.0        0.0          2.0               0.128139   \n",
       "141794       2.0      2.0        1.0          3.0               0.147170   \n",
       "145476       5.0      2.0        1.0          4.0               0.011865   \n",
       "\n",
       "        Other  Rent/Lease  Resale  Semi-Furnished  Unfurnished  Floor_number  \\\n",
       "89002   False       False    True            True        False           3.0   \n",
       "127996  False       False    True           False         True           8.0   \n",
       "62360   False       False   False           False         True           4.0   \n",
       "90011   False       False   False           False         True           2.0   \n",
       "102239  False       False    True           False         True           2.0   \n",
       "...       ...         ...     ...             ...          ...           ...   \n",
       "35461   False       False    True            True        False           2.0   \n",
       "58378   False       False    True            True        False           3.0   \n",
       "34884   False       False    True            True        False           1.0   \n",
       "141794  False       False    True            True        False          10.0   \n",
       "145476  False       False    True           False         True           4.0   \n",
       "\n",
       "        Carpet_area(sqft)  \n",
       "89002               870.0  \n",
       "127996               63.0  \n",
       "62360              1300.0  \n",
       "90011               725.0  \n",
       "102239              890.0  \n",
       "...                   ...  \n",
       "35461              1000.0  \n",
       "58378              1296.0  \n",
       "34884               880.0  \n",
       "141794              504.0  \n",
       "145476              540.0  \n",
       "\n",
       "[72340 rows x 12 columns]"
      ]
     },
     "execution_count": 147,
     "metadata": {},
     "output_type": "execute_result"
    }
   ],
   "source": [
    "X_train = X_train.drop(['Dimensions','Plot Area'],axis=1)\n",
    "X_train"
   ]
  },
  {
   "cell_type": "code",
   "execution_count": 148,
   "id": "1918c158-c7c8-4e96-8f4b-21b36d3f5893",
   "metadata": {},
   "outputs": [
    {
     "data": {
      "text/html": [
       "<style>#sk-container-id-1 {\n",
       "  /* Definition of color scheme common for light and dark mode */\n",
       "  --sklearn-color-text: black;\n",
       "  --sklearn-color-line: gray;\n",
       "  /* Definition of color scheme for unfitted estimators */\n",
       "  --sklearn-color-unfitted-level-0: #fff5e6;\n",
       "  --sklearn-color-unfitted-level-1: #f6e4d2;\n",
       "  --sklearn-color-unfitted-level-2: #ffe0b3;\n",
       "  --sklearn-color-unfitted-level-3: chocolate;\n",
       "  /* Definition of color scheme for fitted estimators */\n",
       "  --sklearn-color-fitted-level-0: #f0f8ff;\n",
       "  --sklearn-color-fitted-level-1: #d4ebff;\n",
       "  --sklearn-color-fitted-level-2: #b3dbfd;\n",
       "  --sklearn-color-fitted-level-3: cornflowerblue;\n",
       "\n",
       "  /* Specific color for light theme */\n",
       "  --sklearn-color-text-on-default-background: var(--sg-text-color, var(--theme-code-foreground, var(--jp-content-font-color1, black)));\n",
       "  --sklearn-color-background: var(--sg-background-color, var(--theme-background, var(--jp-layout-color0, white)));\n",
       "  --sklearn-color-border-box: var(--sg-text-color, var(--theme-code-foreground, var(--jp-content-font-color1, black)));\n",
       "  --sklearn-color-icon: #696969;\n",
       "\n",
       "  @media (prefers-color-scheme: dark) {\n",
       "    /* Redefinition of color scheme for dark theme */\n",
       "    --sklearn-color-text-on-default-background: var(--sg-text-color, var(--theme-code-foreground, var(--jp-content-font-color1, white)));\n",
       "    --sklearn-color-background: var(--sg-background-color, var(--theme-background, var(--jp-layout-color0, #111)));\n",
       "    --sklearn-color-border-box: var(--sg-text-color, var(--theme-code-foreground, var(--jp-content-font-color1, white)));\n",
       "    --sklearn-color-icon: #878787;\n",
       "  }\n",
       "}\n",
       "\n",
       "#sk-container-id-1 {\n",
       "  color: var(--sklearn-color-text);\n",
       "}\n",
       "\n",
       "#sk-container-id-1 pre {\n",
       "  padding: 0;\n",
       "}\n",
       "\n",
       "#sk-container-id-1 input.sk-hidden--visually {\n",
       "  border: 0;\n",
       "  clip: rect(1px 1px 1px 1px);\n",
       "  clip: rect(1px, 1px, 1px, 1px);\n",
       "  height: 1px;\n",
       "  margin: -1px;\n",
       "  overflow: hidden;\n",
       "  padding: 0;\n",
       "  position: absolute;\n",
       "  width: 1px;\n",
       "}\n",
       "\n",
       "#sk-container-id-1 div.sk-dashed-wrapped {\n",
       "  border: 1px dashed var(--sklearn-color-line);\n",
       "  margin: 0 0.4em 0.5em 0.4em;\n",
       "  box-sizing: border-box;\n",
       "  padding-bottom: 0.4em;\n",
       "  background-color: var(--sklearn-color-background);\n",
       "}\n",
       "\n",
       "#sk-container-id-1 div.sk-container {\n",
       "  /* jupyter's `normalize.less` sets `[hidden] { display: none; }`\n",
       "     but bootstrap.min.css set `[hidden] { display: none !important; }`\n",
       "     so we also need the `!important` here to be able to override the\n",
       "     default hidden behavior on the sphinx rendered scikit-learn.org.\n",
       "     See: https://github.com/scikit-learn/scikit-learn/issues/21755 */\n",
       "  display: inline-block !important;\n",
       "  position: relative;\n",
       "}\n",
       "\n",
       "#sk-container-id-1 div.sk-text-repr-fallback {\n",
       "  display: none;\n",
       "}\n",
       "\n",
       "div.sk-parallel-item,\n",
       "div.sk-serial,\n",
       "div.sk-item {\n",
       "  /* draw centered vertical line to link estimators */\n",
       "  background-image: linear-gradient(var(--sklearn-color-text-on-default-background), var(--sklearn-color-text-on-default-background));\n",
       "  background-size: 2px 100%;\n",
       "  background-repeat: no-repeat;\n",
       "  background-position: center center;\n",
       "}\n",
       "\n",
       "/* Parallel-specific style estimator block */\n",
       "\n",
       "#sk-container-id-1 div.sk-parallel-item::after {\n",
       "  content: \"\";\n",
       "  width: 100%;\n",
       "  border-bottom: 2px solid var(--sklearn-color-text-on-default-background);\n",
       "  flex-grow: 1;\n",
       "}\n",
       "\n",
       "#sk-container-id-1 div.sk-parallel {\n",
       "  display: flex;\n",
       "  align-items: stretch;\n",
       "  justify-content: center;\n",
       "  background-color: var(--sklearn-color-background);\n",
       "  position: relative;\n",
       "}\n",
       "\n",
       "#sk-container-id-1 div.sk-parallel-item {\n",
       "  display: flex;\n",
       "  flex-direction: column;\n",
       "}\n",
       "\n",
       "#sk-container-id-1 div.sk-parallel-item:first-child::after {\n",
       "  align-self: flex-end;\n",
       "  width: 50%;\n",
       "}\n",
       "\n",
       "#sk-container-id-1 div.sk-parallel-item:last-child::after {\n",
       "  align-self: flex-start;\n",
       "  width: 50%;\n",
       "}\n",
       "\n",
       "#sk-container-id-1 div.sk-parallel-item:only-child::after {\n",
       "  width: 0;\n",
       "}\n",
       "\n",
       "/* Serial-specific style estimator block */\n",
       "\n",
       "#sk-container-id-1 div.sk-serial {\n",
       "  display: flex;\n",
       "  flex-direction: column;\n",
       "  align-items: center;\n",
       "  background-color: var(--sklearn-color-background);\n",
       "  padding-right: 1em;\n",
       "  padding-left: 1em;\n",
       "}\n",
       "\n",
       "\n",
       "/* Toggleable style: style used for estimator/Pipeline/ColumnTransformer box that is\n",
       "clickable and can be expanded/collapsed.\n",
       "- Pipeline and ColumnTransformer use this feature and define the default style\n",
       "- Estimators will overwrite some part of the style using the `sk-estimator` class\n",
       "*/\n",
       "\n",
       "/* Pipeline and ColumnTransformer style (default) */\n",
       "\n",
       "#sk-container-id-1 div.sk-toggleable {\n",
       "  /* Default theme specific background. It is overwritten whether we have a\n",
       "  specific estimator or a Pipeline/ColumnTransformer */\n",
       "  background-color: var(--sklearn-color-background);\n",
       "}\n",
       "\n",
       "/* Toggleable label */\n",
       "#sk-container-id-1 label.sk-toggleable__label {\n",
       "  cursor: pointer;\n",
       "  display: block;\n",
       "  width: 100%;\n",
       "  margin-bottom: 0;\n",
       "  padding: 0.5em;\n",
       "  box-sizing: border-box;\n",
       "  text-align: center;\n",
       "}\n",
       "\n",
       "#sk-container-id-1 label.sk-toggleable__label-arrow:before {\n",
       "  /* Arrow on the left of the label */\n",
       "  content: \"▸\";\n",
       "  float: left;\n",
       "  margin-right: 0.25em;\n",
       "  color: var(--sklearn-color-icon);\n",
       "}\n",
       "\n",
       "#sk-container-id-1 label.sk-toggleable__label-arrow:hover:before {\n",
       "  color: var(--sklearn-color-text);\n",
       "}\n",
       "\n",
       "/* Toggleable content - dropdown */\n",
       "\n",
       "#sk-container-id-1 div.sk-toggleable__content {\n",
       "  max-height: 0;\n",
       "  max-width: 0;\n",
       "  overflow: hidden;\n",
       "  text-align: left;\n",
       "  /* unfitted */\n",
       "  background-color: var(--sklearn-color-unfitted-level-0);\n",
       "}\n",
       "\n",
       "#sk-container-id-1 div.sk-toggleable__content.fitted {\n",
       "  /* fitted */\n",
       "  background-color: var(--sklearn-color-fitted-level-0);\n",
       "}\n",
       "\n",
       "#sk-container-id-1 div.sk-toggleable__content pre {\n",
       "  margin: 0.2em;\n",
       "  border-radius: 0.25em;\n",
       "  color: var(--sklearn-color-text);\n",
       "  /* unfitted */\n",
       "  background-color: var(--sklearn-color-unfitted-level-0);\n",
       "}\n",
       "\n",
       "#sk-container-id-1 div.sk-toggleable__content.fitted pre {\n",
       "  /* unfitted */\n",
       "  background-color: var(--sklearn-color-fitted-level-0);\n",
       "}\n",
       "\n",
       "#sk-container-id-1 input.sk-toggleable__control:checked~div.sk-toggleable__content {\n",
       "  /* Expand drop-down */\n",
       "  max-height: 200px;\n",
       "  max-width: 100%;\n",
       "  overflow: auto;\n",
       "}\n",
       "\n",
       "#sk-container-id-1 input.sk-toggleable__control:checked~label.sk-toggleable__label-arrow:before {\n",
       "  content: \"▾\";\n",
       "}\n",
       "\n",
       "/* Pipeline/ColumnTransformer-specific style */\n",
       "\n",
       "#sk-container-id-1 div.sk-label input.sk-toggleable__control:checked~label.sk-toggleable__label {\n",
       "  color: var(--sklearn-color-text);\n",
       "  background-color: var(--sklearn-color-unfitted-level-2);\n",
       "}\n",
       "\n",
       "#sk-container-id-1 div.sk-label.fitted input.sk-toggleable__control:checked~label.sk-toggleable__label {\n",
       "  background-color: var(--sklearn-color-fitted-level-2);\n",
       "}\n",
       "\n",
       "/* Estimator-specific style */\n",
       "\n",
       "/* Colorize estimator box */\n",
       "#sk-container-id-1 div.sk-estimator input.sk-toggleable__control:checked~label.sk-toggleable__label {\n",
       "  /* unfitted */\n",
       "  background-color: var(--sklearn-color-unfitted-level-2);\n",
       "}\n",
       "\n",
       "#sk-container-id-1 div.sk-estimator.fitted input.sk-toggleable__control:checked~label.sk-toggleable__label {\n",
       "  /* fitted */\n",
       "  background-color: var(--sklearn-color-fitted-level-2);\n",
       "}\n",
       "\n",
       "#sk-container-id-1 div.sk-label label.sk-toggleable__label,\n",
       "#sk-container-id-1 div.sk-label label {\n",
       "  /* The background is the default theme color */\n",
       "  color: var(--sklearn-color-text-on-default-background);\n",
       "}\n",
       "\n",
       "/* On hover, darken the color of the background */\n",
       "#sk-container-id-1 div.sk-label:hover label.sk-toggleable__label {\n",
       "  color: var(--sklearn-color-text);\n",
       "  background-color: var(--sklearn-color-unfitted-level-2);\n",
       "}\n",
       "\n",
       "/* Label box, darken color on hover, fitted */\n",
       "#sk-container-id-1 div.sk-label.fitted:hover label.sk-toggleable__label.fitted {\n",
       "  color: var(--sklearn-color-text);\n",
       "  background-color: var(--sklearn-color-fitted-level-2);\n",
       "}\n",
       "\n",
       "/* Estimator label */\n",
       "\n",
       "#sk-container-id-1 div.sk-label label {\n",
       "  font-family: monospace;\n",
       "  font-weight: bold;\n",
       "  display: inline-block;\n",
       "  line-height: 1.2em;\n",
       "}\n",
       "\n",
       "#sk-container-id-1 div.sk-label-container {\n",
       "  text-align: center;\n",
       "}\n",
       "\n",
       "/* Estimator-specific */\n",
       "#sk-container-id-1 div.sk-estimator {\n",
       "  font-family: monospace;\n",
       "  border: 1px dotted var(--sklearn-color-border-box);\n",
       "  border-radius: 0.25em;\n",
       "  box-sizing: border-box;\n",
       "  margin-bottom: 0.5em;\n",
       "  /* unfitted */\n",
       "  background-color: var(--sklearn-color-unfitted-level-0);\n",
       "}\n",
       "\n",
       "#sk-container-id-1 div.sk-estimator.fitted {\n",
       "  /* fitted */\n",
       "  background-color: var(--sklearn-color-fitted-level-0);\n",
       "}\n",
       "\n",
       "/* on hover */\n",
       "#sk-container-id-1 div.sk-estimator:hover {\n",
       "  /* unfitted */\n",
       "  background-color: var(--sklearn-color-unfitted-level-2);\n",
       "}\n",
       "\n",
       "#sk-container-id-1 div.sk-estimator.fitted:hover {\n",
       "  /* fitted */\n",
       "  background-color: var(--sklearn-color-fitted-level-2);\n",
       "}\n",
       "\n",
       "/* Specification for estimator info (e.g. \"i\" and \"?\") */\n",
       "\n",
       "/* Common style for \"i\" and \"?\" */\n",
       "\n",
       ".sk-estimator-doc-link,\n",
       "a:link.sk-estimator-doc-link,\n",
       "a:visited.sk-estimator-doc-link {\n",
       "  float: right;\n",
       "  font-size: smaller;\n",
       "  line-height: 1em;\n",
       "  font-family: monospace;\n",
       "  background-color: var(--sklearn-color-background);\n",
       "  border-radius: 1em;\n",
       "  height: 1em;\n",
       "  width: 1em;\n",
       "  text-decoration: none !important;\n",
       "  margin-left: 1ex;\n",
       "  /* unfitted */\n",
       "  border: var(--sklearn-color-unfitted-level-1) 1pt solid;\n",
       "  color: var(--sklearn-color-unfitted-level-1);\n",
       "}\n",
       "\n",
       ".sk-estimator-doc-link.fitted,\n",
       "a:link.sk-estimator-doc-link.fitted,\n",
       "a:visited.sk-estimator-doc-link.fitted {\n",
       "  /* fitted */\n",
       "  border: var(--sklearn-color-fitted-level-1) 1pt solid;\n",
       "  color: var(--sklearn-color-fitted-level-1);\n",
       "}\n",
       "\n",
       "/* On hover */\n",
       "div.sk-estimator:hover .sk-estimator-doc-link:hover,\n",
       ".sk-estimator-doc-link:hover,\n",
       "div.sk-label-container:hover .sk-estimator-doc-link:hover,\n",
       ".sk-estimator-doc-link:hover {\n",
       "  /* unfitted */\n",
       "  background-color: var(--sklearn-color-unfitted-level-3);\n",
       "  color: var(--sklearn-color-background);\n",
       "  text-decoration: none;\n",
       "}\n",
       "\n",
       "div.sk-estimator.fitted:hover .sk-estimator-doc-link.fitted:hover,\n",
       ".sk-estimator-doc-link.fitted:hover,\n",
       "div.sk-label-container:hover .sk-estimator-doc-link.fitted:hover,\n",
       ".sk-estimator-doc-link.fitted:hover {\n",
       "  /* fitted */\n",
       "  background-color: var(--sklearn-color-fitted-level-3);\n",
       "  color: var(--sklearn-color-background);\n",
       "  text-decoration: none;\n",
       "}\n",
       "\n",
       "/* Span, style for the box shown on hovering the info icon */\n",
       ".sk-estimator-doc-link span {\n",
       "  display: none;\n",
       "  z-index: 9999;\n",
       "  position: relative;\n",
       "  font-weight: normal;\n",
       "  right: .2ex;\n",
       "  padding: .5ex;\n",
       "  margin: .5ex;\n",
       "  width: min-content;\n",
       "  min-width: 20ex;\n",
       "  max-width: 50ex;\n",
       "  color: var(--sklearn-color-text);\n",
       "  box-shadow: 2pt 2pt 4pt #999;\n",
       "  /* unfitted */\n",
       "  background: var(--sklearn-color-unfitted-level-0);\n",
       "  border: .5pt solid var(--sklearn-color-unfitted-level-3);\n",
       "}\n",
       "\n",
       ".sk-estimator-doc-link.fitted span {\n",
       "  /* fitted */\n",
       "  background: var(--sklearn-color-fitted-level-0);\n",
       "  border: var(--sklearn-color-fitted-level-3);\n",
       "}\n",
       "\n",
       ".sk-estimator-doc-link:hover span {\n",
       "  display: block;\n",
       "}\n",
       "\n",
       "/* \"?\"-specific style due to the `<a>` HTML tag */\n",
       "\n",
       "#sk-container-id-1 a.estimator_doc_link {\n",
       "  float: right;\n",
       "  font-size: 1rem;\n",
       "  line-height: 1em;\n",
       "  font-family: monospace;\n",
       "  background-color: var(--sklearn-color-background);\n",
       "  border-radius: 1rem;\n",
       "  height: 1rem;\n",
       "  width: 1rem;\n",
       "  text-decoration: none;\n",
       "  /* unfitted */\n",
       "  color: var(--sklearn-color-unfitted-level-1);\n",
       "  border: var(--sklearn-color-unfitted-level-1) 1pt solid;\n",
       "}\n",
       "\n",
       "#sk-container-id-1 a.estimator_doc_link.fitted {\n",
       "  /* fitted */\n",
       "  border: var(--sklearn-color-fitted-level-1) 1pt solid;\n",
       "  color: var(--sklearn-color-fitted-level-1);\n",
       "}\n",
       "\n",
       "/* On hover */\n",
       "#sk-container-id-1 a.estimator_doc_link:hover {\n",
       "  /* unfitted */\n",
       "  background-color: var(--sklearn-color-unfitted-level-3);\n",
       "  color: var(--sklearn-color-background);\n",
       "  text-decoration: none;\n",
       "}\n",
       "\n",
       "#sk-container-id-1 a.estimator_doc_link.fitted:hover {\n",
       "  /* fitted */\n",
       "  background-color: var(--sklearn-color-fitted-level-3);\n",
       "}\n",
       "</style><div id=\"sk-container-id-1\" class=\"sk-top-container\"><div class=\"sk-text-repr-fallback\"><pre>LinearRegression()</pre><b>In a Jupyter environment, please rerun this cell to show the HTML representation or trust the notebook. <br />On GitHub, the HTML representation is unable to render, please try loading this page with nbviewer.org.</b></div><div class=\"sk-container\" hidden><div class=\"sk-item\"><div class=\"sk-estimator fitted sk-toggleable\"><input class=\"sk-toggleable__control sk-hidden--visually\" id=\"sk-estimator-id-1\" type=\"checkbox\" checked><label for=\"sk-estimator-id-1\" class=\"sk-toggleable__label fitted sk-toggleable__label-arrow fitted\">&nbsp;&nbsp;LinearRegression<a class=\"sk-estimator-doc-link fitted\" rel=\"noreferrer\" target=\"_blank\" href=\"https://scikit-learn.org/1.4/modules/generated/sklearn.linear_model.LinearRegression.html\">?<span>Documentation for LinearRegression</span></a><span class=\"sk-estimator-doc-link fitted\">i<span>Fitted</span></span></label><div class=\"sk-toggleable__content fitted\"><pre>LinearRegression()</pre></div> </div></div></div></div>"
      ],
      "text/plain": [
       "LinearRegression()"
      ]
     },
     "execution_count": 148,
     "metadata": {},
     "output_type": "execute_result"
    }
   ],
   "source": [
    "model.fit(X_train,y_train)"
   ]
  },
  {
   "cell_type": "code",
   "execution_count": 149,
   "id": "c26cf006-bc24-4c02-8ffa-055ff128da08",
   "metadata": {},
   "outputs": [
    {
     "data": {
      "text/html": [
       "<style>#sk-container-id-2 {\n",
       "  /* Definition of color scheme common for light and dark mode */\n",
       "  --sklearn-color-text: black;\n",
       "  --sklearn-color-line: gray;\n",
       "  /* Definition of color scheme for unfitted estimators */\n",
       "  --sklearn-color-unfitted-level-0: #fff5e6;\n",
       "  --sklearn-color-unfitted-level-1: #f6e4d2;\n",
       "  --sklearn-color-unfitted-level-2: #ffe0b3;\n",
       "  --sklearn-color-unfitted-level-3: chocolate;\n",
       "  /* Definition of color scheme for fitted estimators */\n",
       "  --sklearn-color-fitted-level-0: #f0f8ff;\n",
       "  --sklearn-color-fitted-level-1: #d4ebff;\n",
       "  --sklearn-color-fitted-level-2: #b3dbfd;\n",
       "  --sklearn-color-fitted-level-3: cornflowerblue;\n",
       "\n",
       "  /* Specific color for light theme */\n",
       "  --sklearn-color-text-on-default-background: var(--sg-text-color, var(--theme-code-foreground, var(--jp-content-font-color1, black)));\n",
       "  --sklearn-color-background: var(--sg-background-color, var(--theme-background, var(--jp-layout-color0, white)));\n",
       "  --sklearn-color-border-box: var(--sg-text-color, var(--theme-code-foreground, var(--jp-content-font-color1, black)));\n",
       "  --sklearn-color-icon: #696969;\n",
       "\n",
       "  @media (prefers-color-scheme: dark) {\n",
       "    /* Redefinition of color scheme for dark theme */\n",
       "    --sklearn-color-text-on-default-background: var(--sg-text-color, var(--theme-code-foreground, var(--jp-content-font-color1, white)));\n",
       "    --sklearn-color-background: var(--sg-background-color, var(--theme-background, var(--jp-layout-color0, #111)));\n",
       "    --sklearn-color-border-box: var(--sg-text-color, var(--theme-code-foreground, var(--jp-content-font-color1, white)));\n",
       "    --sklearn-color-icon: #878787;\n",
       "  }\n",
       "}\n",
       "\n",
       "#sk-container-id-2 {\n",
       "  color: var(--sklearn-color-text);\n",
       "}\n",
       "\n",
       "#sk-container-id-2 pre {\n",
       "  padding: 0;\n",
       "}\n",
       "\n",
       "#sk-container-id-2 input.sk-hidden--visually {\n",
       "  border: 0;\n",
       "  clip: rect(1px 1px 1px 1px);\n",
       "  clip: rect(1px, 1px, 1px, 1px);\n",
       "  height: 1px;\n",
       "  margin: -1px;\n",
       "  overflow: hidden;\n",
       "  padding: 0;\n",
       "  position: absolute;\n",
       "  width: 1px;\n",
       "}\n",
       "\n",
       "#sk-container-id-2 div.sk-dashed-wrapped {\n",
       "  border: 1px dashed var(--sklearn-color-line);\n",
       "  margin: 0 0.4em 0.5em 0.4em;\n",
       "  box-sizing: border-box;\n",
       "  padding-bottom: 0.4em;\n",
       "  background-color: var(--sklearn-color-background);\n",
       "}\n",
       "\n",
       "#sk-container-id-2 div.sk-container {\n",
       "  /* jupyter's `normalize.less` sets `[hidden] { display: none; }`\n",
       "     but bootstrap.min.css set `[hidden] { display: none !important; }`\n",
       "     so we also need the `!important` here to be able to override the\n",
       "     default hidden behavior on the sphinx rendered scikit-learn.org.\n",
       "     See: https://github.com/scikit-learn/scikit-learn/issues/21755 */\n",
       "  display: inline-block !important;\n",
       "  position: relative;\n",
       "}\n",
       "\n",
       "#sk-container-id-2 div.sk-text-repr-fallback {\n",
       "  display: none;\n",
       "}\n",
       "\n",
       "div.sk-parallel-item,\n",
       "div.sk-serial,\n",
       "div.sk-item {\n",
       "  /* draw centered vertical line to link estimators */\n",
       "  background-image: linear-gradient(var(--sklearn-color-text-on-default-background), var(--sklearn-color-text-on-default-background));\n",
       "  background-size: 2px 100%;\n",
       "  background-repeat: no-repeat;\n",
       "  background-position: center center;\n",
       "}\n",
       "\n",
       "/* Parallel-specific style estimator block */\n",
       "\n",
       "#sk-container-id-2 div.sk-parallel-item::after {\n",
       "  content: \"\";\n",
       "  width: 100%;\n",
       "  border-bottom: 2px solid var(--sklearn-color-text-on-default-background);\n",
       "  flex-grow: 1;\n",
       "}\n",
       "\n",
       "#sk-container-id-2 div.sk-parallel {\n",
       "  display: flex;\n",
       "  align-items: stretch;\n",
       "  justify-content: center;\n",
       "  background-color: var(--sklearn-color-background);\n",
       "  position: relative;\n",
       "}\n",
       "\n",
       "#sk-container-id-2 div.sk-parallel-item {\n",
       "  display: flex;\n",
       "  flex-direction: column;\n",
       "}\n",
       "\n",
       "#sk-container-id-2 div.sk-parallel-item:first-child::after {\n",
       "  align-self: flex-end;\n",
       "  width: 50%;\n",
       "}\n",
       "\n",
       "#sk-container-id-2 div.sk-parallel-item:last-child::after {\n",
       "  align-self: flex-start;\n",
       "  width: 50%;\n",
       "}\n",
       "\n",
       "#sk-container-id-2 div.sk-parallel-item:only-child::after {\n",
       "  width: 0;\n",
       "}\n",
       "\n",
       "/* Serial-specific style estimator block */\n",
       "\n",
       "#sk-container-id-2 div.sk-serial {\n",
       "  display: flex;\n",
       "  flex-direction: column;\n",
       "  align-items: center;\n",
       "  background-color: var(--sklearn-color-background);\n",
       "  padding-right: 1em;\n",
       "  padding-left: 1em;\n",
       "}\n",
       "\n",
       "\n",
       "/* Toggleable style: style used for estimator/Pipeline/ColumnTransformer box that is\n",
       "clickable and can be expanded/collapsed.\n",
       "- Pipeline and ColumnTransformer use this feature and define the default style\n",
       "- Estimators will overwrite some part of the style using the `sk-estimator` class\n",
       "*/\n",
       "\n",
       "/* Pipeline and ColumnTransformer style (default) */\n",
       "\n",
       "#sk-container-id-2 div.sk-toggleable {\n",
       "  /* Default theme specific background. It is overwritten whether we have a\n",
       "  specific estimator or a Pipeline/ColumnTransformer */\n",
       "  background-color: var(--sklearn-color-background);\n",
       "}\n",
       "\n",
       "/* Toggleable label */\n",
       "#sk-container-id-2 label.sk-toggleable__label {\n",
       "  cursor: pointer;\n",
       "  display: block;\n",
       "  width: 100%;\n",
       "  margin-bottom: 0;\n",
       "  padding: 0.5em;\n",
       "  box-sizing: border-box;\n",
       "  text-align: center;\n",
       "}\n",
       "\n",
       "#sk-container-id-2 label.sk-toggleable__label-arrow:before {\n",
       "  /* Arrow on the left of the label */\n",
       "  content: \"▸\";\n",
       "  float: left;\n",
       "  margin-right: 0.25em;\n",
       "  color: var(--sklearn-color-icon);\n",
       "}\n",
       "\n",
       "#sk-container-id-2 label.sk-toggleable__label-arrow:hover:before {\n",
       "  color: var(--sklearn-color-text);\n",
       "}\n",
       "\n",
       "/* Toggleable content - dropdown */\n",
       "\n",
       "#sk-container-id-2 div.sk-toggleable__content {\n",
       "  max-height: 0;\n",
       "  max-width: 0;\n",
       "  overflow: hidden;\n",
       "  text-align: left;\n",
       "  /* unfitted */\n",
       "  background-color: var(--sklearn-color-unfitted-level-0);\n",
       "}\n",
       "\n",
       "#sk-container-id-2 div.sk-toggleable__content.fitted {\n",
       "  /* fitted */\n",
       "  background-color: var(--sklearn-color-fitted-level-0);\n",
       "}\n",
       "\n",
       "#sk-container-id-2 div.sk-toggleable__content pre {\n",
       "  margin: 0.2em;\n",
       "  border-radius: 0.25em;\n",
       "  color: var(--sklearn-color-text);\n",
       "  /* unfitted */\n",
       "  background-color: var(--sklearn-color-unfitted-level-0);\n",
       "}\n",
       "\n",
       "#sk-container-id-2 div.sk-toggleable__content.fitted pre {\n",
       "  /* unfitted */\n",
       "  background-color: var(--sklearn-color-fitted-level-0);\n",
       "}\n",
       "\n",
       "#sk-container-id-2 input.sk-toggleable__control:checked~div.sk-toggleable__content {\n",
       "  /* Expand drop-down */\n",
       "  max-height: 200px;\n",
       "  max-width: 100%;\n",
       "  overflow: auto;\n",
       "}\n",
       "\n",
       "#sk-container-id-2 input.sk-toggleable__control:checked~label.sk-toggleable__label-arrow:before {\n",
       "  content: \"▾\";\n",
       "}\n",
       "\n",
       "/* Pipeline/ColumnTransformer-specific style */\n",
       "\n",
       "#sk-container-id-2 div.sk-label input.sk-toggleable__control:checked~label.sk-toggleable__label {\n",
       "  color: var(--sklearn-color-text);\n",
       "  background-color: var(--sklearn-color-unfitted-level-2);\n",
       "}\n",
       "\n",
       "#sk-container-id-2 div.sk-label.fitted input.sk-toggleable__control:checked~label.sk-toggleable__label {\n",
       "  background-color: var(--sklearn-color-fitted-level-2);\n",
       "}\n",
       "\n",
       "/* Estimator-specific style */\n",
       "\n",
       "/* Colorize estimator box */\n",
       "#sk-container-id-2 div.sk-estimator input.sk-toggleable__control:checked~label.sk-toggleable__label {\n",
       "  /* unfitted */\n",
       "  background-color: var(--sklearn-color-unfitted-level-2);\n",
       "}\n",
       "\n",
       "#sk-container-id-2 div.sk-estimator.fitted input.sk-toggleable__control:checked~label.sk-toggleable__label {\n",
       "  /* fitted */\n",
       "  background-color: var(--sklearn-color-fitted-level-2);\n",
       "}\n",
       "\n",
       "#sk-container-id-2 div.sk-label label.sk-toggleable__label,\n",
       "#sk-container-id-2 div.sk-label label {\n",
       "  /* The background is the default theme color */\n",
       "  color: var(--sklearn-color-text-on-default-background);\n",
       "}\n",
       "\n",
       "/* On hover, darken the color of the background */\n",
       "#sk-container-id-2 div.sk-label:hover label.sk-toggleable__label {\n",
       "  color: var(--sklearn-color-text);\n",
       "  background-color: var(--sklearn-color-unfitted-level-2);\n",
       "}\n",
       "\n",
       "/* Label box, darken color on hover, fitted */\n",
       "#sk-container-id-2 div.sk-label.fitted:hover label.sk-toggleable__label.fitted {\n",
       "  color: var(--sklearn-color-text);\n",
       "  background-color: var(--sklearn-color-fitted-level-2);\n",
       "}\n",
       "\n",
       "/* Estimator label */\n",
       "\n",
       "#sk-container-id-2 div.sk-label label {\n",
       "  font-family: monospace;\n",
       "  font-weight: bold;\n",
       "  display: inline-block;\n",
       "  line-height: 1.2em;\n",
       "}\n",
       "\n",
       "#sk-container-id-2 div.sk-label-container {\n",
       "  text-align: center;\n",
       "}\n",
       "\n",
       "/* Estimator-specific */\n",
       "#sk-container-id-2 div.sk-estimator {\n",
       "  font-family: monospace;\n",
       "  border: 1px dotted var(--sklearn-color-border-box);\n",
       "  border-radius: 0.25em;\n",
       "  box-sizing: border-box;\n",
       "  margin-bottom: 0.5em;\n",
       "  /* unfitted */\n",
       "  background-color: var(--sklearn-color-unfitted-level-0);\n",
       "}\n",
       "\n",
       "#sk-container-id-2 div.sk-estimator.fitted {\n",
       "  /* fitted */\n",
       "  background-color: var(--sklearn-color-fitted-level-0);\n",
       "}\n",
       "\n",
       "/* on hover */\n",
       "#sk-container-id-2 div.sk-estimator:hover {\n",
       "  /* unfitted */\n",
       "  background-color: var(--sklearn-color-unfitted-level-2);\n",
       "}\n",
       "\n",
       "#sk-container-id-2 div.sk-estimator.fitted:hover {\n",
       "  /* fitted */\n",
       "  background-color: var(--sklearn-color-fitted-level-2);\n",
       "}\n",
       "\n",
       "/* Specification for estimator info (e.g. \"i\" and \"?\") */\n",
       "\n",
       "/* Common style for \"i\" and \"?\" */\n",
       "\n",
       ".sk-estimator-doc-link,\n",
       "a:link.sk-estimator-doc-link,\n",
       "a:visited.sk-estimator-doc-link {\n",
       "  float: right;\n",
       "  font-size: smaller;\n",
       "  line-height: 1em;\n",
       "  font-family: monospace;\n",
       "  background-color: var(--sklearn-color-background);\n",
       "  border-radius: 1em;\n",
       "  height: 1em;\n",
       "  width: 1em;\n",
       "  text-decoration: none !important;\n",
       "  margin-left: 1ex;\n",
       "  /* unfitted */\n",
       "  border: var(--sklearn-color-unfitted-level-1) 1pt solid;\n",
       "  color: var(--sklearn-color-unfitted-level-1);\n",
       "}\n",
       "\n",
       ".sk-estimator-doc-link.fitted,\n",
       "a:link.sk-estimator-doc-link.fitted,\n",
       "a:visited.sk-estimator-doc-link.fitted {\n",
       "  /* fitted */\n",
       "  border: var(--sklearn-color-fitted-level-1) 1pt solid;\n",
       "  color: var(--sklearn-color-fitted-level-1);\n",
       "}\n",
       "\n",
       "/* On hover */\n",
       "div.sk-estimator:hover .sk-estimator-doc-link:hover,\n",
       ".sk-estimator-doc-link:hover,\n",
       "div.sk-label-container:hover .sk-estimator-doc-link:hover,\n",
       ".sk-estimator-doc-link:hover {\n",
       "  /* unfitted */\n",
       "  background-color: var(--sklearn-color-unfitted-level-3);\n",
       "  color: var(--sklearn-color-background);\n",
       "  text-decoration: none;\n",
       "}\n",
       "\n",
       "div.sk-estimator.fitted:hover .sk-estimator-doc-link.fitted:hover,\n",
       ".sk-estimator-doc-link.fitted:hover,\n",
       "div.sk-label-container:hover .sk-estimator-doc-link.fitted:hover,\n",
       ".sk-estimator-doc-link.fitted:hover {\n",
       "  /* fitted */\n",
       "  background-color: var(--sklearn-color-fitted-level-3);\n",
       "  color: var(--sklearn-color-background);\n",
       "  text-decoration: none;\n",
       "}\n",
       "\n",
       "/* Span, style for the box shown on hovering the info icon */\n",
       ".sk-estimator-doc-link span {\n",
       "  display: none;\n",
       "  z-index: 9999;\n",
       "  position: relative;\n",
       "  font-weight: normal;\n",
       "  right: .2ex;\n",
       "  padding: .5ex;\n",
       "  margin: .5ex;\n",
       "  width: min-content;\n",
       "  min-width: 20ex;\n",
       "  max-width: 50ex;\n",
       "  color: var(--sklearn-color-text);\n",
       "  box-shadow: 2pt 2pt 4pt #999;\n",
       "  /* unfitted */\n",
       "  background: var(--sklearn-color-unfitted-level-0);\n",
       "  border: .5pt solid var(--sklearn-color-unfitted-level-3);\n",
       "}\n",
       "\n",
       ".sk-estimator-doc-link.fitted span {\n",
       "  /* fitted */\n",
       "  background: var(--sklearn-color-fitted-level-0);\n",
       "  border: var(--sklearn-color-fitted-level-3);\n",
       "}\n",
       "\n",
       ".sk-estimator-doc-link:hover span {\n",
       "  display: block;\n",
       "}\n",
       "\n",
       "/* \"?\"-specific style due to the `<a>` HTML tag */\n",
       "\n",
       "#sk-container-id-2 a.estimator_doc_link {\n",
       "  float: right;\n",
       "  font-size: 1rem;\n",
       "  line-height: 1em;\n",
       "  font-family: monospace;\n",
       "  background-color: var(--sklearn-color-background);\n",
       "  border-radius: 1rem;\n",
       "  height: 1rem;\n",
       "  width: 1rem;\n",
       "  text-decoration: none;\n",
       "  /* unfitted */\n",
       "  color: var(--sklearn-color-unfitted-level-1);\n",
       "  border: var(--sklearn-color-unfitted-level-1) 1pt solid;\n",
       "}\n",
       "\n",
       "#sk-container-id-2 a.estimator_doc_link.fitted {\n",
       "  /* fitted */\n",
       "  border: var(--sklearn-color-fitted-level-1) 1pt solid;\n",
       "  color: var(--sklearn-color-fitted-level-1);\n",
       "}\n",
       "\n",
       "/* On hover */\n",
       "#sk-container-id-2 a.estimator_doc_link:hover {\n",
       "  /* unfitted */\n",
       "  background-color: var(--sklearn-color-unfitted-level-3);\n",
       "  color: var(--sklearn-color-background);\n",
       "  text-decoration: none;\n",
       "}\n",
       "\n",
       "#sk-container-id-2 a.estimator_doc_link.fitted:hover {\n",
       "  /* fitted */\n",
       "  background-color: var(--sklearn-color-fitted-level-3);\n",
       "}\n",
       "</style><div id=\"sk-container-id-2\" class=\"sk-top-container\"><div class=\"sk-text-repr-fallback\"><pre>RandomForestRegressor()</pre><b>In a Jupyter environment, please rerun this cell to show the HTML representation or trust the notebook. <br />On GitHub, the HTML representation is unable to render, please try loading this page with nbviewer.org.</b></div><div class=\"sk-container\" hidden><div class=\"sk-item\"><div class=\"sk-estimator fitted sk-toggleable\"><input class=\"sk-toggleable__control sk-hidden--visually\" id=\"sk-estimator-id-2\" type=\"checkbox\" checked><label for=\"sk-estimator-id-2\" class=\"sk-toggleable__label fitted sk-toggleable__label-arrow fitted\">&nbsp;&nbsp;RandomForestRegressor<a class=\"sk-estimator-doc-link fitted\" rel=\"noreferrer\" target=\"_blank\" href=\"https://scikit-learn.org/1.4/modules/generated/sklearn.ensemble.RandomForestRegressor.html\">?<span>Documentation for RandomForestRegressor</span></a><span class=\"sk-estimator-doc-link fitted\">i<span>Fitted</span></span></label><div class=\"sk-toggleable__content fitted\"><pre>RandomForestRegressor()</pre></div> </div></div></div></div>"
      ],
      "text/plain": [
       "RandomForestRegressor()"
      ]
     },
     "execution_count": 149,
     "metadata": {},
     "output_type": "execute_result"
    }
   ],
   "source": [
    "random_model.fit(X_train,y_train)"
   ]
  },
  {
   "cell_type": "code",
   "execution_count": 150,
   "id": "0050026d-d1d1-41de-9116-36581f006a30",
   "metadata": {},
   "outputs": [
    {
     "data": {
      "text/plain": [
       "0.03428923751071167"
      ]
     },
     "execution_count": 150,
     "metadata": {},
     "output_type": "execute_result"
    }
   ],
   "source": [
    "model.score(X_train,y_train)"
   ]
  },
  {
   "cell_type": "code",
   "execution_count": 151,
   "id": "6dc004b3-e922-4304-9d8f-f01a3f61bedc",
   "metadata": {},
   "outputs": [
    {
     "data": {
      "text/plain": [
       "0.9163833528844049"
      ]
     },
     "execution_count": 151,
     "metadata": {},
     "output_type": "execute_result"
    }
   ],
   "source": [
    "random_model.score(X_train,y_train)"
   ]
  },
  {
   "cell_type": "code",
   "execution_count": 152,
   "id": "5c36a74a-aa6f-4c21-9a15-c1f40c6e51bc",
   "metadata": {},
   "outputs": [
    {
     "data": {
      "text/plain": [
       "array([-0.66659542, -0.07388511, -0.04854665, -0.99951001, -3.34927212])"
      ]
     },
     "execution_count": 152,
     "metadata": {},
     "output_type": "execute_result"
    }
   ],
   "source": [
    "from sklearn.model_selection import cross_val_score\n",
    "scores = cross_val_score(RandomForestRegressor(),X,y,cv=5)\n",
    "scores"
   ]
  },
  {
   "cell_type": "code",
   "execution_count": 153,
   "id": "5040e2c2-ca72-411d-87b2-d3c3074b2c45",
   "metadata": {},
   "outputs": [
    {
     "data": {
      "text/plain": [
       "-1.027561863401895"
      ]
     },
     "execution_count": 153,
     "metadata": {},
     "output_type": "execute_result"
    }
   ],
   "source": [
    "np.average(scores)"
   ]
  },
  {
   "cell_type": "code",
   "execution_count": 154,
   "id": "65d4cc2e-84c4-453d-b414-f008f5a16a5b",
   "metadata": {},
   "outputs": [
    {
     "ename": "ValueError",
     "evalue": "Input X contains NaN.\nExtraTreesRegressor does not accept missing values encoded as NaN natively. For supervised learning, you might want to consider sklearn.ensemble.HistGradientBoostingClassifier and Regressor which accept missing values encoded as NaNs natively. Alternatively, it is possible to preprocess the data, for instance by using an imputer transformer in a pipeline or drop samples with missing values. See https://scikit-learn.org/stable/modules/impute.html You can find a list of all estimators that handle NaN values at the following page: https://scikit-learn.org/stable/modules/impute.html#estimators-that-handle-nan-values",
     "output_type": "error",
     "traceback": [
      "\u001b[1;31m---------------------------------------------------------------------------\u001b[0m",
      "\u001b[1;31mValueError\u001b[0m                                Traceback (most recent call last)",
      "Cell \u001b[1;32mIn[154], line 3\u001b[0m\n\u001b[0;32m      1\u001b[0m \u001b[38;5;28;01mfrom\u001b[39;00m \u001b[38;5;21;01msklearn\u001b[39;00m\u001b[38;5;21;01m.\u001b[39;00m\u001b[38;5;21;01mensemble\u001b[39;00m \u001b[38;5;28;01mimport\u001b[39;00m ExtraTreesRegressor\n\u001b[0;32m      2\u001b[0m selection \u001b[38;5;241m=\u001b[39m ExtraTreesRegressor()\n\u001b[1;32m----> 3\u001b[0m \u001b[43mselection\u001b[49m\u001b[38;5;241;43m.\u001b[39;49m\u001b[43mfit\u001b[49m\u001b[43m(\u001b[49m\u001b[43mX\u001b[49m\u001b[43m,\u001b[49m\u001b[43my\u001b[49m\u001b[43m)\u001b[49m\n\u001b[0;32m      5\u001b[0m \u001b[38;5;28mprint\u001b[39m(selection\u001b[38;5;241m.\u001b[39mfeature_importances_)\n",
      "File \u001b[1;32m~\\AppData\\Local\\Programs\\Python\\Python312\\Lib\\site-packages\\sklearn\\base.py:1474\u001b[0m, in \u001b[0;36m_fit_context.<locals>.decorator.<locals>.wrapper\u001b[1;34m(estimator, *args, **kwargs)\u001b[0m\n\u001b[0;32m   1467\u001b[0m     estimator\u001b[38;5;241m.\u001b[39m_validate_params()\n\u001b[0;32m   1469\u001b[0m \u001b[38;5;28;01mwith\u001b[39;00m config_context(\n\u001b[0;32m   1470\u001b[0m     skip_parameter_validation\u001b[38;5;241m=\u001b[39m(\n\u001b[0;32m   1471\u001b[0m         prefer_skip_nested_validation \u001b[38;5;129;01mor\u001b[39;00m global_skip_validation\n\u001b[0;32m   1472\u001b[0m     )\n\u001b[0;32m   1473\u001b[0m ):\n\u001b[1;32m-> 1474\u001b[0m     \u001b[38;5;28;01mreturn\u001b[39;00m \u001b[43mfit_method\u001b[49m\u001b[43m(\u001b[49m\u001b[43mestimator\u001b[49m\u001b[43m,\u001b[49m\u001b[43m \u001b[49m\u001b[38;5;241;43m*\u001b[39;49m\u001b[43margs\u001b[49m\u001b[43m,\u001b[49m\u001b[43m \u001b[49m\u001b[38;5;241;43m*\u001b[39;49m\u001b[38;5;241;43m*\u001b[39;49m\u001b[43mkwargs\u001b[49m\u001b[43m)\u001b[49m\n",
      "File \u001b[1;32m~\\AppData\\Local\\Programs\\Python\\Python312\\Lib\\site-packages\\sklearn\\ensemble\\_forest.py:377\u001b[0m, in \u001b[0;36mBaseForest.fit\u001b[1;34m(self, X, y, sample_weight)\u001b[0m\n\u001b[0;32m    371\u001b[0m \u001b[38;5;66;03m# _compute_missing_values_in_feature_mask checks if X has missing values and\u001b[39;00m\n\u001b[0;32m    372\u001b[0m \u001b[38;5;66;03m# will raise an error if the underlying tree base estimator can't handle missing\u001b[39;00m\n\u001b[0;32m    373\u001b[0m \u001b[38;5;66;03m# values. Only the criterion is required to determine if the tree supports\u001b[39;00m\n\u001b[0;32m    374\u001b[0m \u001b[38;5;66;03m# missing values.\u001b[39;00m\n\u001b[0;32m    375\u001b[0m estimator \u001b[38;5;241m=\u001b[39m \u001b[38;5;28mtype\u001b[39m(\u001b[38;5;28mself\u001b[39m\u001b[38;5;241m.\u001b[39mestimator)(criterion\u001b[38;5;241m=\u001b[39m\u001b[38;5;28mself\u001b[39m\u001b[38;5;241m.\u001b[39mcriterion)\n\u001b[0;32m    376\u001b[0m missing_values_in_feature_mask \u001b[38;5;241m=\u001b[39m (\n\u001b[1;32m--> 377\u001b[0m     \u001b[43mestimator\u001b[49m\u001b[38;5;241;43m.\u001b[39;49m\u001b[43m_compute_missing_values_in_feature_mask\u001b[49m\u001b[43m(\u001b[49m\n\u001b[0;32m    378\u001b[0m \u001b[43m        \u001b[49m\u001b[43mX\u001b[49m\u001b[43m,\u001b[49m\u001b[43m \u001b[49m\u001b[43mestimator_name\u001b[49m\u001b[38;5;241;43m=\u001b[39;49m\u001b[38;5;28;43mself\u001b[39;49m\u001b[38;5;241;43m.\u001b[39;49m\u001b[38;5;18;43m__class__\u001b[39;49m\u001b[38;5;241;43m.\u001b[39;49m\u001b[38;5;18;43m__name__\u001b[39;49m\n\u001b[0;32m    379\u001b[0m \u001b[43m    \u001b[49m\u001b[43m)\u001b[49m\n\u001b[0;32m    380\u001b[0m )\n\u001b[0;32m    382\u001b[0m \u001b[38;5;28;01mif\u001b[39;00m sample_weight \u001b[38;5;129;01mis\u001b[39;00m \u001b[38;5;129;01mnot\u001b[39;00m \u001b[38;5;28;01mNone\u001b[39;00m:\n\u001b[0;32m    383\u001b[0m     sample_weight \u001b[38;5;241m=\u001b[39m _check_sample_weight(sample_weight, X)\n",
      "File \u001b[1;32m~\\AppData\\Local\\Programs\\Python\\Python312\\Lib\\site-packages\\sklearn\\tree\\_classes.py:214\u001b[0m, in \u001b[0;36mBaseDecisionTree._compute_missing_values_in_feature_mask\u001b[1;34m(self, X, estimator_name)\u001b[0m\n\u001b[0;32m    211\u001b[0m common_kwargs \u001b[38;5;241m=\u001b[39m \u001b[38;5;28mdict\u001b[39m(estimator_name\u001b[38;5;241m=\u001b[39mestimator_name, input_name\u001b[38;5;241m=\u001b[39m\u001b[38;5;124m\"\u001b[39m\u001b[38;5;124mX\u001b[39m\u001b[38;5;124m\"\u001b[39m)\n\u001b[0;32m    213\u001b[0m \u001b[38;5;28;01mif\u001b[39;00m \u001b[38;5;129;01mnot\u001b[39;00m \u001b[38;5;28mself\u001b[39m\u001b[38;5;241m.\u001b[39m_support_missing_values(X):\n\u001b[1;32m--> 214\u001b[0m     \u001b[43massert_all_finite\u001b[49m\u001b[43m(\u001b[49m\u001b[43mX\u001b[49m\u001b[43m,\u001b[49m\u001b[43m \u001b[49m\u001b[38;5;241;43m*\u001b[39;49m\u001b[38;5;241;43m*\u001b[39;49m\u001b[43mcommon_kwargs\u001b[49m\u001b[43m)\u001b[49m\n\u001b[0;32m    215\u001b[0m     \u001b[38;5;28;01mreturn\u001b[39;00m \u001b[38;5;28;01mNone\u001b[39;00m\n\u001b[0;32m    217\u001b[0m \u001b[38;5;28;01mwith\u001b[39;00m np\u001b[38;5;241m.\u001b[39merrstate(over\u001b[38;5;241m=\u001b[39m\u001b[38;5;124m\"\u001b[39m\u001b[38;5;124mignore\u001b[39m\u001b[38;5;124m\"\u001b[39m):\n",
      "File \u001b[1;32m~\\AppData\\Local\\Programs\\Python\\Python312\\Lib\\site-packages\\sklearn\\utils\\validation.py:216\u001b[0m, in \u001b[0;36massert_all_finite\u001b[1;34m(X, allow_nan, estimator_name, input_name)\u001b[0m\n\u001b[0;32m    178\u001b[0m \u001b[38;5;28;01mdef\u001b[39;00m \u001b[38;5;21massert_all_finite\u001b[39m(\n\u001b[0;32m    179\u001b[0m     X,\n\u001b[0;32m    180\u001b[0m     \u001b[38;5;241m*\u001b[39m,\n\u001b[1;32m   (...)\u001b[0m\n\u001b[0;32m    183\u001b[0m     input_name\u001b[38;5;241m=\u001b[39m\u001b[38;5;124m\"\u001b[39m\u001b[38;5;124m\"\u001b[39m,\n\u001b[0;32m    184\u001b[0m ):\n\u001b[0;32m    185\u001b[0m \u001b[38;5;250m    \u001b[39m\u001b[38;5;124;03m\"\"\"Throw a ValueError if X contains NaN or infinity.\u001b[39;00m\n\u001b[0;32m    186\u001b[0m \n\u001b[0;32m    187\u001b[0m \u001b[38;5;124;03m    Parameters\u001b[39;00m\n\u001b[1;32m   (...)\u001b[0m\n\u001b[0;32m    214\u001b[0m \u001b[38;5;124;03m    Test failed: Array contains non-finite values.\u001b[39;00m\n\u001b[0;32m    215\u001b[0m \u001b[38;5;124;03m    \"\"\"\u001b[39;00m\n\u001b[1;32m--> 216\u001b[0m     \u001b[43m_assert_all_finite\u001b[49m\u001b[43m(\u001b[49m\n\u001b[0;32m    217\u001b[0m \u001b[43m        \u001b[49m\u001b[43mX\u001b[49m\u001b[38;5;241;43m.\u001b[39;49m\u001b[43mdata\u001b[49m\u001b[43m \u001b[49m\u001b[38;5;28;43;01mif\u001b[39;49;00m\u001b[43m \u001b[49m\u001b[43msp\u001b[49m\u001b[38;5;241;43m.\u001b[39;49m\u001b[43missparse\u001b[49m\u001b[43m(\u001b[49m\u001b[43mX\u001b[49m\u001b[43m)\u001b[49m\u001b[43m \u001b[49m\u001b[38;5;28;43;01melse\u001b[39;49;00m\u001b[43m \u001b[49m\u001b[43mX\u001b[49m\u001b[43m,\u001b[49m\n\u001b[0;32m    218\u001b[0m \u001b[43m        \u001b[49m\u001b[43mallow_nan\u001b[49m\u001b[38;5;241;43m=\u001b[39;49m\u001b[43mallow_nan\u001b[49m\u001b[43m,\u001b[49m\n\u001b[0;32m    219\u001b[0m \u001b[43m        \u001b[49m\u001b[43mestimator_name\u001b[49m\u001b[38;5;241;43m=\u001b[39;49m\u001b[43mestimator_name\u001b[49m\u001b[43m,\u001b[49m\n\u001b[0;32m    220\u001b[0m \u001b[43m        \u001b[49m\u001b[43minput_name\u001b[49m\u001b[38;5;241;43m=\u001b[39;49m\u001b[43minput_name\u001b[49m\u001b[43m,\u001b[49m\n\u001b[0;32m    221\u001b[0m \u001b[43m    \u001b[49m\u001b[43m)\u001b[49m\n",
      "File \u001b[1;32m~\\AppData\\Local\\Programs\\Python\\Python312\\Lib\\site-packages\\sklearn\\utils\\validation.py:126\u001b[0m, in \u001b[0;36m_assert_all_finite\u001b[1;34m(X, allow_nan, msg_dtype, estimator_name, input_name)\u001b[0m\n\u001b[0;32m    123\u001b[0m \u001b[38;5;28;01mif\u001b[39;00m first_pass_isfinite:\n\u001b[0;32m    124\u001b[0m     \u001b[38;5;28;01mreturn\u001b[39;00m\n\u001b[1;32m--> 126\u001b[0m \u001b[43m_assert_all_finite_element_wise\u001b[49m\u001b[43m(\u001b[49m\n\u001b[0;32m    127\u001b[0m \u001b[43m    \u001b[49m\u001b[43mX\u001b[49m\u001b[43m,\u001b[49m\n\u001b[0;32m    128\u001b[0m \u001b[43m    \u001b[49m\u001b[43mxp\u001b[49m\u001b[38;5;241;43m=\u001b[39;49m\u001b[43mxp\u001b[49m\u001b[43m,\u001b[49m\n\u001b[0;32m    129\u001b[0m \u001b[43m    \u001b[49m\u001b[43mallow_nan\u001b[49m\u001b[38;5;241;43m=\u001b[39;49m\u001b[43mallow_nan\u001b[49m\u001b[43m,\u001b[49m\n\u001b[0;32m    130\u001b[0m \u001b[43m    \u001b[49m\u001b[43mmsg_dtype\u001b[49m\u001b[38;5;241;43m=\u001b[39;49m\u001b[43mmsg_dtype\u001b[49m\u001b[43m,\u001b[49m\n\u001b[0;32m    131\u001b[0m \u001b[43m    \u001b[49m\u001b[43mestimator_name\u001b[49m\u001b[38;5;241;43m=\u001b[39;49m\u001b[43mestimator_name\u001b[49m\u001b[43m,\u001b[49m\n\u001b[0;32m    132\u001b[0m \u001b[43m    \u001b[49m\u001b[43minput_name\u001b[49m\u001b[38;5;241;43m=\u001b[39;49m\u001b[43minput_name\u001b[49m\u001b[43m,\u001b[49m\n\u001b[0;32m    133\u001b[0m \u001b[43m\u001b[49m\u001b[43m)\u001b[49m\n",
      "File \u001b[1;32m~\\AppData\\Local\\Programs\\Python\\Python312\\Lib\\site-packages\\sklearn\\utils\\validation.py:175\u001b[0m, in \u001b[0;36m_assert_all_finite_element_wise\u001b[1;34m(X, xp, allow_nan, msg_dtype, estimator_name, input_name)\u001b[0m\n\u001b[0;32m    158\u001b[0m \u001b[38;5;28;01mif\u001b[39;00m estimator_name \u001b[38;5;129;01mand\u001b[39;00m input_name \u001b[38;5;241m==\u001b[39m \u001b[38;5;124m\"\u001b[39m\u001b[38;5;124mX\u001b[39m\u001b[38;5;124m\"\u001b[39m \u001b[38;5;129;01mand\u001b[39;00m has_nan_error:\n\u001b[0;32m    159\u001b[0m     \u001b[38;5;66;03m# Improve the error message on how to handle missing values in\u001b[39;00m\n\u001b[0;32m    160\u001b[0m     \u001b[38;5;66;03m# scikit-learn.\u001b[39;00m\n\u001b[0;32m    161\u001b[0m     msg_err \u001b[38;5;241m+\u001b[39m\u001b[38;5;241m=\u001b[39m (\n\u001b[0;32m    162\u001b[0m         \u001b[38;5;124mf\u001b[39m\u001b[38;5;124m\"\u001b[39m\u001b[38;5;130;01m\\n\u001b[39;00m\u001b[38;5;132;01m{\u001b[39;00mestimator_name\u001b[38;5;132;01m}\u001b[39;00m\u001b[38;5;124m does not accept missing values\u001b[39m\u001b[38;5;124m\"\u001b[39m\n\u001b[0;32m    163\u001b[0m         \u001b[38;5;124m\"\u001b[39m\u001b[38;5;124m encoded as NaN natively. For supervised learning, you might want\u001b[39m\u001b[38;5;124m\"\u001b[39m\n\u001b[1;32m   (...)\u001b[0m\n\u001b[0;32m    173\u001b[0m         \u001b[38;5;124m\"\u001b[39m\u001b[38;5;124m#estimators-that-handle-nan-values\u001b[39m\u001b[38;5;124m\"\u001b[39m\n\u001b[0;32m    174\u001b[0m     )\n\u001b[1;32m--> 175\u001b[0m \u001b[38;5;28;01mraise\u001b[39;00m \u001b[38;5;167;01mValueError\u001b[39;00m(msg_err)\n",
      "\u001b[1;31mValueError\u001b[0m: Input X contains NaN.\nExtraTreesRegressor does not accept missing values encoded as NaN natively. For supervised learning, you might want to consider sklearn.ensemble.HistGradientBoostingClassifier and Regressor which accept missing values encoded as NaNs natively. Alternatively, it is possible to preprocess the data, for instance by using an imputer transformer in a pipeline or drop samples with missing values. See https://scikit-learn.org/stable/modules/impute.html You can find a list of all estimators that handle NaN values at the following page: https://scikit-learn.org/stable/modules/impute.html#estimators-that-handle-nan-values"
     ]
    }
   ],
   "source": [
    "from sklearn.ensemble import ExtraTreesRegressor\n",
    "selection = ExtraTreesRegressor()\n",
    "selection.fit(X,y)\n",
    "\n",
    "print(selection.feature_importances_)"
   ]
  },
  {
   "cell_type": "code",
   "execution_count": null,
   "id": "c0211036-3e7a-4b6d-bf8c-1de7ea03553c",
   "metadata": {},
   "outputs": [],
   "source": [
    "from sklearn.cluster import KMeans"
   ]
  },
  {
   "cell_type": "code",
   "execution_count": null,
   "id": "3dceed03-beee-4197-a299-8de1d2b7b030",
   "metadata": {},
   "outputs": [],
   "source": [
    "kmm = KMeans()"
   ]
  },
  {
   "cell_type": "code",
   "execution_count": null,
   "id": "f635d218-1e0e-498f-9fa6-234bc3ebaf83",
   "metadata": {},
   "outputs": [],
   "source": [
    "kmm.fit(X_train,y_train)"
   ]
  },
  {
   "cell_type": "code",
   "execution_count": null,
   "id": "a3c97064-edb9-4adf-94a2-b85dc73fffa4",
   "metadata": {},
   "outputs": [],
   "source": [
    "kmm.score(X_test,y_test)"
   ]
  },
  {
   "cell_type": "code",
   "execution_count": null,
   "id": "d6221139-fc02-4a31-ab7e-61516f3ef224",
   "metadata": {},
   "outputs": [],
   "source": [
    "# Plot a graph for better visualization\n",
    "\n",
    "plt.figure(figsize=(12,8))\n",
    "feat_importance = pd.Series(selection.feature_importances_,index=X.columns)\n",
    "feat_importance.nlargest(25).plot(kind='barh')\n",
    "plt.show()"
   ]
  },
  {
   "cell_type": "code",
   "execution_count": null,
   "id": "a018d7ea-3c5e-47ed-a422-f0f02ea8f8ae",
   "metadata": {},
   "outputs": [],
   "source": [
    "selection.fit(X_train,y_train)"
   ]
  },
  {
   "cell_type": "code",
   "execution_count": null,
   "id": "1bb8c2e8-cc5a-4de6-973b-aad1203df586",
   "metadata": {},
   "outputs": [],
   "source": [
    "selection.score(X_test,y_test)"
   ]
  },
  {
   "cell_type": "code",
   "execution_count": null,
   "id": "815e7c5a-7dd5-43f7-b5cb-0038f93c6257",
   "metadata": {},
   "outputs": [],
   "source": [
    "print(random_model.score(X_train,y_train))\n",
    "print(random_model.score(X_test,y_test))"
   ]
  },
  {
   "cell_type": "code",
   "execution_count": null,
   "id": "c5be9f0b-a7f2-43dd-89f7-6edd752d7ef8",
   "metadata": {},
   "outputs": [],
   "source": [
    "df7"
   ]
  },
  {
   "cell_type": "code",
   "execution_count": null,
   "id": "4fab3ff4-ad8b-4d05-a02b-6c6e6c3c3b24",
   "metadata": {},
   "outputs": [],
   "source": [
    "y_pred = model.predict(X_test)"
   ]
  },
  {
   "cell_type": "code",
   "execution_count": null,
   "id": "c9211567-1ef2-46bb-b0c7-b3b783f12d4e",
   "metadata": {},
   "outputs": [],
   "source": [
    "plt.scatter(y_pred,y_test)"
   ]
  },
  {
   "cell_type": "code",
   "execution_count": null,
   "id": "c547a9ed-edb6-4fff-9803-9492ecc568e8",
   "metadata": {},
   "outputs": [],
   "source": [
    "y_pred = model.predict(X_test)"
   ]
  },
  {
   "cell_type": "code",
   "execution_count": null,
   "id": "81774584-b474-49e0-8eca-487374db6e5f",
   "metadata": {},
   "outputs": [],
   "source": [
    "plt.scatter(y_pred,y_test)"
   ]
  },
  {
   "cell_type": "code",
   "execution_count": null,
   "id": "be562e04-5042-42fb-a32e-21109c534b1c",
   "metadata": {},
   "outputs": [],
   "source": [
    "df7.Balcony.unique()"
   ]
  },
  {
   "cell_type": "code",
   "execution_count": null,
   "id": "545ad346-afbf-4301-a314-e45024b0f2d6",
   "metadata": {},
   "outputs": [],
   "source": [
    "from sklearn.preprocessing import StandardScaler"
   ]
  },
  {
   "cell_type": "code",
   "execution_count": null,
   "id": "fb0167d7-3785-4453-ab79-20555210d2ce",
   "metadata": {},
   "outputs": [],
   "source": [
    "scaler = StandardScaler()\n",
    "X_scale = scaler.fit_transform(X)\n",
    "X_scale"
   ]
  },
  {
   "cell_type": "code",
   "execution_count": null,
   "id": "95459291-e5d5-40c3-8365-8d1148a81f32",
   "metadata": {},
   "outputs": [],
   "source": [
    "y = y.values.reshape(-1,1)\n",
    "Y_scale = scaler.fit_transform(y)"
   ]
  },
  {
   "cell_type": "code",
   "execution_count": null,
   "id": "4ea33fa6-7b0b-4277-bc63-0237717b6382",
   "metadata": {},
   "outputs": [],
   "source": [
    "X_train,X_test,y_train,y_test = train_test_split(X_scale,Y_scale,test_size=0.2)"
   ]
  },
  {
   "cell_type": "code",
   "execution_count": null,
   "id": "b5d47087-4aa0-4395-bdfa-5f59baccb5f6",
   "metadata": {},
   "outputs": [],
   "source": [
    "model3 = LinearRegression()\n",
    "model3.fit(X_train,y_train)"
   ]
  },
  {
   "cell_type": "code",
   "execution_count": null,
   "id": "e81bffed-8571-4869-8457-312920b20f9f",
   "metadata": {},
   "outputs": [],
   "source": [
    "model3.score(X_test,y_test)"
   ]
  },
  {
   "cell_type": "code",
   "execution_count": null,
   "id": "6f604aa2-92a1-4f11-9de9-1558dcd30ece",
   "metadata": {},
   "outputs": [],
   "source": [
    "min(df7['Carpet_area(sqft)'])"
   ]
  },
  {
   "cell_type": "code",
   "execution_count": null,
   "id": "d4a13162-bb07-4300-ad20-3157c158eca2",
   "metadata": {},
   "outputs": [],
   "source": [
    " y_log_price = np.log(df7.Amount)"
   ]
  },
  {
   "cell_type": "code",
   "execution_count": null,
   "id": "1192b9e1-2620-414d-879a-9645e1c9910c",
   "metadata": {},
   "outputs": [],
   "source": [
    "min(y_log_price)"
   ]
  },
  {
   "cell_type": "code",
   "execution_count": null,
   "id": "958fddf2-a6b6-4ecf-a953-0c9e1f8ccb4e",
   "metadata": {},
   "outputs": [],
   "source": [
    "X_train,X_test,y_train,y_test = train_test_split(X_scale,y_log_price,test_size=0.2)"
   ]
  },
  {
   "cell_type": "code",
   "execution_count": null,
   "id": "494f3c23-1f05-482a-82aa-3d43f24c9633",
   "metadata": {},
   "outputs": [],
   "source": [
    "model4 = RandomForestRegressor()"
   ]
  },
  {
   "cell_type": "code",
   "execution_count": null,
   "id": "3a233528-83f0-44d5-b234-772c4d43ab50",
   "metadata": {},
   "outputs": [],
   "source": [
    "model4.fit(X_train,y_train)"
   ]
  },
  {
   "cell_type": "code",
   "execution_count": null,
   "id": "39bc8152-e063-4f05-bb0d-3617eb243f87",
   "metadata": {},
   "outputs": [],
   "source": [
    "model4.score(X_test,y_test)"
   ]
  },
  {
   "cell_type": "code",
   "execution_count": null,
   "id": "f7257cfe-9a7a-4e70-bab2-842e41472297",
   "metadata": {},
   "outputs": [],
   "source": []
  }
 ],
 "metadata": {
  "kernelspec": {
   "display_name": "Python 3 (ipykernel)",
   "language": "python",
   "name": "python3"
  },
  "language_info": {
   "codemirror_mode": {
    "name": "ipython",
    "version": 3
   },
   "file_extension": ".py",
   "mimetype": "text/x-python",
   "name": "python",
   "nbconvert_exporter": "python",
   "pygments_lexer": "ipython3",
   "version": "3.12.1"
  }
 },
 "nbformat": 4,
 "nbformat_minor": 5
}
