{
 "cells": [
  {
   "cell_type": "code",
   "execution_count": 1,
   "id": "c6a53c35",
   "metadata": {},
   "outputs": [],
   "source": [
    "import numpy as np\n",
    "import matplotlib.pyplot as plt\n",
    "import pandas as pd\n",
    "import seaborn as sns\n",
    "sns.set()\n",
    "import category_encoders as ce"
   ]
  },
  {
   "cell_type": "code",
   "execution_count": 2,
   "id": "69251c45",
   "metadata": {},
   "outputs": [],
   "source": [
    "data = pd.read_csv(\"/Users/patel/Downloads/Car_sale_ads.csv\")"
   ]
  },
  {
   "cell_type": "code",
   "execution_count": 3,
   "id": "53b4ffee",
   "metadata": {},
   "outputs": [
    {
     "data": {
      "text/html": [
       "<div>\n",
       "<style scoped>\n",
       "    .dataframe tbody tr th:only-of-type {\n",
       "        vertical-align: middle;\n",
       "    }\n",
       "\n",
       "    .dataframe tbody tr th {\n",
       "        vertical-align: top;\n",
       "    }\n",
       "\n",
       "    .dataframe thead th {\n",
       "        text-align: right;\n",
       "    }\n",
       "</style>\n",
       "<table border=\"1\" class=\"dataframe\">\n",
       "  <thead>\n",
       "    <tr style=\"text-align: right;\">\n",
       "      <th></th>\n",
       "      <th>Index</th>\n",
       "      <th>Price</th>\n",
       "      <th>Currency</th>\n",
       "      <th>Condition</th>\n",
       "      <th>Vehicle_brand</th>\n",
       "      <th>Vehicle_model</th>\n",
       "      <th>Vehicle_version</th>\n",
       "      <th>Vehicle_generation</th>\n",
       "      <th>Production_year</th>\n",
       "      <th>Mileage_km</th>\n",
       "      <th>...</th>\n",
       "      <th>Transmission</th>\n",
       "      <th>Type</th>\n",
       "      <th>Doors_number</th>\n",
       "      <th>Colour</th>\n",
       "      <th>Origin_country</th>\n",
       "      <th>First_owner</th>\n",
       "      <th>First_registration_date</th>\n",
       "      <th>Offer_publication_date</th>\n",
       "      <th>Offer_location</th>\n",
       "      <th>Features</th>\n",
       "    </tr>\n",
       "  </thead>\n",
       "  <tbody>\n",
       "    <tr>\n",
       "      <th>0</th>\n",
       "      <td>0</td>\n",
       "      <td>86200</td>\n",
       "      <td>PLN</td>\n",
       "      <td>New</td>\n",
       "      <td>Abarth</td>\n",
       "      <td>595</td>\n",
       "      <td>NaN</td>\n",
       "      <td>NaN</td>\n",
       "      <td>2021</td>\n",
       "      <td>1.0</td>\n",
       "      <td>...</td>\n",
       "      <td>Manual</td>\n",
       "      <td>small_cars</td>\n",
       "      <td>3.0</td>\n",
       "      <td>gray</td>\n",
       "      <td>NaN</td>\n",
       "      <td>NaN</td>\n",
       "      <td>NaN</td>\n",
       "      <td>04/05/2021</td>\n",
       "      <td>ul. Jubilerska 6 - 04-190 Warszawa, Mazowiecki...</td>\n",
       "      <td>[]</td>\n",
       "    </tr>\n",
       "    <tr>\n",
       "      <th>1</th>\n",
       "      <td>1</td>\n",
       "      <td>43500</td>\n",
       "      <td>PLN</td>\n",
       "      <td>Used</td>\n",
       "      <td>Abarth</td>\n",
       "      <td>Other</td>\n",
       "      <td>NaN</td>\n",
       "      <td>NaN</td>\n",
       "      <td>1974</td>\n",
       "      <td>59000.0</td>\n",
       "      <td>...</td>\n",
       "      <td>Manual</td>\n",
       "      <td>coupe</td>\n",
       "      <td>2.0</td>\n",
       "      <td>silver</td>\n",
       "      <td>NaN</td>\n",
       "      <td>NaN</td>\n",
       "      <td>NaN</td>\n",
       "      <td>03/05/2021</td>\n",
       "      <td>kanonierska12 - 04-425 Warszawa, Rembertów (Po...</td>\n",
       "      <td>[]</td>\n",
       "    </tr>\n",
       "    <tr>\n",
       "      <th>2</th>\n",
       "      <td>2</td>\n",
       "      <td>44900</td>\n",
       "      <td>PLN</td>\n",
       "      <td>Used</td>\n",
       "      <td>Abarth</td>\n",
       "      <td>500</td>\n",
       "      <td>NaN</td>\n",
       "      <td>NaN</td>\n",
       "      <td>2018</td>\n",
       "      <td>52000.0</td>\n",
       "      <td>...</td>\n",
       "      <td>Automatic</td>\n",
       "      <td>small_cars</td>\n",
       "      <td>3.0</td>\n",
       "      <td>silver</td>\n",
       "      <td>NaN</td>\n",
       "      <td>NaN</td>\n",
       "      <td>NaN</td>\n",
       "      <td>03/05/2021</td>\n",
       "      <td>Warszawa, Mazowieckie, Białołęka</td>\n",
       "      <td>['ABS', 'Electric front windows', 'Drivers air...</td>\n",
       "    </tr>\n",
       "    <tr>\n",
       "      <th>3</th>\n",
       "      <td>3</td>\n",
       "      <td>39900</td>\n",
       "      <td>PLN</td>\n",
       "      <td>Used</td>\n",
       "      <td>Abarth</td>\n",
       "      <td>500</td>\n",
       "      <td>NaN</td>\n",
       "      <td>NaN</td>\n",
       "      <td>2012</td>\n",
       "      <td>29000.0</td>\n",
       "      <td>...</td>\n",
       "      <td>Manual</td>\n",
       "      <td>small_cars</td>\n",
       "      <td>3.0</td>\n",
       "      <td>gray</td>\n",
       "      <td>NaN</td>\n",
       "      <td>NaN</td>\n",
       "      <td>NaN</td>\n",
       "      <td>30/04/2021</td>\n",
       "      <td>Jaworzno, Śląskie</td>\n",
       "      <td>['ABS', 'Electric front windows', 'Drivers air...</td>\n",
       "    </tr>\n",
       "    <tr>\n",
       "      <th>4</th>\n",
       "      <td>4</td>\n",
       "      <td>97900</td>\n",
       "      <td>PLN</td>\n",
       "      <td>New</td>\n",
       "      <td>Abarth</td>\n",
       "      <td>595</td>\n",
       "      <td>NaN</td>\n",
       "      <td>NaN</td>\n",
       "      <td>2021</td>\n",
       "      <td>600.0</td>\n",
       "      <td>...</td>\n",
       "      <td>Manual</td>\n",
       "      <td>small_cars</td>\n",
       "      <td>3.0</td>\n",
       "      <td>blue</td>\n",
       "      <td>NaN</td>\n",
       "      <td>NaN</td>\n",
       "      <td>NaN</td>\n",
       "      <td>30/04/2021</td>\n",
       "      <td>ul. Gorzysława 9 - 61-057 Poznań, Nowe Miasto ...</td>\n",
       "      <td>['ABS', 'Electrically adjustable mirrors', 'Pa...</td>\n",
       "    </tr>\n",
       "    <tr>\n",
       "      <th>...</th>\n",
       "      <td>...</td>\n",
       "      <td>...</td>\n",
       "      <td>...</td>\n",
       "      <td>...</td>\n",
       "      <td>...</td>\n",
       "      <td>...</td>\n",
       "      <td>...</td>\n",
       "      <td>...</td>\n",
       "      <td>...</td>\n",
       "      <td>...</td>\n",
       "      <td>...</td>\n",
       "      <td>...</td>\n",
       "      <td>...</td>\n",
       "      <td>...</td>\n",
       "      <td>...</td>\n",
       "      <td>...</td>\n",
       "      <td>...</td>\n",
       "      <td>...</td>\n",
       "      <td>...</td>\n",
       "      <td>...</td>\n",
       "      <td>...</td>\n",
       "    </tr>\n",
       "    <tr>\n",
       "      <th>208299</th>\n",
       "      <td>208299</td>\n",
       "      <td>39900</td>\n",
       "      <td>PLN</td>\n",
       "      <td>Used</td>\n",
       "      <td>Żuk</td>\n",
       "      <td>Other</td>\n",
       "      <td>NaN</td>\n",
       "      <td>NaN</td>\n",
       "      <td>2014</td>\n",
       "      <td>40000.0</td>\n",
       "      <td>...</td>\n",
       "      <td>Manual</td>\n",
       "      <td>small_cars</td>\n",
       "      <td>1.0</td>\n",
       "      <td>other</td>\n",
       "      <td>NaN</td>\n",
       "      <td>NaN</td>\n",
       "      <td>NaN</td>\n",
       "      <td>30/04/2021</td>\n",
       "      <td>ul. Huzarska 12 - 47-400 Racibórz, raciborski,...</td>\n",
       "      <td>[]</td>\n",
       "    </tr>\n",
       "    <tr>\n",
       "      <th>208300</th>\n",
       "      <td>208300</td>\n",
       "      <td>10900</td>\n",
       "      <td>PLN</td>\n",
       "      <td>Used</td>\n",
       "      <td>Żuk</td>\n",
       "      <td>Other</td>\n",
       "      <td>NaN</td>\n",
       "      <td>NaN</td>\n",
       "      <td>1970</td>\n",
       "      <td>63518.0</td>\n",
       "      <td>...</td>\n",
       "      <td>Manual</td>\n",
       "      <td>station_wagon</td>\n",
       "      <td>4.0</td>\n",
       "      <td>other</td>\n",
       "      <td>Poland</td>\n",
       "      <td>NaN</td>\n",
       "      <td>NaN</td>\n",
       "      <td>02/05/2021</td>\n",
       "      <td>Włocławek, Kujawsko-pomorskie</td>\n",
       "      <td>[]</td>\n",
       "    </tr>\n",
       "    <tr>\n",
       "      <th>208301</th>\n",
       "      <td>208301</td>\n",
       "      <td>6900</td>\n",
       "      <td>PLN</td>\n",
       "      <td>Used</td>\n",
       "      <td>Żuk</td>\n",
       "      <td>Other</td>\n",
       "      <td>NaN</td>\n",
       "      <td>NaN</td>\n",
       "      <td>1977</td>\n",
       "      <td>11880.0</td>\n",
       "      <td>...</td>\n",
       "      <td>Manual</td>\n",
       "      <td>SUV</td>\n",
       "      <td>3.0</td>\n",
       "      <td>red</td>\n",
       "      <td>NaN</td>\n",
       "      <td>NaN</td>\n",
       "      <td>11/06/1977</td>\n",
       "      <td>28/04/2021</td>\n",
       "      <td>Złotów, złotowski, Wielkopolskie</td>\n",
       "      <td>[]</td>\n",
       "    </tr>\n",
       "    <tr>\n",
       "      <th>208302</th>\n",
       "      <td>208302</td>\n",
       "      <td>5700</td>\n",
       "      <td>PLN</td>\n",
       "      <td>Used</td>\n",
       "      <td>Żuk</td>\n",
       "      <td>Other</td>\n",
       "      <td>NaN</td>\n",
       "      <td>NaN</td>\n",
       "      <td>1986</td>\n",
       "      <td>100000.0</td>\n",
       "      <td>...</td>\n",
       "      <td>Manual</td>\n",
       "      <td>minivan</td>\n",
       "      <td>2.0</td>\n",
       "      <td>blue</td>\n",
       "      <td>NaN</td>\n",
       "      <td>NaN</td>\n",
       "      <td>NaN</td>\n",
       "      <td>24/04/2021</td>\n",
       "      <td>Kraczkowa, łańcucki, Podkarpackie</td>\n",
       "      <td>[]</td>\n",
       "    </tr>\n",
       "    <tr>\n",
       "      <th>208303</th>\n",
       "      <td>208303</td>\n",
       "      <td>11900</td>\n",
       "      <td>PLN</td>\n",
       "      <td>Used</td>\n",
       "      <td>Żuk</td>\n",
       "      <td>Other</td>\n",
       "      <td>NaN</td>\n",
       "      <td>NaN</td>\n",
       "      <td>1985</td>\n",
       "      <td>20056.0</td>\n",
       "      <td>...</td>\n",
       "      <td>Manual</td>\n",
       "      <td>minivan</td>\n",
       "      <td>3.0</td>\n",
       "      <td>red</td>\n",
       "      <td>NaN</td>\n",
       "      <td>NaN</td>\n",
       "      <td>NaN</td>\n",
       "      <td>04/05/2021</td>\n",
       "      <td>Szczecińska 40 - 75-137 Koszalin, Zachodniopom...</td>\n",
       "      <td>[]</td>\n",
       "    </tr>\n",
       "  </tbody>\n",
       "</table>\n",
       "<p>208304 rows × 25 columns</p>\n",
       "</div>"
      ],
      "text/plain": [
       "         Index  Price Currency Condition Vehicle_brand Vehicle_model  \\\n",
       "0            0  86200      PLN       New        Abarth           595   \n",
       "1            1  43500      PLN      Used        Abarth         Other   \n",
       "2            2  44900      PLN      Used        Abarth           500   \n",
       "3            3  39900      PLN      Used        Abarth           500   \n",
       "4            4  97900      PLN       New        Abarth           595   \n",
       "...        ...    ...      ...       ...           ...           ...   \n",
       "208299  208299  39900      PLN      Used           Żuk         Other   \n",
       "208300  208300  10900      PLN      Used           Żuk         Other   \n",
       "208301  208301   6900      PLN      Used           Żuk         Other   \n",
       "208302  208302   5700      PLN      Used           Żuk         Other   \n",
       "208303  208303  11900      PLN      Used           Żuk         Other   \n",
       "\n",
       "       Vehicle_version Vehicle_generation  Production_year  Mileage_km  ...  \\\n",
       "0                  NaN                NaN             2021         1.0  ...   \n",
       "1                  NaN                NaN             1974     59000.0  ...   \n",
       "2                  NaN                NaN             2018     52000.0  ...   \n",
       "3                  NaN                NaN             2012     29000.0  ...   \n",
       "4                  NaN                NaN             2021       600.0  ...   \n",
       "...                ...                ...              ...         ...  ...   \n",
       "208299             NaN                NaN             2014     40000.0  ...   \n",
       "208300             NaN                NaN             1970     63518.0  ...   \n",
       "208301             NaN                NaN             1977     11880.0  ...   \n",
       "208302             NaN                NaN             1986    100000.0  ...   \n",
       "208303             NaN                NaN             1985     20056.0  ...   \n",
       "\n",
       "        Transmission           Type Doors_number  Colour Origin_country  \\\n",
       "0             Manual     small_cars          3.0    gray            NaN   \n",
       "1             Manual          coupe          2.0  silver            NaN   \n",
       "2          Automatic     small_cars          3.0  silver            NaN   \n",
       "3             Manual     small_cars          3.0    gray            NaN   \n",
       "4             Manual     small_cars          3.0    blue            NaN   \n",
       "...              ...            ...          ...     ...            ...   \n",
       "208299        Manual     small_cars          1.0   other            NaN   \n",
       "208300        Manual  station_wagon          4.0   other         Poland   \n",
       "208301        Manual            SUV          3.0     red            NaN   \n",
       "208302        Manual        minivan          2.0    blue            NaN   \n",
       "208303        Manual        minivan          3.0     red            NaN   \n",
       "\n",
       "       First_owner First_registration_date  Offer_publication_date  \\\n",
       "0              NaN                     NaN              04/05/2021   \n",
       "1              NaN                     NaN              03/05/2021   \n",
       "2              NaN                     NaN              03/05/2021   \n",
       "3              NaN                     NaN              30/04/2021   \n",
       "4              NaN                     NaN              30/04/2021   \n",
       "...            ...                     ...                     ...   \n",
       "208299         NaN                     NaN              30/04/2021   \n",
       "208300         NaN                     NaN              02/05/2021   \n",
       "208301         NaN              11/06/1977              28/04/2021   \n",
       "208302         NaN                     NaN              24/04/2021   \n",
       "208303         NaN                     NaN              04/05/2021   \n",
       "\n",
       "                                           Offer_location  \\\n",
       "0       ul. Jubilerska 6 - 04-190 Warszawa, Mazowiecki...   \n",
       "1       kanonierska12 - 04-425 Warszawa, Rembertów (Po...   \n",
       "2                        Warszawa, Mazowieckie, Białołęka   \n",
       "3                                       Jaworzno, Śląskie   \n",
       "4       ul. Gorzysława 9 - 61-057 Poznań, Nowe Miasto ...   \n",
       "...                                                   ...   \n",
       "208299  ul. Huzarska 12 - 47-400 Racibórz, raciborski,...   \n",
       "208300                      Włocławek, Kujawsko-pomorskie   \n",
       "208301                   Złotów, złotowski, Wielkopolskie   \n",
       "208302                  Kraczkowa, łańcucki, Podkarpackie   \n",
       "208303  Szczecińska 40 - 75-137 Koszalin, Zachodniopom...   \n",
       "\n",
       "                                                 Features  \n",
       "0                                                      []  \n",
       "1                                                      []  \n",
       "2       ['ABS', 'Electric front windows', 'Drivers air...  \n",
       "3       ['ABS', 'Electric front windows', 'Drivers air...  \n",
       "4       ['ABS', 'Electrically adjustable mirrors', 'Pa...  \n",
       "...                                                   ...  \n",
       "208299                                                 []  \n",
       "208300                                                 []  \n",
       "208301                                                 []  \n",
       "208302                                                 []  \n",
       "208303                                                 []  \n",
       "\n",
       "[208304 rows x 25 columns]"
      ]
     },
     "execution_count": 3,
     "metadata": {},
     "output_type": "execute_result"
    }
   ],
   "source": [
    "data"
   ]
  },
  {
   "cell_type": "code",
   "execution_count": 4,
   "id": "ef5e5ff3",
   "metadata": {},
   "outputs": [
    {
     "data": {
      "text/plain": [
       "(208304, 25)"
      ]
     },
     "execution_count": 4,
     "metadata": {},
     "output_type": "execute_result"
    }
   ],
   "source": [
    "data.shape"
   ]
  },
  {
   "cell_type": "code",
   "execution_count": 5,
   "id": "a87d7deb",
   "metadata": {},
   "outputs": [
    {
     "data": {
      "text/plain": [
       "Index                           0\n",
       "Price                           0\n",
       "Currency                        0\n",
       "Condition                       0\n",
       "Vehicle_brand                   0\n",
       "Vehicle_model                   0\n",
       "Vehicle_version             70222\n",
       "Vehicle_generation          60444\n",
       "Production_year                 0\n",
       "Mileage_km                    983\n",
       "Power_HP                      643\n",
       "Displacement_cm3             1966\n",
       "Fuel_type                       0\n",
       "CO2_emissions              114257\n",
       "Drive                       15076\n",
       "Transmission                  479\n",
       "Type                            0\n",
       "Doors_number                 1487\n",
       "Colour                          0\n",
       "Origin_country              89992\n",
       "First_owner                143210\n",
       "First_registration_date    121859\n",
       "Offer_publication_date          0\n",
       "Offer_location                  0\n",
       "Features                        0\n",
       "dtype: int64"
      ]
     },
     "execution_count": 5,
     "metadata": {},
     "output_type": "execute_result"
    }
   ],
   "source": [
    "data.isnull().sum()"
   ]
  },
  {
   "cell_type": "markdown",
   "id": "abb5be56",
   "metadata": {},
   "source": [
    "# Preprocessing"
   ]
  },
  {
   "cell_type": "markdown",
   "id": "f1469184",
   "metadata": {},
   "source": [
    "### Index : "
   ]
  },
  {
   "cell_type": "code",
   "execution_count": 6,
   "id": "beeace06",
   "metadata": {},
   "outputs": [],
   "source": [
    "data_1 = data.copy()\n",
    "data_1 = data_1.drop(['Index'],axis=1)"
   ]
  },
  {
   "cell_type": "code",
   "execution_count": 7,
   "id": "ef44e3f0",
   "metadata": {},
   "outputs": [
    {
     "data": {
      "text/html": [
       "<div>\n",
       "<style scoped>\n",
       "    .dataframe tbody tr th:only-of-type {\n",
       "        vertical-align: middle;\n",
       "    }\n",
       "\n",
       "    .dataframe tbody tr th {\n",
       "        vertical-align: top;\n",
       "    }\n",
       "\n",
       "    .dataframe thead th {\n",
       "        text-align: right;\n",
       "    }\n",
       "</style>\n",
       "<table border=\"1\" class=\"dataframe\">\n",
       "  <thead>\n",
       "    <tr style=\"text-align: right;\">\n",
       "      <th></th>\n",
       "      <th>Price</th>\n",
       "      <th>Currency</th>\n",
       "      <th>Condition</th>\n",
       "      <th>Vehicle_brand</th>\n",
       "      <th>Vehicle_model</th>\n",
       "      <th>Vehicle_version</th>\n",
       "      <th>Vehicle_generation</th>\n",
       "      <th>Production_year</th>\n",
       "      <th>Mileage_km</th>\n",
       "      <th>Power_HP</th>\n",
       "      <th>...</th>\n",
       "      <th>Transmission</th>\n",
       "      <th>Type</th>\n",
       "      <th>Doors_number</th>\n",
       "      <th>Colour</th>\n",
       "      <th>Origin_country</th>\n",
       "      <th>First_owner</th>\n",
       "      <th>First_registration_date</th>\n",
       "      <th>Offer_publication_date</th>\n",
       "      <th>Offer_location</th>\n",
       "      <th>Features</th>\n",
       "    </tr>\n",
       "  </thead>\n",
       "  <tbody>\n",
       "    <tr>\n",
       "      <th>0</th>\n",
       "      <td>86200</td>\n",
       "      <td>PLN</td>\n",
       "      <td>New</td>\n",
       "      <td>Abarth</td>\n",
       "      <td>595</td>\n",
       "      <td>NaN</td>\n",
       "      <td>NaN</td>\n",
       "      <td>2021</td>\n",
       "      <td>1.0</td>\n",
       "      <td>145.0</td>\n",
       "      <td>...</td>\n",
       "      <td>Manual</td>\n",
       "      <td>small_cars</td>\n",
       "      <td>3.0</td>\n",
       "      <td>gray</td>\n",
       "      <td>NaN</td>\n",
       "      <td>NaN</td>\n",
       "      <td>NaN</td>\n",
       "      <td>04/05/2021</td>\n",
       "      <td>ul. Jubilerska 6 - 04-190 Warszawa, Mazowiecki...</td>\n",
       "      <td>[]</td>\n",
       "    </tr>\n",
       "    <tr>\n",
       "      <th>1</th>\n",
       "      <td>43500</td>\n",
       "      <td>PLN</td>\n",
       "      <td>Used</td>\n",
       "      <td>Abarth</td>\n",
       "      <td>Other</td>\n",
       "      <td>NaN</td>\n",
       "      <td>NaN</td>\n",
       "      <td>1974</td>\n",
       "      <td>59000.0</td>\n",
       "      <td>75.0</td>\n",
       "      <td>...</td>\n",
       "      <td>Manual</td>\n",
       "      <td>coupe</td>\n",
       "      <td>2.0</td>\n",
       "      <td>silver</td>\n",
       "      <td>NaN</td>\n",
       "      <td>NaN</td>\n",
       "      <td>NaN</td>\n",
       "      <td>03/05/2021</td>\n",
       "      <td>kanonierska12 - 04-425 Warszawa, Rembertów (Po...</td>\n",
       "      <td>[]</td>\n",
       "    </tr>\n",
       "    <tr>\n",
       "      <th>2</th>\n",
       "      <td>44900</td>\n",
       "      <td>PLN</td>\n",
       "      <td>Used</td>\n",
       "      <td>Abarth</td>\n",
       "      <td>500</td>\n",
       "      <td>NaN</td>\n",
       "      <td>NaN</td>\n",
       "      <td>2018</td>\n",
       "      <td>52000.0</td>\n",
       "      <td>180.0</td>\n",
       "      <td>...</td>\n",
       "      <td>Automatic</td>\n",
       "      <td>small_cars</td>\n",
       "      <td>3.0</td>\n",
       "      <td>silver</td>\n",
       "      <td>NaN</td>\n",
       "      <td>NaN</td>\n",
       "      <td>NaN</td>\n",
       "      <td>03/05/2021</td>\n",
       "      <td>Warszawa, Mazowieckie, Białołęka</td>\n",
       "      <td>['ABS', 'Electric front windows', 'Drivers air...</td>\n",
       "    </tr>\n",
       "    <tr>\n",
       "      <th>3</th>\n",
       "      <td>39900</td>\n",
       "      <td>PLN</td>\n",
       "      <td>Used</td>\n",
       "      <td>Abarth</td>\n",
       "      <td>500</td>\n",
       "      <td>NaN</td>\n",
       "      <td>NaN</td>\n",
       "      <td>2012</td>\n",
       "      <td>29000.0</td>\n",
       "      <td>160.0</td>\n",
       "      <td>...</td>\n",
       "      <td>Manual</td>\n",
       "      <td>small_cars</td>\n",
       "      <td>3.0</td>\n",
       "      <td>gray</td>\n",
       "      <td>NaN</td>\n",
       "      <td>NaN</td>\n",
       "      <td>NaN</td>\n",
       "      <td>30/04/2021</td>\n",
       "      <td>Jaworzno, Śląskie</td>\n",
       "      <td>['ABS', 'Electric front windows', 'Drivers air...</td>\n",
       "    </tr>\n",
       "    <tr>\n",
       "      <th>4</th>\n",
       "      <td>97900</td>\n",
       "      <td>PLN</td>\n",
       "      <td>New</td>\n",
       "      <td>Abarth</td>\n",
       "      <td>595</td>\n",
       "      <td>NaN</td>\n",
       "      <td>NaN</td>\n",
       "      <td>2021</td>\n",
       "      <td>600.0</td>\n",
       "      <td>165.0</td>\n",
       "      <td>...</td>\n",
       "      <td>Manual</td>\n",
       "      <td>small_cars</td>\n",
       "      <td>3.0</td>\n",
       "      <td>blue</td>\n",
       "      <td>NaN</td>\n",
       "      <td>NaN</td>\n",
       "      <td>NaN</td>\n",
       "      <td>30/04/2021</td>\n",
       "      <td>ul. Gorzysława 9 - 61-057 Poznań, Nowe Miasto ...</td>\n",
       "      <td>['ABS', 'Electrically adjustable mirrors', 'Pa...</td>\n",
       "    </tr>\n",
       "    <tr>\n",
       "      <th>...</th>\n",
       "      <td>...</td>\n",
       "      <td>...</td>\n",
       "      <td>...</td>\n",
       "      <td>...</td>\n",
       "      <td>...</td>\n",
       "      <td>...</td>\n",
       "      <td>...</td>\n",
       "      <td>...</td>\n",
       "      <td>...</td>\n",
       "      <td>...</td>\n",
       "      <td>...</td>\n",
       "      <td>...</td>\n",
       "      <td>...</td>\n",
       "      <td>...</td>\n",
       "      <td>...</td>\n",
       "      <td>...</td>\n",
       "      <td>...</td>\n",
       "      <td>...</td>\n",
       "      <td>...</td>\n",
       "      <td>...</td>\n",
       "      <td>...</td>\n",
       "    </tr>\n",
       "    <tr>\n",
       "      <th>208299</th>\n",
       "      <td>39900</td>\n",
       "      <td>PLN</td>\n",
       "      <td>Used</td>\n",
       "      <td>Żuk</td>\n",
       "      <td>Other</td>\n",
       "      <td>NaN</td>\n",
       "      <td>NaN</td>\n",
       "      <td>2014</td>\n",
       "      <td>40000.0</td>\n",
       "      <td>173.0</td>\n",
       "      <td>...</td>\n",
       "      <td>Manual</td>\n",
       "      <td>small_cars</td>\n",
       "      <td>1.0</td>\n",
       "      <td>other</td>\n",
       "      <td>NaN</td>\n",
       "      <td>NaN</td>\n",
       "      <td>NaN</td>\n",
       "      <td>30/04/2021</td>\n",
       "      <td>ul. Huzarska 12 - 47-400 Racibórz, raciborski,...</td>\n",
       "      <td>[]</td>\n",
       "    </tr>\n",
       "    <tr>\n",
       "      <th>208300</th>\n",
       "      <td>10900</td>\n",
       "      <td>PLN</td>\n",
       "      <td>Used</td>\n",
       "      <td>Żuk</td>\n",
       "      <td>Other</td>\n",
       "      <td>NaN</td>\n",
       "      <td>NaN</td>\n",
       "      <td>1970</td>\n",
       "      <td>63518.0</td>\n",
       "      <td>70.0</td>\n",
       "      <td>...</td>\n",
       "      <td>Manual</td>\n",
       "      <td>station_wagon</td>\n",
       "      <td>4.0</td>\n",
       "      <td>other</td>\n",
       "      <td>Poland</td>\n",
       "      <td>NaN</td>\n",
       "      <td>NaN</td>\n",
       "      <td>02/05/2021</td>\n",
       "      <td>Włocławek, Kujawsko-pomorskie</td>\n",
       "      <td>[]</td>\n",
       "    </tr>\n",
       "    <tr>\n",
       "      <th>208301</th>\n",
       "      <td>6900</td>\n",
       "      <td>PLN</td>\n",
       "      <td>Used</td>\n",
       "      <td>Żuk</td>\n",
       "      <td>Other</td>\n",
       "      <td>NaN</td>\n",
       "      <td>NaN</td>\n",
       "      <td>1977</td>\n",
       "      <td>11880.0</td>\n",
       "      <td>60.0</td>\n",
       "      <td>...</td>\n",
       "      <td>Manual</td>\n",
       "      <td>SUV</td>\n",
       "      <td>3.0</td>\n",
       "      <td>red</td>\n",
       "      <td>NaN</td>\n",
       "      <td>NaN</td>\n",
       "      <td>11/06/1977</td>\n",
       "      <td>28/04/2021</td>\n",
       "      <td>Złotów, złotowski, Wielkopolskie</td>\n",
       "      <td>[]</td>\n",
       "    </tr>\n",
       "    <tr>\n",
       "      <th>208302</th>\n",
       "      <td>5700</td>\n",
       "      <td>PLN</td>\n",
       "      <td>Used</td>\n",
       "      <td>Żuk</td>\n",
       "      <td>Other</td>\n",
       "      <td>NaN</td>\n",
       "      <td>NaN</td>\n",
       "      <td>1986</td>\n",
       "      <td>100000.0</td>\n",
       "      <td>36.0</td>\n",
       "      <td>...</td>\n",
       "      <td>Manual</td>\n",
       "      <td>minivan</td>\n",
       "      <td>2.0</td>\n",
       "      <td>blue</td>\n",
       "      <td>NaN</td>\n",
       "      <td>NaN</td>\n",
       "      <td>NaN</td>\n",
       "      <td>24/04/2021</td>\n",
       "      <td>Kraczkowa, łańcucki, Podkarpackie</td>\n",
       "      <td>[]</td>\n",
       "    </tr>\n",
       "    <tr>\n",
       "      <th>208303</th>\n",
       "      <td>11900</td>\n",
       "      <td>PLN</td>\n",
       "      <td>Used</td>\n",
       "      <td>Żuk</td>\n",
       "      <td>Other</td>\n",
       "      <td>NaN</td>\n",
       "      <td>NaN</td>\n",
       "      <td>1985</td>\n",
       "      <td>20056.0</td>\n",
       "      <td>70.0</td>\n",
       "      <td>...</td>\n",
       "      <td>Manual</td>\n",
       "      <td>minivan</td>\n",
       "      <td>3.0</td>\n",
       "      <td>red</td>\n",
       "      <td>NaN</td>\n",
       "      <td>NaN</td>\n",
       "      <td>NaN</td>\n",
       "      <td>04/05/2021</td>\n",
       "      <td>Szczecińska 40 - 75-137 Koszalin, Zachodniopom...</td>\n",
       "      <td>[]</td>\n",
       "    </tr>\n",
       "  </tbody>\n",
       "</table>\n",
       "<p>208304 rows × 24 columns</p>\n",
       "</div>"
      ],
      "text/plain": [
       "        Price Currency Condition Vehicle_brand Vehicle_model Vehicle_version  \\\n",
       "0       86200      PLN       New        Abarth           595             NaN   \n",
       "1       43500      PLN      Used        Abarth         Other             NaN   \n",
       "2       44900      PLN      Used        Abarth           500             NaN   \n",
       "3       39900      PLN      Used        Abarth           500             NaN   \n",
       "4       97900      PLN       New        Abarth           595             NaN   \n",
       "...       ...      ...       ...           ...           ...             ...   \n",
       "208299  39900      PLN      Used           Żuk         Other             NaN   \n",
       "208300  10900      PLN      Used           Żuk         Other             NaN   \n",
       "208301   6900      PLN      Used           Żuk         Other             NaN   \n",
       "208302   5700      PLN      Used           Żuk         Other             NaN   \n",
       "208303  11900      PLN      Used           Żuk         Other             NaN   \n",
       "\n",
       "       Vehicle_generation  Production_year  Mileage_km  Power_HP  ...  \\\n",
       "0                     NaN             2021         1.0     145.0  ...   \n",
       "1                     NaN             1974     59000.0      75.0  ...   \n",
       "2                     NaN             2018     52000.0     180.0  ...   \n",
       "3                     NaN             2012     29000.0     160.0  ...   \n",
       "4                     NaN             2021       600.0     165.0  ...   \n",
       "...                   ...              ...         ...       ...  ...   \n",
       "208299                NaN             2014     40000.0     173.0  ...   \n",
       "208300                NaN             1970     63518.0      70.0  ...   \n",
       "208301                NaN             1977     11880.0      60.0  ...   \n",
       "208302                NaN             1986    100000.0      36.0  ...   \n",
       "208303                NaN             1985     20056.0      70.0  ...   \n",
       "\n",
       "        Transmission           Type  Doors_number  Colour Origin_country  \\\n",
       "0             Manual     small_cars           3.0    gray            NaN   \n",
       "1             Manual          coupe           2.0  silver            NaN   \n",
       "2          Automatic     small_cars           3.0  silver            NaN   \n",
       "3             Manual     small_cars           3.0    gray            NaN   \n",
       "4             Manual     small_cars           3.0    blue            NaN   \n",
       "...              ...            ...           ...     ...            ...   \n",
       "208299        Manual     small_cars           1.0   other            NaN   \n",
       "208300        Manual  station_wagon           4.0   other         Poland   \n",
       "208301        Manual            SUV           3.0     red            NaN   \n",
       "208302        Manual        minivan           2.0    blue            NaN   \n",
       "208303        Manual        minivan           3.0     red            NaN   \n",
       "\n",
       "       First_owner  First_registration_date Offer_publication_date  \\\n",
       "0              NaN                      NaN             04/05/2021   \n",
       "1              NaN                      NaN             03/05/2021   \n",
       "2              NaN                      NaN             03/05/2021   \n",
       "3              NaN                      NaN             30/04/2021   \n",
       "4              NaN                      NaN             30/04/2021   \n",
       "...            ...                      ...                    ...   \n",
       "208299         NaN                      NaN             30/04/2021   \n",
       "208300         NaN                      NaN             02/05/2021   \n",
       "208301         NaN               11/06/1977             28/04/2021   \n",
       "208302         NaN                      NaN             24/04/2021   \n",
       "208303         NaN                      NaN             04/05/2021   \n",
       "\n",
       "                                           Offer_location  \\\n",
       "0       ul. Jubilerska 6 - 04-190 Warszawa, Mazowiecki...   \n",
       "1       kanonierska12 - 04-425 Warszawa, Rembertów (Po...   \n",
       "2                        Warszawa, Mazowieckie, Białołęka   \n",
       "3                                       Jaworzno, Śląskie   \n",
       "4       ul. Gorzysława 9 - 61-057 Poznań, Nowe Miasto ...   \n",
       "...                                                   ...   \n",
       "208299  ul. Huzarska 12 - 47-400 Racibórz, raciborski,...   \n",
       "208300                      Włocławek, Kujawsko-pomorskie   \n",
       "208301                   Złotów, złotowski, Wielkopolskie   \n",
       "208302                  Kraczkowa, łańcucki, Podkarpackie   \n",
       "208303  Szczecińska 40 - 75-137 Koszalin, Zachodniopom...   \n",
       "\n",
       "                                                 Features  \n",
       "0                                                      []  \n",
       "1                                                      []  \n",
       "2       ['ABS', 'Electric front windows', 'Drivers air...  \n",
       "3       ['ABS', 'Electric front windows', 'Drivers air...  \n",
       "4       ['ABS', 'Electrically adjustable mirrors', 'Pa...  \n",
       "...                                                   ...  \n",
       "208299                                                 []  \n",
       "208300                                                 []  \n",
       "208301                                                 []  \n",
       "208302                                                 []  \n",
       "208303                                                 []  \n",
       "\n",
       "[208304 rows x 24 columns]"
      ]
     },
     "execution_count": 7,
     "metadata": {},
     "output_type": "execute_result"
    }
   ],
   "source": [
    "data_1"
   ]
  },
  {
   "cell_type": "markdown",
   "id": "0314b643",
   "metadata": {},
   "source": [
    "### Currency :"
   ]
  },
  {
   "cell_type": "code",
   "execution_count": 8,
   "id": "eaa5b7c7",
   "metadata": {},
   "outputs": [],
   "source": [
    "data_2 = data_1.copy()"
   ]
  },
  {
   "cell_type": "code",
   "execution_count": 9,
   "id": "12ad0367",
   "metadata": {
    "scrolled": true
   },
   "outputs": [
    {
     "data": {
      "text/plain": [
       "PLN    208034\n",
       "EUR       270\n",
       "Name: Currency, dtype: int64"
      ]
     },
     "execution_count": 9,
     "metadata": {},
     "output_type": "execute_result"
    }
   ],
   "source": [
    "data_2['Currency'].value_counts()"
   ]
  },
  {
   "cell_type": "code",
   "execution_count": 10,
   "id": "2aa410a6",
   "metadata": {},
   "outputs": [],
   "source": [
    "Currency_dummies = pd.get_dummies(data_2['Currency'],drop_first=True)"
   ]
  },
  {
   "cell_type": "code",
   "execution_count": 11,
   "id": "e19af2f8",
   "metadata": {
    "scrolled": true
   },
   "outputs": [],
   "source": [
    "data_2 = pd.concat([data_2,Currency_dummies],axis=1)"
   ]
  },
  {
   "cell_type": "code",
   "execution_count": 12,
   "id": "25e09858",
   "metadata": {},
   "outputs": [],
   "source": [
    "data_2 = data_2.drop(['Currency'],axis=1)"
   ]
  },
  {
   "cell_type": "markdown",
   "id": "1948e447",
   "metadata": {},
   "source": [
    "### Condition"
   ]
  },
  {
   "cell_type": "code",
   "execution_count": 13,
   "id": "7fb42174",
   "metadata": {},
   "outputs": [],
   "source": [
    "data_3 = data_2.copy()"
   ]
  },
  {
   "cell_type": "code",
   "execution_count": 14,
   "id": "d6342082",
   "metadata": {},
   "outputs": [
    {
     "data": {
      "text/plain": [
       "Used    182850\n",
       "New      25454\n",
       "Name: Condition, dtype: int64"
      ]
     },
     "execution_count": 14,
     "metadata": {},
     "output_type": "execute_result"
    }
   ],
   "source": [
    "data_3['Condition'].value_counts()"
   ]
  },
  {
   "cell_type": "code",
   "execution_count": 15,
   "id": "be3b99c6",
   "metadata": {},
   "outputs": [
    {
     "data": {
      "text/html": [
       "<div>\n",
       "<style scoped>\n",
       "    .dataframe tbody tr th:only-of-type {\n",
       "        vertical-align: middle;\n",
       "    }\n",
       "\n",
       "    .dataframe tbody tr th {\n",
       "        vertical-align: top;\n",
       "    }\n",
       "\n",
       "    .dataframe thead th {\n",
       "        text-align: right;\n",
       "    }\n",
       "</style>\n",
       "<table border=\"1\" class=\"dataframe\">\n",
       "  <thead>\n",
       "    <tr style=\"text-align: right;\">\n",
       "      <th></th>\n",
       "      <th>Used</th>\n",
       "    </tr>\n",
       "  </thead>\n",
       "  <tbody>\n",
       "    <tr>\n",
       "      <th>0</th>\n",
       "      <td>0</td>\n",
       "    </tr>\n",
       "    <tr>\n",
       "      <th>1</th>\n",
       "      <td>1</td>\n",
       "    </tr>\n",
       "    <tr>\n",
       "      <th>2</th>\n",
       "      <td>1</td>\n",
       "    </tr>\n",
       "    <tr>\n",
       "      <th>3</th>\n",
       "      <td>1</td>\n",
       "    </tr>\n",
       "    <tr>\n",
       "      <th>4</th>\n",
       "      <td>0</td>\n",
       "    </tr>\n",
       "    <tr>\n",
       "      <th>...</th>\n",
       "      <td>...</td>\n",
       "    </tr>\n",
       "    <tr>\n",
       "      <th>208299</th>\n",
       "      <td>1</td>\n",
       "    </tr>\n",
       "    <tr>\n",
       "      <th>208300</th>\n",
       "      <td>1</td>\n",
       "    </tr>\n",
       "    <tr>\n",
       "      <th>208301</th>\n",
       "      <td>1</td>\n",
       "    </tr>\n",
       "    <tr>\n",
       "      <th>208302</th>\n",
       "      <td>1</td>\n",
       "    </tr>\n",
       "    <tr>\n",
       "      <th>208303</th>\n",
       "      <td>1</td>\n",
       "    </tr>\n",
       "  </tbody>\n",
       "</table>\n",
       "<p>208304 rows × 1 columns</p>\n",
       "</div>"
      ],
      "text/plain": [
       "        Used\n",
       "0          0\n",
       "1          1\n",
       "2          1\n",
       "3          1\n",
       "4          0\n",
       "...      ...\n",
       "208299     1\n",
       "208300     1\n",
       "208301     1\n",
       "208302     1\n",
       "208303     1\n",
       "\n",
       "[208304 rows x 1 columns]"
      ]
     },
     "execution_count": 15,
     "metadata": {},
     "output_type": "execute_result"
    }
   ],
   "source": [
    "Condition_dummies = pd.get_dummies(data_3['Condition'],drop_first=True)\n",
    "Condition_dummies"
   ]
  },
  {
   "cell_type": "code",
   "execution_count": 16,
   "id": "19ffe374",
   "metadata": {},
   "outputs": [
    {
     "data": {
      "text/html": [
       "<div>\n",
       "<style scoped>\n",
       "    .dataframe tbody tr th:only-of-type {\n",
       "        vertical-align: middle;\n",
       "    }\n",
       "\n",
       "    .dataframe tbody tr th {\n",
       "        vertical-align: top;\n",
       "    }\n",
       "\n",
       "    .dataframe thead th {\n",
       "        text-align: right;\n",
       "    }\n",
       "</style>\n",
       "<table border=\"1\" class=\"dataframe\">\n",
       "  <thead>\n",
       "    <tr style=\"text-align: right;\">\n",
       "      <th></th>\n",
       "      <th>Price</th>\n",
       "      <th>Condition</th>\n",
       "      <th>Vehicle_brand</th>\n",
       "      <th>Vehicle_model</th>\n",
       "      <th>Vehicle_version</th>\n",
       "      <th>Vehicle_generation</th>\n",
       "      <th>Production_year</th>\n",
       "      <th>Mileage_km</th>\n",
       "      <th>Power_HP</th>\n",
       "      <th>Displacement_cm3</th>\n",
       "      <th>...</th>\n",
       "      <th>Doors_number</th>\n",
       "      <th>Colour</th>\n",
       "      <th>Origin_country</th>\n",
       "      <th>First_owner</th>\n",
       "      <th>First_registration_date</th>\n",
       "      <th>Offer_publication_date</th>\n",
       "      <th>Offer_location</th>\n",
       "      <th>Features</th>\n",
       "      <th>PLN</th>\n",
       "      <th>Used</th>\n",
       "    </tr>\n",
       "  </thead>\n",
       "  <tbody>\n",
       "    <tr>\n",
       "      <th>0</th>\n",
       "      <td>86200</td>\n",
       "      <td>New</td>\n",
       "      <td>Abarth</td>\n",
       "      <td>595</td>\n",
       "      <td>NaN</td>\n",
       "      <td>NaN</td>\n",
       "      <td>2021</td>\n",
       "      <td>1.0</td>\n",
       "      <td>145.0</td>\n",
       "      <td>1400.0</td>\n",
       "      <td>...</td>\n",
       "      <td>3.0</td>\n",
       "      <td>gray</td>\n",
       "      <td>NaN</td>\n",
       "      <td>NaN</td>\n",
       "      <td>NaN</td>\n",
       "      <td>04/05/2021</td>\n",
       "      <td>ul. Jubilerska 6 - 04-190 Warszawa, Mazowiecki...</td>\n",
       "      <td>[]</td>\n",
       "      <td>1</td>\n",
       "      <td>0</td>\n",
       "    </tr>\n",
       "    <tr>\n",
       "      <th>1</th>\n",
       "      <td>43500</td>\n",
       "      <td>Used</td>\n",
       "      <td>Abarth</td>\n",
       "      <td>Other</td>\n",
       "      <td>NaN</td>\n",
       "      <td>NaN</td>\n",
       "      <td>1974</td>\n",
       "      <td>59000.0</td>\n",
       "      <td>75.0</td>\n",
       "      <td>1100.0</td>\n",
       "      <td>...</td>\n",
       "      <td>2.0</td>\n",
       "      <td>silver</td>\n",
       "      <td>NaN</td>\n",
       "      <td>NaN</td>\n",
       "      <td>NaN</td>\n",
       "      <td>03/05/2021</td>\n",
       "      <td>kanonierska12 - 04-425 Warszawa, Rembertów (Po...</td>\n",
       "      <td>[]</td>\n",
       "      <td>1</td>\n",
       "      <td>1</td>\n",
       "    </tr>\n",
       "    <tr>\n",
       "      <th>2</th>\n",
       "      <td>44900</td>\n",
       "      <td>Used</td>\n",
       "      <td>Abarth</td>\n",
       "      <td>500</td>\n",
       "      <td>NaN</td>\n",
       "      <td>NaN</td>\n",
       "      <td>2018</td>\n",
       "      <td>52000.0</td>\n",
       "      <td>180.0</td>\n",
       "      <td>1368.0</td>\n",
       "      <td>...</td>\n",
       "      <td>3.0</td>\n",
       "      <td>silver</td>\n",
       "      <td>NaN</td>\n",
       "      <td>NaN</td>\n",
       "      <td>NaN</td>\n",
       "      <td>03/05/2021</td>\n",
       "      <td>Warszawa, Mazowieckie, Białołęka</td>\n",
       "      <td>['ABS', 'Electric front windows', 'Drivers air...</td>\n",
       "      <td>1</td>\n",
       "      <td>1</td>\n",
       "    </tr>\n",
       "    <tr>\n",
       "      <th>3</th>\n",
       "      <td>39900</td>\n",
       "      <td>Used</td>\n",
       "      <td>Abarth</td>\n",
       "      <td>500</td>\n",
       "      <td>NaN</td>\n",
       "      <td>NaN</td>\n",
       "      <td>2012</td>\n",
       "      <td>29000.0</td>\n",
       "      <td>160.0</td>\n",
       "      <td>1368.0</td>\n",
       "      <td>...</td>\n",
       "      <td>3.0</td>\n",
       "      <td>gray</td>\n",
       "      <td>NaN</td>\n",
       "      <td>NaN</td>\n",
       "      <td>NaN</td>\n",
       "      <td>30/04/2021</td>\n",
       "      <td>Jaworzno, Śląskie</td>\n",
       "      <td>['ABS', 'Electric front windows', 'Drivers air...</td>\n",
       "      <td>1</td>\n",
       "      <td>1</td>\n",
       "    </tr>\n",
       "    <tr>\n",
       "      <th>4</th>\n",
       "      <td>97900</td>\n",
       "      <td>New</td>\n",
       "      <td>Abarth</td>\n",
       "      <td>595</td>\n",
       "      <td>NaN</td>\n",
       "      <td>NaN</td>\n",
       "      <td>2021</td>\n",
       "      <td>600.0</td>\n",
       "      <td>165.0</td>\n",
       "      <td>1368.0</td>\n",
       "      <td>...</td>\n",
       "      <td>3.0</td>\n",
       "      <td>blue</td>\n",
       "      <td>NaN</td>\n",
       "      <td>NaN</td>\n",
       "      <td>NaN</td>\n",
       "      <td>30/04/2021</td>\n",
       "      <td>ul. Gorzysława 9 - 61-057 Poznań, Nowe Miasto ...</td>\n",
       "      <td>['ABS', 'Electrically adjustable mirrors', 'Pa...</td>\n",
       "      <td>1</td>\n",
       "      <td>0</td>\n",
       "    </tr>\n",
       "  </tbody>\n",
       "</table>\n",
       "<p>5 rows × 25 columns</p>\n",
       "</div>"
      ],
      "text/plain": [
       "   Price Condition Vehicle_brand Vehicle_model Vehicle_version  \\\n",
       "0  86200       New        Abarth           595             NaN   \n",
       "1  43500      Used        Abarth         Other             NaN   \n",
       "2  44900      Used        Abarth           500             NaN   \n",
       "3  39900      Used        Abarth           500             NaN   \n",
       "4  97900       New        Abarth           595             NaN   \n",
       "\n",
       "  Vehicle_generation  Production_year  Mileage_km  Power_HP  Displacement_cm3  \\\n",
       "0                NaN             2021         1.0     145.0            1400.0   \n",
       "1                NaN             1974     59000.0      75.0            1100.0   \n",
       "2                NaN             2018     52000.0     180.0            1368.0   \n",
       "3                NaN             2012     29000.0     160.0            1368.0   \n",
       "4                NaN             2021       600.0     165.0            1368.0   \n",
       "\n",
       "   ... Doors_number  Colour Origin_country First_owner  \\\n",
       "0  ...          3.0    gray            NaN         NaN   \n",
       "1  ...          2.0  silver            NaN         NaN   \n",
       "2  ...          3.0  silver            NaN         NaN   \n",
       "3  ...          3.0    gray            NaN         NaN   \n",
       "4  ...          3.0    blue            NaN         NaN   \n",
       "\n",
       "  First_registration_date  Offer_publication_date  \\\n",
       "0                     NaN              04/05/2021   \n",
       "1                     NaN              03/05/2021   \n",
       "2                     NaN              03/05/2021   \n",
       "3                     NaN              30/04/2021   \n",
       "4                     NaN              30/04/2021   \n",
       "\n",
       "                                      Offer_location  \\\n",
       "0  ul. Jubilerska 6 - 04-190 Warszawa, Mazowiecki...   \n",
       "1  kanonierska12 - 04-425 Warszawa, Rembertów (Po...   \n",
       "2                   Warszawa, Mazowieckie, Białołęka   \n",
       "3                                  Jaworzno, Śląskie   \n",
       "4  ul. Gorzysława 9 - 61-057 Poznań, Nowe Miasto ...   \n",
       "\n",
       "                                            Features PLN Used  \n",
       "0                                                 []   1    0  \n",
       "1                                                 []   1    1  \n",
       "2  ['ABS', 'Electric front windows', 'Drivers air...   1    1  \n",
       "3  ['ABS', 'Electric front windows', 'Drivers air...   1    1  \n",
       "4  ['ABS', 'Electrically adjustable mirrors', 'Pa...   1    0  \n",
       "\n",
       "[5 rows x 25 columns]"
      ]
     },
     "execution_count": 16,
     "metadata": {},
     "output_type": "execute_result"
    }
   ],
   "source": [
    "data_3 = pd.concat([data_3,Condition_dummies],axis = 1)\n",
    "data_3.head()"
   ]
  },
  {
   "cell_type": "code",
   "execution_count": 17,
   "id": "64d965a9",
   "metadata": {},
   "outputs": [],
   "source": [
    "data_3 = data_3.drop(['Condition'],axis = 1)"
   ]
  },
  {
   "cell_type": "markdown",
   "id": "55d65f2d",
   "metadata": {},
   "source": [
    "## Vehicle Brand :"
   ]
  },
  {
   "cell_type": "code",
   "execution_count": 18,
   "id": "01a901a7",
   "metadata": {},
   "outputs": [],
   "source": [
    "data_4 = data_3.copy()"
   ]
  },
  {
   "cell_type": "code",
   "execution_count": 19,
   "id": "2e3410d7",
   "metadata": {
    "scrolled": true
   },
   "outputs": [
    {
     "data": {
      "text/plain": [
       "array(['Abarth', 'Acura', 'Aixam', 'Alfa Romeo', 'Alpine', 'Aston Martin',\n",
       "       'Audi', 'Austin', 'Autobianchi', 'Baic', 'Bentley', 'BMW', 'Buick',\n",
       "       'Cadillac', 'Casalini', 'Chatenet', 'Chevrolet', 'Chrysler',\n",
       "       'Citroën', 'Cupra', 'Dacia', 'Daewoo', 'Daihatsu', 'DFSK', 'DKW',\n",
       "       'Dodge', 'DS Automobiles', 'FAW', 'Ferrari', 'Fiat', 'Ford', 'Gaz',\n",
       "       'GMC', 'Grecav', 'Honda', 'Hummer', 'Hyundai', 'Infiniti', 'Isuzu',\n",
       "       'Iveco', 'Jaguar', 'Jeep', 'Kia', 'Lada', 'Lamborghini', 'Lancia',\n",
       "       'Land Rover', 'Lexus', 'Ligier', 'Lincoln', 'Lotus', 'MAN',\n",
       "       'Warszawa', 'Maserati', 'Maybach', 'Mazda', 'McLaren',\n",
       "       'Mercedes-Benz', 'Mercury', 'MG', 'Microcar', 'MINI', 'Mitsubishi',\n",
       "       'Moskwicz', 'Nissan', 'NSU', 'Nysa', 'Oldsmobile', 'Opel', 'Inny',\n",
       "       'Toyota', 'Tata', 'Uaz', 'Żuk', 'Trabant', 'Suzuki', 'Volvo',\n",
       "       'Volkswagen', 'Subaru', 'Zastava', 'SsangYong', 'Saab', 'Plymouth',\n",
       "       'Rolls-Royce', 'Renault', 'Peugeot', 'RAM', 'Triumph', 'Rover',\n",
       "       'Porsche', 'Wołga', 'Tarpan', 'Zaporożec', 'Polonez', 'Pontiac',\n",
       "       'Santana', 'Saturn', 'Scion', 'Seat', 'Škoda', 'Smart', 'Syrena',\n",
       "       'Talbot', 'Tavria', 'Tesla', 'Vanderhall', 'Vauxhall', 'Wartburg'],\n",
       "      dtype=object)"
      ]
     },
     "execution_count": 19,
     "metadata": {},
     "output_type": "execute_result"
    }
   ],
   "source": [
    "data_4['Vehicle_brand'].unique()"
   ]
  },
  {
   "cell_type": "code",
   "execution_count": 20,
   "id": "1953201b",
   "metadata": {},
   "outputs": [],
   "source": [
    "encoder = ce.BinaryEncoder(cols=['Vehicle_brand'])"
   ]
  },
  {
   "cell_type": "code",
   "execution_count": 21,
   "id": "75ea833a",
   "metadata": {},
   "outputs": [],
   "source": [
    "encoded_df = encoder.fit_transform(data_4,cols=['Vehicle_brand'])"
   ]
  },
  {
   "cell_type": "code",
   "execution_count": 22,
   "id": "2fc7e95c",
   "metadata": {},
   "outputs": [
    {
     "data": {
      "text/plain": [
       "Index(['Price', 'Vehicle_brand_0', 'Vehicle_brand_1', 'Vehicle_brand_2',\n",
       "       'Vehicle_brand_3', 'Vehicle_brand_4', 'Vehicle_brand_5',\n",
       "       'Vehicle_brand_6', 'Vehicle_model', 'Vehicle_version',\n",
       "       'Vehicle_generation', 'Production_year', 'Mileage_km', 'Power_HP',\n",
       "       'Displacement_cm3', 'Fuel_type', 'CO2_emissions', 'Drive',\n",
       "       'Transmission', 'Type', 'Doors_number', 'Colour', 'Origin_country',\n",
       "       'First_owner', 'First_registration_date', 'Offer_publication_date',\n",
       "       'Offer_location', 'Features', 'PLN', 'Used'],\n",
       "      dtype='object')"
      ]
     },
     "execution_count": 22,
     "metadata": {},
     "output_type": "execute_result"
    }
   ],
   "source": [
    "encoded_df.columns"
   ]
  },
  {
   "cell_type": "code",
   "execution_count": 23,
   "id": "caa1fe22",
   "metadata": {},
   "outputs": [],
   "source": [
    "data_4 = encoded_df.copy()"
   ]
  },
  {
   "cell_type": "code",
   "execution_count": 24,
   "id": "7964d7db",
   "metadata": {},
   "outputs": [
    {
     "data": {
      "text/html": [
       "<div>\n",
       "<style scoped>\n",
       "    .dataframe tbody tr th:only-of-type {\n",
       "        vertical-align: middle;\n",
       "    }\n",
       "\n",
       "    .dataframe tbody tr th {\n",
       "        vertical-align: top;\n",
       "    }\n",
       "\n",
       "    .dataframe thead th {\n",
       "        text-align: right;\n",
       "    }\n",
       "</style>\n",
       "<table border=\"1\" class=\"dataframe\">\n",
       "  <thead>\n",
       "    <tr style=\"text-align: right;\">\n",
       "      <th></th>\n",
       "      <th>Price</th>\n",
       "      <th>Vehicle_brand_0</th>\n",
       "      <th>Vehicle_brand_1</th>\n",
       "      <th>Vehicle_brand_2</th>\n",
       "      <th>Vehicle_brand_3</th>\n",
       "      <th>Vehicle_brand_4</th>\n",
       "      <th>Vehicle_brand_5</th>\n",
       "      <th>Vehicle_brand_6</th>\n",
       "      <th>Vehicle_model</th>\n",
       "      <th>Vehicle_version</th>\n",
       "      <th>...</th>\n",
       "      <th>Doors_number</th>\n",
       "      <th>Colour</th>\n",
       "      <th>Origin_country</th>\n",
       "      <th>First_owner</th>\n",
       "      <th>First_registration_date</th>\n",
       "      <th>Offer_publication_date</th>\n",
       "      <th>Offer_location</th>\n",
       "      <th>Features</th>\n",
       "      <th>PLN</th>\n",
       "      <th>Used</th>\n",
       "    </tr>\n",
       "  </thead>\n",
       "  <tbody>\n",
       "    <tr>\n",
       "      <th>0</th>\n",
       "      <td>86200</td>\n",
       "      <td>0</td>\n",
       "      <td>0</td>\n",
       "      <td>0</td>\n",
       "      <td>0</td>\n",
       "      <td>0</td>\n",
       "      <td>0</td>\n",
       "      <td>1</td>\n",
       "      <td>595</td>\n",
       "      <td>NaN</td>\n",
       "      <td>...</td>\n",
       "      <td>3.0</td>\n",
       "      <td>gray</td>\n",
       "      <td>NaN</td>\n",
       "      <td>NaN</td>\n",
       "      <td>NaN</td>\n",
       "      <td>04/05/2021</td>\n",
       "      <td>ul. Jubilerska 6 - 04-190 Warszawa, Mazowiecki...</td>\n",
       "      <td>[]</td>\n",
       "      <td>1</td>\n",
       "      <td>0</td>\n",
       "    </tr>\n",
       "    <tr>\n",
       "      <th>1</th>\n",
       "      <td>43500</td>\n",
       "      <td>0</td>\n",
       "      <td>0</td>\n",
       "      <td>0</td>\n",
       "      <td>0</td>\n",
       "      <td>0</td>\n",
       "      <td>0</td>\n",
       "      <td>1</td>\n",
       "      <td>Other</td>\n",
       "      <td>NaN</td>\n",
       "      <td>...</td>\n",
       "      <td>2.0</td>\n",
       "      <td>silver</td>\n",
       "      <td>NaN</td>\n",
       "      <td>NaN</td>\n",
       "      <td>NaN</td>\n",
       "      <td>03/05/2021</td>\n",
       "      <td>kanonierska12 - 04-425 Warszawa, Rembertów (Po...</td>\n",
       "      <td>[]</td>\n",
       "      <td>1</td>\n",
       "      <td>1</td>\n",
       "    </tr>\n",
       "    <tr>\n",
       "      <th>2</th>\n",
       "      <td>44900</td>\n",
       "      <td>0</td>\n",
       "      <td>0</td>\n",
       "      <td>0</td>\n",
       "      <td>0</td>\n",
       "      <td>0</td>\n",
       "      <td>0</td>\n",
       "      <td>1</td>\n",
       "      <td>500</td>\n",
       "      <td>NaN</td>\n",
       "      <td>...</td>\n",
       "      <td>3.0</td>\n",
       "      <td>silver</td>\n",
       "      <td>NaN</td>\n",
       "      <td>NaN</td>\n",
       "      <td>NaN</td>\n",
       "      <td>03/05/2021</td>\n",
       "      <td>Warszawa, Mazowieckie, Białołęka</td>\n",
       "      <td>['ABS', 'Electric front windows', 'Drivers air...</td>\n",
       "      <td>1</td>\n",
       "      <td>1</td>\n",
       "    </tr>\n",
       "    <tr>\n",
       "      <th>3</th>\n",
       "      <td>39900</td>\n",
       "      <td>0</td>\n",
       "      <td>0</td>\n",
       "      <td>0</td>\n",
       "      <td>0</td>\n",
       "      <td>0</td>\n",
       "      <td>0</td>\n",
       "      <td>1</td>\n",
       "      <td>500</td>\n",
       "      <td>NaN</td>\n",
       "      <td>...</td>\n",
       "      <td>3.0</td>\n",
       "      <td>gray</td>\n",
       "      <td>NaN</td>\n",
       "      <td>NaN</td>\n",
       "      <td>NaN</td>\n",
       "      <td>30/04/2021</td>\n",
       "      <td>Jaworzno, Śląskie</td>\n",
       "      <td>['ABS', 'Electric front windows', 'Drivers air...</td>\n",
       "      <td>1</td>\n",
       "      <td>1</td>\n",
       "    </tr>\n",
       "    <tr>\n",
       "      <th>4</th>\n",
       "      <td>97900</td>\n",
       "      <td>0</td>\n",
       "      <td>0</td>\n",
       "      <td>0</td>\n",
       "      <td>0</td>\n",
       "      <td>0</td>\n",
       "      <td>0</td>\n",
       "      <td>1</td>\n",
       "      <td>595</td>\n",
       "      <td>NaN</td>\n",
       "      <td>...</td>\n",
       "      <td>3.0</td>\n",
       "      <td>blue</td>\n",
       "      <td>NaN</td>\n",
       "      <td>NaN</td>\n",
       "      <td>NaN</td>\n",
       "      <td>30/04/2021</td>\n",
       "      <td>ul. Gorzysława 9 - 61-057 Poznań, Nowe Miasto ...</td>\n",
       "      <td>['ABS', 'Electrically adjustable mirrors', 'Pa...</td>\n",
       "      <td>1</td>\n",
       "      <td>0</td>\n",
       "    </tr>\n",
       "  </tbody>\n",
       "</table>\n",
       "<p>5 rows × 30 columns</p>\n",
       "</div>"
      ],
      "text/plain": [
       "   Price  Vehicle_brand_0  Vehicle_brand_1  Vehicle_brand_2  Vehicle_brand_3  \\\n",
       "0  86200                0                0                0                0   \n",
       "1  43500                0                0                0                0   \n",
       "2  44900                0                0                0                0   \n",
       "3  39900                0                0                0                0   \n",
       "4  97900                0                0                0                0   \n",
       "\n",
       "   Vehicle_brand_4  Vehicle_brand_5  Vehicle_brand_6 Vehicle_model  \\\n",
       "0                0                0                1           595   \n",
       "1                0                0                1         Other   \n",
       "2                0                0                1           500   \n",
       "3                0                0                1           500   \n",
       "4                0                0                1           595   \n",
       "\n",
       "  Vehicle_version  ... Doors_number  Colour  Origin_country  First_owner  \\\n",
       "0             NaN  ...          3.0    gray             NaN          NaN   \n",
       "1             NaN  ...          2.0  silver             NaN          NaN   \n",
       "2             NaN  ...          3.0  silver             NaN          NaN   \n",
       "3             NaN  ...          3.0    gray             NaN          NaN   \n",
       "4             NaN  ...          3.0    blue             NaN          NaN   \n",
       "\n",
       "   First_registration_date Offer_publication_date  \\\n",
       "0                      NaN             04/05/2021   \n",
       "1                      NaN             03/05/2021   \n",
       "2                      NaN             03/05/2021   \n",
       "3                      NaN             30/04/2021   \n",
       "4                      NaN             30/04/2021   \n",
       "\n",
       "                                      Offer_location  \\\n",
       "0  ul. Jubilerska 6 - 04-190 Warszawa, Mazowiecki...   \n",
       "1  kanonierska12 - 04-425 Warszawa, Rembertów (Po...   \n",
       "2                   Warszawa, Mazowieckie, Białołęka   \n",
       "3                                  Jaworzno, Śląskie   \n",
       "4  ul. Gorzysława 9 - 61-057 Poznań, Nowe Miasto ...   \n",
       "\n",
       "                                            Features PLN Used  \n",
       "0                                                 []   1    0  \n",
       "1                                                 []   1    1  \n",
       "2  ['ABS', 'Electric front windows', 'Drivers air...   1    1  \n",
       "3  ['ABS', 'Electric front windows', 'Drivers air...   1    1  \n",
       "4  ['ABS', 'Electrically adjustable mirrors', 'Pa...   1    0  \n",
       "\n",
       "[5 rows x 30 columns]"
      ]
     },
     "execution_count": 24,
     "metadata": {},
     "output_type": "execute_result"
    }
   ],
   "source": [
    "data_4.head()"
   ]
  },
  {
   "cell_type": "markdown",
   "id": "9fe46015",
   "metadata": {},
   "source": [
    "### Vehicle_model , Vehicle_version , Vehicle_generation : "
   ]
  },
  {
   "cell_type": "code",
   "execution_count": 25,
   "id": "e777f84d",
   "metadata": {},
   "outputs": [],
   "source": [
    "data_5 = data_4.copy()"
   ]
  },
  {
   "cell_type": "code",
   "execution_count": 26,
   "id": "8c2eac1a",
   "metadata": {},
   "outputs": [],
   "source": [
    "data_5 = data_5.drop(['Vehicle_model'],axis = 1)"
   ]
  },
  {
   "cell_type": "code",
   "execution_count": 27,
   "id": "5ff21185",
   "metadata": {
    "scrolled": true
   },
   "outputs": [],
   "source": [
    "data_5 = data_5.drop(['Vehicle_version'],axis = 1)"
   ]
  },
  {
   "cell_type": "code",
   "execution_count": 28,
   "id": "5fab73e1",
   "metadata": {},
   "outputs": [
    {
     "data": {
      "text/html": [
       "<div>\n",
       "<style scoped>\n",
       "    .dataframe tbody tr th:only-of-type {\n",
       "        vertical-align: middle;\n",
       "    }\n",
       "\n",
       "    .dataframe tbody tr th {\n",
       "        vertical-align: top;\n",
       "    }\n",
       "\n",
       "    .dataframe thead th {\n",
       "        text-align: right;\n",
       "    }\n",
       "</style>\n",
       "<table border=\"1\" class=\"dataframe\">\n",
       "  <thead>\n",
       "    <tr style=\"text-align: right;\">\n",
       "      <th></th>\n",
       "      <th>Price</th>\n",
       "      <th>Vehicle_brand_0</th>\n",
       "      <th>Vehicle_brand_1</th>\n",
       "      <th>Vehicle_brand_2</th>\n",
       "      <th>Vehicle_brand_3</th>\n",
       "      <th>Vehicle_brand_4</th>\n",
       "      <th>Vehicle_brand_5</th>\n",
       "      <th>Vehicle_brand_6</th>\n",
       "      <th>Vehicle_generation</th>\n",
       "      <th>Production_year</th>\n",
       "      <th>...</th>\n",
       "      <th>Doors_number</th>\n",
       "      <th>Colour</th>\n",
       "      <th>Origin_country</th>\n",
       "      <th>First_owner</th>\n",
       "      <th>First_registration_date</th>\n",
       "      <th>Offer_publication_date</th>\n",
       "      <th>Offer_location</th>\n",
       "      <th>Features</th>\n",
       "      <th>PLN</th>\n",
       "      <th>Used</th>\n",
       "    </tr>\n",
       "  </thead>\n",
       "  <tbody>\n",
       "    <tr>\n",
       "      <th>0</th>\n",
       "      <td>86200</td>\n",
       "      <td>0</td>\n",
       "      <td>0</td>\n",
       "      <td>0</td>\n",
       "      <td>0</td>\n",
       "      <td>0</td>\n",
       "      <td>0</td>\n",
       "      <td>1</td>\n",
       "      <td>NaN</td>\n",
       "      <td>2021</td>\n",
       "      <td>...</td>\n",
       "      <td>3.0</td>\n",
       "      <td>gray</td>\n",
       "      <td>NaN</td>\n",
       "      <td>NaN</td>\n",
       "      <td>NaN</td>\n",
       "      <td>04/05/2021</td>\n",
       "      <td>ul. Jubilerska 6 - 04-190 Warszawa, Mazowiecki...</td>\n",
       "      <td>[]</td>\n",
       "      <td>1</td>\n",
       "      <td>0</td>\n",
       "    </tr>\n",
       "    <tr>\n",
       "      <th>1</th>\n",
       "      <td>43500</td>\n",
       "      <td>0</td>\n",
       "      <td>0</td>\n",
       "      <td>0</td>\n",
       "      <td>0</td>\n",
       "      <td>0</td>\n",
       "      <td>0</td>\n",
       "      <td>1</td>\n",
       "      <td>NaN</td>\n",
       "      <td>1974</td>\n",
       "      <td>...</td>\n",
       "      <td>2.0</td>\n",
       "      <td>silver</td>\n",
       "      <td>NaN</td>\n",
       "      <td>NaN</td>\n",
       "      <td>NaN</td>\n",
       "      <td>03/05/2021</td>\n",
       "      <td>kanonierska12 - 04-425 Warszawa, Rembertów (Po...</td>\n",
       "      <td>[]</td>\n",
       "      <td>1</td>\n",
       "      <td>1</td>\n",
       "    </tr>\n",
       "    <tr>\n",
       "      <th>2</th>\n",
       "      <td>44900</td>\n",
       "      <td>0</td>\n",
       "      <td>0</td>\n",
       "      <td>0</td>\n",
       "      <td>0</td>\n",
       "      <td>0</td>\n",
       "      <td>0</td>\n",
       "      <td>1</td>\n",
       "      <td>NaN</td>\n",
       "      <td>2018</td>\n",
       "      <td>...</td>\n",
       "      <td>3.0</td>\n",
       "      <td>silver</td>\n",
       "      <td>NaN</td>\n",
       "      <td>NaN</td>\n",
       "      <td>NaN</td>\n",
       "      <td>03/05/2021</td>\n",
       "      <td>Warszawa, Mazowieckie, Białołęka</td>\n",
       "      <td>['ABS', 'Electric front windows', 'Drivers air...</td>\n",
       "      <td>1</td>\n",
       "      <td>1</td>\n",
       "    </tr>\n",
       "    <tr>\n",
       "      <th>3</th>\n",
       "      <td>39900</td>\n",
       "      <td>0</td>\n",
       "      <td>0</td>\n",
       "      <td>0</td>\n",
       "      <td>0</td>\n",
       "      <td>0</td>\n",
       "      <td>0</td>\n",
       "      <td>1</td>\n",
       "      <td>NaN</td>\n",
       "      <td>2012</td>\n",
       "      <td>...</td>\n",
       "      <td>3.0</td>\n",
       "      <td>gray</td>\n",
       "      <td>NaN</td>\n",
       "      <td>NaN</td>\n",
       "      <td>NaN</td>\n",
       "      <td>30/04/2021</td>\n",
       "      <td>Jaworzno, Śląskie</td>\n",
       "      <td>['ABS', 'Electric front windows', 'Drivers air...</td>\n",
       "      <td>1</td>\n",
       "      <td>1</td>\n",
       "    </tr>\n",
       "    <tr>\n",
       "      <th>4</th>\n",
       "      <td>97900</td>\n",
       "      <td>0</td>\n",
       "      <td>0</td>\n",
       "      <td>0</td>\n",
       "      <td>0</td>\n",
       "      <td>0</td>\n",
       "      <td>0</td>\n",
       "      <td>1</td>\n",
       "      <td>NaN</td>\n",
       "      <td>2021</td>\n",
       "      <td>...</td>\n",
       "      <td>3.0</td>\n",
       "      <td>blue</td>\n",
       "      <td>NaN</td>\n",
       "      <td>NaN</td>\n",
       "      <td>NaN</td>\n",
       "      <td>30/04/2021</td>\n",
       "      <td>ul. Gorzysława 9 - 61-057 Poznań, Nowe Miasto ...</td>\n",
       "      <td>['ABS', 'Electrically adjustable mirrors', 'Pa...</td>\n",
       "      <td>1</td>\n",
       "      <td>0</td>\n",
       "    </tr>\n",
       "  </tbody>\n",
       "</table>\n",
       "<p>5 rows × 28 columns</p>\n",
       "</div>"
      ],
      "text/plain": [
       "   Price  Vehicle_brand_0  Vehicle_brand_1  Vehicle_brand_2  Vehicle_brand_3  \\\n",
       "0  86200                0                0                0                0   \n",
       "1  43500                0                0                0                0   \n",
       "2  44900                0                0                0                0   \n",
       "3  39900                0                0                0                0   \n",
       "4  97900                0                0                0                0   \n",
       "\n",
       "   Vehicle_brand_4  Vehicle_brand_5  Vehicle_brand_6 Vehicle_generation  \\\n",
       "0                0                0                1                NaN   \n",
       "1                0                0                1                NaN   \n",
       "2                0                0                1                NaN   \n",
       "3                0                0                1                NaN   \n",
       "4                0                0                1                NaN   \n",
       "\n",
       "   Production_year  ...  Doors_number  Colour  Origin_country First_owner  \\\n",
       "0             2021  ...           3.0    gray             NaN         NaN   \n",
       "1             1974  ...           2.0  silver             NaN         NaN   \n",
       "2             2018  ...           3.0  silver             NaN         NaN   \n",
       "3             2012  ...           3.0    gray             NaN         NaN   \n",
       "4             2021  ...           3.0    blue             NaN         NaN   \n",
       "\n",
       "   First_registration_date Offer_publication_date  \\\n",
       "0                      NaN             04/05/2021   \n",
       "1                      NaN             03/05/2021   \n",
       "2                      NaN             03/05/2021   \n",
       "3                      NaN             30/04/2021   \n",
       "4                      NaN             30/04/2021   \n",
       "\n",
       "                                      Offer_location  \\\n",
       "0  ul. Jubilerska 6 - 04-190 Warszawa, Mazowiecki...   \n",
       "1  kanonierska12 - 04-425 Warszawa, Rembertów (Po...   \n",
       "2                   Warszawa, Mazowieckie, Białołęka   \n",
       "3                                  Jaworzno, Śląskie   \n",
       "4  ul. Gorzysława 9 - 61-057 Poznań, Nowe Miasto ...   \n",
       "\n",
       "                                            Features  PLN Used  \n",
       "0                                                 []    1    0  \n",
       "1                                                 []    1    1  \n",
       "2  ['ABS', 'Electric front windows', 'Drivers air...    1    1  \n",
       "3  ['ABS', 'Electric front windows', 'Drivers air...    1    1  \n",
       "4  ['ABS', 'Electrically adjustable mirrors', 'Pa...    1    0  \n",
       "\n",
       "[5 rows x 28 columns]"
      ]
     },
     "execution_count": 28,
     "metadata": {},
     "output_type": "execute_result"
    }
   ],
   "source": [
    "data_5.head()"
   ]
  },
  {
   "cell_type": "code",
   "execution_count": 29,
   "id": "00e3885a",
   "metadata": {},
   "outputs": [],
   "source": [
    "data_5 = data_5.drop(['Vehicle_generation'],axis = 1)"
   ]
  },
  {
   "cell_type": "code",
   "execution_count": 30,
   "id": "a9eee478",
   "metadata": {},
   "outputs": [
    {
     "data": {
      "text/html": [
       "<div>\n",
       "<style scoped>\n",
       "    .dataframe tbody tr th:only-of-type {\n",
       "        vertical-align: middle;\n",
       "    }\n",
       "\n",
       "    .dataframe tbody tr th {\n",
       "        vertical-align: top;\n",
       "    }\n",
       "\n",
       "    .dataframe thead th {\n",
       "        text-align: right;\n",
       "    }\n",
       "</style>\n",
       "<table border=\"1\" class=\"dataframe\">\n",
       "  <thead>\n",
       "    <tr style=\"text-align: right;\">\n",
       "      <th></th>\n",
       "      <th>Price</th>\n",
       "      <th>Vehicle_brand_0</th>\n",
       "      <th>Vehicle_brand_1</th>\n",
       "      <th>Vehicle_brand_2</th>\n",
       "      <th>Vehicle_brand_3</th>\n",
       "      <th>Vehicle_brand_4</th>\n",
       "      <th>Vehicle_brand_5</th>\n",
       "      <th>Vehicle_brand_6</th>\n",
       "      <th>Production_year</th>\n",
       "      <th>Mileage_km</th>\n",
       "      <th>...</th>\n",
       "      <th>Doors_number</th>\n",
       "      <th>Colour</th>\n",
       "      <th>Origin_country</th>\n",
       "      <th>First_owner</th>\n",
       "      <th>First_registration_date</th>\n",
       "      <th>Offer_publication_date</th>\n",
       "      <th>Offer_location</th>\n",
       "      <th>Features</th>\n",
       "      <th>PLN</th>\n",
       "      <th>Used</th>\n",
       "    </tr>\n",
       "  </thead>\n",
       "  <tbody>\n",
       "    <tr>\n",
       "      <th>0</th>\n",
       "      <td>86200</td>\n",
       "      <td>0</td>\n",
       "      <td>0</td>\n",
       "      <td>0</td>\n",
       "      <td>0</td>\n",
       "      <td>0</td>\n",
       "      <td>0</td>\n",
       "      <td>1</td>\n",
       "      <td>2021</td>\n",
       "      <td>1.0</td>\n",
       "      <td>...</td>\n",
       "      <td>3.0</td>\n",
       "      <td>gray</td>\n",
       "      <td>NaN</td>\n",
       "      <td>NaN</td>\n",
       "      <td>NaN</td>\n",
       "      <td>04/05/2021</td>\n",
       "      <td>ul. Jubilerska 6 - 04-190 Warszawa, Mazowiecki...</td>\n",
       "      <td>[]</td>\n",
       "      <td>1</td>\n",
       "      <td>0</td>\n",
       "    </tr>\n",
       "    <tr>\n",
       "      <th>1</th>\n",
       "      <td>43500</td>\n",
       "      <td>0</td>\n",
       "      <td>0</td>\n",
       "      <td>0</td>\n",
       "      <td>0</td>\n",
       "      <td>0</td>\n",
       "      <td>0</td>\n",
       "      <td>1</td>\n",
       "      <td>1974</td>\n",
       "      <td>59000.0</td>\n",
       "      <td>...</td>\n",
       "      <td>2.0</td>\n",
       "      <td>silver</td>\n",
       "      <td>NaN</td>\n",
       "      <td>NaN</td>\n",
       "      <td>NaN</td>\n",
       "      <td>03/05/2021</td>\n",
       "      <td>kanonierska12 - 04-425 Warszawa, Rembertów (Po...</td>\n",
       "      <td>[]</td>\n",
       "      <td>1</td>\n",
       "      <td>1</td>\n",
       "    </tr>\n",
       "    <tr>\n",
       "      <th>2</th>\n",
       "      <td>44900</td>\n",
       "      <td>0</td>\n",
       "      <td>0</td>\n",
       "      <td>0</td>\n",
       "      <td>0</td>\n",
       "      <td>0</td>\n",
       "      <td>0</td>\n",
       "      <td>1</td>\n",
       "      <td>2018</td>\n",
       "      <td>52000.0</td>\n",
       "      <td>...</td>\n",
       "      <td>3.0</td>\n",
       "      <td>silver</td>\n",
       "      <td>NaN</td>\n",
       "      <td>NaN</td>\n",
       "      <td>NaN</td>\n",
       "      <td>03/05/2021</td>\n",
       "      <td>Warszawa, Mazowieckie, Białołęka</td>\n",
       "      <td>['ABS', 'Electric front windows', 'Drivers air...</td>\n",
       "      <td>1</td>\n",
       "      <td>1</td>\n",
       "    </tr>\n",
       "    <tr>\n",
       "      <th>3</th>\n",
       "      <td>39900</td>\n",
       "      <td>0</td>\n",
       "      <td>0</td>\n",
       "      <td>0</td>\n",
       "      <td>0</td>\n",
       "      <td>0</td>\n",
       "      <td>0</td>\n",
       "      <td>1</td>\n",
       "      <td>2012</td>\n",
       "      <td>29000.0</td>\n",
       "      <td>...</td>\n",
       "      <td>3.0</td>\n",
       "      <td>gray</td>\n",
       "      <td>NaN</td>\n",
       "      <td>NaN</td>\n",
       "      <td>NaN</td>\n",
       "      <td>30/04/2021</td>\n",
       "      <td>Jaworzno, Śląskie</td>\n",
       "      <td>['ABS', 'Electric front windows', 'Drivers air...</td>\n",
       "      <td>1</td>\n",
       "      <td>1</td>\n",
       "    </tr>\n",
       "    <tr>\n",
       "      <th>4</th>\n",
       "      <td>97900</td>\n",
       "      <td>0</td>\n",
       "      <td>0</td>\n",
       "      <td>0</td>\n",
       "      <td>0</td>\n",
       "      <td>0</td>\n",
       "      <td>0</td>\n",
       "      <td>1</td>\n",
       "      <td>2021</td>\n",
       "      <td>600.0</td>\n",
       "      <td>...</td>\n",
       "      <td>3.0</td>\n",
       "      <td>blue</td>\n",
       "      <td>NaN</td>\n",
       "      <td>NaN</td>\n",
       "      <td>NaN</td>\n",
       "      <td>30/04/2021</td>\n",
       "      <td>ul. Gorzysława 9 - 61-057 Poznań, Nowe Miasto ...</td>\n",
       "      <td>['ABS', 'Electrically adjustable mirrors', 'Pa...</td>\n",
       "      <td>1</td>\n",
       "      <td>0</td>\n",
       "    </tr>\n",
       "    <tr>\n",
       "      <th>...</th>\n",
       "      <td>...</td>\n",
       "      <td>...</td>\n",
       "      <td>...</td>\n",
       "      <td>...</td>\n",
       "      <td>...</td>\n",
       "      <td>...</td>\n",
       "      <td>...</td>\n",
       "      <td>...</td>\n",
       "      <td>...</td>\n",
       "      <td>...</td>\n",
       "      <td>...</td>\n",
       "      <td>...</td>\n",
       "      <td>...</td>\n",
       "      <td>...</td>\n",
       "      <td>...</td>\n",
       "      <td>...</td>\n",
       "      <td>...</td>\n",
       "      <td>...</td>\n",
       "      <td>...</td>\n",
       "      <td>...</td>\n",
       "      <td>...</td>\n",
       "    </tr>\n",
       "    <tr>\n",
       "      <th>208299</th>\n",
       "      <td>39900</td>\n",
       "      <td>1</td>\n",
       "      <td>0</td>\n",
       "      <td>0</td>\n",
       "      <td>1</td>\n",
       "      <td>0</td>\n",
       "      <td>1</td>\n",
       "      <td>0</td>\n",
       "      <td>2014</td>\n",
       "      <td>40000.0</td>\n",
       "      <td>...</td>\n",
       "      <td>1.0</td>\n",
       "      <td>other</td>\n",
       "      <td>NaN</td>\n",
       "      <td>NaN</td>\n",
       "      <td>NaN</td>\n",
       "      <td>30/04/2021</td>\n",
       "      <td>ul. Huzarska 12 - 47-400 Racibórz, raciborski,...</td>\n",
       "      <td>[]</td>\n",
       "      <td>1</td>\n",
       "      <td>1</td>\n",
       "    </tr>\n",
       "    <tr>\n",
       "      <th>208300</th>\n",
       "      <td>10900</td>\n",
       "      <td>1</td>\n",
       "      <td>0</td>\n",
       "      <td>0</td>\n",
       "      <td>1</td>\n",
       "      <td>0</td>\n",
       "      <td>1</td>\n",
       "      <td>0</td>\n",
       "      <td>1970</td>\n",
       "      <td>63518.0</td>\n",
       "      <td>...</td>\n",
       "      <td>4.0</td>\n",
       "      <td>other</td>\n",
       "      <td>Poland</td>\n",
       "      <td>NaN</td>\n",
       "      <td>NaN</td>\n",
       "      <td>02/05/2021</td>\n",
       "      <td>Włocławek, Kujawsko-pomorskie</td>\n",
       "      <td>[]</td>\n",
       "      <td>1</td>\n",
       "      <td>1</td>\n",
       "    </tr>\n",
       "    <tr>\n",
       "      <th>208301</th>\n",
       "      <td>6900</td>\n",
       "      <td>1</td>\n",
       "      <td>0</td>\n",
       "      <td>0</td>\n",
       "      <td>1</td>\n",
       "      <td>0</td>\n",
       "      <td>1</td>\n",
       "      <td>0</td>\n",
       "      <td>1977</td>\n",
       "      <td>11880.0</td>\n",
       "      <td>...</td>\n",
       "      <td>3.0</td>\n",
       "      <td>red</td>\n",
       "      <td>NaN</td>\n",
       "      <td>NaN</td>\n",
       "      <td>11/06/1977</td>\n",
       "      <td>28/04/2021</td>\n",
       "      <td>Złotów, złotowski, Wielkopolskie</td>\n",
       "      <td>[]</td>\n",
       "      <td>1</td>\n",
       "      <td>1</td>\n",
       "    </tr>\n",
       "    <tr>\n",
       "      <th>208302</th>\n",
       "      <td>5700</td>\n",
       "      <td>1</td>\n",
       "      <td>0</td>\n",
       "      <td>0</td>\n",
       "      <td>1</td>\n",
       "      <td>0</td>\n",
       "      <td>1</td>\n",
       "      <td>0</td>\n",
       "      <td>1986</td>\n",
       "      <td>100000.0</td>\n",
       "      <td>...</td>\n",
       "      <td>2.0</td>\n",
       "      <td>blue</td>\n",
       "      <td>NaN</td>\n",
       "      <td>NaN</td>\n",
       "      <td>NaN</td>\n",
       "      <td>24/04/2021</td>\n",
       "      <td>Kraczkowa, łańcucki, Podkarpackie</td>\n",
       "      <td>[]</td>\n",
       "      <td>1</td>\n",
       "      <td>1</td>\n",
       "    </tr>\n",
       "    <tr>\n",
       "      <th>208303</th>\n",
       "      <td>11900</td>\n",
       "      <td>1</td>\n",
       "      <td>0</td>\n",
       "      <td>0</td>\n",
       "      <td>1</td>\n",
       "      <td>0</td>\n",
       "      <td>1</td>\n",
       "      <td>0</td>\n",
       "      <td>1985</td>\n",
       "      <td>20056.0</td>\n",
       "      <td>...</td>\n",
       "      <td>3.0</td>\n",
       "      <td>red</td>\n",
       "      <td>NaN</td>\n",
       "      <td>NaN</td>\n",
       "      <td>NaN</td>\n",
       "      <td>04/05/2021</td>\n",
       "      <td>Szczecińska 40 - 75-137 Koszalin, Zachodniopom...</td>\n",
       "      <td>[]</td>\n",
       "      <td>1</td>\n",
       "      <td>1</td>\n",
       "    </tr>\n",
       "  </tbody>\n",
       "</table>\n",
       "<p>208304 rows × 27 columns</p>\n",
       "</div>"
      ],
      "text/plain": [
       "        Price  Vehicle_brand_0  Vehicle_brand_1  Vehicle_brand_2  \\\n",
       "0       86200                0                0                0   \n",
       "1       43500                0                0                0   \n",
       "2       44900                0                0                0   \n",
       "3       39900                0                0                0   \n",
       "4       97900                0                0                0   \n",
       "...       ...              ...              ...              ...   \n",
       "208299  39900                1                0                0   \n",
       "208300  10900                1                0                0   \n",
       "208301   6900                1                0                0   \n",
       "208302   5700                1                0                0   \n",
       "208303  11900                1                0                0   \n",
       "\n",
       "        Vehicle_brand_3  Vehicle_brand_4  Vehicle_brand_5  Vehicle_brand_6  \\\n",
       "0                     0                0                0                1   \n",
       "1                     0                0                0                1   \n",
       "2                     0                0                0                1   \n",
       "3                     0                0                0                1   \n",
       "4                     0                0                0                1   \n",
       "...                 ...              ...              ...              ...   \n",
       "208299                1                0                1                0   \n",
       "208300                1                0                1                0   \n",
       "208301                1                0                1                0   \n",
       "208302                1                0                1                0   \n",
       "208303                1                0                1                0   \n",
       "\n",
       "        Production_year  Mileage_km  ...  Doors_number  Colour Origin_country  \\\n",
       "0                  2021         1.0  ...           3.0    gray            NaN   \n",
       "1                  1974     59000.0  ...           2.0  silver            NaN   \n",
       "2                  2018     52000.0  ...           3.0  silver            NaN   \n",
       "3                  2012     29000.0  ...           3.0    gray            NaN   \n",
       "4                  2021       600.0  ...           3.0    blue            NaN   \n",
       "...                 ...         ...  ...           ...     ...            ...   \n",
       "208299             2014     40000.0  ...           1.0   other            NaN   \n",
       "208300             1970     63518.0  ...           4.0   other         Poland   \n",
       "208301             1977     11880.0  ...           3.0     red            NaN   \n",
       "208302             1986    100000.0  ...           2.0    blue            NaN   \n",
       "208303             1985     20056.0  ...           3.0     red            NaN   \n",
       "\n",
       "        First_owner First_registration_date Offer_publication_date  \\\n",
       "0               NaN                     NaN             04/05/2021   \n",
       "1               NaN                     NaN             03/05/2021   \n",
       "2               NaN                     NaN             03/05/2021   \n",
       "3               NaN                     NaN             30/04/2021   \n",
       "4               NaN                     NaN             30/04/2021   \n",
       "...             ...                     ...                    ...   \n",
       "208299          NaN                     NaN             30/04/2021   \n",
       "208300          NaN                     NaN             02/05/2021   \n",
       "208301          NaN              11/06/1977             28/04/2021   \n",
       "208302          NaN                     NaN             24/04/2021   \n",
       "208303          NaN                     NaN             04/05/2021   \n",
       "\n",
       "                                           Offer_location  \\\n",
       "0       ul. Jubilerska 6 - 04-190 Warszawa, Mazowiecki...   \n",
       "1       kanonierska12 - 04-425 Warszawa, Rembertów (Po...   \n",
       "2                        Warszawa, Mazowieckie, Białołęka   \n",
       "3                                       Jaworzno, Śląskie   \n",
       "4       ul. Gorzysława 9 - 61-057 Poznań, Nowe Miasto ...   \n",
       "...                                                   ...   \n",
       "208299  ul. Huzarska 12 - 47-400 Racibórz, raciborski,...   \n",
       "208300                      Włocławek, Kujawsko-pomorskie   \n",
       "208301                   Złotów, złotowski, Wielkopolskie   \n",
       "208302                  Kraczkowa, łańcucki, Podkarpackie   \n",
       "208303  Szczecińska 40 - 75-137 Koszalin, Zachodniopom...   \n",
       "\n",
       "                                                 Features PLN Used  \n",
       "0                                                      []   1    0  \n",
       "1                                                      []   1    1  \n",
       "2       ['ABS', 'Electric front windows', 'Drivers air...   1    1  \n",
       "3       ['ABS', 'Electric front windows', 'Drivers air...   1    1  \n",
       "4       ['ABS', 'Electrically adjustable mirrors', 'Pa...   1    0  \n",
       "...                                                   ...  ..  ...  \n",
       "208299                                                 []   1    1  \n",
       "208300                                                 []   1    1  \n",
       "208301                                                 []   1    1  \n",
       "208302                                                 []   1    1  \n",
       "208303                                                 []   1    1  \n",
       "\n",
       "[208304 rows x 27 columns]"
      ]
     },
     "execution_count": 30,
     "metadata": {},
     "output_type": "execute_result"
    }
   ],
   "source": [
    "data_5"
   ]
  },
  {
   "cell_type": "markdown",
   "id": "4bbadd5a",
   "metadata": {},
   "source": [
    "### Production Year :"
   ]
  },
  {
   "cell_type": "code",
   "execution_count": 31,
   "id": "1d02070c",
   "metadata": {},
   "outputs": [],
   "source": [
    "data_6 = data_5.copy()"
   ]
  },
  {
   "cell_type": "code",
   "execution_count": 32,
   "id": "ab89b234",
   "metadata": {},
   "outputs": [
    {
     "data": {
      "text/plain": [
       "array([2021, 1974, 2018, 2012, 2016, 2019, 2010, 2017, 2015, 2014, 2020,\n",
       "       2009, 2013, 2011, 2008, 2003, 2007, 2000, 2005, 2004, 2002, 1999,\n",
       "       2001, 2006, 1994, 1998, 1997, 1991, 1995, 1993, 1973, 1971, 1990,\n",
       "       1987, 1992, 1996, 1983, 1979, 1986, 1989, 1970, 1984, 1988, 1980,\n",
       "       1978, 1985, 1982, 1977, 1975, 1976, 1968, 1950, 1981, 1964, 1969,\n",
       "       1965, 1958, 1959, 1967, 1961, 1966, 1957, 1972, 1956, 1947, 1960,\n",
       "       1949, 1962, 1934, 1930, 1952, 1953, 1922, 1954, 1963, 1955, 1926,\n",
       "       1923, 1925, 1938, 1945, 1915, 1924, 1928, 1951, 1936, 1948, 1937,\n",
       "       1946, 1927, 1935, 1933], dtype=int64)"
      ]
     },
     "execution_count": 32,
     "metadata": {},
     "output_type": "execute_result"
    }
   ],
   "source": [
    "data_6['Production_year'].unique()"
   ]
  },
  {
   "cell_type": "code",
   "execution_count": 33,
   "id": "c5976812",
   "metadata": {
    "scrolled": true
   },
   "outputs": [
    {
     "data": {
      "text/plain": [
       "Index(['Price', 'Vehicle_brand_0', 'Vehicle_brand_1', 'Vehicle_brand_2',\n",
       "       'Vehicle_brand_3', 'Vehicle_brand_4', 'Vehicle_brand_5',\n",
       "       'Vehicle_brand_6', 'Production_year', 'Mileage_km', 'Power_HP',\n",
       "       'Displacement_cm3', 'Fuel_type', 'CO2_emissions', 'Drive',\n",
       "       'Transmission', 'Type', 'Doors_number', 'Colour', 'Origin_country',\n",
       "       'First_owner', 'First_registration_date', 'Offer_publication_date',\n",
       "       'Offer_location', 'Features', 'PLN', 'Used'],\n",
       "      dtype='object')"
      ]
     },
     "execution_count": 33,
     "metadata": {},
     "output_type": "execute_result"
    }
   ],
   "source": [
    "data_6.columns"
   ]
  },
  {
   "cell_type": "code",
   "execution_count": 34,
   "id": "060230e2",
   "metadata": {},
   "outputs": [
    {
     "data": {
      "text/plain": [
       "(208304, 27)"
      ]
     },
     "execution_count": 34,
     "metadata": {},
     "output_type": "execute_result"
    }
   ],
   "source": [
    "data_6.shape"
   ]
  },
  {
   "cell_type": "markdown",
   "id": "d595d3ef",
   "metadata": {},
   "source": [
    "### Mileage_km : "
   ]
  },
  {
   "cell_type": "code",
   "execution_count": 35,
   "id": "9e4e3dfe",
   "metadata": {},
   "outputs": [],
   "source": [
    "data_7 = data_6.copy()"
   ]
  },
  {
   "cell_type": "code",
   "execution_count": 36,
   "id": "cb627648",
   "metadata": {},
   "outputs": [
    {
     "data": {
      "text/plain": [
       "983"
      ]
     },
     "execution_count": 36,
     "metadata": {},
     "output_type": "execute_result"
    }
   ],
   "source": [
    "data_7['Mileage_km'].isnull().sum()"
   ]
  },
  {
   "cell_type": "code",
   "execution_count": 37,
   "id": "ba20cfcb",
   "metadata": {},
   "outputs": [],
   "source": [
    "data_7 = data_7.dropna(subset = ['Mileage_km'])"
   ]
  },
  {
   "cell_type": "code",
   "execution_count": 38,
   "id": "8842b587",
   "metadata": {},
   "outputs": [
    {
     "data": {
      "text/plain": [
       "1.0         9046\n",
       "5.0         7147\n",
       "10.0        3241\n",
       "220000.0    1169\n",
       "180000.0    1161\n",
       "            ... \n",
       "24809.0        1\n",
       "174784.0       1\n",
       "170876.0       1\n",
       "146255.0       1\n",
       "18712.0        1\n",
       "Name: Mileage_km, Length: 52007, dtype: int64"
      ]
     },
     "execution_count": 38,
     "metadata": {},
     "output_type": "execute_result"
    }
   ],
   "source": [
    "data_7['Mileage_km'].value_counts()"
   ]
  },
  {
   "cell_type": "markdown",
   "id": "076a013d",
   "metadata": {},
   "source": [
    " ### Power_HP :"
   ]
  },
  {
   "cell_type": "code",
   "execution_count": 39,
   "id": "006ae4e7",
   "metadata": {},
   "outputs": [
    {
     "data": {
      "text/plain": [
       "622"
      ]
     },
     "execution_count": 39,
     "metadata": {},
     "output_type": "execute_result"
    }
   ],
   "source": [
    "data_7['Power_HP'].isnull().sum()"
   ]
  },
  {
   "cell_type": "code",
   "execution_count": 40,
   "id": "23fd23a6",
   "metadata": {},
   "outputs": [],
   "source": [
    "data_7 = data_7.dropna(subset = ['Power_HP'])"
   ]
  },
  {
   "cell_type": "code",
   "execution_count": 41,
   "id": "e308da92",
   "metadata": {
    "scrolled": true
   },
   "outputs": [
    {
     "data": {
      "text/plain": [
       "array([1.450e+02, 7.500e+01, 1.800e+02, 1.600e+02, 1.650e+02, 2.630e+02,\n",
       "       2.100e+02, 1.400e+02, 1.350e+02, 1.700e+02, 1.460e+02, 1.550e+02,\n",
       "       1.900e+02, 1.810e+02, 2.200e+02, 2.730e+02, 2.000e+02, 3.000e+02,\n",
       "       2.010e+02, 3.150e+02, 2.850e+02, 2.700e+02, 3.050e+02, 3.100e+02,\n",
       "       5.000e+00, 2.100e+01, 4.000e+00, 2.000e+01, 8.000e+00, 6.000e+00,\n",
       "       1.500e+01, 1.600e+01, 7.000e+00, 1.200e+01, 1.000e+02, 1.500e+02,\n",
       "       1.200e+02, 2.600e+02, 2.800e+02, 1.050e+02, 1.150e+02, 2.400e+02,\n",
       "       8.400e+01, 6.800e+01, 5.100e+02, 1.490e+02, 7.000e+01, 9.000e+01,\n",
       "       1.750e+02, 9.500e+01, 2.090e+02, 1.100e+02, 2.350e+02, 1.030e+02,\n",
       "       8.000e+01, 1.360e+02, 1.850e+02, 2.180e+02, 7.800e+01, 1.660e+02,\n",
       "       8.500e+01, 1.440e+02, 1.160e+02, 1.260e+02, 2.050e+02, 1.180e+02,\n",
       "       1.840e+02, 1.310e+02, 9.700e+01, 1.920e+02, 1.590e+02, 1.410e+02,\n",
       "       2.500e+02, 1.790e+02, 2.520e+02, 2.920e+02, 1.380e+02, 4.550e+02,\n",
       "       4.050e+02, 4.200e+02, 4.160e+02, 5.510e+02, 7.150e+02, 4.770e+02,\n",
       "       5.480e+02, 6.080e+02, 4.360e+02, 3.850e+02, 6.390e+02, 1.010e+02,\n",
       "       1.740e+02, 1.370e+02, 6.000e+01, 1.330e+02, 7.300e+01, 5.400e+01,\n",
       "       1.130e+02, 6.900e+01, 1.250e+02, 7.100e+01, 5.500e+01, 8.600e+01,\n",
       "       1.220e+02, 1.430e+02, 8.200e+01, 2.560e+02, 6.100e+01, 1.020e+02,\n",
       "       1.300e+02, 1.060e+02, 8.800e+01, 2.040e+02, 1.000e+00, 1.630e+02,\n",
       "       2.170e+02, 1.950e+02, 2.310e+02, 2.450e+02, 1.860e+02, 2.900e+02,\n",
       "       2.230e+02, 9.200e+01, 7.400e+01, 2.250e+02, 1.230e+02, 1.770e+02,\n",
       "       2.240e+02, 2.110e+02, 2.320e+02, 2.650e+02, 2.720e+02, 1.420e+02,\n",
       "       2.390e+02, 2.330e+02, 2.550e+02, 1.930e+02, 2.510e+02, 1.640e+02,\n",
       "       1.880e+02, 9.600e+01, 1.190e+02, 2.300e+02, 2.740e+02, 2.860e+02,\n",
       "       2.410e+02, 1.870e+02, 1.610e+02, 3.440e+02, 3.470e+02, 2.480e+02,\n",
       "       3.190e+02, 3.130e+02, 3.200e+02, 3.490e+02, 3.280e+02, 3.330e+02,\n",
       "       3.500e+02, 2.440e+02, 2.220e+02, 3.400e+02, 3.260e+02, 3.110e+02,\n",
       "       3.340e+02, 1.940e+02, 2.990e+02, 1.320e+02, 2.260e+02, 4.500e+02,\n",
       "       1.560e+02, 1.470e+02, 2.750e+02, 1.680e+02, 1.910e+02, 1.210e+02,\n",
       "       3.800e+02, 1.970e+02, 3.670e+02, 3.900e+02, 1.760e+02, 3.350e+02,\n",
       "       3.550e+02, 5.600e+02, 4.020e+02, 4.350e+02, 3.510e+02, 2.580e+02,\n",
       "       2.620e+02, 3.720e+02, 4.490e+02, 2.470e+02, 5.000e+02, 3.710e+02,\n",
       "       6.000e+02, 5.040e+02, 6.050e+02, 4.000e+02, 4.600e+02, 3.750e+02,\n",
       "       5.030e+02, 3.600e+02, 4.080e+02, 4.760e+02, 5.980e+02, 3.140e+02,\n",
       "       6.500e+01, 6.460e+02, 2.280e+02, 2.190e+02, 2.710e+02, 3.290e+02,\n",
       "       4.620e+02, 3.270e+02, 3.650e+02, 3.810e+02, 4.120e+02, 4.150e+02,\n",
       "       2.460e+02, 5.250e+02, 6.200e+02, 6.100e+02, 4.300e+02, 5.400e+02,\n",
       "       6.110e+02, 3.700e+02, 5.990e+02, 5.120e+02, 5.800e+02, 7.400e+02,\n",
       "       3.300e+02, 3.540e+02, 3.570e+02, 3.530e+02, 4.180e+02, 3.410e+02,\n",
       "       4.280e+02, 5.710e+02, 5.200e+02, 6.500e+02, 5.070e+02, 3.060e+02,\n",
       "       4.040e+02, 4.400e+01, 5.700e+01, 1.700e+01, 1.120e+02, 5.370e+02,\n",
       "       6.350e+02, 5.490e+02, 5.670e+02, 5.750e+02, 5.500e+02, 5.280e+02,\n",
       "       6.420e+02, 5.850e+02, 1.236e+03, 6.250e+02, 6.300e+02, 1.890e+02,\n",
       "       1.830e+02, 3.620e+02, 3.610e+02, 4.100e+02, 4.110e+02, 4.320e+02,\n",
       "       4.310e+02, 3.430e+02, 4.800e+02, 7.230e+02, 3.210e+02, 5.340e+02,\n",
       "       5.150e+02, 4.070e+02, 5.080e+02, 5.300e+02, 1.090e+02, 1.290e+02,\n",
       "       1.280e+02, 1.780e+02, 1.570e+02, 3.010e+02, 1.510e+02, 1.730e+02,\n",
       "       7.700e+01, 1.710e+02, 3.740e+02, 2.340e+02, 2.880e+02, 2.150e+02,\n",
       "       2.870e+02, 2.590e+02, 2.540e+02, 4.520e+02, 2.360e+02, 2.760e+02,\n",
       "       1.720e+02, 4.630e+02, 2.640e+02, 4.690e+02, 1.540e+02, 3.940e+02,\n",
       "       4.480e+02, 3.220e+02, 4.450e+02, 5.440e+02, 4.650e+02, 4.990e+02,\n",
       "       3.240e+02, 6.090e+02, 5.320e+02, 2.380e+02, 2.060e+02, 5.310e+02,\n",
       "       2.930e+02, 3.870e+02, 3.880e+02, 7.050e+02, 5.550e+02, 5.540e+02,\n",
       "       4.250e+02, 3.120e+02, 3.040e+02, 3.960e+02, 5.910e+02, 2.810e+02,\n",
       "       1.111e+03, 3.030e+02, 2.530e+02, 2.690e+02, 4.090e+02, 3.070e+02,\n",
       "       3.250e+02, 2.570e+02, 4.260e+02, 3.450e+02, 2.790e+02, 4.700e+02,\n",
       "       1.820e+02, 3.180e+02, 3.090e+02, 1.520e+02, 2.840e+02, 2.000e+00,\n",
       "       1.240e+02, 6.700e+01, 4.660e+02, 4.530e+02, 3.230e+02, 2.970e+02,\n",
       "       1.270e+02, 8.300e+01, 5.200e+01, 7.200e+01, 9.400e+01, 6.590e+02,\n",
       "       8.100e+01, 1.670e+02, 1.620e+02, 2.030e+02, 4.420e+02, 3.080e+02,\n",
       "       5.300e+01, 4.400e+02, 2.080e+02, 3.590e+02, 2.950e+02, 1.580e+02,\n",
       "       1.070e+02, 2.130e+02, 1.398e+03, 1.000e+01, 5.000e+01, 2.490e+02,\n",
       "       2.830e+02, 3.680e+02, 2.910e+02, 2.960e+02, 3.630e+02, 2.940e+02,\n",
       "       3.700e+01, 2.290e+02, 2.890e+02, 2.820e+02, 1.480e+02, 1.040e+02,\n",
       "       1.170e+02, 9.900e+01, 2.900e+01, 1.140e+02, 1.110e+02, 7.600e+01,\n",
       "       9.800e+01, 4.800e+01, 2.070e+02, 4.900e+01, 1.080e+02, 6.600e+01,\n",
       "       4.500e+01, 9.300e+01, 2.600e+01, 5.800e+01, 2.500e+01, 3.200e+01,\n",
       "       8.900e+01, 8.700e+01, 9.100e+01, 4.100e+01, 4.300e+01, 4.200e+01,\n",
       "       5.900e+01, 3.900e+01, 2.200e+01, 2.980e+02, 7.170e+02, 4.950e+02,\n",
       "       4.920e+02, 5.060e+02, 3.830e+02, 3.770e+02, 4.750e+02, 3.640e+02,\n",
       "       7.070e+02, 4.850e+02, 3.920e+02, 3.760e+02, 3.860e+02, 7.160e+02,\n",
       "       4.010e+02, 7.740e+02, 3.780e+02, 8.850e+02, 7.300e+02, 7.970e+02,\n",
       "       7.100e+02, 1.690e+02, 6.700e+02, 6.600e+02, 5.700e+02, 7.210e+02,\n",
       "       4.900e+02, 7.200e+02, 6.900e+02, 2.140e+02, 8.000e+02, 7.350e+02,\n",
       "       5.690e+02, 3.100e+01, 3.000e+01, 2.400e+01, 2.300e+01, 4.600e+01,\n",
       "       1.390e+02, 1.800e+01, 2.700e+01, 5.100e+01, 2.780e+02, 4.000e+01,\n",
       "       3.400e+01, 6.300e+01, 2.800e+01, 2.420e+02, 2.430e+02, 3.160e+02,\n",
       "       2.370e+02, 1.530e+02, 2.680e+02, 2.120e+02, 4.570e+02, 4.060e+02,\n",
       "       3.950e+02, 4.210e+02, 7.700e+02, 3.360e+02, 4.560e+02, 1.340e+02,\n",
       "       2.020e+02, 4.870e+02, 3.170e+02, 4.590e+02, 5.260e+02, 3.020e+02,\n",
       "       7.600e+02, 5.330e+02, 4.410e+02, 2.660e+02, 3.600e+01, 2.770e+02,\n",
       "       3.500e+01, 1.960e+02, 1.980e+02, 3.730e+02, 2.670e+02, 3.520e+02,\n",
       "       4.680e+02, 1.990e+02, 6.200e+01, 3.660e+02, 6.400e+02, 7.000e+02,\n",
       "       5.190e+02, 7.500e+02, 3.390e+02, 3.790e+02, 5.650e+02, 4.170e+02,\n",
       "       4.230e+02, 4.640e+02, 2.270e+02, 4.510e+02, 4.430e+02, 6.750e+02,\n",
       "       6.120e+02, 3.800e+01, 5.580e+02, 5.570e+02, 4.220e+02, 5.160e+02,\n",
       "       4.890e+02, 5.840e+02, 5.170e+02, 5.140e+02, 5.180e+02, 5.770e+02,\n",
       "       6.180e+02, 5.220e+02, 4.290e+02, 4.810e+02, 5.640e+02, 4.140e+02,\n",
       "       3.970e+02, 4.820e+02, 2.210e+02, 5.050e+02, 5.230e+02, 9.000e+00,\n",
       "       5.110e+02, 3.310e+02, 3.320e+02, 6.210e+02, 3.980e+02, 6.400e+01,\n",
       "       5.600e+01, 1.100e+01, 3.000e+00, 1.900e+01, 4.700e+01, 7.900e+01,\n",
       "       3.890e+02, 7.610e+02, 3.820e+02, 6.800e+02, 5.810e+02, 5.210e+02,\n",
       "       4.030e+02, 3.990e+02, 1.203e+03, 1.000e+03, 9.070e+02, 6.320e+02,\n",
       "       5.630e+02, 6.240e+02, 6.030e+02, 6.980e+02, 4.720e+02, 1.300e+03,\n",
       "       6.130e+02, 5.390e+02, 4.970e+02, 5.610e+02, 4.790e+02, 2.610e+02,\n",
       "       1.115e+03, 1.102e+03, 3.300e+01])"
      ]
     },
     "execution_count": 41,
     "metadata": {},
     "output_type": "execute_result"
    }
   ],
   "source": [
    "data_7['Power_HP'].unique()"
   ]
  },
  {
   "cell_type": "markdown",
   "id": "08690ed6",
   "metadata": {},
   "source": [
    "### Displacement_cm3"
   ]
  },
  {
   "cell_type": "code",
   "execution_count": 42,
   "id": "337b9e1d",
   "metadata": {},
   "outputs": [],
   "source": [
    "data_8 = data_7.copy()"
   ]
  },
  {
   "cell_type": "code",
   "execution_count": 43,
   "id": "5e6571b0",
   "metadata": {},
   "outputs": [],
   "source": [
    "data_8 = data_8.dropna(subset = ['Displacement_cm3'])"
   ]
  },
  {
   "cell_type": "code",
   "execution_count": 44,
   "id": "45f011af",
   "metadata": {},
   "outputs": [
    {
     "data": {
      "text/plain": [
       "1598.0    15343\n",
       "1968.0    13299\n",
       "1995.0    10504\n",
       "1997.0     8802\n",
       "1998.0     8009\n",
       "          ...  \n",
       "5720.0        1\n",
       "2232.0        1\n",
       "4308.0        1\n",
       "5481.0        1\n",
       "5964.0        1\n",
       "Name: Displacement_cm3, Length: 1178, dtype: int64"
      ]
     },
     "execution_count": 44,
     "metadata": {},
     "output_type": "execute_result"
    }
   ],
   "source": [
    "data_8['Displacement_cm3'].value_counts()"
   ]
  },
  {
   "cell_type": "markdown",
   "id": "4e402677",
   "metadata": {},
   "source": [
    "### Fuel_type : "
   ]
  },
  {
   "cell_type": "code",
   "execution_count": 45,
   "id": "5debddd8",
   "metadata": {},
   "outputs": [],
   "source": [
    "data_9 = data_8.copy() "
   ]
  },
  {
   "cell_type": "code",
   "execution_count": 46,
   "id": "be2b1c48",
   "metadata": {
    "scrolled": true
   },
   "outputs": [
    {
     "data": {
      "text/plain": [
       "Gasoline          98490\n",
       "Diesel            91807\n",
       "Gasoline + LPG     8996\n",
       "Hybrid             5793\n",
       "Gasoline + CNG       70\n",
       "Hydrogen              2\n",
       "Ethanol               2\n",
       "Name: Fuel_type, dtype: int64"
      ]
     },
     "execution_count": 46,
     "metadata": {},
     "output_type": "execute_result"
    }
   ],
   "source": [
    "data_9['Fuel_type'].value_counts()"
   ]
  },
  {
   "cell_type": "code",
   "execution_count": 47,
   "id": "b0179609",
   "metadata": {},
   "outputs": [
    {
     "data": {
      "text/html": [
       "<div>\n",
       "<style scoped>\n",
       "    .dataframe tbody tr th:only-of-type {\n",
       "        vertical-align: middle;\n",
       "    }\n",
       "\n",
       "    .dataframe tbody tr th {\n",
       "        vertical-align: top;\n",
       "    }\n",
       "\n",
       "    .dataframe thead th {\n",
       "        text-align: right;\n",
       "    }\n",
       "</style>\n",
       "<table border=\"1\" class=\"dataframe\">\n",
       "  <thead>\n",
       "    <tr style=\"text-align: right;\">\n",
       "      <th></th>\n",
       "      <th>Ethanol</th>\n",
       "      <th>Gasoline</th>\n",
       "      <th>Gasoline + CNG</th>\n",
       "      <th>Gasoline + LPG</th>\n",
       "      <th>Hybrid</th>\n",
       "      <th>Hydrogen</th>\n",
       "    </tr>\n",
       "  </thead>\n",
       "  <tbody>\n",
       "    <tr>\n",
       "      <th>0</th>\n",
       "      <td>0</td>\n",
       "      <td>1</td>\n",
       "      <td>0</td>\n",
       "      <td>0</td>\n",
       "      <td>0</td>\n",
       "      <td>0</td>\n",
       "    </tr>\n",
       "    <tr>\n",
       "      <th>1</th>\n",
       "      <td>0</td>\n",
       "      <td>1</td>\n",
       "      <td>0</td>\n",
       "      <td>0</td>\n",
       "      <td>0</td>\n",
       "      <td>0</td>\n",
       "    </tr>\n",
       "    <tr>\n",
       "      <th>2</th>\n",
       "      <td>0</td>\n",
       "      <td>1</td>\n",
       "      <td>0</td>\n",
       "      <td>0</td>\n",
       "      <td>0</td>\n",
       "      <td>0</td>\n",
       "    </tr>\n",
       "    <tr>\n",
       "      <th>3</th>\n",
       "      <td>0</td>\n",
       "      <td>1</td>\n",
       "      <td>0</td>\n",
       "      <td>0</td>\n",
       "      <td>0</td>\n",
       "      <td>0</td>\n",
       "    </tr>\n",
       "    <tr>\n",
       "      <th>4</th>\n",
       "      <td>0</td>\n",
       "      <td>1</td>\n",
       "      <td>0</td>\n",
       "      <td>0</td>\n",
       "      <td>0</td>\n",
       "      <td>0</td>\n",
       "    </tr>\n",
       "    <tr>\n",
       "      <th>...</th>\n",
       "      <td>...</td>\n",
       "      <td>...</td>\n",
       "      <td>...</td>\n",
       "      <td>...</td>\n",
       "      <td>...</td>\n",
       "      <td>...</td>\n",
       "    </tr>\n",
       "    <tr>\n",
       "      <th>208299</th>\n",
       "      <td>0</td>\n",
       "      <td>1</td>\n",
       "      <td>0</td>\n",
       "      <td>0</td>\n",
       "      <td>0</td>\n",
       "      <td>0</td>\n",
       "    </tr>\n",
       "    <tr>\n",
       "      <th>208300</th>\n",
       "      <td>0</td>\n",
       "      <td>1</td>\n",
       "      <td>0</td>\n",
       "      <td>0</td>\n",
       "      <td>0</td>\n",
       "      <td>0</td>\n",
       "    </tr>\n",
       "    <tr>\n",
       "      <th>208301</th>\n",
       "      <td>0</td>\n",
       "      <td>1</td>\n",
       "      <td>0</td>\n",
       "      <td>0</td>\n",
       "      <td>0</td>\n",
       "      <td>0</td>\n",
       "    </tr>\n",
       "    <tr>\n",
       "      <th>208302</th>\n",
       "      <td>0</td>\n",
       "      <td>1</td>\n",
       "      <td>0</td>\n",
       "      <td>0</td>\n",
       "      <td>0</td>\n",
       "      <td>0</td>\n",
       "    </tr>\n",
       "    <tr>\n",
       "      <th>208303</th>\n",
       "      <td>0</td>\n",
       "      <td>1</td>\n",
       "      <td>0</td>\n",
       "      <td>0</td>\n",
       "      <td>0</td>\n",
       "      <td>0</td>\n",
       "    </tr>\n",
       "  </tbody>\n",
       "</table>\n",
       "<p>205160 rows × 6 columns</p>\n",
       "</div>"
      ],
      "text/plain": [
       "        Ethanol  Gasoline  Gasoline + CNG  Gasoline + LPG  Hybrid  Hydrogen\n",
       "0             0         1               0               0       0         0\n",
       "1             0         1               0               0       0         0\n",
       "2             0         1               0               0       0         0\n",
       "3             0         1               0               0       0         0\n",
       "4             0         1               0               0       0         0\n",
       "...         ...       ...             ...             ...     ...       ...\n",
       "208299        0         1               0               0       0         0\n",
       "208300        0         1               0               0       0         0\n",
       "208301        0         1               0               0       0         0\n",
       "208302        0         1               0               0       0         0\n",
       "208303        0         1               0               0       0         0\n",
       "\n",
       "[205160 rows x 6 columns]"
      ]
     },
     "execution_count": 47,
     "metadata": {},
     "output_type": "execute_result"
    }
   ],
   "source": [
    "Fuel_type_dummies = pd.get_dummies(data_9['Fuel_type'],drop_first = True)\n",
    "Fuel_type_dummies"
   ]
  },
  {
   "cell_type": "code",
   "execution_count": 48,
   "id": "bb916e3b",
   "metadata": {},
   "outputs": [],
   "source": [
    "data_9 = pd.concat([data_9,Fuel_type_dummies],axis = 1)"
   ]
  },
  {
   "cell_type": "code",
   "execution_count": 49,
   "id": "358b6d38",
   "metadata": {},
   "outputs": [],
   "source": [
    "data_9 = data_9.drop(['Fuel_type'],axis = 1)"
   ]
  },
  {
   "cell_type": "code",
   "execution_count": 50,
   "id": "5693eadf",
   "metadata": {},
   "outputs": [],
   "source": [
    "data_9 = data_9.reset_index(drop = True)"
   ]
  },
  {
   "cell_type": "code",
   "execution_count": 51,
   "id": "58bb290d",
   "metadata": {},
   "outputs": [
    {
     "data": {
      "text/plain": [
       "Index(['Price', 'Vehicle_brand_0', 'Vehicle_brand_1', 'Vehicle_brand_2',\n",
       "       'Vehicle_brand_3', 'Vehicle_brand_4', 'Vehicle_brand_5',\n",
       "       'Vehicle_brand_6', 'Production_year', 'Mileage_km', 'Power_HP',\n",
       "       'Displacement_cm3', 'CO2_emissions', 'Drive', 'Transmission', 'Type',\n",
       "       'Doors_number', 'Colour', 'Origin_country', 'First_owner',\n",
       "       'First_registration_date', 'Offer_publication_date', 'Offer_location',\n",
       "       'Features', 'PLN', 'Used', 'Ethanol', 'Gasoline', 'Gasoline + CNG',\n",
       "       'Gasoline + LPG', 'Hybrid', 'Hydrogen'],\n",
       "      dtype='object')"
      ]
     },
     "execution_count": 51,
     "metadata": {},
     "output_type": "execute_result"
    }
   ],
   "source": [
    "data_9.columns"
   ]
  },
  {
   "cell_type": "markdown",
   "id": "b19f7e1b",
   "metadata": {},
   "source": [
    "### CO2_emissions, Transmission, Origin_country ,  First_owner , First_registration_date , Features , Drive "
   ]
  },
  {
   "cell_type": "code",
   "execution_count": 52,
   "id": "1fd44084",
   "metadata": {},
   "outputs": [],
   "source": [
    "data_10 = data_9.copy()"
   ]
  },
  {
   "cell_type": "code",
   "execution_count": 53,
   "id": "33549602",
   "metadata": {},
   "outputs": [],
   "source": [
    "data_10 = data_10.drop(['CO2_emissions'],axis = 1)"
   ]
  },
  {
   "cell_type": "code",
   "execution_count": 54,
   "id": "a7caaea1",
   "metadata": {},
   "outputs": [],
   "source": [
    "data_10 = data_10.dropna(subset = ['Transmission'])"
   ]
  },
  {
   "cell_type": "code",
   "execution_count": 55,
   "id": "772ac69f",
   "metadata": {},
   "outputs": [
    {
     "data": {
      "text/plain": [
       "array(['Manual', 'Automatic'], dtype=object)"
      ]
     },
     "execution_count": 55,
     "metadata": {},
     "output_type": "execute_result"
    }
   ],
   "source": [
    "data_10['Transmission'].unique()"
   ]
  },
  {
   "cell_type": "code",
   "execution_count": 56,
   "id": "e0b4a2f4",
   "metadata": {},
   "outputs": [],
   "source": [
    "Transmission_dummies = pd.get_dummies(data_10['Transmission'],drop_first = True)"
   ]
  },
  {
   "cell_type": "code",
   "execution_count": 57,
   "id": "aaa74dd9",
   "metadata": {},
   "outputs": [
    {
     "data": {
      "text/html": [
       "<div>\n",
       "<style scoped>\n",
       "    .dataframe tbody tr th:only-of-type {\n",
       "        vertical-align: middle;\n",
       "    }\n",
       "\n",
       "    .dataframe tbody tr th {\n",
       "        vertical-align: top;\n",
       "    }\n",
       "\n",
       "    .dataframe thead th {\n",
       "        text-align: right;\n",
       "    }\n",
       "</style>\n",
       "<table border=\"1\" class=\"dataframe\">\n",
       "  <thead>\n",
       "    <tr style=\"text-align: right;\">\n",
       "      <th></th>\n",
       "      <th>Manual</th>\n",
       "    </tr>\n",
       "  </thead>\n",
       "  <tbody>\n",
       "    <tr>\n",
       "      <th>0</th>\n",
       "      <td>1</td>\n",
       "    </tr>\n",
       "    <tr>\n",
       "      <th>1</th>\n",
       "      <td>1</td>\n",
       "    </tr>\n",
       "    <tr>\n",
       "      <th>2</th>\n",
       "      <td>0</td>\n",
       "    </tr>\n",
       "    <tr>\n",
       "      <th>3</th>\n",
       "      <td>1</td>\n",
       "    </tr>\n",
       "    <tr>\n",
       "      <th>4</th>\n",
       "      <td>1</td>\n",
       "    </tr>\n",
       "    <tr>\n",
       "      <th>...</th>\n",
       "      <td>...</td>\n",
       "    </tr>\n",
       "    <tr>\n",
       "      <th>205155</th>\n",
       "      <td>1</td>\n",
       "    </tr>\n",
       "    <tr>\n",
       "      <th>205156</th>\n",
       "      <td>1</td>\n",
       "    </tr>\n",
       "    <tr>\n",
       "      <th>205157</th>\n",
       "      <td>1</td>\n",
       "    </tr>\n",
       "    <tr>\n",
       "      <th>205158</th>\n",
       "      <td>1</td>\n",
       "    </tr>\n",
       "    <tr>\n",
       "      <th>205159</th>\n",
       "      <td>1</td>\n",
       "    </tr>\n",
       "  </tbody>\n",
       "</table>\n",
       "<p>205038 rows × 1 columns</p>\n",
       "</div>"
      ],
      "text/plain": [
       "        Manual\n",
       "0            1\n",
       "1            1\n",
       "2            0\n",
       "3            1\n",
       "4            1\n",
       "...        ...\n",
       "205155       1\n",
       "205156       1\n",
       "205157       1\n",
       "205158       1\n",
       "205159       1\n",
       "\n",
       "[205038 rows x 1 columns]"
      ]
     },
     "execution_count": 57,
     "metadata": {},
     "output_type": "execute_result"
    }
   ],
   "source": [
    "Transmission_dummies"
   ]
  },
  {
   "cell_type": "code",
   "execution_count": 58,
   "id": "9fa9b9a7",
   "metadata": {},
   "outputs": [],
   "source": [
    "data_10 = pd.concat([data_10,Transmission_dummies],axis = 1)"
   ]
  },
  {
   "cell_type": "code",
   "execution_count": 59,
   "id": "e70f861d",
   "metadata": {},
   "outputs": [],
   "source": [
    "data_10 = data_10.drop(['Transmission'],axis = 1)"
   ]
  },
  {
   "cell_type": "code",
   "execution_count": 60,
   "id": "1d78992b",
   "metadata": {},
   "outputs": [],
   "source": [
    "data_10 = data_10.drop(['Origin_country', 'First_owner',\n",
    "       'First_registration_date','Features','Drive', 'Colour', 'Offer_publication_date', 'Offer_location'],axis = 1)"
   ]
  },
  {
   "cell_type": "code",
   "execution_count": 61,
   "id": "a825837e",
   "metadata": {},
   "outputs": [
    {
     "data": {
      "text/plain": [
       "Index(['Price', 'Vehicle_brand_0', 'Vehicle_brand_1', 'Vehicle_brand_2',\n",
       "       'Vehicle_brand_3', 'Vehicle_brand_4', 'Vehicle_brand_5',\n",
       "       'Vehicle_brand_6', 'Production_year', 'Mileage_km', 'Power_HP',\n",
       "       'Displacement_cm3', 'Type', 'Doors_number', 'PLN', 'Used', 'Ethanol',\n",
       "       'Gasoline', 'Gasoline + CNG', 'Gasoline + LPG', 'Hybrid', 'Hydrogen',\n",
       "       'Manual'],\n",
       "      dtype='object')"
      ]
     },
     "execution_count": 61,
     "metadata": {},
     "output_type": "execute_result"
    }
   ],
   "source": [
    "data_10.columns"
   ]
  },
  {
   "cell_type": "markdown",
   "id": "3d966afe",
   "metadata": {},
   "source": [
    "### Type :"
   ]
  },
  {
   "cell_type": "code",
   "execution_count": 62,
   "id": "c864fc6f",
   "metadata": {},
   "outputs": [],
   "source": [
    "data_11 = data_10.copy()"
   ]
  },
  {
   "cell_type": "code",
   "execution_count": 63,
   "id": "f1812ea5",
   "metadata": {
    "scrolled": false
   },
   "outputs": [
    {
     "data": {
      "text/plain": [
       "Index(['Price', 'Vehicle_brand_0', 'Vehicle_brand_1', 'Vehicle_brand_2',\n",
       "       'Vehicle_brand_3', 'Vehicle_brand_4', 'Vehicle_brand_5',\n",
       "       'Vehicle_brand_6', 'Production_year', 'Mileage_km', 'Power_HP',\n",
       "       'Displacement_cm3', 'Type', 'Doors_number', 'PLN', 'Used', 'Ethanol',\n",
       "       'Gasoline', 'Gasoline + CNG', 'Gasoline + LPG', 'Hybrid', 'Hydrogen',\n",
       "       'Manual'],\n",
       "      dtype='object')"
      ]
     },
     "execution_count": 63,
     "metadata": {},
     "output_type": "execute_result"
    }
   ],
   "source": [
    "data_11.columns"
   ]
  },
  {
   "cell_type": "code",
   "execution_count": 64,
   "id": "39752210",
   "metadata": {},
   "outputs": [
    {
     "data": {
      "text/html": [
       "<div>\n",
       "<style scoped>\n",
       "    .dataframe tbody tr th:only-of-type {\n",
       "        vertical-align: middle;\n",
       "    }\n",
       "\n",
       "    .dataframe tbody tr th {\n",
       "        vertical-align: top;\n",
       "    }\n",
       "\n",
       "    .dataframe thead th {\n",
       "        text-align: right;\n",
       "    }\n",
       "</style>\n",
       "<table border=\"1\" class=\"dataframe\">\n",
       "  <thead>\n",
       "    <tr style=\"text-align: right;\">\n",
       "      <th></th>\n",
       "      <th>city_cars</th>\n",
       "      <th>compact</th>\n",
       "      <th>convertible</th>\n",
       "      <th>coupe</th>\n",
       "      <th>minivan</th>\n",
       "      <th>sedan</th>\n",
       "      <th>small_cars</th>\n",
       "      <th>station_wagon</th>\n",
       "    </tr>\n",
       "  </thead>\n",
       "  <tbody>\n",
       "    <tr>\n",
       "      <th>0</th>\n",
       "      <td>0</td>\n",
       "      <td>0</td>\n",
       "      <td>0</td>\n",
       "      <td>0</td>\n",
       "      <td>0</td>\n",
       "      <td>0</td>\n",
       "      <td>1</td>\n",
       "      <td>0</td>\n",
       "    </tr>\n",
       "    <tr>\n",
       "      <th>1</th>\n",
       "      <td>0</td>\n",
       "      <td>0</td>\n",
       "      <td>0</td>\n",
       "      <td>1</td>\n",
       "      <td>0</td>\n",
       "      <td>0</td>\n",
       "      <td>0</td>\n",
       "      <td>0</td>\n",
       "    </tr>\n",
       "    <tr>\n",
       "      <th>2</th>\n",
       "      <td>0</td>\n",
       "      <td>0</td>\n",
       "      <td>0</td>\n",
       "      <td>0</td>\n",
       "      <td>0</td>\n",
       "      <td>0</td>\n",
       "      <td>1</td>\n",
       "      <td>0</td>\n",
       "    </tr>\n",
       "    <tr>\n",
       "      <th>3</th>\n",
       "      <td>0</td>\n",
       "      <td>0</td>\n",
       "      <td>0</td>\n",
       "      <td>0</td>\n",
       "      <td>0</td>\n",
       "      <td>0</td>\n",
       "      <td>1</td>\n",
       "      <td>0</td>\n",
       "    </tr>\n",
       "    <tr>\n",
       "      <th>4</th>\n",
       "      <td>0</td>\n",
       "      <td>0</td>\n",
       "      <td>0</td>\n",
       "      <td>0</td>\n",
       "      <td>0</td>\n",
       "      <td>0</td>\n",
       "      <td>1</td>\n",
       "      <td>0</td>\n",
       "    </tr>\n",
       "    <tr>\n",
       "      <th>...</th>\n",
       "      <td>...</td>\n",
       "      <td>...</td>\n",
       "      <td>...</td>\n",
       "      <td>...</td>\n",
       "      <td>...</td>\n",
       "      <td>...</td>\n",
       "      <td>...</td>\n",
       "      <td>...</td>\n",
       "    </tr>\n",
       "    <tr>\n",
       "      <th>205155</th>\n",
       "      <td>0</td>\n",
       "      <td>0</td>\n",
       "      <td>0</td>\n",
       "      <td>0</td>\n",
       "      <td>0</td>\n",
       "      <td>0</td>\n",
       "      <td>1</td>\n",
       "      <td>0</td>\n",
       "    </tr>\n",
       "    <tr>\n",
       "      <th>205156</th>\n",
       "      <td>0</td>\n",
       "      <td>0</td>\n",
       "      <td>0</td>\n",
       "      <td>0</td>\n",
       "      <td>0</td>\n",
       "      <td>0</td>\n",
       "      <td>0</td>\n",
       "      <td>1</td>\n",
       "    </tr>\n",
       "    <tr>\n",
       "      <th>205157</th>\n",
       "      <td>0</td>\n",
       "      <td>0</td>\n",
       "      <td>0</td>\n",
       "      <td>0</td>\n",
       "      <td>0</td>\n",
       "      <td>0</td>\n",
       "      <td>0</td>\n",
       "      <td>0</td>\n",
       "    </tr>\n",
       "    <tr>\n",
       "      <th>205158</th>\n",
       "      <td>0</td>\n",
       "      <td>0</td>\n",
       "      <td>0</td>\n",
       "      <td>0</td>\n",
       "      <td>1</td>\n",
       "      <td>0</td>\n",
       "      <td>0</td>\n",
       "      <td>0</td>\n",
       "    </tr>\n",
       "    <tr>\n",
       "      <th>205159</th>\n",
       "      <td>0</td>\n",
       "      <td>0</td>\n",
       "      <td>0</td>\n",
       "      <td>0</td>\n",
       "      <td>1</td>\n",
       "      <td>0</td>\n",
       "      <td>0</td>\n",
       "      <td>0</td>\n",
       "    </tr>\n",
       "  </tbody>\n",
       "</table>\n",
       "<p>205038 rows × 8 columns</p>\n",
       "</div>"
      ],
      "text/plain": [
       "        city_cars  compact  convertible  coupe  minivan  sedan  small_cars  \\\n",
       "0               0        0            0      0        0      0           1   \n",
       "1               0        0            0      1        0      0           0   \n",
       "2               0        0            0      0        0      0           1   \n",
       "3               0        0            0      0        0      0           1   \n",
       "4               0        0            0      0        0      0           1   \n",
       "...           ...      ...          ...    ...      ...    ...         ...   \n",
       "205155          0        0            0      0        0      0           1   \n",
       "205156          0        0            0      0        0      0           0   \n",
       "205157          0        0            0      0        0      0           0   \n",
       "205158          0        0            0      0        1      0           0   \n",
       "205159          0        0            0      0        1      0           0   \n",
       "\n",
       "        station_wagon  \n",
       "0                   0  \n",
       "1                   0  \n",
       "2                   0  \n",
       "3                   0  \n",
       "4                   0  \n",
       "...               ...  \n",
       "205155              0  \n",
       "205156              1  \n",
       "205157              0  \n",
       "205158              0  \n",
       "205159              0  \n",
       "\n",
       "[205038 rows x 8 columns]"
      ]
     },
     "execution_count": 64,
     "metadata": {},
     "output_type": "execute_result"
    }
   ],
   "source": [
    "Type_dummies = pd.get_dummies(data_11['Type'],drop_first = True)\n",
    "Type_dummies"
   ]
  },
  {
   "cell_type": "code",
   "execution_count": 65,
   "id": "a7d7032d",
   "metadata": {},
   "outputs": [],
   "source": [
    "data_11 = pd.concat([data_11,Type_dummies],axis=1)"
   ]
  },
  {
   "cell_type": "code",
   "execution_count": 66,
   "id": "8e3bbc5a",
   "metadata": {},
   "outputs": [],
   "source": [
    "data_11 = data_11.drop(['Type'],axis = 1)"
   ]
  },
  {
   "cell_type": "markdown",
   "id": "6569e3b1",
   "metadata": {},
   "source": [
    "### Doors_number"
   ]
  },
  {
   "cell_type": "code",
   "execution_count": 67,
   "id": "178e72ff",
   "metadata": {},
   "outputs": [],
   "source": [
    "data_12 = data_11.copy()"
   ]
  },
  {
   "cell_type": "code",
   "execution_count": 68,
   "id": "14597d25",
   "metadata": {},
   "outputs": [
    {
     "data": {
      "text/plain": [
       "(205038, 30)"
      ]
     },
     "execution_count": 68,
     "metadata": {},
     "output_type": "execute_result"
    }
   ],
   "source": [
    "data_12.shape"
   ]
  },
  {
   "cell_type": "code",
   "execution_count": 69,
   "id": "e895d251",
   "metadata": {},
   "outputs": [],
   "source": [
    "data_12 = data_12.dropna(subset = ['Doors_number'])"
   ]
  },
  {
   "cell_type": "code",
   "execution_count": 70,
   "id": "a1cefa23",
   "metadata": {
    "scrolled": true
   },
   "outputs": [
    {
     "data": {
      "text/html": [
       "<div>\n",
       "<style scoped>\n",
       "    .dataframe tbody tr th:only-of-type {\n",
       "        vertical-align: middle;\n",
       "    }\n",
       "\n",
       "    .dataframe tbody tr th {\n",
       "        vertical-align: top;\n",
       "    }\n",
       "\n",
       "    .dataframe thead th {\n",
       "        text-align: right;\n",
       "    }\n",
       "</style>\n",
       "<table border=\"1\" class=\"dataframe\">\n",
       "  <thead>\n",
       "    <tr style=\"text-align: right;\">\n",
       "      <th></th>\n",
       "      <th>Price</th>\n",
       "      <th>Vehicle_brand_0</th>\n",
       "      <th>Vehicle_brand_1</th>\n",
       "      <th>Vehicle_brand_2</th>\n",
       "      <th>Vehicle_brand_3</th>\n",
       "      <th>Vehicle_brand_4</th>\n",
       "      <th>Vehicle_brand_5</th>\n",
       "      <th>Vehicle_brand_6</th>\n",
       "      <th>Production_year</th>\n",
       "      <th>Mileage_km</th>\n",
       "      <th>...</th>\n",
       "      <th>Hydrogen</th>\n",
       "      <th>Manual</th>\n",
       "      <th>city_cars</th>\n",
       "      <th>compact</th>\n",
       "      <th>convertible</th>\n",
       "      <th>coupe</th>\n",
       "      <th>minivan</th>\n",
       "      <th>sedan</th>\n",
       "      <th>small_cars</th>\n",
       "      <th>station_wagon</th>\n",
       "    </tr>\n",
       "  </thead>\n",
       "  <tbody>\n",
       "    <tr>\n",
       "      <th>0</th>\n",
       "      <td>86200</td>\n",
       "      <td>0</td>\n",
       "      <td>0</td>\n",
       "      <td>0</td>\n",
       "      <td>0</td>\n",
       "      <td>0</td>\n",
       "      <td>0</td>\n",
       "      <td>1</td>\n",
       "      <td>2021</td>\n",
       "      <td>1.0</td>\n",
       "      <td>...</td>\n",
       "      <td>0</td>\n",
       "      <td>1</td>\n",
       "      <td>0</td>\n",
       "      <td>0</td>\n",
       "      <td>0</td>\n",
       "      <td>0</td>\n",
       "      <td>0</td>\n",
       "      <td>0</td>\n",
       "      <td>1</td>\n",
       "      <td>0</td>\n",
       "    </tr>\n",
       "    <tr>\n",
       "      <th>1</th>\n",
       "      <td>43500</td>\n",
       "      <td>0</td>\n",
       "      <td>0</td>\n",
       "      <td>0</td>\n",
       "      <td>0</td>\n",
       "      <td>0</td>\n",
       "      <td>0</td>\n",
       "      <td>1</td>\n",
       "      <td>1974</td>\n",
       "      <td>59000.0</td>\n",
       "      <td>...</td>\n",
       "      <td>0</td>\n",
       "      <td>1</td>\n",
       "      <td>0</td>\n",
       "      <td>0</td>\n",
       "      <td>0</td>\n",
       "      <td>1</td>\n",
       "      <td>0</td>\n",
       "      <td>0</td>\n",
       "      <td>0</td>\n",
       "      <td>0</td>\n",
       "    </tr>\n",
       "    <tr>\n",
       "      <th>2</th>\n",
       "      <td>44900</td>\n",
       "      <td>0</td>\n",
       "      <td>0</td>\n",
       "      <td>0</td>\n",
       "      <td>0</td>\n",
       "      <td>0</td>\n",
       "      <td>0</td>\n",
       "      <td>1</td>\n",
       "      <td>2018</td>\n",
       "      <td>52000.0</td>\n",
       "      <td>...</td>\n",
       "      <td>0</td>\n",
       "      <td>0</td>\n",
       "      <td>0</td>\n",
       "      <td>0</td>\n",
       "      <td>0</td>\n",
       "      <td>0</td>\n",
       "      <td>0</td>\n",
       "      <td>0</td>\n",
       "      <td>1</td>\n",
       "      <td>0</td>\n",
       "    </tr>\n",
       "    <tr>\n",
       "      <th>3</th>\n",
       "      <td>39900</td>\n",
       "      <td>0</td>\n",
       "      <td>0</td>\n",
       "      <td>0</td>\n",
       "      <td>0</td>\n",
       "      <td>0</td>\n",
       "      <td>0</td>\n",
       "      <td>1</td>\n",
       "      <td>2012</td>\n",
       "      <td>29000.0</td>\n",
       "      <td>...</td>\n",
       "      <td>0</td>\n",
       "      <td>1</td>\n",
       "      <td>0</td>\n",
       "      <td>0</td>\n",
       "      <td>0</td>\n",
       "      <td>0</td>\n",
       "      <td>0</td>\n",
       "      <td>0</td>\n",
       "      <td>1</td>\n",
       "      <td>0</td>\n",
       "    </tr>\n",
       "    <tr>\n",
       "      <th>4</th>\n",
       "      <td>97900</td>\n",
       "      <td>0</td>\n",
       "      <td>0</td>\n",
       "      <td>0</td>\n",
       "      <td>0</td>\n",
       "      <td>0</td>\n",
       "      <td>0</td>\n",
       "      <td>1</td>\n",
       "      <td>2021</td>\n",
       "      <td>600.0</td>\n",
       "      <td>...</td>\n",
       "      <td>0</td>\n",
       "      <td>1</td>\n",
       "      <td>0</td>\n",
       "      <td>0</td>\n",
       "      <td>0</td>\n",
       "      <td>0</td>\n",
       "      <td>0</td>\n",
       "      <td>0</td>\n",
       "      <td>1</td>\n",
       "      <td>0</td>\n",
       "    </tr>\n",
       "    <tr>\n",
       "      <th>...</th>\n",
       "      <td>...</td>\n",
       "      <td>...</td>\n",
       "      <td>...</td>\n",
       "      <td>...</td>\n",
       "      <td>...</td>\n",
       "      <td>...</td>\n",
       "      <td>...</td>\n",
       "      <td>...</td>\n",
       "      <td>...</td>\n",
       "      <td>...</td>\n",
       "      <td>...</td>\n",
       "      <td>...</td>\n",
       "      <td>...</td>\n",
       "      <td>...</td>\n",
       "      <td>...</td>\n",
       "      <td>...</td>\n",
       "      <td>...</td>\n",
       "      <td>...</td>\n",
       "      <td>...</td>\n",
       "      <td>...</td>\n",
       "      <td>...</td>\n",
       "    </tr>\n",
       "    <tr>\n",
       "      <th>204055</th>\n",
       "      <td>39900</td>\n",
       "      <td>1</td>\n",
       "      <td>0</td>\n",
       "      <td>0</td>\n",
       "      <td>1</td>\n",
       "      <td>0</td>\n",
       "      <td>1</td>\n",
       "      <td>0</td>\n",
       "      <td>2014</td>\n",
       "      <td>40000.0</td>\n",
       "      <td>...</td>\n",
       "      <td>0</td>\n",
       "      <td>1</td>\n",
       "      <td>0</td>\n",
       "      <td>0</td>\n",
       "      <td>0</td>\n",
       "      <td>0</td>\n",
       "      <td>0</td>\n",
       "      <td>0</td>\n",
       "      <td>1</td>\n",
       "      <td>0</td>\n",
       "    </tr>\n",
       "    <tr>\n",
       "      <th>204056</th>\n",
       "      <td>10900</td>\n",
       "      <td>1</td>\n",
       "      <td>0</td>\n",
       "      <td>0</td>\n",
       "      <td>1</td>\n",
       "      <td>0</td>\n",
       "      <td>1</td>\n",
       "      <td>0</td>\n",
       "      <td>1970</td>\n",
       "      <td>63518.0</td>\n",
       "      <td>...</td>\n",
       "      <td>0</td>\n",
       "      <td>1</td>\n",
       "      <td>0</td>\n",
       "      <td>0</td>\n",
       "      <td>0</td>\n",
       "      <td>0</td>\n",
       "      <td>0</td>\n",
       "      <td>0</td>\n",
       "      <td>0</td>\n",
       "      <td>1</td>\n",
       "    </tr>\n",
       "    <tr>\n",
       "      <th>204057</th>\n",
       "      <td>6900</td>\n",
       "      <td>1</td>\n",
       "      <td>0</td>\n",
       "      <td>0</td>\n",
       "      <td>1</td>\n",
       "      <td>0</td>\n",
       "      <td>1</td>\n",
       "      <td>0</td>\n",
       "      <td>1977</td>\n",
       "      <td>11880.0</td>\n",
       "      <td>...</td>\n",
       "      <td>0</td>\n",
       "      <td>1</td>\n",
       "      <td>0</td>\n",
       "      <td>0</td>\n",
       "      <td>0</td>\n",
       "      <td>0</td>\n",
       "      <td>0</td>\n",
       "      <td>0</td>\n",
       "      <td>0</td>\n",
       "      <td>0</td>\n",
       "    </tr>\n",
       "    <tr>\n",
       "      <th>204058</th>\n",
       "      <td>5700</td>\n",
       "      <td>1</td>\n",
       "      <td>0</td>\n",
       "      <td>0</td>\n",
       "      <td>1</td>\n",
       "      <td>0</td>\n",
       "      <td>1</td>\n",
       "      <td>0</td>\n",
       "      <td>1986</td>\n",
       "      <td>100000.0</td>\n",
       "      <td>...</td>\n",
       "      <td>0</td>\n",
       "      <td>1</td>\n",
       "      <td>0</td>\n",
       "      <td>0</td>\n",
       "      <td>0</td>\n",
       "      <td>0</td>\n",
       "      <td>1</td>\n",
       "      <td>0</td>\n",
       "      <td>0</td>\n",
       "      <td>0</td>\n",
       "    </tr>\n",
       "    <tr>\n",
       "      <th>204059</th>\n",
       "      <td>11900</td>\n",
       "      <td>1</td>\n",
       "      <td>0</td>\n",
       "      <td>0</td>\n",
       "      <td>1</td>\n",
       "      <td>0</td>\n",
       "      <td>1</td>\n",
       "      <td>0</td>\n",
       "      <td>1985</td>\n",
       "      <td>20056.0</td>\n",
       "      <td>...</td>\n",
       "      <td>0</td>\n",
       "      <td>1</td>\n",
       "      <td>0</td>\n",
       "      <td>0</td>\n",
       "      <td>0</td>\n",
       "      <td>0</td>\n",
       "      <td>1</td>\n",
       "      <td>0</td>\n",
       "      <td>0</td>\n",
       "      <td>0</td>\n",
       "    </tr>\n",
       "  </tbody>\n",
       "</table>\n",
       "<p>204060 rows × 30 columns</p>\n",
       "</div>"
      ],
      "text/plain": [
       "        Price  Vehicle_brand_0  Vehicle_brand_1  Vehicle_brand_2  \\\n",
       "0       86200                0                0                0   \n",
       "1       43500                0                0                0   \n",
       "2       44900                0                0                0   \n",
       "3       39900                0                0                0   \n",
       "4       97900                0                0                0   \n",
       "...       ...              ...              ...              ...   \n",
       "204055  39900                1                0                0   \n",
       "204056  10900                1                0                0   \n",
       "204057   6900                1                0                0   \n",
       "204058   5700                1                0                0   \n",
       "204059  11900                1                0                0   \n",
       "\n",
       "        Vehicle_brand_3  Vehicle_brand_4  Vehicle_brand_5  Vehicle_brand_6  \\\n",
       "0                     0                0                0                1   \n",
       "1                     0                0                0                1   \n",
       "2                     0                0                0                1   \n",
       "3                     0                0                0                1   \n",
       "4                     0                0                0                1   \n",
       "...                 ...              ...              ...              ...   \n",
       "204055                1                0                1                0   \n",
       "204056                1                0                1                0   \n",
       "204057                1                0                1                0   \n",
       "204058                1                0                1                0   \n",
       "204059                1                0                1                0   \n",
       "\n",
       "        Production_year  Mileage_km  ...  Hydrogen  Manual  city_cars  \\\n",
       "0                  2021         1.0  ...         0       1          0   \n",
       "1                  1974     59000.0  ...         0       1          0   \n",
       "2                  2018     52000.0  ...         0       0          0   \n",
       "3                  2012     29000.0  ...         0       1          0   \n",
       "4                  2021       600.0  ...         0       1          0   \n",
       "...                 ...         ...  ...       ...     ...        ...   \n",
       "204055             2014     40000.0  ...         0       1          0   \n",
       "204056             1970     63518.0  ...         0       1          0   \n",
       "204057             1977     11880.0  ...         0       1          0   \n",
       "204058             1986    100000.0  ...         0       1          0   \n",
       "204059             1985     20056.0  ...         0       1          0   \n",
       "\n",
       "        compact  convertible  coupe  minivan  sedan  small_cars  station_wagon  \n",
       "0             0            0      0        0      0           1              0  \n",
       "1             0            0      1        0      0           0              0  \n",
       "2             0            0      0        0      0           1              0  \n",
       "3             0            0      0        0      0           1              0  \n",
       "4             0            0      0        0      0           1              0  \n",
       "...         ...          ...    ...      ...    ...         ...            ...  \n",
       "204055        0            0      0        0      0           1              0  \n",
       "204056        0            0      0        0      0           0              1  \n",
       "204057        0            0      0        0      0           0              0  \n",
       "204058        0            0      0        1      0           0              0  \n",
       "204059        0            0      0        1      0           0              0  \n",
       "\n",
       "[204060 rows x 30 columns]"
      ]
     },
     "execution_count": 70,
     "metadata": {},
     "output_type": "execute_result"
    }
   ],
   "source": [
    "data_12 = data_12.reset_index(drop = True)\n",
    "data_12"
   ]
  },
  {
   "cell_type": "markdown",
   "id": "a37069d1",
   "metadata": {},
   "source": [
    "# Multicollinearity"
   ]
  },
  {
   "cell_type": "code",
   "execution_count": 71,
   "id": "f9ba1d6e",
   "metadata": {},
   "outputs": [],
   "source": [
    "from statsmodels.stats.outliers_influence import variance_inflation_factor\n",
    "variables = data_12[[ 'Production_year',\n",
    " 'Mileage_km',\n",
    " 'Power_HP',\n",
    " 'Displacement_cm3',\n",
    " 'Doors_number']]\n",
    "vif = pd.DataFrame()\n",
    "vif['VIF'] = [variance_inflation_factor(variables.values,i) for i in range(variables.shape[1])]\n",
    "vif['features'] = variables.columns"
   ]
  },
  {
   "cell_type": "code",
   "execution_count": 72,
   "id": "1a8dbbf2",
   "metadata": {
    "scrolled": true
   },
   "outputs": [
    {
     "data": {
      "text/html": [
       "<div>\n",
       "<style scoped>\n",
       "    .dataframe tbody tr th:only-of-type {\n",
       "        vertical-align: middle;\n",
       "    }\n",
       "\n",
       "    .dataframe tbody tr th {\n",
       "        vertical-align: top;\n",
       "    }\n",
       "\n",
       "    .dataframe thead th {\n",
       "        text-align: right;\n",
       "    }\n",
       "</style>\n",
       "<table border=\"1\" class=\"dataframe\">\n",
       "  <thead>\n",
       "    <tr style=\"text-align: right;\">\n",
       "      <th></th>\n",
       "      <th>VIF</th>\n",
       "      <th>features</th>\n",
       "    </tr>\n",
       "  </thead>\n",
       "  <tbody>\n",
       "    <tr>\n",
       "      <th>0</th>\n",
       "      <td>52.679432</td>\n",
       "      <td>Production_year</td>\n",
       "    </tr>\n",
       "    <tr>\n",
       "      <th>1</th>\n",
       "      <td>1.002890</td>\n",
       "      <td>Mileage_km</td>\n",
       "    </tr>\n",
       "    <tr>\n",
       "      <th>2</th>\n",
       "      <td>14.398524</td>\n",
       "      <td>Power_HP</td>\n",
       "    </tr>\n",
       "    <tr>\n",
       "      <th>3</th>\n",
       "      <td>22.785563</td>\n",
       "      <td>Displacement_cm3</td>\n",
       "    </tr>\n",
       "    <tr>\n",
       "      <th>4</th>\n",
       "      <td>39.281101</td>\n",
       "      <td>Doors_number</td>\n",
       "    </tr>\n",
       "  </tbody>\n",
       "</table>\n",
       "</div>"
      ],
      "text/plain": [
       "         VIF          features\n",
       "0  52.679432   Production_year\n",
       "1   1.002890        Mileage_km\n",
       "2  14.398524          Power_HP\n",
       "3  22.785563  Displacement_cm3\n",
       "4  39.281101      Doors_number"
      ]
     },
     "execution_count": 72,
     "metadata": {},
     "output_type": "execute_result"
    }
   ],
   "source": [
    "vif"
   ]
  },
  {
   "cell_type": "code",
   "execution_count": 73,
   "id": "6ff48750",
   "metadata": {},
   "outputs": [],
   "source": [
    "data_12 = data_12.drop(['Production_year','Doors_number'],axis=1)"
   ]
  },
  {
   "cell_type": "markdown",
   "id": "17b55c7b",
   "metadata": {},
   "source": [
    "# Remove Outliers : "
   ]
  },
  {
   "cell_type": "code",
   "execution_count": 74,
   "id": "35e2f7b6",
   "metadata": {},
   "outputs": [],
   "source": [
    "data_13 = data_12.copy()\n",
    "log_price = np.log(data_13['Price'])\n",
    "data_13['Log_Price'] = log_price"
   ]
  },
  {
   "cell_type": "code",
   "execution_count": 75,
   "id": "d3af48ef",
   "metadata": {},
   "outputs": [],
   "source": [
    "data_13 = data_13.drop(['Price'],axis = 1)"
   ]
  },
  {
   "cell_type": "markdown",
   "id": "98cf0369",
   "metadata": {},
   "source": [
    "### Outliers for Log_Price"
   ]
  },
  {
   "cell_type": "code",
   "execution_count": 76,
   "id": "ec7969a7",
   "metadata": {},
   "outputs": [
    {
     "data": {
      "text/plain": [
       "<Axes: xlabel='Log_Price', ylabel='Density'>"
      ]
     },
     "execution_count": 76,
     "metadata": {},
     "output_type": "execute_result"
    },
    {
     "data": {
      "image/png": "[encoded data removed]",
      "text/plain": [
       "<Figure size 640x480 with 1 Axes>"
      ]
     },
     "metadata": {},
     "output_type": "display_data"
    }
   ],
   "source": [
    "sns.kdeplot(data_13['Log_Price'])"
   ]
  },
  {
   "cell_type": "code",
   "execution_count": 77,
   "id": "08c1ccc5",
   "metadata": {},
   "outputs": [
    {
     "name": "stdout",
     "output_type": "stream",
     "text": [
      "Highest value of Year 13.605\n",
      "Lowest value of Year 7.37\n"
     ]
    }
   ],
   "source": [
    "print('Highest value of Year', round(data_13['Log_Price'].mean()+3*data_13['Log_Price'].std(),3))\n",
    "print('Lowest value of Year', round(data_13['Log_Price'].mean()-3*data_13['Log_Price'].std(),3))"
   ]
  },
  {
   "cell_type": "code",
   "execution_count": 78,
   "id": "d4042b15",
   "metadata": {},
   "outputs": [],
   "source": [
    "data_cleaned_1 = data_13[(data_13['Log_Price']>7.37) & (data_13['Log_Price']<13.605)]"
   ]
  },
  {
   "cell_type": "code",
   "execution_count": 79,
   "id": "2d939992",
   "metadata": {},
   "outputs": [
    {
     "data": {
      "text/plain": [
       "<Axes: xlabel='Log_Price', ylabel='Density'>"
      ]
     },
     "execution_count": 79,
     "metadata": {},
     "output_type": "execute_result"
    },
    {
     "data": {
      "image/png": "[encoded data removed]",
      "text/plain": [
       "<Figure size 640x480 with 1 Axes>"
      ]
     },
     "metadata": {},
     "output_type": "display_data"
    }
   ],
   "source": [
    "sns.kdeplot(data_cleaned_1['Log_Price'])"
   ]
  },
  {
   "cell_type": "markdown",
   "id": "58dabd81",
   "metadata": {},
   "source": [
    "### Outliers for Mileage_km"
   ]
  },
  {
   "cell_type": "code",
   "execution_count": 80,
   "id": "194a1403",
   "metadata": {},
   "outputs": [
    {
     "name": "stderr",
     "output_type": "stream",
     "text": [
      "C:\\Users\\patel\\AppData\\Local\\Temp\\ipykernel_20984\\2315134447.py:1: UserWarning: \n",
      "\n",
      "`distplot` is a deprecated function and will be removed in seaborn v0.14.0.\n",
      "\n",
      "Please adapt your code to use either `displot` (a figure-level function with\n",
      "similar flexibility) or `histplot` (an axes-level function for histograms).\n",
      "\n",
      "For a guide to updating your code to use the new functions, please see\n",
      "https://gist.github.com/mwaskom/de44147ed2974457ad6372750bbe5751\n",
      "\n",
      "  sns.distplot(data_cleaned_1['Mileage_km'])\n"
     ]
    },
    {
     "data": {
      "text/plain": [
       "<Axes: xlabel='Mileage_km', ylabel='Density'>"
      ]
     },
     "execution_count": 80,
     "metadata": {},
     "output_type": "execute_result"
    },
    {
     "data": {
      "image/png": "[encoded data removed]",
      "text/plain": [
       "<Figure size 640x480 with 1 Axes>"
      ]
     },
     "metadata": {},
     "output_type": "display_data"
    }
   ],
   "source": [
    "sns.distplot(data_cleaned_1['Mileage_km'])"
   ]
  },
  {
   "cell_type": "code",
   "execution_count": 81,
   "id": "c55acecb",
   "metadata": {
    "scrolled": true
   },
   "outputs": [
    {
     "name": "stdout",
     "output_type": "stream",
     "text": [
      "Highest value of the Mileage_km :  9042995.633\n",
      "Lowest valeu of the Mileage_km :  -2812362.479\n"
     ]
    }
   ],
   "source": [
    "print('Highest value of the Mileage_km : ',round(data_cleaned_1['Mileage_km'].mean() + 3*data_cleaned_1['Mileage_km'].std(),3))\n",
    "print('Lowest valeu of the Mileage_km : ',round(data_cleaned_1['Mileage_km'].mean() - data_cleaned_1['Mileage_km'].std(),3))"
   ]
  },
  {
   "cell_type": "code",
   "execution_count": 82,
   "id": "258ebaad",
   "metadata": {},
   "outputs": [],
   "source": [
    "data_cleaned_2 = data_cleaned_1[(data_cleaned_1['Mileage_km'] >= 1) & (data_cleaned_1['Mileage_km'] <= 9042995.633)]"
   ]
  },
  {
   "cell_type": "code",
   "execution_count": 83,
   "id": "d557f4d1",
   "metadata": {},
   "outputs": [],
   "source": [
    "data_cleaned_2 = data_cleaned_2.reset_index(drop = True)"
   ]
  },
  {
   "cell_type": "code",
   "execution_count": 84,
   "id": "5615b67a",
   "metadata": {},
   "outputs": [
    {
     "data": {
      "text/html": [
       "<div>\n",
       "<style scoped>\n",
       "    .dataframe tbody tr th:only-of-type {\n",
       "        vertical-align: middle;\n",
       "    }\n",
       "\n",
       "    .dataframe tbody tr th {\n",
       "        vertical-align: top;\n",
       "    }\n",
       "\n",
       "    .dataframe thead th {\n",
       "        text-align: right;\n",
       "    }\n",
       "</style>\n",
       "<table border=\"1\" class=\"dataframe\">\n",
       "  <thead>\n",
       "    <tr style=\"text-align: right;\">\n",
       "      <th></th>\n",
       "      <th>Vehicle_brand_0</th>\n",
       "      <th>Vehicle_brand_1</th>\n",
       "      <th>Vehicle_brand_2</th>\n",
       "      <th>Vehicle_brand_3</th>\n",
       "      <th>Vehicle_brand_4</th>\n",
       "      <th>Vehicle_brand_5</th>\n",
       "      <th>Vehicle_brand_6</th>\n",
       "      <th>Mileage_km</th>\n",
       "      <th>Power_HP</th>\n",
       "      <th>Displacement_cm3</th>\n",
       "      <th>...</th>\n",
       "      <th>Manual</th>\n",
       "      <th>city_cars</th>\n",
       "      <th>compact</th>\n",
       "      <th>convertible</th>\n",
       "      <th>coupe</th>\n",
       "      <th>minivan</th>\n",
       "      <th>sedan</th>\n",
       "      <th>small_cars</th>\n",
       "      <th>station_wagon</th>\n",
       "      <th>Log_Price</th>\n",
       "    </tr>\n",
       "  </thead>\n",
       "  <tbody>\n",
       "    <tr>\n",
       "      <th>0</th>\n",
       "      <td>0</td>\n",
       "      <td>0</td>\n",
       "      <td>0</td>\n",
       "      <td>0</td>\n",
       "      <td>0</td>\n",
       "      <td>0</td>\n",
       "      <td>1</td>\n",
       "      <td>1.0</td>\n",
       "      <td>145.0</td>\n",
       "      <td>1400.0</td>\n",
       "      <td>...</td>\n",
       "      <td>1</td>\n",
       "      <td>0</td>\n",
       "      <td>0</td>\n",
       "      <td>0</td>\n",
       "      <td>0</td>\n",
       "      <td>0</td>\n",
       "      <td>0</td>\n",
       "      <td>1</td>\n",
       "      <td>0</td>\n",
       "      <td>11.364425</td>\n",
       "    </tr>\n",
       "    <tr>\n",
       "      <th>1</th>\n",
       "      <td>0</td>\n",
       "      <td>0</td>\n",
       "      <td>0</td>\n",
       "      <td>0</td>\n",
       "      <td>0</td>\n",
       "      <td>0</td>\n",
       "      <td>1</td>\n",
       "      <td>59000.0</td>\n",
       "      <td>75.0</td>\n",
       "      <td>1100.0</td>\n",
       "      <td>...</td>\n",
       "      <td>1</td>\n",
       "      <td>0</td>\n",
       "      <td>0</td>\n",
       "      <td>0</td>\n",
       "      <td>1</td>\n",
       "      <td>0</td>\n",
       "      <td>0</td>\n",
       "      <td>0</td>\n",
       "      <td>0</td>\n",
       "      <td>10.680516</td>\n",
       "    </tr>\n",
       "    <tr>\n",
       "      <th>2</th>\n",
       "      <td>0</td>\n",
       "      <td>0</td>\n",
       "      <td>0</td>\n",
       "      <td>0</td>\n",
       "      <td>0</td>\n",
       "      <td>0</td>\n",
       "      <td>1</td>\n",
       "      <td>52000.0</td>\n",
       "      <td>180.0</td>\n",
       "      <td>1368.0</td>\n",
       "      <td>...</td>\n",
       "      <td>0</td>\n",
       "      <td>0</td>\n",
       "      <td>0</td>\n",
       "      <td>0</td>\n",
       "      <td>0</td>\n",
       "      <td>0</td>\n",
       "      <td>0</td>\n",
       "      <td>1</td>\n",
       "      <td>0</td>\n",
       "      <td>10.712193</td>\n",
       "    </tr>\n",
       "    <tr>\n",
       "      <th>3</th>\n",
       "      <td>0</td>\n",
       "      <td>0</td>\n",
       "      <td>0</td>\n",
       "      <td>0</td>\n",
       "      <td>0</td>\n",
       "      <td>0</td>\n",
       "      <td>1</td>\n",
       "      <td>29000.0</td>\n",
       "      <td>160.0</td>\n",
       "      <td>1368.0</td>\n",
       "      <td>...</td>\n",
       "      <td>1</td>\n",
       "      <td>0</td>\n",
       "      <td>0</td>\n",
       "      <td>0</td>\n",
       "      <td>0</td>\n",
       "      <td>0</td>\n",
       "      <td>0</td>\n",
       "      <td>1</td>\n",
       "      <td>0</td>\n",
       "      <td>10.594132</td>\n",
       "    </tr>\n",
       "    <tr>\n",
       "      <th>4</th>\n",
       "      <td>0</td>\n",
       "      <td>0</td>\n",
       "      <td>0</td>\n",
       "      <td>0</td>\n",
       "      <td>0</td>\n",
       "      <td>0</td>\n",
       "      <td>1</td>\n",
       "      <td>600.0</td>\n",
       "      <td>165.0</td>\n",
       "      <td>1368.0</td>\n",
       "      <td>...</td>\n",
       "      <td>1</td>\n",
       "      <td>0</td>\n",
       "      <td>0</td>\n",
       "      <td>0</td>\n",
       "      <td>0</td>\n",
       "      <td>0</td>\n",
       "      <td>0</td>\n",
       "      <td>1</td>\n",
       "      <td>0</td>\n",
       "      <td>11.491702</td>\n",
       "    </tr>\n",
       "    <tr>\n",
       "      <th>...</th>\n",
       "      <td>...</td>\n",
       "      <td>...</td>\n",
       "      <td>...</td>\n",
       "      <td>...</td>\n",
       "      <td>...</td>\n",
       "      <td>...</td>\n",
       "      <td>...</td>\n",
       "      <td>...</td>\n",
       "      <td>...</td>\n",
       "      <td>...</td>\n",
       "      <td>...</td>\n",
       "      <td>...</td>\n",
       "      <td>...</td>\n",
       "      <td>...</td>\n",
       "      <td>...</td>\n",
       "      <td>...</td>\n",
       "      <td>...</td>\n",
       "      <td>...</td>\n",
       "      <td>...</td>\n",
       "      <td>...</td>\n",
       "      <td>...</td>\n",
       "    </tr>\n",
       "    <tr>\n",
       "      <th>203626</th>\n",
       "      <td>1</td>\n",
       "      <td>0</td>\n",
       "      <td>0</td>\n",
       "      <td>1</td>\n",
       "      <td>0</td>\n",
       "      <td>1</td>\n",
       "      <td>0</td>\n",
       "      <td>40000.0</td>\n",
       "      <td>173.0</td>\n",
       "      <td>1301.0</td>\n",
       "      <td>...</td>\n",
       "      <td>1</td>\n",
       "      <td>0</td>\n",
       "      <td>0</td>\n",
       "      <td>0</td>\n",
       "      <td>0</td>\n",
       "      <td>0</td>\n",
       "      <td>0</td>\n",
       "      <td>1</td>\n",
       "      <td>0</td>\n",
       "      <td>10.594132</td>\n",
       "    </tr>\n",
       "    <tr>\n",
       "      <th>203627</th>\n",
       "      <td>1</td>\n",
       "      <td>0</td>\n",
       "      <td>0</td>\n",
       "      <td>1</td>\n",
       "      <td>0</td>\n",
       "      <td>1</td>\n",
       "      <td>0</td>\n",
       "      <td>63518.0</td>\n",
       "      <td>70.0</td>\n",
       "      <td>2120.0</td>\n",
       "      <td>...</td>\n",
       "      <td>1</td>\n",
       "      <td>0</td>\n",
       "      <td>0</td>\n",
       "      <td>0</td>\n",
       "      <td>0</td>\n",
       "      <td>0</td>\n",
       "      <td>0</td>\n",
       "      <td>0</td>\n",
       "      <td>1</td>\n",
       "      <td>9.296518</td>\n",
       "    </tr>\n",
       "    <tr>\n",
       "      <th>203628</th>\n",
       "      <td>1</td>\n",
       "      <td>0</td>\n",
       "      <td>0</td>\n",
       "      <td>1</td>\n",
       "      <td>0</td>\n",
       "      <td>1</td>\n",
       "      <td>0</td>\n",
       "      <td>11880.0</td>\n",
       "      <td>60.0</td>\n",
       "      <td>2120.0</td>\n",
       "      <td>...</td>\n",
       "      <td>1</td>\n",
       "      <td>0</td>\n",
       "      <td>0</td>\n",
       "      <td>0</td>\n",
       "      <td>0</td>\n",
       "      <td>0</td>\n",
       "      <td>0</td>\n",
       "      <td>0</td>\n",
       "      <td>0</td>\n",
       "      <td>8.839277</td>\n",
       "    </tr>\n",
       "    <tr>\n",
       "      <th>203629</th>\n",
       "      <td>1</td>\n",
       "      <td>0</td>\n",
       "      <td>0</td>\n",
       "      <td>1</td>\n",
       "      <td>0</td>\n",
       "      <td>1</td>\n",
       "      <td>0</td>\n",
       "      <td>100000.0</td>\n",
       "      <td>36.0</td>\n",
       "      <td>2200.0</td>\n",
       "      <td>...</td>\n",
       "      <td>1</td>\n",
       "      <td>0</td>\n",
       "      <td>0</td>\n",
       "      <td>0</td>\n",
       "      <td>0</td>\n",
       "      <td>1</td>\n",
       "      <td>0</td>\n",
       "      <td>0</td>\n",
       "      <td>0</td>\n",
       "      <td>8.648221</td>\n",
       "    </tr>\n",
       "    <tr>\n",
       "      <th>203630</th>\n",
       "      <td>1</td>\n",
       "      <td>0</td>\n",
       "      <td>0</td>\n",
       "      <td>1</td>\n",
       "      <td>0</td>\n",
       "      <td>1</td>\n",
       "      <td>0</td>\n",
       "      <td>20056.0</td>\n",
       "      <td>70.0</td>\n",
       "      <td>2120.0</td>\n",
       "      <td>...</td>\n",
       "      <td>1</td>\n",
       "      <td>0</td>\n",
       "      <td>0</td>\n",
       "      <td>0</td>\n",
       "      <td>0</td>\n",
       "      <td>1</td>\n",
       "      <td>0</td>\n",
       "      <td>0</td>\n",
       "      <td>0</td>\n",
       "      <td>9.384294</td>\n",
       "    </tr>\n",
       "  </tbody>\n",
       "</table>\n",
       "<p>203631 rows × 28 columns</p>\n",
       "</div>"
      ],
      "text/plain": [
       "        Vehicle_brand_0  Vehicle_brand_1  Vehicle_brand_2  Vehicle_brand_3  \\\n",
       "0                     0                0                0                0   \n",
       "1                     0                0                0                0   \n",
       "2                     0                0                0                0   \n",
       "3                     0                0                0                0   \n",
       "4                     0                0                0                0   \n",
       "...                 ...              ...              ...              ...   \n",
       "203626                1                0                0                1   \n",
       "203627                1                0                0                1   \n",
       "203628                1                0                0                1   \n",
       "203629                1                0                0                1   \n",
       "203630                1                0                0                1   \n",
       "\n",
       "        Vehicle_brand_4  Vehicle_brand_5  Vehicle_brand_6  Mileage_km  \\\n",
       "0                     0                0                1         1.0   \n",
       "1                     0                0                1     59000.0   \n",
       "2                     0                0                1     52000.0   \n",
       "3                     0                0                1     29000.0   \n",
       "4                     0                0                1       600.0   \n",
       "...                 ...              ...              ...         ...   \n",
       "203626                0                1                0     40000.0   \n",
       "203627                0                1                0     63518.0   \n",
       "203628                0                1                0     11880.0   \n",
       "203629                0                1                0    100000.0   \n",
       "203630                0                1                0     20056.0   \n",
       "\n",
       "        Power_HP  Displacement_cm3  ...  Manual  city_cars  compact  \\\n",
       "0          145.0            1400.0  ...       1          0        0   \n",
       "1           75.0            1100.0  ...       1          0        0   \n",
       "2          180.0            1368.0  ...       0          0        0   \n",
       "3          160.0            1368.0  ...       1          0        0   \n",
       "4          165.0            1368.0  ...       1          0        0   \n",
       "...          ...               ...  ...     ...        ...      ...   \n",
       "203626     173.0            1301.0  ...       1          0        0   \n",
       "203627      70.0            2120.0  ...       1          0        0   \n",
       "203628      60.0            2120.0  ...       1          0        0   \n",
       "203629      36.0            2200.0  ...       1          0        0   \n",
       "203630      70.0            2120.0  ...       1          0        0   \n",
       "\n",
       "        convertible  coupe  minivan  sedan  small_cars  station_wagon  \\\n",
       "0                 0      0        0      0           1              0   \n",
       "1                 0      1        0      0           0              0   \n",
       "2                 0      0        0      0           1              0   \n",
       "3                 0      0        0      0           1              0   \n",
       "4                 0      0        0      0           1              0   \n",
       "...             ...    ...      ...    ...         ...            ...   \n",
       "203626            0      0        0      0           1              0   \n",
       "203627            0      0        0      0           0              1   \n",
       "203628            0      0        0      0           0              0   \n",
       "203629            0      0        1      0           0              0   \n",
       "203630            0      0        1      0           0              0   \n",
       "\n",
       "        Log_Price  \n",
       "0       11.364425  \n",
       "1       10.680516  \n",
       "2       10.712193  \n",
       "3       10.594132  \n",
       "4       11.491702  \n",
       "...           ...  \n",
       "203626  10.594132  \n",
       "203627   9.296518  \n",
       "203628   8.839277  \n",
       "203629   8.648221  \n",
       "203630   9.384294  \n",
       "\n",
       "[203631 rows x 28 columns]"
      ]
     },
     "execution_count": 84,
     "metadata": {},
     "output_type": "execute_result"
    }
   ],
   "source": [
    "data_cleaned_2"
   ]
  },
  {
   "cell_type": "markdown",
   "id": "c3188caa",
   "metadata": {},
   "source": [
    "### outliers for Power_HP :"
   ]
  },
  {
   "cell_type": "code",
   "execution_count": 85,
   "id": "6fae32c9",
   "metadata": {},
   "outputs": [
    {
     "data": {
      "text/plain": [
       "<Axes: xlabel='Power_HP', ylabel='Density'>"
      ]
     },
     "execution_count": 85,
     "metadata": {},
     "output_type": "execute_result"
    },
    {
     "data": {
      "image/png": "[encoded data removed]",
      "text/plain": [
       "<Figure size 640x480 with 1 Axes>"
      ]
     },
     "metadata": {},
     "output_type": "display_data"
    }
   ],
   "source": [
    "sns.kdeplot(data_cleaned_2['Power_HP'])"
   ]
  },
  {
   "cell_type": "code",
   "execution_count": 86,
   "id": "1fa80ada",
   "metadata": {
    "scrolled": true
   },
   "outputs": [
    {
     "name": "stdout",
     "output_type": "stream",
     "text": [
      "Highest value of the Power_HP :  376.771\n",
      "Lowest value of the Power_HP :  -75.126\n"
     ]
    }
   ],
   "source": [
    "print('Highest value of the Power_HP : ',round(data_cleaned_2['Power_HP'].mean() + 3*data_cleaned_2['Power_HP'].std(),3))\n",
    "print('Lowest value of the Power_HP : ',round(data_cleaned_2['Power_HP'].mean() - 3*data_cleaned_2['Power_HP'].std(),3))"
   ]
  },
  {
   "cell_type": "code",
   "execution_count": 87,
   "id": "9359ae78",
   "metadata": {},
   "outputs": [],
   "source": [
    "data_cleaned_3 = data_cleaned_2[(data_cleaned_2['Power_HP'] < 376.771) & (data_cleaned_2['Power_HP'] > -75.126)]"
   ]
  },
  {
   "cell_type": "code",
   "execution_count": 88,
   "id": "dd427be9",
   "metadata": {},
   "outputs": [],
   "source": [
    "data_cleaned_3 = data_cleaned_3.reset_index(drop = True)"
   ]
  },
  {
   "cell_type": "code",
   "execution_count": 89,
   "id": "74a014b8",
   "metadata": {},
   "outputs": [
    {
     "data": {
      "text/html": [
       "<div>\n",
       "<style scoped>\n",
       "    .dataframe tbody tr th:only-of-type {\n",
       "        vertical-align: middle;\n",
       "    }\n",
       "\n",
       "    .dataframe tbody tr th {\n",
       "        vertical-align: top;\n",
       "    }\n",
       "\n",
       "    .dataframe thead th {\n",
       "        text-align: right;\n",
       "    }\n",
       "</style>\n",
       "<table border=\"1\" class=\"dataframe\">\n",
       "  <thead>\n",
       "    <tr style=\"text-align: right;\">\n",
       "      <th></th>\n",
       "      <th>Vehicle_brand_0</th>\n",
       "      <th>Vehicle_brand_1</th>\n",
       "      <th>Vehicle_brand_2</th>\n",
       "      <th>Vehicle_brand_3</th>\n",
       "      <th>Vehicle_brand_4</th>\n",
       "      <th>Vehicle_brand_5</th>\n",
       "      <th>Vehicle_brand_6</th>\n",
       "      <th>Mileage_km</th>\n",
       "      <th>Power_HP</th>\n",
       "      <th>Displacement_cm3</th>\n",
       "      <th>...</th>\n",
       "      <th>Manual</th>\n",
       "      <th>city_cars</th>\n",
       "      <th>compact</th>\n",
       "      <th>convertible</th>\n",
       "      <th>coupe</th>\n",
       "      <th>minivan</th>\n",
       "      <th>sedan</th>\n",
       "      <th>small_cars</th>\n",
       "      <th>station_wagon</th>\n",
       "      <th>Log_Price</th>\n",
       "    </tr>\n",
       "  </thead>\n",
       "  <tbody>\n",
       "    <tr>\n",
       "      <th>0</th>\n",
       "      <td>0</td>\n",
       "      <td>0</td>\n",
       "      <td>0</td>\n",
       "      <td>0</td>\n",
       "      <td>0</td>\n",
       "      <td>0</td>\n",
       "      <td>1</td>\n",
       "      <td>1.0</td>\n",
       "      <td>145.0</td>\n",
       "      <td>1400.0</td>\n",
       "      <td>...</td>\n",
       "      <td>1</td>\n",
       "      <td>0</td>\n",
       "      <td>0</td>\n",
       "      <td>0</td>\n",
       "      <td>0</td>\n",
       "      <td>0</td>\n",
       "      <td>0</td>\n",
       "      <td>1</td>\n",
       "      <td>0</td>\n",
       "      <td>11.364425</td>\n",
       "    </tr>\n",
       "    <tr>\n",
       "      <th>1</th>\n",
       "      <td>0</td>\n",
       "      <td>0</td>\n",
       "      <td>0</td>\n",
       "      <td>0</td>\n",
       "      <td>0</td>\n",
       "      <td>0</td>\n",
       "      <td>1</td>\n",
       "      <td>59000.0</td>\n",
       "      <td>75.0</td>\n",
       "      <td>1100.0</td>\n",
       "      <td>...</td>\n",
       "      <td>1</td>\n",
       "      <td>0</td>\n",
       "      <td>0</td>\n",
       "      <td>0</td>\n",
       "      <td>1</td>\n",
       "      <td>0</td>\n",
       "      <td>0</td>\n",
       "      <td>0</td>\n",
       "      <td>0</td>\n",
       "      <td>10.680516</td>\n",
       "    </tr>\n",
       "    <tr>\n",
       "      <th>2</th>\n",
       "      <td>0</td>\n",
       "      <td>0</td>\n",
       "      <td>0</td>\n",
       "      <td>0</td>\n",
       "      <td>0</td>\n",
       "      <td>0</td>\n",
       "      <td>1</td>\n",
       "      <td>52000.0</td>\n",
       "      <td>180.0</td>\n",
       "      <td>1368.0</td>\n",
       "      <td>...</td>\n",
       "      <td>0</td>\n",
       "      <td>0</td>\n",
       "      <td>0</td>\n",
       "      <td>0</td>\n",
       "      <td>0</td>\n",
       "      <td>0</td>\n",
       "      <td>0</td>\n",
       "      <td>1</td>\n",
       "      <td>0</td>\n",
       "      <td>10.712193</td>\n",
       "    </tr>\n",
       "    <tr>\n",
       "      <th>3</th>\n",
       "      <td>0</td>\n",
       "      <td>0</td>\n",
       "      <td>0</td>\n",
       "      <td>0</td>\n",
       "      <td>0</td>\n",
       "      <td>0</td>\n",
       "      <td>1</td>\n",
       "      <td>29000.0</td>\n",
       "      <td>160.0</td>\n",
       "      <td>1368.0</td>\n",
       "      <td>...</td>\n",
       "      <td>1</td>\n",
       "      <td>0</td>\n",
       "      <td>0</td>\n",
       "      <td>0</td>\n",
       "      <td>0</td>\n",
       "      <td>0</td>\n",
       "      <td>0</td>\n",
       "      <td>1</td>\n",
       "      <td>0</td>\n",
       "      <td>10.594132</td>\n",
       "    </tr>\n",
       "    <tr>\n",
       "      <th>4</th>\n",
       "      <td>0</td>\n",
       "      <td>0</td>\n",
       "      <td>0</td>\n",
       "      <td>0</td>\n",
       "      <td>0</td>\n",
       "      <td>0</td>\n",
       "      <td>1</td>\n",
       "      <td>600.0</td>\n",
       "      <td>165.0</td>\n",
       "      <td>1368.0</td>\n",
       "      <td>...</td>\n",
       "      <td>1</td>\n",
       "      <td>0</td>\n",
       "      <td>0</td>\n",
       "      <td>0</td>\n",
       "      <td>0</td>\n",
       "      <td>0</td>\n",
       "      <td>0</td>\n",
       "      <td>1</td>\n",
       "      <td>0</td>\n",
       "      <td>11.491702</td>\n",
       "    </tr>\n",
       "    <tr>\n",
       "      <th>...</th>\n",
       "      <td>...</td>\n",
       "      <td>...</td>\n",
       "      <td>...</td>\n",
       "      <td>...</td>\n",
       "      <td>...</td>\n",
       "      <td>...</td>\n",
       "      <td>...</td>\n",
       "      <td>...</td>\n",
       "      <td>...</td>\n",
       "      <td>...</td>\n",
       "      <td>...</td>\n",
       "      <td>...</td>\n",
       "      <td>...</td>\n",
       "      <td>...</td>\n",
       "      <td>...</td>\n",
       "      <td>...</td>\n",
       "      <td>...</td>\n",
       "      <td>...</td>\n",
       "      <td>...</td>\n",
       "      <td>...</td>\n",
       "      <td>...</td>\n",
       "    </tr>\n",
       "    <tr>\n",
       "      <th>199131</th>\n",
       "      <td>1</td>\n",
       "      <td>0</td>\n",
       "      <td>0</td>\n",
       "      <td>1</td>\n",
       "      <td>0</td>\n",
       "      <td>1</td>\n",
       "      <td>0</td>\n",
       "      <td>40000.0</td>\n",
       "      <td>173.0</td>\n",
       "      <td>1301.0</td>\n",
       "      <td>...</td>\n",
       "      <td>1</td>\n",
       "      <td>0</td>\n",
       "      <td>0</td>\n",
       "      <td>0</td>\n",
       "      <td>0</td>\n",
       "      <td>0</td>\n",
       "      <td>0</td>\n",
       "      <td>1</td>\n",
       "      <td>0</td>\n",
       "      <td>10.594132</td>\n",
       "    </tr>\n",
       "    <tr>\n",
       "      <th>199132</th>\n",
       "      <td>1</td>\n",
       "      <td>0</td>\n",
       "      <td>0</td>\n",
       "      <td>1</td>\n",
       "      <td>0</td>\n",
       "      <td>1</td>\n",
       "      <td>0</td>\n",
       "      <td>63518.0</td>\n",
       "      <td>70.0</td>\n",
       "      <td>2120.0</td>\n",
       "      <td>...</td>\n",
       "      <td>1</td>\n",
       "      <td>0</td>\n",
       "      <td>0</td>\n",
       "      <td>0</td>\n",
       "      <td>0</td>\n",
       "      <td>0</td>\n",
       "      <td>0</td>\n",
       "      <td>0</td>\n",
       "      <td>1</td>\n",
       "      <td>9.296518</td>\n",
       "    </tr>\n",
       "    <tr>\n",
       "      <th>199133</th>\n",
       "      <td>1</td>\n",
       "      <td>0</td>\n",
       "      <td>0</td>\n",
       "      <td>1</td>\n",
       "      <td>0</td>\n",
       "      <td>1</td>\n",
       "      <td>0</td>\n",
       "      <td>11880.0</td>\n",
       "      <td>60.0</td>\n",
       "      <td>2120.0</td>\n",
       "      <td>...</td>\n",
       "      <td>1</td>\n",
       "      <td>0</td>\n",
       "      <td>0</td>\n",
       "      <td>0</td>\n",
       "      <td>0</td>\n",
       "      <td>0</td>\n",
       "      <td>0</td>\n",
       "      <td>0</td>\n",
       "      <td>0</td>\n",
       "      <td>8.839277</td>\n",
       "    </tr>\n",
       "    <tr>\n",
       "      <th>199134</th>\n",
       "      <td>1</td>\n",
       "      <td>0</td>\n",
       "      <td>0</td>\n",
       "      <td>1</td>\n",
       "      <td>0</td>\n",
       "      <td>1</td>\n",
       "      <td>0</td>\n",
       "      <td>100000.0</td>\n",
       "      <td>36.0</td>\n",
       "      <td>2200.0</td>\n",
       "      <td>...</td>\n",
       "      <td>1</td>\n",
       "      <td>0</td>\n",
       "      <td>0</td>\n",
       "      <td>0</td>\n",
       "      <td>0</td>\n",
       "      <td>1</td>\n",
       "      <td>0</td>\n",
       "      <td>0</td>\n",
       "      <td>0</td>\n",
       "      <td>8.648221</td>\n",
       "    </tr>\n",
       "    <tr>\n",
       "      <th>199135</th>\n",
       "      <td>1</td>\n",
       "      <td>0</td>\n",
       "      <td>0</td>\n",
       "      <td>1</td>\n",
       "      <td>0</td>\n",
       "      <td>1</td>\n",
       "      <td>0</td>\n",
       "      <td>20056.0</td>\n",
       "      <td>70.0</td>\n",
       "      <td>2120.0</td>\n",
       "      <td>...</td>\n",
       "      <td>1</td>\n",
       "      <td>0</td>\n",
       "      <td>0</td>\n",
       "      <td>0</td>\n",
       "      <td>0</td>\n",
       "      <td>1</td>\n",
       "      <td>0</td>\n",
       "      <td>0</td>\n",
       "      <td>0</td>\n",
       "      <td>9.384294</td>\n",
       "    </tr>\n",
       "  </tbody>\n",
       "</table>\n",
       "<p>199136 rows × 28 columns</p>\n",
       "</div>"
      ],
      "text/plain": [
       "        Vehicle_brand_0  Vehicle_brand_1  Vehicle_brand_2  Vehicle_brand_3  \\\n",
       "0                     0                0                0                0   \n",
       "1                     0                0                0                0   \n",
       "2                     0                0                0                0   \n",
       "3                     0                0                0                0   \n",
       "4                     0                0                0                0   \n",
       "...                 ...              ...              ...              ...   \n",
       "199131                1                0                0                1   \n",
       "199132                1                0                0                1   \n",
       "199133                1                0                0                1   \n",
       "199134                1                0                0                1   \n",
       "199135                1                0                0                1   \n",
       "\n",
       "        Vehicle_brand_4  Vehicle_brand_5  Vehicle_brand_6  Mileage_km  \\\n",
       "0                     0                0                1         1.0   \n",
       "1                     0                0                1     59000.0   \n",
       "2                     0                0                1     52000.0   \n",
       "3                     0                0                1     29000.0   \n",
       "4                     0                0                1       600.0   \n",
       "...                 ...              ...              ...         ...   \n",
       "199131                0                1                0     40000.0   \n",
       "199132                0                1                0     63518.0   \n",
       "199133                0                1                0     11880.0   \n",
       "199134                0                1                0    100000.0   \n",
       "199135                0                1                0     20056.0   \n",
       "\n",
       "        Power_HP  Displacement_cm3  ...  Manual  city_cars  compact  \\\n",
       "0          145.0            1400.0  ...       1          0        0   \n",
       "1           75.0            1100.0  ...       1          0        0   \n",
       "2          180.0            1368.0  ...       0          0        0   \n",
       "3          160.0            1368.0  ...       1          0        0   \n",
       "4          165.0            1368.0  ...       1          0        0   \n",
       "...          ...               ...  ...     ...        ...      ...   \n",
       "199131     173.0            1301.0  ...       1          0        0   \n",
       "199132      70.0            2120.0  ...       1          0        0   \n",
       "199133      60.0            2120.0  ...       1          0        0   \n",
       "199134      36.0            2200.0  ...       1          0        0   \n",
       "199135      70.0            2120.0  ...       1          0        0   \n",
       "\n",
       "        convertible  coupe  minivan  sedan  small_cars  station_wagon  \\\n",
       "0                 0      0        0      0           1              0   \n",
       "1                 0      1        0      0           0              0   \n",
       "2                 0      0        0      0           1              0   \n",
       "3                 0      0        0      0           1              0   \n",
       "4                 0      0        0      0           1              0   \n",
       "...             ...    ...      ...    ...         ...            ...   \n",
       "199131            0      0        0      0           1              0   \n",
       "199132            0      0        0      0           0              1   \n",
       "199133            0      0        0      0           0              0   \n",
       "199134            0      0        1      0           0              0   \n",
       "199135            0      0        1      0           0              0   \n",
       "\n",
       "        Log_Price  \n",
       "0       11.364425  \n",
       "1       10.680516  \n",
       "2       10.712193  \n",
       "3       10.594132  \n",
       "4       11.491702  \n",
       "...           ...  \n",
       "199131  10.594132  \n",
       "199132   9.296518  \n",
       "199133   8.839277  \n",
       "199134   8.648221  \n",
       "199135   9.384294  \n",
       "\n",
       "[199136 rows x 28 columns]"
      ]
     },
     "execution_count": 89,
     "metadata": {},
     "output_type": "execute_result"
    }
   ],
   "source": [
    "data_cleaned_3"
   ]
  },
  {
   "cell_type": "code",
   "execution_count": 90,
   "id": "2aabc157",
   "metadata": {},
   "outputs": [
    {
     "data": {
      "text/plain": [
       "<Axes: xlabel='Power_HP', ylabel='Density'>"
      ]
     },
     "execution_count": 90,
     "metadata": {},
     "output_type": "execute_result"
    },
    {
     "data": {
      "image/png": "[encoded data removed]",
      "text/plain": [
       "<Figure size 640x480 with 1 Axes>"
      ]
     },
     "metadata": {},
     "output_type": "display_data"
    }
   ],
   "source": [
    "sns.kdeplot(data_cleaned_3['Power_HP'])"
   ]
  },
  {
   "cell_type": "markdown",
   "id": "cde76814",
   "metadata": {},
   "source": [
    "### Outliers for Displacement_cm3 :"
   ]
  },
  {
   "cell_type": "code",
   "execution_count": 91,
   "id": "574c4aa8",
   "metadata": {},
   "outputs": [
    {
     "data": {
      "text/plain": [
       "<Axes: xlabel='Displacement_cm3', ylabel='Density'>"
      ]
     },
     "execution_count": 91,
     "metadata": {},
     "output_type": "execute_result"
    },
    {
     "data": {
      "image/png": "[encoded data removed]",
      "text/plain": [
       "<Figure size 640x480 with 1 Axes>"
      ]
     },
     "metadata": {},
     "output_type": "display_data"
    }
   ],
   "source": [
    "sns.kdeplot(data_cleaned_3['Displacement_cm3'])"
   ]
  },
  {
   "cell_type": "code",
   "execution_count": 92,
   "id": "ed18ac2b",
   "metadata": {},
   "outputs": [
    {
     "name": "stdout",
     "output_type": "stream",
     "text": [
      "Highest value of the Displacement_cm3 :  3634.088\n",
      "Lowest value of the Displacement_cm3 :  14.451\n"
     ]
    }
   ],
   "source": [
    "print('Highest value of the Displacement_cm3 : ',round(data_cleaned_3['Displacement_cm3'].mean() + 3*data_cleaned_3['Displacement_cm3'].std(),3))\n",
    "print('Lowest value of the Displacement_cm3 : ',round(data_cleaned_3['Displacement_cm3'].mean() - 3*data_cleaned_3['Displacement_cm3'].std(),3))"
   ]
  },
  {
   "cell_type": "code",
   "execution_count": 93,
   "id": "3fb911af",
   "metadata": {},
   "outputs": [],
   "source": [
    "data_cleaned_4 = data_cleaned_3[(data_cleaned_3['Displacement_cm3'] < 3634.088) & (data_cleaned_3['Displacement_cm3'] > 14.451)]"
   ]
  },
  {
   "cell_type": "code",
   "execution_count": 94,
   "id": "7de30f95",
   "metadata": {},
   "outputs": [],
   "source": [
    "data_cleaned_4 = data_cleaned_4.reset_index(drop=True)"
   ]
  },
  {
   "cell_type": "code",
   "execution_count": 95,
   "id": "e822a8fd",
   "metadata": {},
   "outputs": [
    {
     "data": {
      "text/plain": [
       "Index(['Vehicle_brand_0', 'Vehicle_brand_1', 'Vehicle_brand_2',\n",
       "       'Vehicle_brand_3', 'Vehicle_brand_4', 'Vehicle_brand_5',\n",
       "       'Vehicle_brand_6', 'Mileage_km', 'Power_HP', 'Displacement_cm3', 'PLN',\n",
       "       'Used', 'Ethanol', 'Gasoline', 'Gasoline + CNG', 'Gasoline + LPG',\n",
       "       'Hybrid', 'Hydrogen', 'Manual', 'city_cars', 'compact', 'convertible',\n",
       "       'coupe', 'minivan', 'sedan', 'small_cars', 'station_wagon',\n",
       "       'Log_Price'],\n",
       "      dtype='object')"
      ]
     },
     "execution_count": 95,
     "metadata": {},
     "output_type": "execute_result"
    }
   ],
   "source": [
    "data_cleaned_4.columns"
   ]
  },
  {
   "cell_type": "markdown",
   "id": "9057a647",
   "metadata": {},
   "source": [
    "# Select the inputs and targets : "
   ]
  },
  {
   "cell_type": "code",
   "execution_count": 96,
   "id": "d05210fd",
   "metadata": {},
   "outputs": [],
   "source": [
    "targets = data_cleaned_4['Log_Price']\n",
    "unscaled_inputs = data_cleaned_4.drop(['Log_Price'],axis = 1)"
   ]
  },
  {
   "cell_type": "code",
   "execution_count": 97,
   "id": "5ace81dc",
   "metadata": {},
   "outputs": [
    {
     "data": {
      "text/plain": [
       "(196323, 27)"
      ]
     },
     "execution_count": 97,
     "metadata": {},
     "output_type": "execute_result"
    }
   ],
   "source": [
    "unscaled_inputs.shape"
   ]
  },
  {
   "cell_type": "markdown",
   "id": "07ffdf70",
   "metadata": {},
   "source": [
    "# Standardize our data : "
   ]
  },
  {
   "cell_type": "code",
   "execution_count": 98,
   "id": "11daf129",
   "metadata": {},
   "outputs": [],
   "source": [
    "from sklearn.base import BaseEstimator, TransformerMixin\n",
    "from sklearn.preprocessing import StandardScaler\n",
    "\n",
    "class CustomScaler(BaseEstimator, TransformerMixin): \n",
    "    \n",
    "    def __init__(self, columns, copy=True, with_mean=True, with_std=True):\n",
    "        self.columns = columns\n",
    "        self.copy = copy\n",
    "        self.with_mean = with_mean\n",
    "        self.with_std = with_std\n",
    "        self.scaler = None\n",
    "        self.mean_ = None\n",
    "        self.var_ = None\n",
    "        \n",
    "    def fit(self, X, y=None):\n",
    "        self.scaler = StandardScaler(copy=self.copy, with_mean=self.with_mean, with_std=self.with_std)\n",
    "        self.scaler.fit(X[self.columns], y)\n",
    "        self.mean_ = self.scaler.mean_\n",
    "        self.var_ = self.scaler.var_\n",
    "        return self\n",
    "    \n",
    "    def transform(self, X, y=None):\n",
    "        init_col_order = X.columns\n",
    "        X_scaled = pd.DataFrame(self.scaler.transform(X[self.columns]), columns=self.columns)\n",
    "        X_not_scaled = X.loc[:, ~X.columns.isin(self.columns)]\n",
    "        return pd.concat([X_not_scaled, X_scaled], axis=1)[init_col_order]"
   ]
  },
  {
   "cell_type": "code",
   "execution_count": 99,
   "id": "352cff2a",
   "metadata": {
    "scrolled": true
   },
   "outputs": [
    {
     "data": {
      "text/plain": [
       "array(['Vehicle_brand_0', 'Vehicle_brand_1', 'Vehicle_brand_2',\n",
       "       'Vehicle_brand_3', 'Vehicle_brand_4', 'Vehicle_brand_5',\n",
       "       'Vehicle_brand_6', 'Mileage_km', 'Power_HP', 'Displacement_cm3',\n",
       "       'PLN', 'Used', 'Ethanol', 'Gasoline', 'Gasoline + CNG',\n",
       "       'Gasoline + LPG', 'Hybrid', 'Hydrogen', 'Manual', 'city_cars',\n",
       "       'compact', 'convertible', 'coupe', 'minivan', 'sedan',\n",
       "       'small_cars', 'station_wagon'], dtype=object)"
      ]
     },
     "execution_count": 99,
     "metadata": {},
     "output_type": "execute_result"
    }
   ],
   "source": [
    "unscaled_inputs.columns.values"
   ]
  },
  {
   "cell_type": "code",
   "execution_count": 100,
   "id": "c836730d",
   "metadata": {},
   "outputs": [],
   "source": [
    "columns_to_omit = ['Vehicle_brand_0',\n",
    " 'Vehicle_brand_1',\n",
    " 'Vehicle_brand_2',\n",
    " 'Vehicle_brand_3',\n",
    " 'Vehicle_brand_4',\n",
    " 'Vehicle_brand_5',\n",
    " 'Vehicle_brand_6','PLN', 'Used', 'Ethanol', 'Gasoline',\n",
    "       'Gasoline + CNG', 'Gasoline + LPG', 'Hybrid', 'Hydrogen', 'Manual',\n",
    "       'city_cars', 'compact', 'convertible', 'coupe', 'minivan', 'sedan',\n",
    "       'small_cars', 'station_wagon']"
   ]
  },
  {
   "cell_type": "code",
   "execution_count": 101,
   "id": "8077fa65",
   "metadata": {},
   "outputs": [],
   "source": [
    "columns_to_scale = [x for x in unscaled_inputs.columns.values if x not in columns_to_omit]"
   ]
  },
  {
   "cell_type": "code",
   "execution_count": 102,
   "id": "9f8bc58f",
   "metadata": {},
   "outputs": [
    {
     "data": {
      "text/plain": [
       "['Mileage_km', 'Power_HP', 'Displacement_cm3']"
      ]
     },
     "execution_count": 102,
     "metadata": {},
     "output_type": "execute_result"
    }
   ],
   "source": [
    "columns_to_scale"
   ]
  },
  {
   "cell_type": "code",
   "execution_count": 103,
   "id": "e0256bc1",
   "metadata": {
    "scrolled": false
   },
   "outputs": [],
   "source": [
    "absenteeism_scaler = CustomScaler(columns_to_scale)\n",
    "absenteeism_scaler.fit(unscaled_inputs)\n",
    "\n",
    "scaled_inputs = absenteeism_scaler.transform(unscaled_inputs)"
   ]
  },
  {
   "cell_type": "markdown",
   "id": "637e1016",
   "metadata": {},
   "source": [
    "# Split the data into train & test and shuffle"
   ]
  },
  {
   "cell_type": "code",
   "execution_count": 104,
   "id": "fe58a304",
   "metadata": {},
   "outputs": [],
   "source": [
    "from sklearn.model_selection import train_test_split"
   ]
  },
  {
   "cell_type": "code",
   "execution_count": 105,
   "id": "92c468dd",
   "metadata": {},
   "outputs": [
    {
     "data": {
      "text/plain": [
       "[        Vehicle_brand_0  Vehicle_brand_1  Vehicle_brand_2  Vehicle_brand_3  \\\n",
       " 156068                1                1                0                0   \n",
       " 179678                1                0                0                1   \n",
       " 105146                1                0                0                0   \n",
       " 47390                 0                0                1                1   \n",
       " 61000                 0                0                1                1   \n",
       " ...                 ...              ...              ...              ...   \n",
       " 85002                 0                1                1                1   \n",
       " 172737                1                0                0                1   \n",
       " 98060                 0                1                1                1   \n",
       " 48283                 0                0                1                1   \n",
       " 64544                 0                1                0                0   \n",
       " \n",
       "         Vehicle_brand_4  Vehicle_brand_5  Vehicle_brand_6  Mileage_km  \\\n",
       " 156068                1                0                0   -0.205715   \n",
       " 179678                1                1                0    0.302273   \n",
       " 105146                0                0                1    0.576117   \n",
       " 47390                 1                1                0   -1.424103   \n",
       " 61000                 1                1                1    0.539533   \n",
       " ...                 ...              ...              ...         ...   \n",
       " 85002                 0                0                0   -1.424143   \n",
       " 172737                1                1                0   -1.424143   \n",
       " 98060                 0                1                0    0.423812   \n",
       " 48283                 1                1                0   -1.424143   \n",
       " 64544                 0                1                1   -0.307251   \n",
       " \n",
       "         Power_HP  Displacement_cm3  ...  Hydrogen  Manual  city_cars  compact  \\\n",
       " 156068 -0.937342         -0.725869  ...         0       1          0        1   \n",
       " 179678  0.152708          0.366971  ...         0       0          0        0   \n",
       " 105146 -0.573992         -0.373598  ...         0       1          1        0   \n",
       " 47390  -0.755667         -1.572520  ...         0       1          0        1   \n",
       " 61000   0.061870          0.429019  ...         0       1          0        0   \n",
       " ...          ...               ...  ...       ...     ...        ...      ...   \n",
       " 85002   0.152708          0.427017  ...         0       1          0        0   \n",
       " 172737  0.879408          0.427017  ...         0       0          0        0   \n",
       " 98060  -0.937342          0.030712  ...         0       0          0        0   \n",
       " 48283  -0.846505         -0.833952  ...         0       1          0        0   \n",
       " 64544   0.007368          0.026709  ...         0       1          0        1   \n",
       " \n",
       "         convertible  coupe  minivan  sedan  small_cars  station_wagon  \n",
       " 156068            0      0        0      0           0              0  \n",
       " 179678            0      0        0      1           0              0  \n",
       " 105146            0      0        0      0           0              0  \n",
       " 47390             0      0        0      0           0              0  \n",
       " 61000             0      0        0      0           0              1  \n",
       " ...             ...    ...      ...    ...         ...            ...  \n",
       " 85002             0      0        0      0           0              0  \n",
       " 172737            0      0        0      1           0              0  \n",
       " 98060             0      0        0      1           0              0  \n",
       " 48283             0      0        0      1           0              0  \n",
       " 64544             0      0        0      0           0              0  \n",
       " \n",
       " [147242 rows x 27 columns],\n",
       "         Vehicle_brand_0  Vehicle_brand_1  Vehicle_brand_2  Vehicle_brand_3  \\\n",
       " 165030                1                0                0                0   \n",
       " 11568                 0                0                0                0   \n",
       " 25484                 0                0                0                1   \n",
       " 144398                1                1                0                0   \n",
       " 161343                1                0                0                1   \n",
       " ...                 ...              ...              ...              ...   \n",
       " 190160                1                0                0                1   \n",
       " 109726                1                0                0                0   \n",
       " 53479                 0                0                1                1   \n",
       " 153899                1                1                0                0   \n",
       " 82162                 0                1                0                1   \n",
       " \n",
       "         Vehicle_brand_4  Vehicle_brand_5  Vehicle_brand_6  Mileage_km  \\\n",
       " 165030                1                1                1    0.505041   \n",
       " 11568                 1                1                1    1.662558   \n",
       " 25484                 1                0                0    2.028090   \n",
       " 144398                0                1                1   -0.002642   \n",
       " 161343                1                0                0    0.708114   \n",
       " ...                 ...              ...              ...         ...   \n",
       " 190160                1                1                0   -0.921547   \n",
       " 109726                1                0                1    0.281508   \n",
       " 53479                 1                1                1    0.058280   \n",
       " 153899                1                0                0   -1.424143   \n",
       " 82162                 1                1                0   -0.165100   \n",
       " \n",
       "         Power_HP  Displacement_cm3  ...  Hydrogen  Manual  city_cars  compact  \\\n",
       " 165030 -0.537657         -0.373598  ...         0       1          0        0   \n",
       " 11568   0.879408          1.828094  ...         0       0          0        0   \n",
       " 25484   1.642443          2.424553  ...         0       0          0        0   \n",
       " 144398 -0.719332         -0.379603  ...         0       1          0        1   \n",
       " 161343 -0.028967          0.421012  ...         0       1          0        0   \n",
       " ...          ...               ...  ...       ...     ...        ...      ...   \n",
       " 190160 -1.482367         -1.572520  ...         0       1          0        0   \n",
       " 109726 -0.573992         -0.373598  ...         0       1          0        0   \n",
       " 53479  -0.846505         -0.449657  ...         0       1          0        1   \n",
       " 153899  0.879408          0.398996  ...         0       0          0        0   \n",
       " 82162   2.623488          3.641488  ...         0       0          0        0   \n",
       " \n",
       "         convertible  coupe  minivan  sedan  small_cars  station_wagon  \n",
       " 165030            0      0        1      0           0              0  \n",
       " 11568             0      0        0      0           0              1  \n",
       " 25484             0      0        0      1           0              0  \n",
       " 144398            0      0        0      0           0              0  \n",
       " 161343            0      0        0      0           0              0  \n",
       " ...             ...    ...      ...    ...         ...            ...  \n",
       " 190160            0      0        0      0           1              0  \n",
       " 109726            0      0        0      0           0              1  \n",
       " 53479             0      0        0      0           0              0  \n",
       " 153899            0      0        0      0           0              1  \n",
       " 82162             0      0        0      1           0              0  \n",
       " \n",
       " [49081 rows x 27 columns],\n",
       " 156068    10.199882\n",
       " 179678    10.855145\n",
       " 105146     9.539644\n",
       " 47390     11.275937\n",
       " 61000      9.898475\n",
       "             ...    \n",
       " 85002     11.842229\n",
       " 172737    12.078234\n",
       " 98060      9.609116\n",
       " 48283     11.065075\n",
       " 64544     10.747208\n",
       " Name: Log_Price, Length: 147242, dtype: float64,\n",
       " 165030    10.542706\n",
       " 11568     10.308953\n",
       " 25484     10.370361\n",
       " 144398     9.852142\n",
       " 161343     9.952278\n",
       "             ...    \n",
       " 190160    10.431170\n",
       " 109726    10.463160\n",
       " 53479     10.081634\n",
       " 153899    11.944058\n",
       " 82162     10.817776\n",
       " Name: Log_Price, Length: 49081, dtype: float64]"
      ]
     },
     "execution_count": 105,
     "metadata": {},
     "output_type": "execute_result"
    }
   ],
   "source": [
    "train_test_split(scaled_inputs,targets)"
   ]
  },
  {
   "cell_type": "code",
   "execution_count": 106,
   "id": "5d949f15",
   "metadata": {},
   "outputs": [],
   "source": [
    "x_train, x_test, y_train, y_test = train_test_split(scaled_inputs,targets,train_size = 0.8,random_state=20)"
   ]
  },
  {
   "cell_type": "code",
   "execution_count": 107,
   "id": "3ecb2e83",
   "metadata": {},
   "outputs": [
    {
     "name": "stdout",
     "output_type": "stream",
     "text": [
      "(157058, 27) (157058,)\n"
     ]
    }
   ],
   "source": [
    "print(x_train.shape,y_train.shape)"
   ]
  },
  {
   "cell_type": "code",
   "execution_count": 108,
   "id": "286d0ba3",
   "metadata": {
    "scrolled": true
   },
   "outputs": [
    {
     "name": "stdout",
     "output_type": "stream",
     "text": [
      "(39265, 27) (39265,)\n"
     ]
    }
   ],
   "source": [
    "print(x_test.shape,y_test.shape)"
   ]
  },
  {
   "cell_type": "markdown",
   "id": "25f7f5ee",
   "metadata": {},
   "source": [
    "# Linear regression with sklearn"
   ]
  },
  {
   "cell_type": "code",
   "execution_count": 109,
   "id": "f68c16f5",
   "metadata": {},
   "outputs": [],
   "source": [
    "from sklearn.linear_model import LogisticRegression\n",
    "from sklearn import metrics"
   ]
  },
  {
   "cell_type": "markdown",
   "id": "ac9f43f1",
   "metadata": {},
   "source": [
    "## Training Model : "
   ]
  },
  {
   "cell_type": "code",
   "execution_count": 110,
   "id": "aae082a9",
   "metadata": {
    "scrolled": true
   },
   "outputs": [
    {
     "data": {
      "text/html": [
       "<style>#sk-container-id-1 {color: black;}#sk-container-id-1 pre{padding: 0;}#sk-container-id-1 div.sk-toggleable {background-color: white;}#sk-container-id-1 label.sk-toggleable__label {cursor: pointer;display: block;width: 100%;margin-bottom: 0;padding: 0.3em;box-sizing: border-box;text-align: center;}#sk-container-id-1 label.sk-toggleable__label-arrow:before {content: \"▸\";float: left;margin-right: 0.25em;color: #696969;}#sk-container-id-1 label.sk-toggleable__label-arrow:hover:before {color: black;}#sk-container-id-1 div.sk-estimator:hover label.sk-toggleable__label-arrow:before {color: black;}#sk-container-id-1 div.sk-toggleable__content {max-height: 0;max-width: 0;overflow: hidden;text-align: left;background-color: #f0f8ff;}#sk-container-id-1 div.sk-toggleable__content pre {margin: 0.2em;color: black;border-radius: 0.25em;background-color: #f0f8ff;}#sk-container-id-1 input.sk-toggleable__control:checked~div.sk-toggleable__content {max-height: 200px;max-width: 100%;overflow: auto;}#sk-container-id-1 input.sk-toggleable__control:checked~label.sk-toggleable__label-arrow:before {content: \"▾\";}#sk-container-id-1 div.sk-estimator input.sk-toggleable__control:checked~label.sk-toggleable__label {background-color: #d4ebff;}#sk-container-id-1 div.sk-label input.sk-toggleable__control:checked~label.sk-toggleable__label {background-color: #d4ebff;}#sk-container-id-1 input.sk-hidden--visually {border: 0;clip: rect(1px 1px 1px 1px);clip: rect(1px, 1px, 1px, 1px);height: 1px;margin: -1px;overflow: hidden;padding: 0;position: absolute;width: 1px;}#sk-container-id-1 div.sk-estimator {font-family: monospace;background-color: #f0f8ff;border: 1px dotted black;border-radius: 0.25em;box-sizing: border-box;margin-bottom: 0.5em;}#sk-container-id-1 div.sk-estimator:hover {background-color: #d4ebff;}#sk-container-id-1 div.sk-parallel-item::after {content: \"\";width: 100%;border-bottom: 1px solid gray;flex-grow: 1;}#sk-container-id-1 div.sk-label:hover label.sk-toggleable__label {background-color: #d4ebff;}#sk-container-id-1 div.sk-serial::before {content: \"\";position: absolute;border-left: 1px solid gray;box-sizing: border-box;top: 0;bottom: 0;left: 50%;z-index: 0;}#sk-container-id-1 div.sk-serial {display: flex;flex-direction: column;align-items: center;background-color: white;padding-right: 0.2em;padding-left: 0.2em;position: relative;}#sk-container-id-1 div.sk-item {position: relative;z-index: 1;}#sk-container-id-1 div.sk-parallel {display: flex;align-items: stretch;justify-content: center;background-color: white;position: relative;}#sk-container-id-1 div.sk-item::before, #sk-container-id-1 div.sk-parallel-item::before {content: \"\";position: absolute;border-left: 1px solid gray;box-sizing: border-box;top: 0;bottom: 0;left: 50%;z-index: -1;}#sk-container-id-1 div.sk-parallel-item {display: flex;flex-direction: column;z-index: 1;position: relative;background-color: white;}#sk-container-id-1 div.sk-parallel-item:first-child::after {align-self: flex-end;width: 50%;}#sk-container-id-1 div.sk-parallel-item:last-child::after {align-self: flex-start;width: 50%;}#sk-container-id-1 div.sk-parallel-item:only-child::after {width: 0;}#sk-container-id-1 div.sk-dashed-wrapped {border: 1px dashed gray;margin: 0 0.4em 0.5em 0.4em;box-sizing: border-box;padding-bottom: 0.4em;background-color: white;}#sk-container-id-1 div.sk-label label {font-family: monospace;font-weight: bold;display: inline-block;line-height: 1.2em;}#sk-container-id-1 div.sk-label-container {text-align: center;}#sk-container-id-1 div.sk-container {/* jupyter's `normalize.less` sets `[hidden] { display: none; }` but bootstrap.min.css set `[hidden] { display: none !important; }` so we also need the `!important` here to be able to override the default hidden behavior on the sphinx rendered scikit-learn.org. See: https://github.com/scikit-learn/scikit-learn/issues/21755 */display: inline-block !important;position: relative;}#sk-container-id-1 div.sk-text-repr-fallback {display: none;}</style><div id=\"sk-container-id-1\" class=\"sk-top-container\"><div class=\"sk-text-repr-fallback\"><pre>LinearRegression()</pre><b>In a Jupyter environment, please rerun this cell to show the HTML representation or trust the notebook. <br />On GitHub, the HTML representation is unable to render, please try loading this page with nbviewer.org.</b></div><div class=\"sk-container\" hidden><div class=\"sk-item\"><div class=\"sk-estimator sk-toggleable\"><input class=\"sk-toggleable__control sk-hidden--visually\" id=\"sk-estimator-id-1\" type=\"checkbox\" checked><label for=\"sk-estimator-id-1\" class=\"sk-toggleable__label sk-toggleable__label-arrow\">LinearRegression</label><div class=\"sk-toggleable__content\"><pre>LinearRegression()</pre></div></div></div></div></div>"
      ],
      "text/plain": [
       "LinearRegression()"
      ]
     },
     "execution_count": 110,
     "metadata": {},
     "output_type": "execute_result"
    }
   ],
   "source": [
    "from sklearn.linear_model import LinearRegression\n",
    "reg = LinearRegression()\n",
    "reg.fit(x_train,y_train)"
   ]
  },
  {
   "cell_type": "code",
   "execution_count": 111,
   "id": "8b97550f",
   "metadata": {},
   "outputs": [],
   "source": [
    "y_hat = reg.predict(x_train)"
   ]
  },
  {
   "cell_type": "code",
   "execution_count": 112,
   "id": "088d574f",
   "metadata": {
    "scrolled": true
   },
   "outputs": [
    {
     "data": {
      "text/plain": [
       "Text(0, 0.5, 'Predictions (y_hat)')"
      ]
     },
     "execution_count": 112,
     "metadata": {},
     "output_type": "execute_result"
    },
    {
     "data": {
      "image/png": "[encoded data removed]",
      "text/plain": [
       "<Figure size 640x480 with 1 Axes>"
      ]
     },
     "metadata": {},
     "output_type": "display_data"
    }
   ],
   "source": [
    "plt.scatter(y_train, y_hat)\n",
    "# Let's also name the axes\n",
    "plt.xlabel('Targets (y_train)',size=18)\n",
    "plt.ylabel('Predictions (y_hat)',size=18)\n",
    "# Sometimes the plot will have different scales of the x-axis and the y-axis\n",
    "# This is an issue as we won't be able to interpret the '45-degree line'\n",
    "# We want the x-axis and the y-axis to be the same"
   ]
  },
  {
   "cell_type": "code",
   "execution_count": 113,
   "id": "29dd737f",
   "metadata": {
    "scrolled": true
   },
   "outputs": [
    {
     "data": {
      "text/plain": [
       "0.7595222137797252"
      ]
     },
     "execution_count": 113,
     "metadata": {},
     "output_type": "execute_result"
    }
   ],
   "source": [
    "reg.score(x_train,y_train)"
   ]
  },
  {
   "cell_type": "code",
   "execution_count": 114,
   "id": "ec7b7028",
   "metadata": {},
   "outputs": [
    {
     "name": "stdout",
     "output_type": "stream",
     "text": [
      "Mean Absolute Error: 0.36 degrees.\n"
     ]
    }
   ],
   "source": [
    "train_errors = abs(y_hat - y_train)\n",
    "print('Mean Absolute Error:', round(np.mean(train_errors), 2), 'degrees.')"
   ]
  },
  {
   "cell_type": "code",
   "execution_count": 115,
   "id": "b1efb793",
   "metadata": {},
   "outputs": [
    {
     "name": "stdout",
     "output_type": "stream",
     "text": [
      "Accuracy: 96.38 %.\n"
     ]
    }
   ],
   "source": [
    "train_mape = 100 * (train_errors / y_train)\n",
    "# Calculate and display accuracy\n",
    "train_accuracy = 100 - np.mean(train_mape)\n",
    "print('Accuracy:', round(train_accuracy, 2), '%.')"
   ]
  },
  {
   "cell_type": "code",
   "execution_count": 116,
   "id": "5e2baac1",
   "metadata": {},
   "outputs": [
    {
     "data": {
      "text/plain": [
       "0.7635151852873561"
      ]
     },
     "execution_count": 116,
     "metadata": {},
     "output_type": "execute_result"
    }
   ],
   "source": [
    "reg.score(x_test,y_test)"
   ]
  },
  {
   "cell_type": "code",
   "execution_count": 117,
   "id": "f9f67e05",
   "metadata": {},
   "outputs": [],
   "source": [
    "y_hat_test = reg.predict(x_test)"
   ]
  },
  {
   "cell_type": "code",
   "execution_count": 118,
   "id": "5996f3cf",
   "metadata": {},
   "outputs": [
    {
     "name": "stdout",
     "output_type": "stream",
     "text": [
      "Mean Absolute Error: 0.36 degrees.\n"
     ]
    }
   ],
   "source": [
    "test_errors = abs(y_hat_test - y_test)\n",
    "print('Mean Absolute Error:', round(np.mean(test_errors), 2), 'degrees.')"
   ]
  },
  {
   "cell_type": "code",
   "execution_count": 119,
   "id": "aaa3c1dc",
   "metadata": {},
   "outputs": [
    {
     "name": "stdout",
     "output_type": "stream",
     "text": [
      "Accuracy: 96.41 %.\n"
     ]
    }
   ],
   "source": [
    "test_mape = 100 * (test_errors / y_test)\n",
    "# Calculate and display accuracy\n",
    "test_accuracy = 100 - np.mean(test_mape)\n",
    "print('Accuracy:', round(test_accuracy, 2), '%.')"
   ]
  },
  {
   "cell_type": "code",
   "execution_count": 120,
   "id": "a8e8037a",
   "metadata": {},
   "outputs": [
    {
     "name": "stderr",
     "output_type": "stream",
     "text": [
      "C:\\Users\\patel\\AppData\\Local\\Temp\\ipykernel_20984\\2762528872.py:1: UserWarning: \n",
      "\n",
      "`distplot` is a deprecated function and will be removed in seaborn v0.14.0.\n",
      "\n",
      "Please adapt your code to use either `displot` (a figure-level function with\n",
      "similar flexibility) or `histplot` (an axes-level function for histograms).\n",
      "\n",
      "For a guide to updating your code to use the new functions, please see\n",
      "https://gist.github.com/mwaskom/de44147ed2974457ad6372750bbe5751\n",
      "\n",
      "  sns.distplot(y_hat_test - y_test)\n"
     ]
    },
    {
     "data": {
      "text/plain": [
       "<Axes: xlabel='Log_Price', ylabel='Density'>"
      ]
     },
     "execution_count": 120,
     "metadata": {},
     "output_type": "execute_result"
    },
    {
     "data": {
      "image/png": "[encoded data removed]",
      "text/plain": [
       "<Figure size 640x480 with 1 Axes>"
      ]
     },
     "metadata": {},
     "output_type": "display_data"
    }
   ],
   "source": [
    "sns.distplot(y_hat_test - y_test)"
   ]
  },
  {
   "cell_type": "code",
   "execution_count": 121,
   "id": "ee02f2ce",
   "metadata": {},
   "outputs": [
    {
     "data": {
      "text/plain": [
       "Text(0, 0.5, 'Predictions (y_hat_test)')"
      ]
     },
     "execution_count": 121,
     "metadata": {},
     "output_type": "execute_result"
    },
    {
     "data": {
      "image/png": "[encoded data removed]",
      "text/plain": [
       "<Figure size 640x480 with 1 Axes>"
      ]
     },
     "metadata": {},
     "output_type": "display_data"
    }
   ],
   "source": [
    "plt.scatter(y_test, y_hat_test)\n",
    "# Let's also name the axes\n",
    "plt.xlabel('Targets (y_test)',size=18)\n",
    "plt.ylabel('Predictions (y_hat_test)',size=18)"
   ]
  },
  {
   "cell_type": "code",
   "execution_count": 122,
   "id": "625f0b0e",
   "metadata": {},
   "outputs": [
    {
     "data": {
      "text/plain": [
       "array(['Vehicle_brand_0', 'Vehicle_brand_1', 'Vehicle_brand_2',\n",
       "       'Vehicle_brand_3', 'Vehicle_brand_4', 'Vehicle_brand_5',\n",
       "       'Vehicle_brand_6', 'Mileage_km', 'Power_HP', 'Displacement_cm3',\n",
       "       'PLN', 'Used', 'Ethanol', 'Gasoline', 'Gasoline + CNG',\n",
       "       'Gasoline + LPG', 'Hybrid', 'Hydrogen', 'Manual', 'city_cars',\n",
       "       'compact', 'convertible', 'coupe', 'minivan', 'sedan',\n",
       "       'small_cars', 'station_wagon'], dtype=object)"
      ]
     },
     "execution_count": 122,
     "metadata": {},
     "output_type": "execute_result"
    }
   ],
   "source": [
    "feature_names = scaled_inputs.columns.values\n",
    "feature_names"
   ]
  },
  {
   "cell_type": "code",
   "execution_count": 123,
   "id": "ddd0c207",
   "metadata": {},
   "outputs": [
    {
     "data": {
      "text/html": [
       "<div>\n",
       "<style scoped>\n",
       "    .dataframe tbody tr th:only-of-type {\n",
       "        vertical-align: middle;\n",
       "    }\n",
       "\n",
       "    .dataframe tbody tr th {\n",
       "        vertical-align: top;\n",
       "    }\n",
       "\n",
       "    .dataframe thead th {\n",
       "        text-align: right;\n",
       "    }\n",
       "</style>\n",
       "<table border=\"1\" class=\"dataframe\">\n",
       "  <thead>\n",
       "    <tr style=\"text-align: right;\">\n",
       "      <th></th>\n",
       "      <th>feature_names</th>\n",
       "      <th>coefficient</th>\n",
       "    </tr>\n",
       "  </thead>\n",
       "  <tbody>\n",
       "    <tr>\n",
       "      <th>0</th>\n",
       "      <td>Vehicle_brand_0</td>\n",
       "      <td>-2.409002e-02</td>\n",
       "    </tr>\n",
       "    <tr>\n",
       "      <th>1</th>\n",
       "      <td>Vehicle_brand_1</td>\n",
       "      <td>9.712800e-02</td>\n",
       "    </tr>\n",
       "    <tr>\n",
       "      <th>2</th>\n",
       "      <td>Vehicle_brand_2</td>\n",
       "      <td>-1.364659e-01</td>\n",
       "    </tr>\n",
       "    <tr>\n",
       "      <th>3</th>\n",
       "      <td>Vehicle_brand_3</td>\n",
       "      <td>5.639341e-02</td>\n",
       "    </tr>\n",
       "    <tr>\n",
       "      <th>4</th>\n",
       "      <td>Vehicle_brand_4</td>\n",
       "      <td>3.440612e-02</td>\n",
       "    </tr>\n",
       "    <tr>\n",
       "      <th>5</th>\n",
       "      <td>Vehicle_brand_5</td>\n",
       "      <td>6.607354e-02</td>\n",
       "    </tr>\n",
       "    <tr>\n",
       "      <th>6</th>\n",
       "      <td>Vehicle_brand_6</td>\n",
       "      <td>-3.115423e-02</td>\n",
       "    </tr>\n",
       "    <tr>\n",
       "      <th>7</th>\n",
       "      <td>Mileage_km</td>\n",
       "      <td>-5.209565e-01</td>\n",
       "    </tr>\n",
       "    <tr>\n",
       "      <th>8</th>\n",
       "      <td>Power_HP</td>\n",
       "      <td>4.728533e-01</td>\n",
       "    </tr>\n",
       "    <tr>\n",
       "      <th>9</th>\n",
       "      <td>Displacement_cm3</td>\n",
       "      <td>-1.842597e-01</td>\n",
       "    </tr>\n",
       "    <tr>\n",
       "      <th>10</th>\n",
       "      <td>PLN</td>\n",
       "      <td>1.107668e+00</td>\n",
       "    </tr>\n",
       "    <tr>\n",
       "      <th>11</th>\n",
       "      <td>Used</td>\n",
       "      <td>-3.298878e-01</td>\n",
       "    </tr>\n",
       "    <tr>\n",
       "      <th>12</th>\n",
       "      <td>Ethanol</td>\n",
       "      <td>2.664535e-15</td>\n",
       "    </tr>\n",
       "    <tr>\n",
       "      <th>13</th>\n",
       "      <td>Gasoline</td>\n",
       "      <td>-3.869548e-01</td>\n",
       "    </tr>\n",
       "    <tr>\n",
       "      <th>14</th>\n",
       "      <td>Gasoline + CNG</td>\n",
       "      <td>-2.610516e-01</td>\n",
       "    </tr>\n",
       "    <tr>\n",
       "      <th>15</th>\n",
       "      <td>Gasoline + LPG</td>\n",
       "      <td>-3.959082e-01</td>\n",
       "    </tr>\n",
       "    <tr>\n",
       "      <th>16</th>\n",
       "      <td>Hybrid</td>\n",
       "      <td>-1.569923e-02</td>\n",
       "    </tr>\n",
       "    <tr>\n",
       "      <th>17</th>\n",
       "      <td>Hydrogen</td>\n",
       "      <td>2.616934e-01</td>\n",
       "    </tr>\n",
       "    <tr>\n",
       "      <th>18</th>\n",
       "      <td>Manual</td>\n",
       "      <td>-2.286797e-01</td>\n",
       "    </tr>\n",
       "    <tr>\n",
       "      <th>19</th>\n",
       "      <td>city_cars</td>\n",
       "      <td>-4.755809e-01</td>\n",
       "    </tr>\n",
       "    <tr>\n",
       "      <th>20</th>\n",
       "      <td>compact</td>\n",
       "      <td>-2.879826e-01</td>\n",
       "    </tr>\n",
       "    <tr>\n",
       "      <th>21</th>\n",
       "      <td>convertible</td>\n",
       "      <td>-2.082004e-01</td>\n",
       "    </tr>\n",
       "    <tr>\n",
       "      <th>22</th>\n",
       "      <td>coupe</td>\n",
       "      <td>-2.118380e-01</td>\n",
       "    </tr>\n",
       "    <tr>\n",
       "      <th>23</th>\n",
       "      <td>minivan</td>\n",
       "      <td>-1.497633e-01</td>\n",
       "    </tr>\n",
       "    <tr>\n",
       "      <th>24</th>\n",
       "      <td>sedan</td>\n",
       "      <td>-2.041414e-01</td>\n",
       "    </tr>\n",
       "    <tr>\n",
       "      <th>25</th>\n",
       "      <td>small_cars</td>\n",
       "      <td>-6.473186e-01</td>\n",
       "    </tr>\n",
       "    <tr>\n",
       "      <th>26</th>\n",
       "      <td>station_wagon</td>\n",
       "      <td>-1.747315e-01</td>\n",
       "    </tr>\n",
       "  </tbody>\n",
       "</table>\n",
       "</div>"
      ],
      "text/plain": [
       "       feature_names   coefficient\n",
       "0    Vehicle_brand_0 -2.409002e-02\n",
       "1    Vehicle_brand_1  9.712800e-02\n",
       "2    Vehicle_brand_2 -1.364659e-01\n",
       "3    Vehicle_brand_3  5.639341e-02\n",
       "4    Vehicle_brand_4  3.440612e-02\n",
       "5    Vehicle_brand_5  6.607354e-02\n",
       "6    Vehicle_brand_6 -3.115423e-02\n",
       "7         Mileage_km -5.209565e-01\n",
       "8           Power_HP  4.728533e-01\n",
       "9   Displacement_cm3 -1.842597e-01\n",
       "10               PLN  1.107668e+00\n",
       "11              Used -3.298878e-01\n",
       "12           Ethanol  2.664535e-15\n",
       "13          Gasoline -3.869548e-01\n",
       "14    Gasoline + CNG -2.610516e-01\n",
       "15    Gasoline + LPG -3.959082e-01\n",
       "16            Hybrid -1.569923e-02\n",
       "17          Hydrogen  2.616934e-01\n",
       "18            Manual -2.286797e-01\n",
       "19         city_cars -4.755809e-01\n",
       "20           compact -2.879826e-01\n",
       "21       convertible -2.082004e-01\n",
       "22             coupe -2.118380e-01\n",
       "23           minivan -1.497633e-01\n",
       "24             sedan -2.041414e-01\n",
       "25        small_cars -6.473186e-01\n",
       "26     station_wagon -1.747315e-01"
      ]
     },
     "execution_count": 123,
     "metadata": {},
     "output_type": "execute_result"
    }
   ],
   "source": [
    "summary_table = pd.DataFrame(columns = ['feature_names'],data = feature_names)\n",
    "\n",
    "summary_table['coefficient'] = np.transpose(reg.coef_)\n",
    "# we transpose the array because nd.array are rows not the columns\n",
    "summary_table"
   ]
  },
  {
   "cell_type": "code",
   "execution_count": 124,
   "id": "921013d7",
   "metadata": {
    "scrolled": true
   },
   "outputs": [
    {
     "data": {
      "text/plain": [
       "(157058, 27)"
      ]
     },
     "execution_count": 124,
     "metadata": {},
     "output_type": "execute_result"
    }
   ],
   "source": [
    "x_train.shape"
   ]
  },
  {
   "cell_type": "code",
   "execution_count": 125,
   "id": "a1ca45b9",
   "metadata": {},
   "outputs": [
    {
     "data": {
      "text/plain": [
       "(157058,)"
      ]
     },
     "execution_count": 125,
     "metadata": {},
     "output_type": "execute_result"
    }
   ],
   "source": [
    "y_train.shape"
   ]
  },
  {
   "cell_type": "markdown",
   "id": "a8cf46bd",
   "metadata": {},
   "source": [
    "## using tf.keras.sequential method"
   ]
  },
  {
   "cell_type": "code",
   "execution_count": 126,
   "id": "ebf80e32",
   "metadata": {},
   "outputs": [],
   "source": [
    "from sklearn.preprocessing import MinMaxScaler"
   ]
  },
  {
   "cell_type": "code",
   "execution_count": 127,
   "id": "ae718c0e",
   "metadata": {},
   "outputs": [
    {
     "data": {
      "text/plain": [
       "pandas.core.series.Series"
      ]
     },
     "execution_count": 127,
     "metadata": {},
     "output_type": "execute_result"
    }
   ],
   "source": [
    "type(y_train)"
   ]
  },
  {
   "cell_type": "code",
   "execution_count": 128,
   "id": "990c021c",
   "metadata": {},
   "outputs": [],
   "source": [
    "scaler = MinMaxScaler(feature_range = (0,1))\n",
    "y_train = scaler.fit_transform(y_train.values.reshape(-1,1))"
   ]
  },
  {
   "cell_type": "code",
   "execution_count": 129,
   "id": "76f3fd8f",
   "metadata": {},
   "outputs": [
    {
     "data": {
      "text/plain": [
       "(39265, 27)"
      ]
     },
     "execution_count": 129,
     "metadata": {},
     "output_type": "execute_result"
    }
   ],
   "source": [
    "x_test.shape"
   ]
  },
  {
   "cell_type": "code",
   "execution_count": 130,
   "id": "6983debd",
   "metadata": {},
   "outputs": [],
   "source": [
    "y_test = scaler.fit_transform(y_test.values.reshape(-1,1))"
   ]
  },
  {
   "cell_type": "code",
   "execution_count": 131,
   "id": "bf4c8b84",
   "metadata": {},
   "outputs": [],
   "source": [
    "import tensorflow as tf\n",
    "from tensorflow import keras\n",
    "from tensorflow.keras.models import Sequential\n",
    "from tensorflow.keras.layers import Activation, Dense\n",
    "from tensorflow.keras.optimizers import Adam\n",
    "from tensorflow.keras.metrics import categorical_crossentropy"
   ]
  },
  {
   "cell_type": "code",
   "execution_count": 132,
   "id": "cb5f0d90",
   "metadata": {},
   "outputs": [],
   "source": [
    "model = Sequential([\n",
    "    Dense(units=32, input_shape=(27,), activation = 'relu'),\n",
    "    Dense(units=64,activation='relu'),\n",
    "    Dense(units=1,activation=None)\n",
    "])"
   ]
  },
  {
   "cell_type": "code",
   "execution_count": 133,
   "id": "748d7b97",
   "metadata": {
    "scrolled": true
   },
   "outputs": [
    {
     "name": "stdout",
     "output_type": "stream",
     "text": [
      "Model: \"sequential\"\n",
      "_________________________________________________________________\n",
      " Layer (type)                Output Shape              Param #   \n",
      "=================================================================\n",
      " dense (Dense)               (None, 32)                896       \n",
      "                                                                 \n",
      " dense_1 (Dense)             (None, 64)                2112      \n",
      "                                                                 \n",
      " dense_2 (Dense)             (None, 1)                 65        \n",
      "                                                                 \n",
      "=================================================================\n",
      "Total params: 3073 (12.00 KB)\n",
      "Trainable params: 3073 (12.00 KB)\n",
      "Non-trainable params: 0 (0.00 Byte)\n",
      "_________________________________________________________________\n"
     ]
    }
   ],
   "source": [
    "model.summary()"
   ]
  },
  {
   "cell_type": "code",
   "execution_count": 134,
   "id": "b7cc70c4",
   "metadata": {},
   "outputs": [],
   "source": [
    "model.compile(optimizer=Adam(learning_rate=0.0001),loss='mean_squared_error',metrics=['accuracy'])"
   ]
  },
  {
   "cell_type": "code",
   "execution_count": 135,
   "id": "f3e08d2e",
   "metadata": {
    "scrolled": false
   },
   "outputs": [
    {
     "name": "stdout",
     "output_type": "stream",
     "text": [
      "Epoch 1/30\n",
      "14136/14136 - 42s - loss: 0.0090 - accuracy: 3.5373e-05 - val_loss: 0.0053 - val_accuracy: 0.0000e+00 - 42s/epoch - 3ms/step\n",
      "Epoch 2/30\n",
      "14136/14136 - 38s - loss: 0.0052 - accuracy: 3.5373e-05 - val_loss: 0.0050 - val_accuracy: 0.0000e+00 - 38s/epoch - 3ms/step\n",
      "Epoch 3/30\n",
      "14136/14136 - 38s - loss: 0.0049 - accuracy: 3.5373e-05 - val_loss: 0.0048 - val_accuracy: 0.0000e+00 - 38s/epoch - 3ms/step\n",
      "Epoch 4/30\n",
      "14136/14136 - 38s - loss: 0.0048 - accuracy: 3.5373e-05 - val_loss: 0.0048 - val_accuracy: 0.0000e+00 - 38s/epoch - 3ms/step\n",
      "Epoch 5/30\n",
      "14136/14136 - 38s - loss: 0.0047 - accuracy: 3.5373e-05 - val_loss: 0.0049 - val_accuracy: 0.0000e+00 - 38s/epoch - 3ms/step\n"
     ]
    },
    {
     "data": {
      "text/plain": [
       "<keras.src.callbacks.History at 0x2cff46d8c50>"
      ]
     },
     "execution_count": 135,
     "metadata": {},
     "output_type": "execute_result"
    }
   ],
   "source": [
    "early_stopping = tf.keras.callbacks.EarlyStopping()\n",
    "model.fit(x=x_train, \n",
    "          y=y_train, \n",
    "          validation_split=0.1, \n",
    "          batch_size=10,\n",
    "          epochs=30, \n",
    "          callbacks=[early_stopping],\n",
    "          shuffle=True,\n",
    "          verbose=2)\n"
   ]
  },
  {
   "cell_type": "code",
   "execution_count": 136,
   "id": "f697b736",
   "metadata": {},
   "outputs": [
    {
     "name": "stdout",
     "output_type": "stream",
     "text": [
      "1228/1228 [==============================] - 3s 3ms/step - loss: 0.0049 - accuracy: 5.0936e-05\n"
     ]
    }
   ],
   "source": [
    "loss, mae = model.evaluate(x_test, y_test)\n"
   ]
  },
  {
   "cell_type": "code",
   "execution_count": 137,
   "id": "3b0b8234",
   "metadata": {
    "scrolled": false
   },
   "outputs": [
    {
     "name": "stdout",
     "output_type": "stream",
     "text": [
      "1228/1228 [==============================] - 3s 2ms/step\n"
     ]
    }
   ],
   "source": [
    "y_pred = model.predict(x_test)"
   ]
  },
  {
   "cell_type": "code",
   "execution_count": 145,
   "id": "ccdba043",
   "metadata": {},
   "outputs": [],
   "source": [
    "y_pred = y_pred.reshape(-1)"
   ]
  },
  {
   "cell_type": "code",
   "execution_count": 146,
   "id": "6b79a592",
   "metadata": {},
   "outputs": [],
   "source": [
    "y_test = y_test.reshape(-1)"
   ]
  },
  {
   "cell_type": "code",
   "execution_count": 147,
   "id": "9c00278b",
   "metadata": {
    "scrolled": false
   },
   "outputs": [
    {
     "name": "stdout",
     "output_type": "stream",
     "text": [
      "Mean Absolute Error: 0.05 degrees.\n"
     ]
    }
   ],
   "source": [
    "errors_2 = abs(y_pred - y_test)\n",
    "print('Mean Absolute Error:', round(np.mean(errors_2), 2), 'degrees.')"
   ]
  },
  {
   "cell_type": "code",
   "execution_count": null,
   "id": "5c03fc8d",
   "metadata": {},
   "outputs": [],
   "source": []
  },
  {
   "cell_type": "code",
   "execution_count": 155,
   "id": "d4fc52b5",
   "metadata": {},
   "outputs": [
    {
     "data": {
      "text/plain": [
       "array([0.49775641, 0.67926272, 0.63573258, ..., 0.65338439, 0.67117696,\n",
       "       0.49825703])"
      ]
     },
     "execution_count": 155,
     "metadata": {},
     "output_type": "execute_result"
    }
   ],
   "source": [
    "y_test"
   ]
  },
  {
   "cell_type": "code",
   "execution_count": 156,
   "id": "74bd435f",
   "metadata": {},
   "outputs": [
    {
     "name": "stdout",
     "output_type": "stream",
     "text": [
      "Accuracy: 79.76 %.\n"
     ]
    }
   ],
   "source": [
    "mape = 100 * np.divide(errors_2, np.where(y_test != 0, y_test, 1))\n",
    "# Calculate and display accuracy\n",
    "accuracy = 100 - np.mean(mape)\n",
    "print('Accuracy:', round(accuracy, 2), '%.')"
   ]
  },
  {
   "cell_type": "code",
   "execution_count": 138,
   "id": "5ab27c21",
   "metadata": {},
   "outputs": [],
   "source": [
    "from sklearn.metrics import r2_score, mean_squared_error"
   ]
  },
  {
   "cell_type": "code",
   "execution_count": 139,
   "id": "e75b9f53",
   "metadata": {},
   "outputs": [
    {
     "name": "stdout",
     "output_type": "stream",
     "text": [
      "R-squared (R^2): 0.8181786292937817\n",
      "Mean Squared Error (MSE): 0.0049015070612475654\n"
     ]
    }
   ],
   "source": [
    "r2 = r2_score(y_test, y_pred)\n",
    "\n",
    "# Calculate Mean Squared Error (MSE)\n",
    "mse = mean_squared_error(y_test, y_pred)\n",
    "\n",
    "print(\"R-squared (R^2):\", r2)\n",
    "print(\"Mean Squared Error (MSE):\", mse)"
   ]
  }
 ],
 "metadata": {
  "kernelspec": {
   "display_name": "Python (PY3-TF2.0)",
   "language": "python",
   "name": "py3-tf2.0"
  },
  "language_info": {
   "codemirror_mode": {
    "name": "ipython",
    "version": 3
   },
   "file_extension": ".py",
   "mimetype": "text/x-python",
   "name": "python",
   "nbconvert_exporter": "python",
   "pygments_lexer": "ipython3",
   "version": "3.11.4"
  }
 },
 "nbformat": 4,
 "nbformat_minor": 5
}
