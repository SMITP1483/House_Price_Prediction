{
 "cells": [
  {
   "cell_type": "code",
   "execution_count": 1,
   "metadata": {
    "executionInfo": {
     "elapsed": 1807,
     "status": "ok",
     "timestamp": 1692722759946,
     "user": {
      "displayName": "yash vaddoriya",
      "userId": "15193926449796532411"
     },
     "user_tz": -330
    },
    "id": "Z7sB7qlRBgvV"
   },
   "outputs": [],
   "source": [
    "import numpy as np\n",
    "import pandas as pd\n",
    "import matplotlib.pyplot as plt\n",
    "import statsmodels.api as sm\n",
    "import seaborn as sns\n",
    "sns.set()"
   ]
  },
  {
   "cell_type": "code",
   "execution_count": 2,
   "metadata": {
    "colab": {
     "base_uri": "https://localhost:8080/",
     "height": 580
    },
    "executionInfo": {
     "elapsed": 122,
     "status": "ok",
     "timestamp": 1692722767986,
     "user": {
      "displayName": "yash vaddoriya",
      "userId": "15193926449796532411"
     },
     "user_tz": -330
    },
    "id": "J5iKaXr7B6c6",
    "outputId": "d7990501-d302-4790-ae62-eb0e8d38fb39"
   },
   "outputs": [
    {
     "data": {
      "text/html": [
       "<div>\n",
       "<style scoped>\n",
       "    .dataframe tbody tr th:only-of-type {\n",
       "        vertical-align: middle;\n",
       "    }\n",
       "\n",
       "    .dataframe tbody tr th {\n",
       "        vertical-align: top;\n",
       "    }\n",
       "\n",
       "    .dataframe thead th {\n",
       "        text-align: right;\n",
       "    }\n",
       "</style>\n",
       "<table border=\"1\" class=\"dataframe\">\n",
       "  <thead>\n",
       "    <tr style=\"text-align: right;\">\n",
       "      <th></th>\n",
       "      <th>Hotel Name</th>\n",
       "      <th>Rating</th>\n",
       "      <th>Rating Description</th>\n",
       "      <th>Reviews</th>\n",
       "      <th>Star Rating</th>\n",
       "      <th>Location</th>\n",
       "      <th>Nearest Landmark</th>\n",
       "      <th>Distance to Landmark</th>\n",
       "      <th>Price</th>\n",
       "      <th>Tax</th>\n",
       "    </tr>\n",
       "  </thead>\n",
       "  <tbody>\n",
       "    <tr>\n",
       "      <th>0</th>\n",
       "      <td>The Orchid Hotel Mumbai Vile Parle</td>\n",
       "      <td>4.0</td>\n",
       "      <td>Very Good</td>\n",
       "      <td>5593</td>\n",
       "      <td>5.0</td>\n",
       "      <td>Near Mumbai Airport</td>\n",
       "      <td>T1 - Chhatrapati Shivaji International Airport</td>\n",
       "      <td>930 m</td>\n",
       "      <td>6,499</td>\n",
       "      <td>780</td>\n",
       "    </tr>\n",
       "    <tr>\n",
       "      <th>1</th>\n",
       "      <td>Trident Bandra Kurla</td>\n",
       "      <td>4.6</td>\n",
       "      <td>Excellent</td>\n",
       "      <td>4987</td>\n",
       "      <td>5.0</td>\n",
       "      <td>Bandra Kurla Complex</td>\n",
       "      <td>T1 - Chhatrapati Shivaji International Airport</td>\n",
       "      <td>7.8 km</td>\n",
       "      <td>8,750</td>\n",
       "      <td>NaN</td>\n",
       "    </tr>\n",
       "    <tr>\n",
       "      <th>2</th>\n",
       "      <td>ITC Grand Central - A Luxury Collection Hotel</td>\n",
       "      <td>4.5</td>\n",
       "      <td>Excellent</td>\n",
       "      <td>2445</td>\n",
       "      <td>5.0</td>\n",
       "      <td>South Mumbai</td>\n",
       "      <td>Cooper hospital</td>\n",
       "      <td>620 m</td>\n",
       "      <td>14,000</td>\n",
       "      <td>NaN</td>\n",
       "    </tr>\n",
       "    <tr>\n",
       "      <th>3</th>\n",
       "      <td>IRA By Orchid Mumbai ( VITS Mumbai)</td>\n",
       "      <td>3.9</td>\n",
       "      <td>Very Good</td>\n",
       "      <td>4707</td>\n",
       "      <td>4.0</td>\n",
       "      <td>Near Mumbai Airport</td>\n",
       "      <td>T2 - Chhatrapati Shivaji International Airport</td>\n",
       "      <td>2.3 km</td>\n",
       "      <td>5,099</td>\n",
       "      <td>612</td>\n",
       "    </tr>\n",
       "    <tr>\n",
       "      <th>4</th>\n",
       "      <td>Trident Nariman Point</td>\n",
       "      <td>4.6</td>\n",
       "      <td>Excellent</td>\n",
       "      <td>5563</td>\n",
       "      <td>5.0</td>\n",
       "      <td>Marine Drive</td>\n",
       "      <td>Queen's Necklace - Marine Drive</td>\n",
       "      <td>470 m</td>\n",
       "      <td>11,250</td>\n",
       "      <td>NaN</td>\n",
       "    </tr>\n",
       "    <tr>\n",
       "      <th>...</th>\n",
       "      <td>...</td>\n",
       "      <td>...</td>\n",
       "      <td>...</td>\n",
       "      <td>...</td>\n",
       "      <td>...</td>\n",
       "      <td>...</td>\n",
       "      <td>...</td>\n",
       "      <td>...</td>\n",
       "      <td>...</td>\n",
       "      <td>...</td>\n",
       "    </tr>\n",
       "    <tr>\n",
       "      <th>96</th>\n",
       "      <td>Blossom Dormitory ( For Male and Female)</td>\n",
       "      <td>3.6</td>\n",
       "      <td>Very Good</td>\n",
       "      <td>214</td>\n",
       "      <td>NaN</td>\n",
       "      <td>Sakinaka</td>\n",
       "      <td>T2 - Chhatrapati Shivaji International Airport</td>\n",
       "      <td>3.4 km</td>\n",
       "      <td>678</td>\n",
       "      <td>189</td>\n",
       "    </tr>\n",
       "    <tr>\n",
       "      <th>97</th>\n",
       "      <td>Comfort Inn Heritage</td>\n",
       "      <td>3.9</td>\n",
       "      <td>Very Good</td>\n",
       "      <td>963</td>\n",
       "      <td>4.0</td>\n",
       "      <td>South Mumbai</td>\n",
       "      <td>NaN</td>\n",
       "      <td>NaN</td>\n",
       "      <td>4,743</td>\n",
       "      <td>1,122</td>\n",
       "    </tr>\n",
       "    <tr>\n",
       "      <th>98</th>\n",
       "      <td>Hotel Planet Residency</td>\n",
       "      <td>3.8</td>\n",
       "      <td>Very Good</td>\n",
       "      <td>1064</td>\n",
       "      <td>3.0</td>\n",
       "      <td>Near Mumbai Airport</td>\n",
       "      <td>T1 - Chhatrapati Shivaji International Airport</td>\n",
       "      <td>2.2 km</td>\n",
       "      <td>3,726</td>\n",
       "      <td>1,028</td>\n",
       "    </tr>\n",
       "    <tr>\n",
       "      <th>99</th>\n",
       "      <td>Hotel Kohinoor Elite</td>\n",
       "      <td>4.1</td>\n",
       "      <td>Very Good</td>\n",
       "      <td>2183</td>\n",
       "      <td>4.0</td>\n",
       "      <td>Near Mumbai Airport</td>\n",
       "      <td>T2 - Chhatrapati Shivaji International Airport</td>\n",
       "      <td>6.1 km</td>\n",
       "      <td>7,250</td>\n",
       "      <td>NaN</td>\n",
       "    </tr>\n",
       "    <tr>\n",
       "      <th>100</th>\n",
       "      <td>Residency Hotel Andheri</td>\n",
       "      <td>4.0</td>\n",
       "      <td>Very Good</td>\n",
       "      <td>1866</td>\n",
       "      <td>4.0</td>\n",
       "      <td>Andheri East</td>\n",
       "      <td>T1 - Chhatrapati Shivaji International Airport</td>\n",
       "      <td>3.2 km</td>\n",
       "      <td>4,883</td>\n",
       "      <td>1,155</td>\n",
       "    </tr>\n",
       "  </tbody>\n",
       "</table>\n",
       "<p>101 rows × 10 columns</p>\n",
       "</div>"
      ],
      "text/plain": [
       "                                        Hotel Name  Rating Rating Description  \\\n",
       "0               The Orchid Hotel Mumbai Vile Parle     4.0          Very Good   \n",
       "1                             Trident Bandra Kurla     4.6          Excellent   \n",
       "2    ITC Grand Central - A Luxury Collection Hotel     4.5          Excellent   \n",
       "3              IRA By Orchid Mumbai ( VITS Mumbai)     3.9          Very Good   \n",
       "4                            Trident Nariman Point     4.6          Excellent   \n",
       "..                                             ...     ...                ...   \n",
       "96        Blossom Dormitory ( For Male and Female)     3.6          Very Good   \n",
       "97                            Comfort Inn Heritage     3.9          Very Good   \n",
       "98                          Hotel Planet Residency     3.8          Very Good   \n",
       "99                            Hotel Kohinoor Elite     4.1          Very Good   \n",
       "100                        Residency Hotel Andheri     4.0          Very Good   \n",
       "\n",
       "     Reviews  Star Rating               Location  \\\n",
       "0       5593          5.0   Near Mumbai Airport    \n",
       "1       4987          5.0  Bandra Kurla Complex    \n",
       "2       2445          5.0          South Mumbai    \n",
       "3       4707          4.0   Near Mumbai Airport    \n",
       "4       5563          5.0          Marine Drive    \n",
       "..       ...          ...                    ...   \n",
       "96       214          NaN              Sakinaka    \n",
       "97       963          4.0           South Mumbai   \n",
       "98      1064          3.0   Near Mumbai Airport    \n",
       "99      2183          4.0   Near Mumbai Airport    \n",
       "100     1866          4.0          Andheri East    \n",
       "\n",
       "                                   Nearest Landmark Distance to Landmark  \\\n",
       "0    T1 - Chhatrapati Shivaji International Airport               930 m    \n",
       "1    T1 - Chhatrapati Shivaji International Airport              7.8 km    \n",
       "2                                   Cooper hospital               620 m    \n",
       "3    T2 - Chhatrapati Shivaji International Airport              2.3 km    \n",
       "4                   Queen's Necklace - Marine Drive               470 m    \n",
       "..                                              ...                  ...   \n",
       "96   T2 - Chhatrapati Shivaji International Airport              3.4 km    \n",
       "97                                              NaN                  NaN   \n",
       "98   T1 - Chhatrapati Shivaji International Airport              2.2 km    \n",
       "99   T2 - Chhatrapati Shivaji International Airport              6.1 km    \n",
       "100  T1 - Chhatrapati Shivaji International Airport              3.2 km    \n",
       "\n",
       "      Price    Tax  \n",
       "0     6,499    780  \n",
       "1     8,750    NaN  \n",
       "2    14,000    NaN  \n",
       "3     5,099    612  \n",
       "4    11,250    NaN  \n",
       "..      ...    ...  \n",
       "96      678    189  \n",
       "97    4,743  1,122  \n",
       "98    3,726  1,028  \n",
       "99    7,250    NaN  \n",
       "100   4,883  1,155  \n",
       "\n",
       "[101 rows x 10 columns]"
      ]
     },
     "execution_count": 2,
     "metadata": {},
     "output_type": "execute_result"
    }
   ],
   "source": [
    "data_1 = pd.read_csv(\"/Users/patel/Downloads/mumbai.csv\")\n",
    "data_1"
   ]
  },
  {
   "cell_type": "code",
   "execution_count": 3,
   "metadata": {
    "colab": {
     "base_uri": "https://localhost:8080/",
     "height": 429
    },
    "executionInfo": {
     "elapsed": 120,
     "status": "ok",
     "timestamp": 1692722767987,
     "user": {
      "displayName": "yash vaddoriya",
      "userId": "15193926449796532411"
     },
     "user_tz": -330
    },
    "id": "sNPofcFPCzZ0",
    "outputId": "90321a5e-35c4-4872-934c-787e198f186b"
   },
   "outputs": [
    {
     "data": {
      "text/html": [
       "<div>\n",
       "<style scoped>\n",
       "    .dataframe tbody tr th:only-of-type {\n",
       "        vertical-align: middle;\n",
       "    }\n",
       "\n",
       "    .dataframe tbody tr th {\n",
       "        vertical-align: top;\n",
       "    }\n",
       "\n",
       "    .dataframe thead th {\n",
       "        text-align: right;\n",
       "    }\n",
       "</style>\n",
       "<table border=\"1\" class=\"dataframe\">\n",
       "  <thead>\n",
       "    <tr style=\"text-align: right;\">\n",
       "      <th></th>\n",
       "      <th>Hotel Name</th>\n",
       "      <th>Rating</th>\n",
       "      <th>Rating Description</th>\n",
       "      <th>Reviews</th>\n",
       "      <th>Star Rating</th>\n",
       "      <th>Location</th>\n",
       "      <th>Nearest Landmark</th>\n",
       "      <th>Distance to Landmark</th>\n",
       "      <th>Price</th>\n",
       "      <th>Tax</th>\n",
       "    </tr>\n",
       "  </thead>\n",
       "  <tbody>\n",
       "    <tr>\n",
       "      <th>count</th>\n",
       "      <td>101</td>\n",
       "      <td>101.00000</td>\n",
       "      <td>101</td>\n",
       "      <td>101.000000</td>\n",
       "      <td>86.000000</td>\n",
       "      <td>101</td>\n",
       "      <td>93</td>\n",
       "      <td>93</td>\n",
       "      <td>101</td>\n",
       "      <td>66</td>\n",
       "    </tr>\n",
       "    <tr>\n",
       "      <th>unique</th>\n",
       "      <td>101</td>\n",
       "      <td>NaN</td>\n",
       "      <td>3</td>\n",
       "      <td>NaN</td>\n",
       "      <td>NaN</td>\n",
       "      <td>23</td>\n",
       "      <td>9</td>\n",
       "      <td>64</td>\n",
       "      <td>95</td>\n",
       "      <td>65</td>\n",
       "    </tr>\n",
       "    <tr>\n",
       "      <th>top</th>\n",
       "      <td>The Orchid Hotel Mumbai Vile Parle</td>\n",
       "      <td>NaN</td>\n",
       "      <td>Very Good</td>\n",
       "      <td>NaN</td>\n",
       "      <td>NaN</td>\n",
       "      <td>Near Mumbai Airport</td>\n",
       "      <td>T2 - Chhatrapati Shivaji International Airport</td>\n",
       "      <td>2.3 km</td>\n",
       "      <td>9,000</td>\n",
       "      <td>495</td>\n",
       "    </tr>\n",
       "    <tr>\n",
       "      <th>freq</th>\n",
       "      <td>1</td>\n",
       "      <td>NaN</td>\n",
       "      <td>64</td>\n",
       "      <td>NaN</td>\n",
       "      <td>NaN</td>\n",
       "      <td>36</td>\n",
       "      <td>43</td>\n",
       "      <td>4</td>\n",
       "      <td>4</td>\n",
       "      <td>2</td>\n",
       "    </tr>\n",
       "    <tr>\n",
       "      <th>mean</th>\n",
       "      <td>NaN</td>\n",
       "      <td>4.00198</td>\n",
       "      <td>NaN</td>\n",
       "      <td>1854.603960</td>\n",
       "      <td>4.069767</td>\n",
       "      <td>NaN</td>\n",
       "      <td>NaN</td>\n",
       "      <td>NaN</td>\n",
       "      <td>NaN</td>\n",
       "      <td>NaN</td>\n",
       "    </tr>\n",
       "    <tr>\n",
       "      <th>std</th>\n",
       "      <td>NaN</td>\n",
       "      <td>0.38961</td>\n",
       "      <td>NaN</td>\n",
       "      <td>1654.309869</td>\n",
       "      <td>0.878377</td>\n",
       "      <td>NaN</td>\n",
       "      <td>NaN</td>\n",
       "      <td>NaN</td>\n",
       "      <td>NaN</td>\n",
       "      <td>NaN</td>\n",
       "    </tr>\n",
       "    <tr>\n",
       "      <th>min</th>\n",
       "      <td>NaN</td>\n",
       "      <td>3.10000</td>\n",
       "      <td>NaN</td>\n",
       "      <td>4.000000</td>\n",
       "      <td>3.000000</td>\n",
       "      <td>NaN</td>\n",
       "      <td>NaN</td>\n",
       "      <td>NaN</td>\n",
       "      <td>NaN</td>\n",
       "      <td>NaN</td>\n",
       "    </tr>\n",
       "    <tr>\n",
       "      <th>25%</th>\n",
       "      <td>NaN</td>\n",
       "      <td>3.70000</td>\n",
       "      <td>NaN</td>\n",
       "      <td>738.000000</td>\n",
       "      <td>3.000000</td>\n",
       "      <td>NaN</td>\n",
       "      <td>NaN</td>\n",
       "      <td>NaN</td>\n",
       "      <td>NaN</td>\n",
       "      <td>NaN</td>\n",
       "    </tr>\n",
       "    <tr>\n",
       "      <th>50%</th>\n",
       "      <td>NaN</td>\n",
       "      <td>4.00000</td>\n",
       "      <td>NaN</td>\n",
       "      <td>1401.000000</td>\n",
       "      <td>4.000000</td>\n",
       "      <td>NaN</td>\n",
       "      <td>NaN</td>\n",
       "      <td>NaN</td>\n",
       "      <td>NaN</td>\n",
       "      <td>NaN</td>\n",
       "    </tr>\n",
       "    <tr>\n",
       "      <th>75%</th>\n",
       "      <td>NaN</td>\n",
       "      <td>4.30000</td>\n",
       "      <td>NaN</td>\n",
       "      <td>2306.000000</td>\n",
       "      <td>5.000000</td>\n",
       "      <td>NaN</td>\n",
       "      <td>NaN</td>\n",
       "      <td>NaN</td>\n",
       "      <td>NaN</td>\n",
       "      <td>NaN</td>\n",
       "    </tr>\n",
       "    <tr>\n",
       "      <th>max</th>\n",
       "      <td>NaN</td>\n",
       "      <td>4.80000</td>\n",
       "      <td>NaN</td>\n",
       "      <td>7303.000000</td>\n",
       "      <td>5.000000</td>\n",
       "      <td>NaN</td>\n",
       "      <td>NaN</td>\n",
       "      <td>NaN</td>\n",
       "      <td>NaN</td>\n",
       "      <td>NaN</td>\n",
       "    </tr>\n",
       "  </tbody>\n",
       "</table>\n",
       "</div>"
      ],
      "text/plain": [
       "                                Hotel Name     Rating Rating Description  \\\n",
       "count                                  101  101.00000                101   \n",
       "unique                                 101        NaN                  3   \n",
       "top     The Orchid Hotel Mumbai Vile Parle        NaN          Very Good   \n",
       "freq                                     1        NaN                 64   \n",
       "mean                                   NaN    4.00198                NaN   \n",
       "std                                    NaN    0.38961                NaN   \n",
       "min                                    NaN    3.10000                NaN   \n",
       "25%                                    NaN    3.70000                NaN   \n",
       "50%                                    NaN    4.00000                NaN   \n",
       "75%                                    NaN    4.30000                NaN   \n",
       "max                                    NaN    4.80000                NaN   \n",
       "\n",
       "            Reviews  Star Rating              Location  \\\n",
       "count    101.000000    86.000000                   101   \n",
       "unique          NaN          NaN                    23   \n",
       "top             NaN          NaN  Near Mumbai Airport    \n",
       "freq            NaN          NaN                    36   \n",
       "mean    1854.603960     4.069767                   NaN   \n",
       "std     1654.309869     0.878377                   NaN   \n",
       "min        4.000000     3.000000                   NaN   \n",
       "25%      738.000000     3.000000                   NaN   \n",
       "50%     1401.000000     4.000000                   NaN   \n",
       "75%     2306.000000     5.000000                   NaN   \n",
       "max     7303.000000     5.000000                   NaN   \n",
       "\n",
       "                                      Nearest Landmark Distance to Landmark  \\\n",
       "count                                               93                   93   \n",
       "unique                                               9                   64   \n",
       "top     T2 - Chhatrapati Shivaji International Airport              2.3 km    \n",
       "freq                                                43                    4   \n",
       "mean                                               NaN                  NaN   \n",
       "std                                                NaN                  NaN   \n",
       "min                                                NaN                  NaN   \n",
       "25%                                                NaN                  NaN   \n",
       "50%                                                NaN                  NaN   \n",
       "75%                                                NaN                  NaN   \n",
       "max                                                NaN                  NaN   \n",
       "\n",
       "        Price  Tax  \n",
       "count     101   66  \n",
       "unique     95   65  \n",
       "top     9,000  495  \n",
       "freq        4    2  \n",
       "mean      NaN  NaN  \n",
       "std       NaN  NaN  \n",
       "min       NaN  NaN  \n",
       "25%       NaN  NaN  \n",
       "50%       NaN  NaN  \n",
       "75%       NaN  NaN  \n",
       "max       NaN  NaN  "
      ]
     },
     "execution_count": 3,
     "metadata": {},
     "output_type": "execute_result"
    }
   ],
   "source": [
    "data_1.describe(include='all')"
   ]
  },
  {
   "cell_type": "code",
   "execution_count": 4,
   "metadata": {
    "colab": {
     "base_uri": "https://localhost:8080/"
    },
    "executionInfo": {
     "elapsed": 117,
     "status": "ok",
     "timestamp": 1692722767987,
     "user": {
      "displayName": "yash vaddoriya",
      "userId": "15193926449796532411"
     },
     "user_tz": -330
    },
    "id": "txPyNSYwETHL",
    "outputId": "56928d47-5137-4d0f-b748-286edc28bb0b"
   },
   "outputs": [
    {
     "data": {
      "text/plain": [
       "Hotel Name               0\n",
       "Rating                   0\n",
       "Rating Description       0\n",
       "Reviews                  0\n",
       "Star Rating             15\n",
       "Location                 0\n",
       "Nearest Landmark         8\n",
       "Distance to Landmark     8\n",
       "Price                    0\n",
       "Tax                     35\n",
       "dtype: int64"
      ]
     },
     "execution_count": 4,
     "metadata": {},
     "output_type": "execute_result"
    }
   ],
   "source": [
    "data_1.isnull().sum()"
   ]
  },
  {
   "cell_type": "code",
   "execution_count": 5,
   "metadata": {
    "executionInfo": {
     "elapsed": 112,
     "status": "ok",
     "timestamp": 1692722767988,
     "user": {
      "displayName": "yash vaddoriya",
      "userId": "15193926449796532411"
     },
     "user_tz": -330
    },
    "id": "IuWv7psRC_wJ"
   },
   "outputs": [],
   "source": [
    "data_2 = data_1.copy()"
   ]
  },
  {
   "cell_type": "code",
   "execution_count": 9,
   "metadata": {},
   "outputs": [
    {
     "data": {
      "text/html": [
       "<div>\n",
       "<style scoped>\n",
       "    .dataframe tbody tr th:only-of-type {\n",
       "        vertical-align: middle;\n",
       "    }\n",
       "\n",
       "    .dataframe tbody tr th {\n",
       "        vertical-align: top;\n",
       "    }\n",
       "\n",
       "    .dataframe thead th {\n",
       "        text-align: right;\n",
       "    }\n",
       "</style>\n",
       "<table border=\"1\" class=\"dataframe\">\n",
       "  <thead>\n",
       "    <tr style=\"text-align: right;\">\n",
       "      <th></th>\n",
       "      <th>Good</th>\n",
       "      <th>Very Good</th>\n",
       "    </tr>\n",
       "  </thead>\n",
       "  <tbody>\n",
       "    <tr>\n",
       "      <th>0</th>\n",
       "      <td>0</td>\n",
       "      <td>1</td>\n",
       "    </tr>\n",
       "    <tr>\n",
       "      <th>1</th>\n",
       "      <td>0</td>\n",
       "      <td>0</td>\n",
       "    </tr>\n",
       "    <tr>\n",
       "      <th>2</th>\n",
       "      <td>0</td>\n",
       "      <td>0</td>\n",
       "    </tr>\n",
       "    <tr>\n",
       "      <th>3</th>\n",
       "      <td>0</td>\n",
       "      <td>1</td>\n",
       "    </tr>\n",
       "    <tr>\n",
       "      <th>4</th>\n",
       "      <td>0</td>\n",
       "      <td>0</td>\n",
       "    </tr>\n",
       "    <tr>\n",
       "      <th>...</th>\n",
       "      <td>...</td>\n",
       "      <td>...</td>\n",
       "    </tr>\n",
       "    <tr>\n",
       "      <th>96</th>\n",
       "      <td>0</td>\n",
       "      <td>1</td>\n",
       "    </tr>\n",
       "    <tr>\n",
       "      <th>97</th>\n",
       "      <td>0</td>\n",
       "      <td>1</td>\n",
       "    </tr>\n",
       "    <tr>\n",
       "      <th>98</th>\n",
       "      <td>0</td>\n",
       "      <td>1</td>\n",
       "    </tr>\n",
       "    <tr>\n",
       "      <th>99</th>\n",
       "      <td>0</td>\n",
       "      <td>1</td>\n",
       "    </tr>\n",
       "    <tr>\n",
       "      <th>100</th>\n",
       "      <td>0</td>\n",
       "      <td>1</td>\n",
       "    </tr>\n",
       "  </tbody>\n",
       "</table>\n",
       "<p>101 rows × 2 columns</p>\n",
       "</div>"
      ],
      "text/plain": [
       "     Good  Very Good\n",
       "0       0          1\n",
       "1       0          0\n",
       "2       0          0\n",
       "3       0          1\n",
       "4       0          0\n",
       "..    ...        ...\n",
       "96      0          1\n",
       "97      0          1\n",
       "98      0          1\n",
       "99      0          1\n",
       "100     0          1\n",
       "\n",
       "[101 rows x 2 columns]"
      ]
     },
     "execution_count": 9,
     "metadata": {},
     "output_type": "execute_result"
    }
   ],
   "source": [
    "Rating_Description_dummies = pd.get_dummies(data_2['Rating Description'],drop_first=True)\n",
    "Rating_Description_dummies"
   ]
  },
  {
   "cell_type": "code",
   "execution_count": 11,
   "metadata": {},
   "outputs": [],
   "source": [
    "data_2 = pd.concat([data_2,Rating_Description_dummies],axis=1)"
   ]
  },
  {
   "cell_type": "code",
   "execution_count": 13,
   "metadata": {},
   "outputs": [
    {
     "data": {
      "text/html": [
       "<div>\n",
       "<style scoped>\n",
       "    .dataframe tbody tr th:only-of-type {\n",
       "        vertical-align: middle;\n",
       "    }\n",
       "\n",
       "    .dataframe tbody tr th {\n",
       "        vertical-align: top;\n",
       "    }\n",
       "\n",
       "    .dataframe thead th {\n",
       "        text-align: right;\n",
       "    }\n",
       "</style>\n",
       "<table border=\"1\" class=\"dataframe\">\n",
       "  <thead>\n",
       "    <tr style=\"text-align: right;\">\n",
       "      <th></th>\n",
       "      <th>Hotel Name</th>\n",
       "      <th>Rating</th>\n",
       "      <th>Reviews</th>\n",
       "      <th>Star Rating</th>\n",
       "      <th>Location</th>\n",
       "      <th>Nearest Landmark</th>\n",
       "      <th>Distance to Landmark</th>\n",
       "      <th>Price</th>\n",
       "      <th>Tax</th>\n",
       "      <th>Good</th>\n",
       "      <th>Very Good</th>\n",
       "    </tr>\n",
       "  </thead>\n",
       "  <tbody>\n",
       "    <tr>\n",
       "      <th>0</th>\n",
       "      <td>The Orchid Hotel Mumbai Vile Parle</td>\n",
       "      <td>4.0</td>\n",
       "      <td>5593</td>\n",
       "      <td>5.0</td>\n",
       "      <td>Near Mumbai Airport</td>\n",
       "      <td>T1 - Chhatrapati Shivaji International Airport</td>\n",
       "      <td>930 m</td>\n",
       "      <td>6,499</td>\n",
       "      <td>780</td>\n",
       "      <td>0</td>\n",
       "      <td>1</td>\n",
       "    </tr>\n",
       "    <tr>\n",
       "      <th>1</th>\n",
       "      <td>Trident Bandra Kurla</td>\n",
       "      <td>4.6</td>\n",
       "      <td>4987</td>\n",
       "      <td>5.0</td>\n",
       "      <td>Bandra Kurla Complex</td>\n",
       "      <td>T1 - Chhatrapati Shivaji International Airport</td>\n",
       "      <td>7.8 km</td>\n",
       "      <td>8,750</td>\n",
       "      <td>NaN</td>\n",
       "      <td>0</td>\n",
       "      <td>0</td>\n",
       "    </tr>\n",
       "    <tr>\n",
       "      <th>2</th>\n",
       "      <td>ITC Grand Central - A Luxury Collection Hotel</td>\n",
       "      <td>4.5</td>\n",
       "      <td>2445</td>\n",
       "      <td>5.0</td>\n",
       "      <td>South Mumbai</td>\n",
       "      <td>Cooper hospital</td>\n",
       "      <td>620 m</td>\n",
       "      <td>14,000</td>\n",
       "      <td>NaN</td>\n",
       "      <td>0</td>\n",
       "      <td>0</td>\n",
       "    </tr>\n",
       "    <tr>\n",
       "      <th>3</th>\n",
       "      <td>IRA By Orchid Mumbai ( VITS Mumbai)</td>\n",
       "      <td>3.9</td>\n",
       "      <td>4707</td>\n",
       "      <td>4.0</td>\n",
       "      <td>Near Mumbai Airport</td>\n",
       "      <td>T2 - Chhatrapati Shivaji International Airport</td>\n",
       "      <td>2.3 km</td>\n",
       "      <td>5,099</td>\n",
       "      <td>612</td>\n",
       "      <td>0</td>\n",
       "      <td>1</td>\n",
       "    </tr>\n",
       "    <tr>\n",
       "      <th>4</th>\n",
       "      <td>Trident Nariman Point</td>\n",
       "      <td>4.6</td>\n",
       "      <td>5563</td>\n",
       "      <td>5.0</td>\n",
       "      <td>Marine Drive</td>\n",
       "      <td>Queen's Necklace - Marine Drive</td>\n",
       "      <td>470 m</td>\n",
       "      <td>11,250</td>\n",
       "      <td>NaN</td>\n",
       "      <td>0</td>\n",
       "      <td>0</td>\n",
       "    </tr>\n",
       "    <tr>\n",
       "      <th>...</th>\n",
       "      <td>...</td>\n",
       "      <td>...</td>\n",
       "      <td>...</td>\n",
       "      <td>...</td>\n",
       "      <td>...</td>\n",
       "      <td>...</td>\n",
       "      <td>...</td>\n",
       "      <td>...</td>\n",
       "      <td>...</td>\n",
       "      <td>...</td>\n",
       "      <td>...</td>\n",
       "    </tr>\n",
       "    <tr>\n",
       "      <th>96</th>\n",
       "      <td>Blossom Dormitory ( For Male and Female)</td>\n",
       "      <td>3.6</td>\n",
       "      <td>214</td>\n",
       "      <td>NaN</td>\n",
       "      <td>Sakinaka</td>\n",
       "      <td>T2 - Chhatrapati Shivaji International Airport</td>\n",
       "      <td>3.4 km</td>\n",
       "      <td>678</td>\n",
       "      <td>189</td>\n",
       "      <td>0</td>\n",
       "      <td>1</td>\n",
       "    </tr>\n",
       "    <tr>\n",
       "      <th>97</th>\n",
       "      <td>Comfort Inn Heritage</td>\n",
       "      <td>3.9</td>\n",
       "      <td>963</td>\n",
       "      <td>4.0</td>\n",
       "      <td>South Mumbai</td>\n",
       "      <td>NaN</td>\n",
       "      <td>NaN</td>\n",
       "      <td>4,743</td>\n",
       "      <td>1,122</td>\n",
       "      <td>0</td>\n",
       "      <td>1</td>\n",
       "    </tr>\n",
       "    <tr>\n",
       "      <th>98</th>\n",
       "      <td>Hotel Planet Residency</td>\n",
       "      <td>3.8</td>\n",
       "      <td>1064</td>\n",
       "      <td>3.0</td>\n",
       "      <td>Near Mumbai Airport</td>\n",
       "      <td>T1 - Chhatrapati Shivaji International Airport</td>\n",
       "      <td>2.2 km</td>\n",
       "      <td>3,726</td>\n",
       "      <td>1,028</td>\n",
       "      <td>0</td>\n",
       "      <td>1</td>\n",
       "    </tr>\n",
       "    <tr>\n",
       "      <th>99</th>\n",
       "      <td>Hotel Kohinoor Elite</td>\n",
       "      <td>4.1</td>\n",
       "      <td>2183</td>\n",
       "      <td>4.0</td>\n",
       "      <td>Near Mumbai Airport</td>\n",
       "      <td>T2 - Chhatrapati Shivaji International Airport</td>\n",
       "      <td>6.1 km</td>\n",
       "      <td>7,250</td>\n",
       "      <td>NaN</td>\n",
       "      <td>0</td>\n",
       "      <td>1</td>\n",
       "    </tr>\n",
       "    <tr>\n",
       "      <th>100</th>\n",
       "      <td>Residency Hotel Andheri</td>\n",
       "      <td>4.0</td>\n",
       "      <td>1866</td>\n",
       "      <td>4.0</td>\n",
       "      <td>Andheri East</td>\n",
       "      <td>T1 - Chhatrapati Shivaji International Airport</td>\n",
       "      <td>3.2 km</td>\n",
       "      <td>4,883</td>\n",
       "      <td>1,155</td>\n",
       "      <td>0</td>\n",
       "      <td>1</td>\n",
       "    </tr>\n",
       "  </tbody>\n",
       "</table>\n",
       "<p>101 rows × 11 columns</p>\n",
       "</div>"
      ],
      "text/plain": [
       "                                        Hotel Name  Rating  Reviews  \\\n",
       "0               The Orchid Hotel Mumbai Vile Parle     4.0     5593   \n",
       "1                             Trident Bandra Kurla     4.6     4987   \n",
       "2    ITC Grand Central - A Luxury Collection Hotel     4.5     2445   \n",
       "3              IRA By Orchid Mumbai ( VITS Mumbai)     3.9     4707   \n",
       "4                            Trident Nariman Point     4.6     5563   \n",
       "..                                             ...     ...      ...   \n",
       "96        Blossom Dormitory ( For Male and Female)     3.6      214   \n",
       "97                            Comfort Inn Heritage     3.9      963   \n",
       "98                          Hotel Planet Residency     3.8     1064   \n",
       "99                            Hotel Kohinoor Elite     4.1     2183   \n",
       "100                        Residency Hotel Andheri     4.0     1866   \n",
       "\n",
       "     Star Rating               Location  \\\n",
       "0            5.0   Near Mumbai Airport    \n",
       "1            5.0  Bandra Kurla Complex    \n",
       "2            5.0          South Mumbai    \n",
       "3            4.0   Near Mumbai Airport    \n",
       "4            5.0          Marine Drive    \n",
       "..           ...                    ...   \n",
       "96           NaN              Sakinaka    \n",
       "97           4.0           South Mumbai   \n",
       "98           3.0   Near Mumbai Airport    \n",
       "99           4.0   Near Mumbai Airport    \n",
       "100          4.0          Andheri East    \n",
       "\n",
       "                                   Nearest Landmark Distance to Landmark  \\\n",
       "0    T1 - Chhatrapati Shivaji International Airport               930 m    \n",
       "1    T1 - Chhatrapati Shivaji International Airport              7.8 km    \n",
       "2                                   Cooper hospital               620 m    \n",
       "3    T2 - Chhatrapati Shivaji International Airport              2.3 km    \n",
       "4                   Queen's Necklace - Marine Drive               470 m    \n",
       "..                                              ...                  ...   \n",
       "96   T2 - Chhatrapati Shivaji International Airport              3.4 km    \n",
       "97                                              NaN                  NaN   \n",
       "98   T1 - Chhatrapati Shivaji International Airport              2.2 km    \n",
       "99   T2 - Chhatrapati Shivaji International Airport              6.1 km    \n",
       "100  T1 - Chhatrapati Shivaji International Airport              3.2 km    \n",
       "\n",
       "      Price    Tax  Good  Very Good  \n",
       "0     6,499    780     0          1  \n",
       "1     8,750    NaN     0          0  \n",
       "2    14,000    NaN     0          0  \n",
       "3     5,099    612     0          1  \n",
       "4    11,250    NaN     0          0  \n",
       "..      ...    ...   ...        ...  \n",
       "96      678    189     0          1  \n",
       "97    4,743  1,122     0          1  \n",
       "98    3,726  1,028     0          1  \n",
       "99    7,250    NaN     0          1  \n",
       "100   4,883  1,155     0          1  \n",
       "\n",
       "[101 rows x 11 columns]"
      ]
     },
     "execution_count": 13,
     "metadata": {},
     "output_type": "execute_result"
    }
   ],
   "source": [
    "data_2 = data_2.drop('Rating Description',axis=1)\n",
    "data_2"
   ]
  },
  {
   "cell_type": "code",
   "execution_count": 14,
   "metadata": {
    "colab": {
     "base_uri": "https://localhost:8080/"
    },
    "executionInfo": {
     "elapsed": 111,
     "status": "ok",
     "timestamp": 1692722767989,
     "user": {
      "displayName": "yash vaddoriya",
      "userId": "15193926449796532411"
     },
     "user_tz": -330
    },
    "id": "t_viSLSODsCn",
    "outputId": "6ebae191-3b53-4279-f158-9e905dfc1ae0"
   },
   "outputs": [
    {
     "data": {
      "text/plain": [
       "Near Mumbai Airport      36\n",
       "Andheri East             12\n",
       "South Mumbai              7\n",
       "Powai                     6\n",
       "Juhu                      6\n",
       "Goregaon                  5\n",
       "Bandra Kurla Complex      4\n",
       "South Mumbai              4\n",
       "Churchgate                3\n",
       "Colaba                    2\n",
       "Jogeshwari East           2\n",
       "Bandra West               2\n",
       "Marine Drive              2\n",
       "In Mumbai Airport         1\n",
       "Khar West                 1\n",
       "Chembur                   1\n",
       "Vikhroli West             1\n",
       "Ghatkopar West            1\n",
       "Borivali West             1\n",
       "Andheri West              1\n",
       "Asalpha                   1\n",
       "Madh                      1\n",
       "Sakinaka                  1\n",
       "Name: Location, dtype: int64"
      ]
     },
     "execution_count": 14,
     "metadata": {},
     "output_type": "execute_result"
    }
   ],
   "source": [
    "location = data_2['Location'].value_counts()\n",
    "location"
   ]
  },
  {
   "cell_type": "code",
   "execution_count": 15,
   "metadata": {
    "colab": {
     "base_uri": "https://localhost:8080/"
    },
    "executionInfo": {
     "elapsed": 105,
     "status": "ok",
     "timestamp": 1692722767989,
     "user": {
      "displayName": "yash vaddoriya",
      "userId": "15193926449796532411"
     },
     "user_tz": -330
    },
    "id": "0bO71EpQDzng",
    "outputId": "05b57b99-8a8c-4a2d-ae77-45cf8af75ff8"
   },
   "outputs": [
    {
     "data": {
      "text/plain": [
       "{'Near Mumbai Airport ': 0.3564356435643564,\n",
       " 'Andheri East ': 0.1188118811881188,\n",
       " 'South Mumbai ': 0.06930693069306931,\n",
       " 'Powai ': 0.0594059405940594,\n",
       " 'Juhu ': 0.0594059405940594,\n",
       " 'Goregaon ': 0.04950495049504951,\n",
       " 'Bandra Kurla Complex ': 0.039603960396039604,\n",
       " 'South Mumbai': 0.039603960396039604,\n",
       " 'Churchgate ': 0.0297029702970297,\n",
       " 'Colaba ': 0.019801980198019802,\n",
       " 'Jogeshwari East ': 0.019801980198019802,\n",
       " 'Bandra West ': 0.019801980198019802,\n",
       " 'Marine Drive ': 0.019801980198019802,\n",
       " 'In Mumbai Airport ': 0.009900990099009901,\n",
       " 'Khar West ': 0.009900990099009901,\n",
       " 'Chembur': 0.009900990099009901,\n",
       " 'Vikhroli West ': 0.009900990099009901,\n",
       " 'Ghatkopar West ': 0.009900990099009901,\n",
       " 'Borivali West': 0.009900990099009901,\n",
       " 'Andheri West ': 0.009900990099009901,\n",
       " 'Asalpha ': 0.009900990099009901,\n",
       " 'Madh': 0.009900990099009901,\n",
       " 'Sakinaka ': 0.009900990099009901}"
      ]
     },
     "execution_count": 15,
     "metadata": {},
     "output_type": "execute_result"
    }
   ],
   "source": [
    "frequant_map = data_2['Location'].value_counts(normalize = True).to_dict()\n",
    "frequant_map"
   ]
  },
  {
   "cell_type": "code",
   "execution_count": 16,
   "metadata": {
    "executionInfo": {
     "elapsed": 100,
     "status": "ok",
     "timestamp": 1692722767990,
     "user": {
      "displayName": "yash vaddoriya",
      "userId": "15193926449796532411"
     },
     "user_tz": -330
    },
    "id": "v5b6BYWhE_HZ"
   },
   "outputs": [],
   "source": [
    "data_3 = data_2.copy()"
   ]
  },
  {
   "cell_type": "code",
   "execution_count": 17,
   "metadata": {
    "executionInfo": {
     "elapsed": 99,
     "status": "ok",
     "timestamp": 1692722767990,
     "user": {
      "displayName": "yash vaddoriya",
      "userId": "15193926449796532411"
     },
     "user_tz": -330
    },
    "id": "0WVhSLgvExfz"
   },
   "outputs": [],
   "source": [
    "data_3['Location_frequantly_encoded'] = data_3['Location'].map(frequant_map)"
   ]
  },
  {
   "cell_type": "code",
   "execution_count": 18,
   "metadata": {
    "colab": {
     "base_uri": "https://localhost:8080/",
     "height": 597
    },
    "executionInfo": {
     "elapsed": 99,
     "status": "ok",
     "timestamp": 1692722767990,
     "user": {
      "displayName": "yash vaddoriya",
      "userId": "15193926449796532411"
     },
     "user_tz": -330
    },
    "id": "3kCSwjKNFMGh",
    "outputId": "c306cd5e-47a3-4357-dfc8-82c102352bbc"
   },
   "outputs": [
    {
     "data": {
      "text/html": [
       "<div>\n",
       "<style scoped>\n",
       "    .dataframe tbody tr th:only-of-type {\n",
       "        vertical-align: middle;\n",
       "    }\n",
       "\n",
       "    .dataframe tbody tr th {\n",
       "        vertical-align: top;\n",
       "    }\n",
       "\n",
       "    .dataframe thead th {\n",
       "        text-align: right;\n",
       "    }\n",
       "</style>\n",
       "<table border=\"1\" class=\"dataframe\">\n",
       "  <thead>\n",
       "    <tr style=\"text-align: right;\">\n",
       "      <th></th>\n",
       "      <th>Hotel Name</th>\n",
       "      <th>Rating</th>\n",
       "      <th>Reviews</th>\n",
       "      <th>Star Rating</th>\n",
       "      <th>Location</th>\n",
       "      <th>Nearest Landmark</th>\n",
       "      <th>Distance to Landmark</th>\n",
       "      <th>Price</th>\n",
       "      <th>Tax</th>\n",
       "      <th>Good</th>\n",
       "      <th>Very Good</th>\n",
       "      <th>Location_frequantly_encoded</th>\n",
       "    </tr>\n",
       "  </thead>\n",
       "  <tbody>\n",
       "    <tr>\n",
       "      <th>0</th>\n",
       "      <td>The Orchid Hotel Mumbai Vile Parle</td>\n",
       "      <td>4.0</td>\n",
       "      <td>5593</td>\n",
       "      <td>5.0</td>\n",
       "      <td>Near Mumbai Airport</td>\n",
       "      <td>T1 - Chhatrapati Shivaji International Airport</td>\n",
       "      <td>930 m</td>\n",
       "      <td>6,499</td>\n",
       "      <td>780</td>\n",
       "      <td>0</td>\n",
       "      <td>1</td>\n",
       "      <td>0.356436</td>\n",
       "    </tr>\n",
       "    <tr>\n",
       "      <th>1</th>\n",
       "      <td>Trident Bandra Kurla</td>\n",
       "      <td>4.6</td>\n",
       "      <td>4987</td>\n",
       "      <td>5.0</td>\n",
       "      <td>Bandra Kurla Complex</td>\n",
       "      <td>T1 - Chhatrapati Shivaji International Airport</td>\n",
       "      <td>7.8 km</td>\n",
       "      <td>8,750</td>\n",
       "      <td>NaN</td>\n",
       "      <td>0</td>\n",
       "      <td>0</td>\n",
       "      <td>0.039604</td>\n",
       "    </tr>\n",
       "    <tr>\n",
       "      <th>2</th>\n",
       "      <td>ITC Grand Central - A Luxury Collection Hotel</td>\n",
       "      <td>4.5</td>\n",
       "      <td>2445</td>\n",
       "      <td>5.0</td>\n",
       "      <td>South Mumbai</td>\n",
       "      <td>Cooper hospital</td>\n",
       "      <td>620 m</td>\n",
       "      <td>14,000</td>\n",
       "      <td>NaN</td>\n",
       "      <td>0</td>\n",
       "      <td>0</td>\n",
       "      <td>0.069307</td>\n",
       "    </tr>\n",
       "    <tr>\n",
       "      <th>3</th>\n",
       "      <td>IRA By Orchid Mumbai ( VITS Mumbai)</td>\n",
       "      <td>3.9</td>\n",
       "      <td>4707</td>\n",
       "      <td>4.0</td>\n",
       "      <td>Near Mumbai Airport</td>\n",
       "      <td>T2 - Chhatrapati Shivaji International Airport</td>\n",
       "      <td>2.3 km</td>\n",
       "      <td>5,099</td>\n",
       "      <td>612</td>\n",
       "      <td>0</td>\n",
       "      <td>1</td>\n",
       "      <td>0.356436</td>\n",
       "    </tr>\n",
       "    <tr>\n",
       "      <th>4</th>\n",
       "      <td>Trident Nariman Point</td>\n",
       "      <td>4.6</td>\n",
       "      <td>5563</td>\n",
       "      <td>5.0</td>\n",
       "      <td>Marine Drive</td>\n",
       "      <td>Queen's Necklace - Marine Drive</td>\n",
       "      <td>470 m</td>\n",
       "      <td>11,250</td>\n",
       "      <td>NaN</td>\n",
       "      <td>0</td>\n",
       "      <td>0</td>\n",
       "      <td>0.019802</td>\n",
       "    </tr>\n",
       "    <tr>\n",
       "      <th>...</th>\n",
       "      <td>...</td>\n",
       "      <td>...</td>\n",
       "      <td>...</td>\n",
       "      <td>...</td>\n",
       "      <td>...</td>\n",
       "      <td>...</td>\n",
       "      <td>...</td>\n",
       "      <td>...</td>\n",
       "      <td>...</td>\n",
       "      <td>...</td>\n",
       "      <td>...</td>\n",
       "      <td>...</td>\n",
       "    </tr>\n",
       "    <tr>\n",
       "      <th>96</th>\n",
       "      <td>Blossom Dormitory ( For Male and Female)</td>\n",
       "      <td>3.6</td>\n",
       "      <td>214</td>\n",
       "      <td>NaN</td>\n",
       "      <td>Sakinaka</td>\n",
       "      <td>T2 - Chhatrapati Shivaji International Airport</td>\n",
       "      <td>3.4 km</td>\n",
       "      <td>678</td>\n",
       "      <td>189</td>\n",
       "      <td>0</td>\n",
       "      <td>1</td>\n",
       "      <td>0.009901</td>\n",
       "    </tr>\n",
       "    <tr>\n",
       "      <th>97</th>\n",
       "      <td>Comfort Inn Heritage</td>\n",
       "      <td>3.9</td>\n",
       "      <td>963</td>\n",
       "      <td>4.0</td>\n",
       "      <td>South Mumbai</td>\n",
       "      <td>NaN</td>\n",
       "      <td>NaN</td>\n",
       "      <td>4,743</td>\n",
       "      <td>1,122</td>\n",
       "      <td>0</td>\n",
       "      <td>1</td>\n",
       "      <td>0.039604</td>\n",
       "    </tr>\n",
       "    <tr>\n",
       "      <th>98</th>\n",
       "      <td>Hotel Planet Residency</td>\n",
       "      <td>3.8</td>\n",
       "      <td>1064</td>\n",
       "      <td>3.0</td>\n",
       "      <td>Near Mumbai Airport</td>\n",
       "      <td>T1 - Chhatrapati Shivaji International Airport</td>\n",
       "      <td>2.2 km</td>\n",
       "      <td>3,726</td>\n",
       "      <td>1,028</td>\n",
       "      <td>0</td>\n",
       "      <td>1</td>\n",
       "      <td>0.356436</td>\n",
       "    </tr>\n",
       "    <tr>\n",
       "      <th>99</th>\n",
       "      <td>Hotel Kohinoor Elite</td>\n",
       "      <td>4.1</td>\n",
       "      <td>2183</td>\n",
       "      <td>4.0</td>\n",
       "      <td>Near Mumbai Airport</td>\n",
       "      <td>T2 - Chhatrapati Shivaji International Airport</td>\n",
       "      <td>6.1 km</td>\n",
       "      <td>7,250</td>\n",
       "      <td>NaN</td>\n",
       "      <td>0</td>\n",
       "      <td>1</td>\n",
       "      <td>0.356436</td>\n",
       "    </tr>\n",
       "    <tr>\n",
       "      <th>100</th>\n",
       "      <td>Residency Hotel Andheri</td>\n",
       "      <td>4.0</td>\n",
       "      <td>1866</td>\n",
       "      <td>4.0</td>\n",
       "      <td>Andheri East</td>\n",
       "      <td>T1 - Chhatrapati Shivaji International Airport</td>\n",
       "      <td>3.2 km</td>\n",
       "      <td>4,883</td>\n",
       "      <td>1,155</td>\n",
       "      <td>0</td>\n",
       "      <td>1</td>\n",
       "      <td>0.118812</td>\n",
       "    </tr>\n",
       "  </tbody>\n",
       "</table>\n",
       "<p>101 rows × 12 columns</p>\n",
       "</div>"
      ],
      "text/plain": [
       "                                        Hotel Name  Rating  Reviews  \\\n",
       "0               The Orchid Hotel Mumbai Vile Parle     4.0     5593   \n",
       "1                             Trident Bandra Kurla     4.6     4987   \n",
       "2    ITC Grand Central - A Luxury Collection Hotel     4.5     2445   \n",
       "3              IRA By Orchid Mumbai ( VITS Mumbai)     3.9     4707   \n",
       "4                            Trident Nariman Point     4.6     5563   \n",
       "..                                             ...     ...      ...   \n",
       "96        Blossom Dormitory ( For Male and Female)     3.6      214   \n",
       "97                            Comfort Inn Heritage     3.9      963   \n",
       "98                          Hotel Planet Residency     3.8     1064   \n",
       "99                            Hotel Kohinoor Elite     4.1     2183   \n",
       "100                        Residency Hotel Andheri     4.0     1866   \n",
       "\n",
       "     Star Rating               Location  \\\n",
       "0            5.0   Near Mumbai Airport    \n",
       "1            5.0  Bandra Kurla Complex    \n",
       "2            5.0          South Mumbai    \n",
       "3            4.0   Near Mumbai Airport    \n",
       "4            5.0          Marine Drive    \n",
       "..           ...                    ...   \n",
       "96           NaN              Sakinaka    \n",
       "97           4.0           South Mumbai   \n",
       "98           3.0   Near Mumbai Airport    \n",
       "99           4.0   Near Mumbai Airport    \n",
       "100          4.0          Andheri East    \n",
       "\n",
       "                                   Nearest Landmark Distance to Landmark  \\\n",
       "0    T1 - Chhatrapati Shivaji International Airport               930 m    \n",
       "1    T1 - Chhatrapati Shivaji International Airport              7.8 km    \n",
       "2                                   Cooper hospital               620 m    \n",
       "3    T2 - Chhatrapati Shivaji International Airport              2.3 km    \n",
       "4                   Queen's Necklace - Marine Drive               470 m    \n",
       "..                                              ...                  ...   \n",
       "96   T2 - Chhatrapati Shivaji International Airport              3.4 km    \n",
       "97                                              NaN                  NaN   \n",
       "98   T1 - Chhatrapati Shivaji International Airport              2.2 km    \n",
       "99   T2 - Chhatrapati Shivaji International Airport              6.1 km    \n",
       "100  T1 - Chhatrapati Shivaji International Airport              3.2 km    \n",
       "\n",
       "      Price    Tax  Good  Very Good  Location_frequantly_encoded  \n",
       "0     6,499    780     0          1                     0.356436  \n",
       "1     8,750    NaN     0          0                     0.039604  \n",
       "2    14,000    NaN     0          0                     0.069307  \n",
       "3     5,099    612     0          1                     0.356436  \n",
       "4    11,250    NaN     0          0                     0.019802  \n",
       "..      ...    ...   ...        ...                          ...  \n",
       "96      678    189     0          1                     0.009901  \n",
       "97    4,743  1,122     0          1                     0.039604  \n",
       "98    3,726  1,028     0          1                     0.356436  \n",
       "99    7,250    NaN     0          1                     0.356436  \n",
       "100   4,883  1,155     0          1                     0.118812  \n",
       "\n",
       "[101 rows x 12 columns]"
      ]
     },
     "execution_count": 18,
     "metadata": {},
     "output_type": "execute_result"
    }
   ],
   "source": [
    "data_3"
   ]
  },
  {
   "cell_type": "code",
   "execution_count": 19,
   "metadata": {
    "executionInfo": {
     "elapsed": 97,
     "status": "ok",
     "timestamp": 1692722767991,
     "user": {
      "displayName": "yash vaddoriya",
      "userId": "15193926449796532411"
     },
     "user_tz": -330
    },
    "id": "vPrZErI_FNEZ"
   },
   "outputs": [],
   "source": [
    "data_4 = data_3.copy()"
   ]
  },
  {
   "cell_type": "code",
   "execution_count": 20,
   "metadata": {
    "executionInfo": {
     "elapsed": 97,
     "status": "ok",
     "timestamp": 1692722767991,
     "user": {
      "displayName": "yash vaddoriya",
      "userId": "15193926449796532411"
     },
     "user_tz": -330
    },
    "id": "3ofd6UP6GDGF"
   },
   "outputs": [],
   "source": [
    "data_4 = data_4.drop('Location',axis=1)"
   ]
  },
  {
   "cell_type": "code",
   "execution_count": 21,
   "metadata": {
    "colab": {
     "base_uri": "https://localhost:8080/",
     "height": 310
    },
    "executionInfo": {
     "elapsed": 96,
     "status": "ok",
     "timestamp": 1692722767991,
     "user": {
      "displayName": "yash vaddoriya",
      "userId": "15193926449796532411"
     },
     "user_tz": -330
    },
    "id": "EVuRV8BgGHAd",
    "outputId": "4dababe1-0450-4143-cd69-ea8907ad3380"
   },
   "outputs": [
    {
     "data": {
      "text/html": [
       "<div>\n",
       "<style scoped>\n",
       "    .dataframe tbody tr th:only-of-type {\n",
       "        vertical-align: middle;\n",
       "    }\n",
       "\n",
       "    .dataframe tbody tr th {\n",
       "        vertical-align: top;\n",
       "    }\n",
       "\n",
       "    .dataframe thead th {\n",
       "        text-align: right;\n",
       "    }\n",
       "</style>\n",
       "<table border=\"1\" class=\"dataframe\">\n",
       "  <thead>\n",
       "    <tr style=\"text-align: right;\">\n",
       "      <th></th>\n",
       "      <th>Hotel Name</th>\n",
       "      <th>Rating</th>\n",
       "      <th>Reviews</th>\n",
       "      <th>Star Rating</th>\n",
       "      <th>Nearest Landmark</th>\n",
       "      <th>Distance to Landmark</th>\n",
       "      <th>Price</th>\n",
       "      <th>Tax</th>\n",
       "      <th>Good</th>\n",
       "      <th>Very Good</th>\n",
       "      <th>Location_frequantly_encoded</th>\n",
       "    </tr>\n",
       "  </thead>\n",
       "  <tbody>\n",
       "    <tr>\n",
       "      <th>0</th>\n",
       "      <td>The Orchid Hotel Mumbai Vile Parle</td>\n",
       "      <td>4.0</td>\n",
       "      <td>5593</td>\n",
       "      <td>5.0</td>\n",
       "      <td>T1 - Chhatrapati Shivaji International Airport</td>\n",
       "      <td>930 m</td>\n",
       "      <td>6,499</td>\n",
       "      <td>780</td>\n",
       "      <td>0</td>\n",
       "      <td>1</td>\n",
       "      <td>0.356436</td>\n",
       "    </tr>\n",
       "    <tr>\n",
       "      <th>1</th>\n",
       "      <td>Trident Bandra Kurla</td>\n",
       "      <td>4.6</td>\n",
       "      <td>4987</td>\n",
       "      <td>5.0</td>\n",
       "      <td>T1 - Chhatrapati Shivaji International Airport</td>\n",
       "      <td>7.8 km</td>\n",
       "      <td>8,750</td>\n",
       "      <td>NaN</td>\n",
       "      <td>0</td>\n",
       "      <td>0</td>\n",
       "      <td>0.039604</td>\n",
       "    </tr>\n",
       "    <tr>\n",
       "      <th>2</th>\n",
       "      <td>ITC Grand Central - A Luxury Collection Hotel</td>\n",
       "      <td>4.5</td>\n",
       "      <td>2445</td>\n",
       "      <td>5.0</td>\n",
       "      <td>Cooper hospital</td>\n",
       "      <td>620 m</td>\n",
       "      <td>14,000</td>\n",
       "      <td>NaN</td>\n",
       "      <td>0</td>\n",
       "      <td>0</td>\n",
       "      <td>0.069307</td>\n",
       "    </tr>\n",
       "    <tr>\n",
       "      <th>3</th>\n",
       "      <td>IRA By Orchid Mumbai ( VITS Mumbai)</td>\n",
       "      <td>3.9</td>\n",
       "      <td>4707</td>\n",
       "      <td>4.0</td>\n",
       "      <td>T2 - Chhatrapati Shivaji International Airport</td>\n",
       "      <td>2.3 km</td>\n",
       "      <td>5,099</td>\n",
       "      <td>612</td>\n",
       "      <td>0</td>\n",
       "      <td>1</td>\n",
       "      <td>0.356436</td>\n",
       "    </tr>\n",
       "    <tr>\n",
       "      <th>4</th>\n",
       "      <td>Trident Nariman Point</td>\n",
       "      <td>4.6</td>\n",
       "      <td>5563</td>\n",
       "      <td>5.0</td>\n",
       "      <td>Queen's Necklace - Marine Drive</td>\n",
       "      <td>470 m</td>\n",
       "      <td>11,250</td>\n",
       "      <td>NaN</td>\n",
       "      <td>0</td>\n",
       "      <td>0</td>\n",
       "      <td>0.019802</td>\n",
       "    </tr>\n",
       "  </tbody>\n",
       "</table>\n",
       "</div>"
      ],
      "text/plain": [
       "                                      Hotel Name  Rating  Reviews  \\\n",
       "0             The Orchid Hotel Mumbai Vile Parle     4.0     5593   \n",
       "1                           Trident Bandra Kurla     4.6     4987   \n",
       "2  ITC Grand Central - A Luxury Collection Hotel     4.5     2445   \n",
       "3            IRA By Orchid Mumbai ( VITS Mumbai)     3.9     4707   \n",
       "4                          Trident Nariman Point     4.6     5563   \n",
       "\n",
       "   Star Rating                                Nearest Landmark  \\\n",
       "0          5.0  T1 - Chhatrapati Shivaji International Airport   \n",
       "1          5.0  T1 - Chhatrapati Shivaji International Airport   \n",
       "2          5.0                                 Cooper hospital   \n",
       "3          4.0  T2 - Chhatrapati Shivaji International Airport   \n",
       "4          5.0                 Queen's Necklace - Marine Drive   \n",
       "\n",
       "  Distance to Landmark   Price  Tax  Good  Very Good  \\\n",
       "0               930 m    6,499  780     0          1   \n",
       "1              7.8 km    8,750  NaN     0          0   \n",
       "2               620 m   14,000  NaN     0          0   \n",
       "3              2.3 km    5,099  612     0          1   \n",
       "4               470 m   11,250  NaN     0          0   \n",
       "\n",
       "   Location_frequantly_encoded  \n",
       "0                     0.356436  \n",
       "1                     0.039604  \n",
       "2                     0.069307  \n",
       "3                     0.356436  \n",
       "4                     0.019802  "
      ]
     },
     "execution_count": 21,
     "metadata": {},
     "output_type": "execute_result"
    }
   ],
   "source": [
    "data_4.head()"
   ]
  },
  {
   "cell_type": "code",
   "execution_count": 22,
   "metadata": {
    "executionInfo": {
     "elapsed": 96,
     "status": "ok",
     "timestamp": 1692722767992,
     "user": {
      "displayName": "yash vaddoriya",
      "userId": "15193926449796532411"
     },
     "user_tz": -330
    },
    "id": "Wj7pgfWoGL37"
   },
   "outputs": [],
   "source": [
    "data_4 = data_4.drop(['Tax','Hotel Name'],axis=1)"
   ]
  },
  {
   "cell_type": "code",
   "execution_count": 23,
   "metadata": {
    "colab": {
     "base_uri": "https://localhost:8080/",
     "height": 206
    },
    "executionInfo": {
     "elapsed": 96,
     "status": "ok",
     "timestamp": 1692722767992,
     "user": {
      "displayName": "yash vaddoriya",
      "userId": "15193926449796532411"
     },
     "user_tz": -330
    },
    "id": "51kaEq0rHN6q",
    "outputId": "7ac15bfe-1620-4a43-e5e1-740566e53faa"
   },
   "outputs": [
    {
     "data": {
      "text/html": [
       "<div>\n",
       "<style scoped>\n",
       "    .dataframe tbody tr th:only-of-type {\n",
       "        vertical-align: middle;\n",
       "    }\n",
       "\n",
       "    .dataframe tbody tr th {\n",
       "        vertical-align: top;\n",
       "    }\n",
       "\n",
       "    .dataframe thead th {\n",
       "        text-align: right;\n",
       "    }\n",
       "</style>\n",
       "<table border=\"1\" class=\"dataframe\">\n",
       "  <thead>\n",
       "    <tr style=\"text-align: right;\">\n",
       "      <th></th>\n",
       "      <th>Rating</th>\n",
       "      <th>Reviews</th>\n",
       "      <th>Star Rating</th>\n",
       "      <th>Nearest Landmark</th>\n",
       "      <th>Distance to Landmark</th>\n",
       "      <th>Price</th>\n",
       "      <th>Good</th>\n",
       "      <th>Very Good</th>\n",
       "      <th>Location_frequantly_encoded</th>\n",
       "    </tr>\n",
       "  </thead>\n",
       "  <tbody>\n",
       "    <tr>\n",
       "      <th>0</th>\n",
       "      <td>4.0</td>\n",
       "      <td>5593</td>\n",
       "      <td>5.0</td>\n",
       "      <td>T1 - Chhatrapati Shivaji International Airport</td>\n",
       "      <td>930 m</td>\n",
       "      <td>6,499</td>\n",
       "      <td>0</td>\n",
       "      <td>1</td>\n",
       "      <td>0.356436</td>\n",
       "    </tr>\n",
       "    <tr>\n",
       "      <th>1</th>\n",
       "      <td>4.6</td>\n",
       "      <td>4987</td>\n",
       "      <td>5.0</td>\n",
       "      <td>T1 - Chhatrapati Shivaji International Airport</td>\n",
       "      <td>7.8 km</td>\n",
       "      <td>8,750</td>\n",
       "      <td>0</td>\n",
       "      <td>0</td>\n",
       "      <td>0.039604</td>\n",
       "    </tr>\n",
       "    <tr>\n",
       "      <th>2</th>\n",
       "      <td>4.5</td>\n",
       "      <td>2445</td>\n",
       "      <td>5.0</td>\n",
       "      <td>Cooper hospital</td>\n",
       "      <td>620 m</td>\n",
       "      <td>14,000</td>\n",
       "      <td>0</td>\n",
       "      <td>0</td>\n",
       "      <td>0.069307</td>\n",
       "    </tr>\n",
       "    <tr>\n",
       "      <th>3</th>\n",
       "      <td>3.9</td>\n",
       "      <td>4707</td>\n",
       "      <td>4.0</td>\n",
       "      <td>T2 - Chhatrapati Shivaji International Airport</td>\n",
       "      <td>2.3 km</td>\n",
       "      <td>5,099</td>\n",
       "      <td>0</td>\n",
       "      <td>1</td>\n",
       "      <td>0.356436</td>\n",
       "    </tr>\n",
       "    <tr>\n",
       "      <th>4</th>\n",
       "      <td>4.6</td>\n",
       "      <td>5563</td>\n",
       "      <td>5.0</td>\n",
       "      <td>Queen's Necklace - Marine Drive</td>\n",
       "      <td>470 m</td>\n",
       "      <td>11,250</td>\n",
       "      <td>0</td>\n",
       "      <td>0</td>\n",
       "      <td>0.019802</td>\n",
       "    </tr>\n",
       "  </tbody>\n",
       "</table>\n",
       "</div>"
      ],
      "text/plain": [
       "   Rating  Reviews  Star Rating  \\\n",
       "0     4.0     5593          5.0   \n",
       "1     4.6     4987          5.0   \n",
       "2     4.5     2445          5.0   \n",
       "3     3.9     4707          4.0   \n",
       "4     4.6     5563          5.0   \n",
       "\n",
       "                                 Nearest Landmark Distance to Landmark  \\\n",
       "0  T1 - Chhatrapati Shivaji International Airport               930 m    \n",
       "1  T1 - Chhatrapati Shivaji International Airport              7.8 km    \n",
       "2                                 Cooper hospital               620 m    \n",
       "3  T2 - Chhatrapati Shivaji International Airport              2.3 km    \n",
       "4                 Queen's Necklace - Marine Drive               470 m    \n",
       "\n",
       "    Price  Good  Very Good  Location_frequantly_encoded  \n",
       "0   6,499     0          1                     0.356436  \n",
       "1   8,750     0          0                     0.039604  \n",
       "2  14,000     0          0                     0.069307  \n",
       "3   5,099     0          1                     0.356436  \n",
       "4  11,250     0          0                     0.019802  "
      ]
     },
     "execution_count": 23,
     "metadata": {},
     "output_type": "execute_result"
    }
   ],
   "source": [
    "data_4.head()"
   ]
  },
  {
   "cell_type": "code",
   "execution_count": 24,
   "metadata": {
    "executionInfo": {
     "elapsed": 94,
     "status": "ok",
     "timestamp": 1692722767992,
     "user": {
      "displayName": "yash vaddoriya",
      "userId": "15193926449796532411"
     },
     "user_tz": -330
    },
    "id": "XoONtRaEHPj_"
   },
   "outputs": [],
   "source": [
    "data_5 = data_4.copy()"
   ]
  },
  {
   "cell_type": "code",
   "execution_count": 25,
   "metadata": {
    "colab": {
     "base_uri": "https://localhost:8080/"
    },
    "executionInfo": {
     "elapsed": 95,
     "status": "ok",
     "timestamp": 1692722767993,
     "user": {
      "displayName": "yash vaddoriya",
      "userId": "15193926449796532411"
     },
     "user_tz": -330
    },
    "id": "420Mn9AeHX0-",
    "outputId": "72120878-6f06-4b0b-e4f8-2c7dcf0d9ac0"
   },
   "outputs": [
    {
     "data": {
      "text/plain": [
       "T2 - Chhatrapati Shivaji International Airport    43\n",
       "T1 - Chhatrapati Shivaji International Airport    34\n",
       "Queen's Necklace - Marine Drive                    6\n",
       "Gateway Of India Mumbai                            4\n",
       "Band Stand                                         2\n",
       "Cooper hospital                                    1\n",
       "Tata memorial cancer hospital                      1\n",
       "Siddhivinayak Temple                               1\n",
       "Mumbai Central Bus Terminus                        1\n",
       "Name: Nearest Landmark, dtype: int64"
      ]
     },
     "execution_count": 25,
     "metadata": {},
     "output_type": "execute_result"
    }
   ],
   "source": [
    "data_5['Nearest Landmark'].value_counts()"
   ]
  },
  {
   "cell_type": "code",
   "execution_count": 26,
   "metadata": {
    "colab": {
     "base_uri": "https://localhost:8080/"
    },
    "executionInfo": {
     "elapsed": 91,
     "status": "ok",
     "timestamp": 1692722767993,
     "user": {
      "displayName": "yash vaddoriya",
      "userId": "15193926449796532411"
     },
     "user_tz": -330
    },
    "id": "_6B5IoNQHbyI",
    "outputId": "ba971f4e-b5e5-44f8-b39c-3d0130005825"
   },
   "outputs": [
    {
     "data": {
      "text/plain": [
       "{'T2 - Chhatrapati Shivaji International Airport': 0.46236559139784944,\n",
       " 'T1 - Chhatrapati Shivaji International Airport': 0.3655913978494624,\n",
       " \"Queen's Necklace - Marine Drive\": 0.06451612903225806,\n",
       " 'Gateway Of India Mumbai': 0.043010752688172046,\n",
       " 'Band Stand': 0.021505376344086023,\n",
       " 'Cooper hospital': 0.010752688172043012,\n",
       " 'Tata memorial cancer hospital': 0.010752688172043012,\n",
       " 'Siddhivinayak Temple': 0.010752688172043012,\n",
       " 'Mumbai Central Bus Terminus': 0.010752688172043012}"
      ]
     },
     "execution_count": 26,
     "metadata": {},
     "output_type": "execute_result"
    }
   ],
   "source": [
    "frequant_landmark = data_5['Nearest Landmark'].value_counts(normalize = True).to_dict()\n",
    "frequant_landmark"
   ]
  },
  {
   "cell_type": "code",
   "execution_count": 27,
   "metadata": {
    "executionInfo": {
     "elapsed": 86,
     "status": "ok",
     "timestamp": 1692722767993,
     "user": {
      "displayName": "yash vaddoriya",
      "userId": "15193926449796532411"
     },
     "user_tz": -330
    },
    "id": "lbsWahoJI2xX"
   },
   "outputs": [],
   "source": [
    "data_6 = data_5.copy()"
   ]
  },
  {
   "cell_type": "code",
   "execution_count": 28,
   "metadata": {
    "executionInfo": {
     "elapsed": 86,
     "status": "ok",
     "timestamp": 1692722767994,
     "user": {
      "displayName": "yash vaddoriya",
      "userId": "15193926449796532411"
     },
     "user_tz": -330
    },
    "id": "gB9CH0jHI9a1"
   },
   "outputs": [],
   "source": [
    "data_6['Landmark_encoded'] = data_6['Nearest Landmark'].map(frequant_landmark)"
   ]
  },
  {
   "cell_type": "code",
   "execution_count": 29,
   "metadata": {
    "colab": {
     "base_uri": "https://localhost:8080/",
     "height": 275
    },
    "executionInfo": {
     "elapsed": 86,
     "status": "ok",
     "timestamp": 1692722767994,
     "user": {
      "displayName": "yash vaddoriya",
      "userId": "15193926449796532411"
     },
     "user_tz": -330
    },
    "id": "D-n-06UdJN57",
    "outputId": "c722f5e6-503c-4fac-a358-67d259e685d1"
   },
   "outputs": [
    {
     "data": {
      "text/html": [
       "<div>\n",
       "<style scoped>\n",
       "    .dataframe tbody tr th:only-of-type {\n",
       "        vertical-align: middle;\n",
       "    }\n",
       "\n",
       "    .dataframe tbody tr th {\n",
       "        vertical-align: top;\n",
       "    }\n",
       "\n",
       "    .dataframe thead th {\n",
       "        text-align: right;\n",
       "    }\n",
       "</style>\n",
       "<table border=\"1\" class=\"dataframe\">\n",
       "  <thead>\n",
       "    <tr style=\"text-align: right;\">\n",
       "      <th></th>\n",
       "      <th>Rating</th>\n",
       "      <th>Reviews</th>\n",
       "      <th>Star Rating</th>\n",
       "      <th>Nearest Landmark</th>\n",
       "      <th>Distance to Landmark</th>\n",
       "      <th>Price</th>\n",
       "      <th>Good</th>\n",
       "      <th>Very Good</th>\n",
       "      <th>Location_frequantly_encoded</th>\n",
       "      <th>Landmark_encoded</th>\n",
       "    </tr>\n",
       "  </thead>\n",
       "  <tbody>\n",
       "    <tr>\n",
       "      <th>0</th>\n",
       "      <td>4.0</td>\n",
       "      <td>5593</td>\n",
       "      <td>5.0</td>\n",
       "      <td>T1 - Chhatrapati Shivaji International Airport</td>\n",
       "      <td>930 m</td>\n",
       "      <td>6,499</td>\n",
       "      <td>0</td>\n",
       "      <td>1</td>\n",
       "      <td>0.356436</td>\n",
       "      <td>0.365591</td>\n",
       "    </tr>\n",
       "    <tr>\n",
       "      <th>1</th>\n",
       "      <td>4.6</td>\n",
       "      <td>4987</td>\n",
       "      <td>5.0</td>\n",
       "      <td>T1 - Chhatrapati Shivaji International Airport</td>\n",
       "      <td>7.8 km</td>\n",
       "      <td>8,750</td>\n",
       "      <td>0</td>\n",
       "      <td>0</td>\n",
       "      <td>0.039604</td>\n",
       "      <td>0.365591</td>\n",
       "    </tr>\n",
       "    <tr>\n",
       "      <th>2</th>\n",
       "      <td>4.5</td>\n",
       "      <td>2445</td>\n",
       "      <td>5.0</td>\n",
       "      <td>Cooper hospital</td>\n",
       "      <td>620 m</td>\n",
       "      <td>14,000</td>\n",
       "      <td>0</td>\n",
       "      <td>0</td>\n",
       "      <td>0.069307</td>\n",
       "      <td>0.010753</td>\n",
       "    </tr>\n",
       "    <tr>\n",
       "      <th>3</th>\n",
       "      <td>3.9</td>\n",
       "      <td>4707</td>\n",
       "      <td>4.0</td>\n",
       "      <td>T2 - Chhatrapati Shivaji International Airport</td>\n",
       "      <td>2.3 km</td>\n",
       "      <td>5,099</td>\n",
       "      <td>0</td>\n",
       "      <td>1</td>\n",
       "      <td>0.356436</td>\n",
       "      <td>0.462366</td>\n",
       "    </tr>\n",
       "    <tr>\n",
       "      <th>4</th>\n",
       "      <td>4.6</td>\n",
       "      <td>5563</td>\n",
       "      <td>5.0</td>\n",
       "      <td>Queen's Necklace - Marine Drive</td>\n",
       "      <td>470 m</td>\n",
       "      <td>11,250</td>\n",
       "      <td>0</td>\n",
       "      <td>0</td>\n",
       "      <td>0.019802</td>\n",
       "      <td>0.064516</td>\n",
       "    </tr>\n",
       "  </tbody>\n",
       "</table>\n",
       "</div>"
      ],
      "text/plain": [
       "   Rating  Reviews  Star Rating  \\\n",
       "0     4.0     5593          5.0   \n",
       "1     4.6     4987          5.0   \n",
       "2     4.5     2445          5.0   \n",
       "3     3.9     4707          4.0   \n",
       "4     4.6     5563          5.0   \n",
       "\n",
       "                                 Nearest Landmark Distance to Landmark  \\\n",
       "0  T1 - Chhatrapati Shivaji International Airport               930 m    \n",
       "1  T1 - Chhatrapati Shivaji International Airport              7.8 km    \n",
       "2                                 Cooper hospital               620 m    \n",
       "3  T2 - Chhatrapati Shivaji International Airport              2.3 km    \n",
       "4                 Queen's Necklace - Marine Drive               470 m    \n",
       "\n",
       "    Price  Good  Very Good  Location_frequantly_encoded  Landmark_encoded  \n",
       "0   6,499     0          1                     0.356436          0.365591  \n",
       "1   8,750     0          0                     0.039604          0.365591  \n",
       "2  14,000     0          0                     0.069307          0.010753  \n",
       "3   5,099     0          1                     0.356436          0.462366  \n",
       "4  11,250     0          0                     0.019802          0.064516  "
      ]
     },
     "execution_count": 29,
     "metadata": {},
     "output_type": "execute_result"
    }
   ],
   "source": [
    "data_6.head()"
   ]
  },
  {
   "cell_type": "code",
   "execution_count": 30,
   "metadata": {
    "executionInfo": {
     "elapsed": 84,
     "status": "ok",
     "timestamp": 1692722767994,
     "user": {
      "displayName": "yash vaddoriya",
      "userId": "15193926449796532411"
     },
     "user_tz": -330
    },
    "id": "p54fNeAmJQA9"
   },
   "outputs": [],
   "source": [
    "data_6 = data_6.drop('Nearest Landmark',axis=1)"
   ]
  },
  {
   "cell_type": "code",
   "execution_count": 31,
   "metadata": {
    "colab": {
     "base_uri": "https://localhost:8080/",
     "height": 206
    },
    "executionInfo": {
     "elapsed": 85,
     "status": "ok",
     "timestamp": 1692722767995,
     "user": {
      "displayName": "yash vaddoriya",
      "userId": "15193926449796532411"
     },
     "user_tz": -330
    },
    "id": "XE82WFSWJXVX",
    "outputId": "3f44d411-9bf4-4679-c01c-1695d875a641"
   },
   "outputs": [
    {
     "data": {
      "text/html": [
       "<div>\n",
       "<style scoped>\n",
       "    .dataframe tbody tr th:only-of-type {\n",
       "        vertical-align: middle;\n",
       "    }\n",
       "\n",
       "    .dataframe tbody tr th {\n",
       "        vertical-align: top;\n",
       "    }\n",
       "\n",
       "    .dataframe thead th {\n",
       "        text-align: right;\n",
       "    }\n",
       "</style>\n",
       "<table border=\"1\" class=\"dataframe\">\n",
       "  <thead>\n",
       "    <tr style=\"text-align: right;\">\n",
       "      <th></th>\n",
       "      <th>Rating</th>\n",
       "      <th>Reviews</th>\n",
       "      <th>Star Rating</th>\n",
       "      <th>Distance to Landmark</th>\n",
       "      <th>Price</th>\n",
       "      <th>Good</th>\n",
       "      <th>Very Good</th>\n",
       "      <th>Location_frequantly_encoded</th>\n",
       "      <th>Landmark_encoded</th>\n",
       "    </tr>\n",
       "  </thead>\n",
       "  <tbody>\n",
       "    <tr>\n",
       "      <th>0</th>\n",
       "      <td>4.0</td>\n",
       "      <td>5593</td>\n",
       "      <td>5.0</td>\n",
       "      <td>930 m</td>\n",
       "      <td>6,499</td>\n",
       "      <td>0</td>\n",
       "      <td>1</td>\n",
       "      <td>0.356436</td>\n",
       "      <td>0.365591</td>\n",
       "    </tr>\n",
       "    <tr>\n",
       "      <th>1</th>\n",
       "      <td>4.6</td>\n",
       "      <td>4987</td>\n",
       "      <td>5.0</td>\n",
       "      <td>7.8 km</td>\n",
       "      <td>8,750</td>\n",
       "      <td>0</td>\n",
       "      <td>0</td>\n",
       "      <td>0.039604</td>\n",
       "      <td>0.365591</td>\n",
       "    </tr>\n",
       "    <tr>\n",
       "      <th>2</th>\n",
       "      <td>4.5</td>\n",
       "      <td>2445</td>\n",
       "      <td>5.0</td>\n",
       "      <td>620 m</td>\n",
       "      <td>14,000</td>\n",
       "      <td>0</td>\n",
       "      <td>0</td>\n",
       "      <td>0.069307</td>\n",
       "      <td>0.010753</td>\n",
       "    </tr>\n",
       "    <tr>\n",
       "      <th>3</th>\n",
       "      <td>3.9</td>\n",
       "      <td>4707</td>\n",
       "      <td>4.0</td>\n",
       "      <td>2.3 km</td>\n",
       "      <td>5,099</td>\n",
       "      <td>0</td>\n",
       "      <td>1</td>\n",
       "      <td>0.356436</td>\n",
       "      <td>0.462366</td>\n",
       "    </tr>\n",
       "    <tr>\n",
       "      <th>4</th>\n",
       "      <td>4.6</td>\n",
       "      <td>5563</td>\n",
       "      <td>5.0</td>\n",
       "      <td>470 m</td>\n",
       "      <td>11,250</td>\n",
       "      <td>0</td>\n",
       "      <td>0</td>\n",
       "      <td>0.019802</td>\n",
       "      <td>0.064516</td>\n",
       "    </tr>\n",
       "  </tbody>\n",
       "</table>\n",
       "</div>"
      ],
      "text/plain": [
       "   Rating  Reviews  Star Rating Distance to Landmark   Price  Good  Very Good  \\\n",
       "0     4.0     5593          5.0               930 m    6,499     0          1   \n",
       "1     4.6     4987          5.0              7.8 km    8,750     0          0   \n",
       "2     4.5     2445          5.0               620 m   14,000     0          0   \n",
       "3     3.9     4707          4.0              2.3 km    5,099     0          1   \n",
       "4     4.6     5563          5.0               470 m   11,250     0          0   \n",
       "\n",
       "   Location_frequantly_encoded  Landmark_encoded  \n",
       "0                     0.356436          0.365591  \n",
       "1                     0.039604          0.365591  \n",
       "2                     0.069307          0.010753  \n",
       "3                     0.356436          0.462366  \n",
       "4                     0.019802          0.064516  "
      ]
     },
     "execution_count": 31,
     "metadata": {},
     "output_type": "execute_result"
    }
   ],
   "source": [
    "data_6.head()"
   ]
  },
  {
   "cell_type": "code",
   "execution_count": 32,
   "metadata": {
    "colab": {
     "base_uri": "https://localhost:8080/"
    },
    "executionInfo": {
     "elapsed": 83,
     "status": "ok",
     "timestamp": 1692722767995,
     "user": {
      "displayName": "yash vaddoriya",
      "userId": "15193926449796532411"
     },
     "user_tz": -330
    },
    "id": "71s48r8wJZVy",
    "outputId": "8c1b6eda-0357-42f7-9e13-0e5a2cc025da"
   },
   "outputs": [
    {
     "data": {
      "text/plain": [
       "Rating                          0\n",
       "Reviews                         0\n",
       "Star Rating                    15\n",
       "Distance to Landmark            8\n",
       "Price                           0\n",
       "Good                            0\n",
       "Very Good                       0\n",
       "Location_frequantly_encoded     0\n",
       "Landmark_encoded                8\n",
       "dtype: int64"
      ]
     },
     "execution_count": 32,
     "metadata": {},
     "output_type": "execute_result"
    }
   ],
   "source": [
    "data_6.isnull().sum()"
   ]
  },
  {
   "cell_type": "code",
   "execution_count": 33,
   "metadata": {
    "executionInfo": {
     "elapsed": 79,
     "status": "ok",
     "timestamp": 1692722767995,
     "user": {
      "displayName": "yash vaddoriya",
      "userId": "15193926449796532411"
     },
     "user_tz": -330
    },
    "id": "hw5eU0M0Jdev"
   },
   "outputs": [],
   "source": [
    "def convert_km_to_m(x):\n",
    "  if isinstance(x, str):\n",
    "     new_values = x.split(' ')\n",
    "     if new_values[1]=='m':\n",
    "        return float(new_values[0])\n",
    "     elif new_values[1]=='km':\n",
    "        return float(new_values[0])*1000\n",
    "\n",
    "  else:\n",
    "      return x"
   ]
  },
  {
   "cell_type": "code",
   "execution_count": 34,
   "metadata": {
    "colab": {
     "background_save": true
    },
    "executionInfo": {
     "elapsed": 80,
     "status": "ok",
     "timestamp": 1692722767996,
     "user": {
      "displayName": "yash vaddoriya",
      "userId": "15193926449796532411"
     },
     "user_tz": -330
    },
    "id": "8ClKOTrTKycf"
   },
   "outputs": [],
   "source": [
    "data_6['Distance to Landmark'] = data_6['Distance to Landmark'].apply(convert_km_to_m)"
   ]
  },
  {
   "cell_type": "code",
   "execution_count": 35,
   "metadata": {
    "colab": {
     "background_save": true,
     "base_uri": "https://localhost:8080/",
     "height": 206
    },
    "executionInfo": {
     "elapsed": 80,
     "status": "ok",
     "timestamp": 1692722767996,
     "user": {
      "displayName": "yash vaddoriya",
      "userId": "15193926449796532411"
     },
     "user_tz": -330
    },
    "id": "r-ZzcARhK7nl"
   },
   "outputs": [
    {
     "data": {
      "text/html": [
       "<div>\n",
       "<style scoped>\n",
       "    .dataframe tbody tr th:only-of-type {\n",
       "        vertical-align: middle;\n",
       "    }\n",
       "\n",
       "    .dataframe tbody tr th {\n",
       "        vertical-align: top;\n",
       "    }\n",
       "\n",
       "    .dataframe thead th {\n",
       "        text-align: right;\n",
       "    }\n",
       "</style>\n",
       "<table border=\"1\" class=\"dataframe\">\n",
       "  <thead>\n",
       "    <tr style=\"text-align: right;\">\n",
       "      <th></th>\n",
       "      <th>Rating</th>\n",
       "      <th>Reviews</th>\n",
       "      <th>Star Rating</th>\n",
       "      <th>Distance to Landmark</th>\n",
       "      <th>Price</th>\n",
       "      <th>Good</th>\n",
       "      <th>Very Good</th>\n",
       "      <th>Location_frequantly_encoded</th>\n",
       "      <th>Landmark_encoded</th>\n",
       "    </tr>\n",
       "  </thead>\n",
       "  <tbody>\n",
       "    <tr>\n",
       "      <th>0</th>\n",
       "      <td>4.0</td>\n",
       "      <td>5593</td>\n",
       "      <td>5.0</td>\n",
       "      <td>930.0</td>\n",
       "      <td>6,499</td>\n",
       "      <td>0</td>\n",
       "      <td>1</td>\n",
       "      <td>0.356436</td>\n",
       "      <td>0.365591</td>\n",
       "    </tr>\n",
       "    <tr>\n",
       "      <th>1</th>\n",
       "      <td>4.6</td>\n",
       "      <td>4987</td>\n",
       "      <td>5.0</td>\n",
       "      <td>7800.0</td>\n",
       "      <td>8,750</td>\n",
       "      <td>0</td>\n",
       "      <td>0</td>\n",
       "      <td>0.039604</td>\n",
       "      <td>0.365591</td>\n",
       "    </tr>\n",
       "    <tr>\n",
       "      <th>2</th>\n",
       "      <td>4.5</td>\n",
       "      <td>2445</td>\n",
       "      <td>5.0</td>\n",
       "      <td>620.0</td>\n",
       "      <td>14,000</td>\n",
       "      <td>0</td>\n",
       "      <td>0</td>\n",
       "      <td>0.069307</td>\n",
       "      <td>0.010753</td>\n",
       "    </tr>\n",
       "    <tr>\n",
       "      <th>3</th>\n",
       "      <td>3.9</td>\n",
       "      <td>4707</td>\n",
       "      <td>4.0</td>\n",
       "      <td>2300.0</td>\n",
       "      <td>5,099</td>\n",
       "      <td>0</td>\n",
       "      <td>1</td>\n",
       "      <td>0.356436</td>\n",
       "      <td>0.462366</td>\n",
       "    </tr>\n",
       "    <tr>\n",
       "      <th>4</th>\n",
       "      <td>4.6</td>\n",
       "      <td>5563</td>\n",
       "      <td>5.0</td>\n",
       "      <td>470.0</td>\n",
       "      <td>11,250</td>\n",
       "      <td>0</td>\n",
       "      <td>0</td>\n",
       "      <td>0.019802</td>\n",
       "      <td>0.064516</td>\n",
       "    </tr>\n",
       "  </tbody>\n",
       "</table>\n",
       "</div>"
      ],
      "text/plain": [
       "   Rating  Reviews  Star Rating  Distance to Landmark   Price  Good  \\\n",
       "0     4.0     5593          5.0                 930.0   6,499     0   \n",
       "1     4.6     4987          5.0                7800.0   8,750     0   \n",
       "2     4.5     2445          5.0                 620.0  14,000     0   \n",
       "3     3.9     4707          4.0                2300.0   5,099     0   \n",
       "4     4.6     5563          5.0                 470.0  11,250     0   \n",
       "\n",
       "   Very Good  Location_frequantly_encoded  Landmark_encoded  \n",
       "0          1                     0.356436          0.365591  \n",
       "1          0                     0.039604          0.365591  \n",
       "2          0                     0.069307          0.010753  \n",
       "3          1                     0.356436          0.462366  \n",
       "4          0                     0.019802          0.064516  "
      ]
     },
     "execution_count": 35,
     "metadata": {},
     "output_type": "execute_result"
    }
   ],
   "source": [
    "data_6.head()\n"
   ]
  },
  {
   "cell_type": "code",
   "execution_count": 36,
   "metadata": {
    "colab": {
     "background_save": true,
     "base_uri": "https://localhost:8080/",
     "height": 300
    },
    "executionInfo": {
     "elapsed": 78,
     "status": "ok",
     "timestamp": 1692722767996,
     "user": {
      "displayName": "yash vaddoriya",
      "userId": "15193926449796532411"
     },
     "user_tz": -330
    },
    "id": "AenLTiZ6PpX8"
   },
   "outputs": [
    {
     "data": {
      "text/html": [
       "<div>\n",
       "<style scoped>\n",
       "    .dataframe tbody tr th:only-of-type {\n",
       "        vertical-align: middle;\n",
       "    }\n",
       "\n",
       "    .dataframe tbody tr th {\n",
       "        vertical-align: top;\n",
       "    }\n",
       "\n",
       "    .dataframe thead th {\n",
       "        text-align: right;\n",
       "    }\n",
       "</style>\n",
       "<table border=\"1\" class=\"dataframe\">\n",
       "  <thead>\n",
       "    <tr style=\"text-align: right;\">\n",
       "      <th></th>\n",
       "      <th>Rating</th>\n",
       "      <th>Reviews</th>\n",
       "      <th>Star Rating</th>\n",
       "      <th>Distance to Landmark</th>\n",
       "      <th>Good</th>\n",
       "      <th>Very Good</th>\n",
       "      <th>Location_frequantly_encoded</th>\n",
       "      <th>Landmark_encoded</th>\n",
       "    </tr>\n",
       "  </thead>\n",
       "  <tbody>\n",
       "    <tr>\n",
       "      <th>count</th>\n",
       "      <td>101.00000</td>\n",
       "      <td>101.000000</td>\n",
       "      <td>86.000000</td>\n",
       "      <td>93.000000</td>\n",
       "      <td>101.000000</td>\n",
       "      <td>101.000000</td>\n",
       "      <td>101.000000</td>\n",
       "      <td>93.000000</td>\n",
       "    </tr>\n",
       "    <tr>\n",
       "      <th>mean</th>\n",
       "      <td>4.00198</td>\n",
       "      <td>1854.603960</td>\n",
       "      <td>4.069767</td>\n",
       "      <td>3469.677419</td>\n",
       "      <td>0.079208</td>\n",
       "      <td>0.633663</td>\n",
       "      <td>0.162043</td>\n",
       "      <td>0.354376</td>\n",
       "    </tr>\n",
       "    <tr>\n",
       "      <th>std</th>\n",
       "      <td>0.38961</td>\n",
       "      <td>1654.309869</td>\n",
       "      <td>0.878377</td>\n",
       "      <td>2495.591962</td>\n",
       "      <td>0.271410</td>\n",
       "      <td>0.484206</td>\n",
       "      <td>0.148275</td>\n",
       "      <td>0.150779</td>\n",
       "    </tr>\n",
       "    <tr>\n",
       "      <th>min</th>\n",
       "      <td>3.10000</td>\n",
       "      <td>4.000000</td>\n",
       "      <td>3.000000</td>\n",
       "      <td>230.000000</td>\n",
       "      <td>0.000000</td>\n",
       "      <td>0.000000</td>\n",
       "      <td>0.009901</td>\n",
       "      <td>0.010753</td>\n",
       "    </tr>\n",
       "    <tr>\n",
       "      <th>25%</th>\n",
       "      <td>3.70000</td>\n",
       "      <td>738.000000</td>\n",
       "      <td>3.000000</td>\n",
       "      <td>1600.000000</td>\n",
       "      <td>0.000000</td>\n",
       "      <td>0.000000</td>\n",
       "      <td>0.039604</td>\n",
       "      <td>0.365591</td>\n",
       "    </tr>\n",
       "    <tr>\n",
       "      <th>50%</th>\n",
       "      <td>4.00000</td>\n",
       "      <td>1401.000000</td>\n",
       "      <td>4.000000</td>\n",
       "      <td>3100.000000</td>\n",
       "      <td>0.000000</td>\n",
       "      <td>1.000000</td>\n",
       "      <td>0.069307</td>\n",
       "      <td>0.365591</td>\n",
       "    </tr>\n",
       "    <tr>\n",
       "      <th>75%</th>\n",
       "      <td>4.30000</td>\n",
       "      <td>2306.000000</td>\n",
       "      <td>5.000000</td>\n",
       "      <td>5500.000000</td>\n",
       "      <td>0.000000</td>\n",
       "      <td>1.000000</td>\n",
       "      <td>0.356436</td>\n",
       "      <td>0.462366</td>\n",
       "    </tr>\n",
       "    <tr>\n",
       "      <th>max</th>\n",
       "      <td>4.80000</td>\n",
       "      <td>7303.000000</td>\n",
       "      <td>5.000000</td>\n",
       "      <td>9500.000000</td>\n",
       "      <td>1.000000</td>\n",
       "      <td>1.000000</td>\n",
       "      <td>0.356436</td>\n",
       "      <td>0.462366</td>\n",
       "    </tr>\n",
       "  </tbody>\n",
       "</table>\n",
       "</div>"
      ],
      "text/plain": [
       "          Rating      Reviews  Star Rating  Distance to Landmark        Good  \\\n",
       "count  101.00000   101.000000    86.000000             93.000000  101.000000   \n",
       "mean     4.00198  1854.603960     4.069767           3469.677419    0.079208   \n",
       "std      0.38961  1654.309869     0.878377           2495.591962    0.271410   \n",
       "min      3.10000     4.000000     3.000000            230.000000    0.000000   \n",
       "25%      3.70000   738.000000     3.000000           1600.000000    0.000000   \n",
       "50%      4.00000  1401.000000     4.000000           3100.000000    0.000000   \n",
       "75%      4.30000  2306.000000     5.000000           5500.000000    0.000000   \n",
       "max      4.80000  7303.000000     5.000000           9500.000000    1.000000   \n",
       "\n",
       "        Very Good  Location_frequantly_encoded  Landmark_encoded  \n",
       "count  101.000000                   101.000000         93.000000  \n",
       "mean     0.633663                     0.162043          0.354376  \n",
       "std      0.484206                     0.148275          0.150779  \n",
       "min      0.000000                     0.009901          0.010753  \n",
       "25%      0.000000                     0.039604          0.365591  \n",
       "50%      1.000000                     0.069307          0.365591  \n",
       "75%      1.000000                     0.356436          0.462366  \n",
       "max      1.000000                     0.356436          0.462366  "
      ]
     },
     "execution_count": 36,
     "metadata": {},
     "output_type": "execute_result"
    }
   ],
   "source": [
    "data_6.describe()"
   ]
  },
  {
   "cell_type": "code",
   "execution_count": 37,
   "metadata": {
    "colab": {
     "background_save": true
    },
    "executionInfo": {
     "elapsed": 77,
     "status": "ok",
     "timestamp": 1692722767996,
     "user": {
      "displayName": "yash vaddoriya",
      "userId": "15193926449796532411"
     },
     "user_tz": -330
    },
    "id": "XJTNS3NFQFTc"
   },
   "outputs": [],
   "source": [
    "data_6 = data_6.dropna(subset= ['Distance to Landmark'])"
   ]
  },
  {
   "cell_type": "code",
   "execution_count": 38,
   "metadata": {
    "colab": {
     "background_save": true
    },
    "executionInfo": {
     "elapsed": 78,
     "status": "ok",
     "timestamp": 1692722767997,
     "user": {
      "displayName": "yash vaddoriya",
      "userId": "15193926449796532411"
     },
     "user_tz": -330
    },
    "id": "T7NZhWc4Q0Yg"
   },
   "outputs": [],
   "source": [
    "data_6 = data_6.reset_index(drop = True)"
   ]
  },
  {
   "cell_type": "code",
   "execution_count": 39,
   "metadata": {
    "colab": {
     "background_save": true,
     "base_uri": "https://localhost:8080/",
     "height": 424
    },
    "executionInfo": {
     "elapsed": 78,
     "status": "ok",
     "timestamp": 1692722767997,
     "user": {
      "displayName": "yash vaddoriya",
      "userId": "15193926449796532411"
     },
     "user_tz": -330
    },
    "id": "yEgY3wiRQiCC",
    "scrolled": true
   },
   "outputs": [
    {
     "data": {
      "text/html": [
       "<div>\n",
       "<style scoped>\n",
       "    .dataframe tbody tr th:only-of-type {\n",
       "        vertical-align: middle;\n",
       "    }\n",
       "\n",
       "    .dataframe tbody tr th {\n",
       "        vertical-align: top;\n",
       "    }\n",
       "\n",
       "    .dataframe thead th {\n",
       "        text-align: right;\n",
       "    }\n",
       "</style>\n",
       "<table border=\"1\" class=\"dataframe\">\n",
       "  <thead>\n",
       "    <tr style=\"text-align: right;\">\n",
       "      <th></th>\n",
       "      <th>Rating</th>\n",
       "      <th>Reviews</th>\n",
       "      <th>Star Rating</th>\n",
       "      <th>Distance to Landmark</th>\n",
       "      <th>Price</th>\n",
       "      <th>Good</th>\n",
       "      <th>Very Good</th>\n",
       "      <th>Location_frequantly_encoded</th>\n",
       "      <th>Landmark_encoded</th>\n",
       "    </tr>\n",
       "  </thead>\n",
       "  <tbody>\n",
       "    <tr>\n",
       "      <th>0</th>\n",
       "      <td>4.0</td>\n",
       "      <td>5593</td>\n",
       "      <td>5.0</td>\n",
       "      <td>930.0</td>\n",
       "      <td>6,499</td>\n",
       "      <td>0</td>\n",
       "      <td>1</td>\n",
       "      <td>0.356436</td>\n",
       "      <td>0.365591</td>\n",
       "    </tr>\n",
       "    <tr>\n",
       "      <th>1</th>\n",
       "      <td>4.6</td>\n",
       "      <td>4987</td>\n",
       "      <td>5.0</td>\n",
       "      <td>7800.0</td>\n",
       "      <td>8,750</td>\n",
       "      <td>0</td>\n",
       "      <td>0</td>\n",
       "      <td>0.039604</td>\n",
       "      <td>0.365591</td>\n",
       "    </tr>\n",
       "    <tr>\n",
       "      <th>2</th>\n",
       "      <td>4.5</td>\n",
       "      <td>2445</td>\n",
       "      <td>5.0</td>\n",
       "      <td>620.0</td>\n",
       "      <td>14,000</td>\n",
       "      <td>0</td>\n",
       "      <td>0</td>\n",
       "      <td>0.069307</td>\n",
       "      <td>0.010753</td>\n",
       "    </tr>\n",
       "    <tr>\n",
       "      <th>3</th>\n",
       "      <td>3.9</td>\n",
       "      <td>4707</td>\n",
       "      <td>4.0</td>\n",
       "      <td>2300.0</td>\n",
       "      <td>5,099</td>\n",
       "      <td>0</td>\n",
       "      <td>1</td>\n",
       "      <td>0.356436</td>\n",
       "      <td>0.462366</td>\n",
       "    </tr>\n",
       "    <tr>\n",
       "      <th>4</th>\n",
       "      <td>4.6</td>\n",
       "      <td>5563</td>\n",
       "      <td>5.0</td>\n",
       "      <td>470.0</td>\n",
       "      <td>11,250</td>\n",
       "      <td>0</td>\n",
       "      <td>0</td>\n",
       "      <td>0.019802</td>\n",
       "      <td>0.064516</td>\n",
       "    </tr>\n",
       "    <tr>\n",
       "      <th>...</th>\n",
       "      <td>...</td>\n",
       "      <td>...</td>\n",
       "      <td>...</td>\n",
       "      <td>...</td>\n",
       "      <td>...</td>\n",
       "      <td>...</td>\n",
       "      <td>...</td>\n",
       "      <td>...</td>\n",
       "      <td>...</td>\n",
       "    </tr>\n",
       "    <tr>\n",
       "      <th>88</th>\n",
       "      <td>3.3</td>\n",
       "      <td>1154</td>\n",
       "      <td>3.0</td>\n",
       "      <td>1600.0</td>\n",
       "      <td>4,205</td>\n",
       "      <td>1</td>\n",
       "      <td>0</td>\n",
       "      <td>0.356436</td>\n",
       "      <td>0.365591</td>\n",
       "    </tr>\n",
       "    <tr>\n",
       "      <th>89</th>\n",
       "      <td>3.6</td>\n",
       "      <td>214</td>\n",
       "      <td>NaN</td>\n",
       "      <td>3400.0</td>\n",
       "      <td>678</td>\n",
       "      <td>0</td>\n",
       "      <td>1</td>\n",
       "      <td>0.009901</td>\n",
       "      <td>0.462366</td>\n",
       "    </tr>\n",
       "    <tr>\n",
       "      <th>90</th>\n",
       "      <td>3.8</td>\n",
       "      <td>1064</td>\n",
       "      <td>3.0</td>\n",
       "      <td>2200.0</td>\n",
       "      <td>3,726</td>\n",
       "      <td>0</td>\n",
       "      <td>1</td>\n",
       "      <td>0.356436</td>\n",
       "      <td>0.365591</td>\n",
       "    </tr>\n",
       "    <tr>\n",
       "      <th>91</th>\n",
       "      <td>4.1</td>\n",
       "      <td>2183</td>\n",
       "      <td>4.0</td>\n",
       "      <td>6100.0</td>\n",
       "      <td>7,250</td>\n",
       "      <td>0</td>\n",
       "      <td>1</td>\n",
       "      <td>0.356436</td>\n",
       "      <td>0.462366</td>\n",
       "    </tr>\n",
       "    <tr>\n",
       "      <th>92</th>\n",
       "      <td>4.0</td>\n",
       "      <td>1866</td>\n",
       "      <td>4.0</td>\n",
       "      <td>3200.0</td>\n",
       "      <td>4,883</td>\n",
       "      <td>0</td>\n",
       "      <td>1</td>\n",
       "      <td>0.118812</td>\n",
       "      <td>0.365591</td>\n",
       "    </tr>\n",
       "  </tbody>\n",
       "</table>\n",
       "<p>93 rows × 9 columns</p>\n",
       "</div>"
      ],
      "text/plain": [
       "    Rating  Reviews  Star Rating  Distance to Landmark   Price  Good  \\\n",
       "0      4.0     5593          5.0                 930.0   6,499     0   \n",
       "1      4.6     4987          5.0                7800.0   8,750     0   \n",
       "2      4.5     2445          5.0                 620.0  14,000     0   \n",
       "3      3.9     4707          4.0                2300.0   5,099     0   \n",
       "4      4.6     5563          5.0                 470.0  11,250     0   \n",
       "..     ...      ...          ...                   ...     ...   ...   \n",
       "88     3.3     1154          3.0                1600.0   4,205     1   \n",
       "89     3.6      214          NaN                3400.0     678     0   \n",
       "90     3.8     1064          3.0                2200.0   3,726     0   \n",
       "91     4.1     2183          4.0                6100.0   7,250     0   \n",
       "92     4.0     1866          4.0                3200.0   4,883     0   \n",
       "\n",
       "    Very Good  Location_frequantly_encoded  Landmark_encoded  \n",
       "0           1                     0.356436          0.365591  \n",
       "1           0                     0.039604          0.365591  \n",
       "2           0                     0.069307          0.010753  \n",
       "3           1                     0.356436          0.462366  \n",
       "4           0                     0.019802          0.064516  \n",
       "..        ...                          ...               ...  \n",
       "88          0                     0.356436          0.365591  \n",
       "89          1                     0.009901          0.462366  \n",
       "90          1                     0.356436          0.365591  \n",
       "91          1                     0.356436          0.462366  \n",
       "92          1                     0.118812          0.365591  \n",
       "\n",
       "[93 rows x 9 columns]"
      ]
     },
     "execution_count": 39,
     "metadata": {},
     "output_type": "execute_result"
    }
   ],
   "source": [
    "data_6"
   ]
  },
  {
   "cell_type": "code",
   "execution_count": 40,
   "metadata": {},
   "outputs": [
    {
     "data": {
      "text/plain": [
       "Rating                          0\n",
       "Reviews                         0\n",
       "Star Rating                    14\n",
       "Distance to Landmark            0\n",
       "Price                           0\n",
       "Good                            0\n",
       "Very Good                       0\n",
       "Location_frequantly_encoded     0\n",
       "Landmark_encoded                0\n",
       "dtype: int64"
      ]
     },
     "execution_count": 40,
     "metadata": {},
     "output_type": "execute_result"
    }
   ],
   "source": [
    "data_6.isnull().sum()"
   ]
  },
  {
   "cell_type": "code",
   "execution_count": 41,
   "metadata": {
    "colab": {
     "background_save": true
    },
    "executionInfo": {
     "elapsed": 76,
     "status": "ok",
     "timestamp": 1692722767997,
     "user": {
      "displayName": "yash vaddoriya",
      "userId": "15193926449796532411"
     },
     "user_tz": -330
    },
    "id": "iY2IqBhcQlxx"
   },
   "outputs": [],
   "source": [
    "data_6 = data_6.drop('Star Rating',axis=1)"
   ]
  },
  {
   "cell_type": "code",
   "execution_count": 42,
   "metadata": {
    "colab": {
     "background_save": true
    },
    "executionInfo": {
     "elapsed": 76,
     "status": "ok",
     "timestamp": 1692722767997,
     "user": {
      "displayName": "yash vaddoriya",
      "userId": "15193926449796532411"
     },
     "user_tz": -330
    },
    "id": "8FbXwTzGRSrC"
   },
   "outputs": [],
   "source": [
    "data_7 = data_6.copy()"
   ]
  },
  {
   "cell_type": "code",
   "execution_count": 43,
   "metadata": {
    "colab": {
     "background_save": true,
     "base_uri": "https://localhost:8080/",
     "height": 424
    },
    "executionInfo": {
     "elapsed": 76,
     "status": "ok",
     "timestamp": 1692722767997,
     "user": {
      "displayName": "yash vaddoriya",
      "userId": "15193926449796532411"
     },
     "user_tz": -330
    },
    "id": "46wI3nLGRZ5h"
   },
   "outputs": [
    {
     "data": {
      "text/html": [
       "<div>\n",
       "<style scoped>\n",
       "    .dataframe tbody tr th:only-of-type {\n",
       "        vertical-align: middle;\n",
       "    }\n",
       "\n",
       "    .dataframe tbody tr th {\n",
       "        vertical-align: top;\n",
       "    }\n",
       "\n",
       "    .dataframe thead th {\n",
       "        text-align: right;\n",
       "    }\n",
       "</style>\n",
       "<table border=\"1\" class=\"dataframe\">\n",
       "  <thead>\n",
       "    <tr style=\"text-align: right;\">\n",
       "      <th></th>\n",
       "      <th>Rating</th>\n",
       "      <th>Reviews</th>\n",
       "      <th>Distance to Landmark</th>\n",
       "      <th>Price</th>\n",
       "      <th>Good</th>\n",
       "      <th>Very Good</th>\n",
       "      <th>Location_frequantly_encoded</th>\n",
       "      <th>Landmark_encoded</th>\n",
       "    </tr>\n",
       "  </thead>\n",
       "  <tbody>\n",
       "    <tr>\n",
       "      <th>0</th>\n",
       "      <td>4.0</td>\n",
       "      <td>5593</td>\n",
       "      <td>930.0</td>\n",
       "      <td>6,499</td>\n",
       "      <td>0</td>\n",
       "      <td>1</td>\n",
       "      <td>0.356436</td>\n",
       "      <td>0.365591</td>\n",
       "    </tr>\n",
       "    <tr>\n",
       "      <th>1</th>\n",
       "      <td>4.6</td>\n",
       "      <td>4987</td>\n",
       "      <td>7800.0</td>\n",
       "      <td>8,750</td>\n",
       "      <td>0</td>\n",
       "      <td>0</td>\n",
       "      <td>0.039604</td>\n",
       "      <td>0.365591</td>\n",
       "    </tr>\n",
       "    <tr>\n",
       "      <th>2</th>\n",
       "      <td>4.5</td>\n",
       "      <td>2445</td>\n",
       "      <td>620.0</td>\n",
       "      <td>14,000</td>\n",
       "      <td>0</td>\n",
       "      <td>0</td>\n",
       "      <td>0.069307</td>\n",
       "      <td>0.010753</td>\n",
       "    </tr>\n",
       "    <tr>\n",
       "      <th>3</th>\n",
       "      <td>3.9</td>\n",
       "      <td>4707</td>\n",
       "      <td>2300.0</td>\n",
       "      <td>5,099</td>\n",
       "      <td>0</td>\n",
       "      <td>1</td>\n",
       "      <td>0.356436</td>\n",
       "      <td>0.462366</td>\n",
       "    </tr>\n",
       "    <tr>\n",
       "      <th>4</th>\n",
       "      <td>4.6</td>\n",
       "      <td>5563</td>\n",
       "      <td>470.0</td>\n",
       "      <td>11,250</td>\n",
       "      <td>0</td>\n",
       "      <td>0</td>\n",
       "      <td>0.019802</td>\n",
       "      <td>0.064516</td>\n",
       "    </tr>\n",
       "    <tr>\n",
       "      <th>...</th>\n",
       "      <td>...</td>\n",
       "      <td>...</td>\n",
       "      <td>...</td>\n",
       "      <td>...</td>\n",
       "      <td>...</td>\n",
       "      <td>...</td>\n",
       "      <td>...</td>\n",
       "      <td>...</td>\n",
       "    </tr>\n",
       "    <tr>\n",
       "      <th>88</th>\n",
       "      <td>3.3</td>\n",
       "      <td>1154</td>\n",
       "      <td>1600.0</td>\n",
       "      <td>4,205</td>\n",
       "      <td>1</td>\n",
       "      <td>0</td>\n",
       "      <td>0.356436</td>\n",
       "      <td>0.365591</td>\n",
       "    </tr>\n",
       "    <tr>\n",
       "      <th>89</th>\n",
       "      <td>3.6</td>\n",
       "      <td>214</td>\n",
       "      <td>3400.0</td>\n",
       "      <td>678</td>\n",
       "      <td>0</td>\n",
       "      <td>1</td>\n",
       "      <td>0.009901</td>\n",
       "      <td>0.462366</td>\n",
       "    </tr>\n",
       "    <tr>\n",
       "      <th>90</th>\n",
       "      <td>3.8</td>\n",
       "      <td>1064</td>\n",
       "      <td>2200.0</td>\n",
       "      <td>3,726</td>\n",
       "      <td>0</td>\n",
       "      <td>1</td>\n",
       "      <td>0.356436</td>\n",
       "      <td>0.365591</td>\n",
       "    </tr>\n",
       "    <tr>\n",
       "      <th>91</th>\n",
       "      <td>4.1</td>\n",
       "      <td>2183</td>\n",
       "      <td>6100.0</td>\n",
       "      <td>7,250</td>\n",
       "      <td>0</td>\n",
       "      <td>1</td>\n",
       "      <td>0.356436</td>\n",
       "      <td>0.462366</td>\n",
       "    </tr>\n",
       "    <tr>\n",
       "      <th>92</th>\n",
       "      <td>4.0</td>\n",
       "      <td>1866</td>\n",
       "      <td>3200.0</td>\n",
       "      <td>4,883</td>\n",
       "      <td>0</td>\n",
       "      <td>1</td>\n",
       "      <td>0.118812</td>\n",
       "      <td>0.365591</td>\n",
       "    </tr>\n",
       "  </tbody>\n",
       "</table>\n",
       "<p>93 rows × 8 columns</p>\n",
       "</div>"
      ],
      "text/plain": [
       "    Rating  Reviews  Distance to Landmark   Price  Good  Very Good  \\\n",
       "0      4.0     5593                 930.0   6,499     0          1   \n",
       "1      4.6     4987                7800.0   8,750     0          0   \n",
       "2      4.5     2445                 620.0  14,000     0          0   \n",
       "3      3.9     4707                2300.0   5,099     0          1   \n",
       "4      4.6     5563                 470.0  11,250     0          0   \n",
       "..     ...      ...                   ...     ...   ...        ...   \n",
       "88     3.3     1154                1600.0   4,205     1          0   \n",
       "89     3.6      214                3400.0     678     0          1   \n",
       "90     3.8     1064                2200.0   3,726     0          1   \n",
       "91     4.1     2183                6100.0   7,250     0          1   \n",
       "92     4.0     1866                3200.0   4,883     0          1   \n",
       "\n",
       "    Location_frequantly_encoded  Landmark_encoded  \n",
       "0                      0.356436          0.365591  \n",
       "1                      0.039604          0.365591  \n",
       "2                      0.069307          0.010753  \n",
       "3                      0.356436          0.462366  \n",
       "4                      0.019802          0.064516  \n",
       "..                          ...               ...  \n",
       "88                     0.356436          0.365591  \n",
       "89                     0.009901          0.462366  \n",
       "90                     0.356436          0.365591  \n",
       "91                     0.356436          0.462366  \n",
       "92                     0.118812          0.365591  \n",
       "\n",
       "[93 rows x 8 columns]"
      ]
     },
     "execution_count": 43,
     "metadata": {},
     "output_type": "execute_result"
    }
   ],
   "source": [
    "data_7"
   ]
  },
  {
   "cell_type": "code",
   "execution_count": 44,
   "metadata": {
    "colab": {
     "background_save": true
    },
    "executionInfo": {
     "elapsed": 76,
     "status": "ok",
     "timestamp": 1692722767998,
     "user": {
      "displayName": "yash vaddoriya",
      "userId": "15193926449796532411"
     },
     "user_tz": -330
    },
    "id": "XdvYl3ANSdhG"
   },
   "outputs": [],
   "source": [
    "data_7['Price'] = data_7['Price'].str.replace(',','').astype(float)"
   ]
  },
  {
   "cell_type": "code",
   "execution_count": 45,
   "metadata": {
    "colab": {
     "background_save": true,
     "base_uri": "https://localhost:8080/",
     "height": 424
    },
    "executionInfo": {
     "elapsed": 75,
     "status": "ok",
     "timestamp": 1692722767998,
     "user": {
      "displayName": "yash vaddoriya",
      "userId": "15193926449796532411"
     },
     "user_tz": -330
    },
    "id": "E6IJHOcbS1Ja"
   },
   "outputs": [
    {
     "data": {
      "text/html": [
       "<div>\n",
       "<style scoped>\n",
       "    .dataframe tbody tr th:only-of-type {\n",
       "        vertical-align: middle;\n",
       "    }\n",
       "\n",
       "    .dataframe tbody tr th {\n",
       "        vertical-align: top;\n",
       "    }\n",
       "\n",
       "    .dataframe thead th {\n",
       "        text-align: right;\n",
       "    }\n",
       "</style>\n",
       "<table border=\"1\" class=\"dataframe\">\n",
       "  <thead>\n",
       "    <tr style=\"text-align: right;\">\n",
       "      <th></th>\n",
       "      <th>Rating</th>\n",
       "      <th>Reviews</th>\n",
       "      <th>Distance to Landmark</th>\n",
       "      <th>Price</th>\n",
       "      <th>Good</th>\n",
       "      <th>Very Good</th>\n",
       "      <th>Location_frequantly_encoded</th>\n",
       "      <th>Landmark_encoded</th>\n",
       "    </tr>\n",
       "  </thead>\n",
       "  <tbody>\n",
       "    <tr>\n",
       "      <th>0</th>\n",
       "      <td>4.0</td>\n",
       "      <td>5593</td>\n",
       "      <td>930.0</td>\n",
       "      <td>6499.0</td>\n",
       "      <td>0</td>\n",
       "      <td>1</td>\n",
       "      <td>0.356436</td>\n",
       "      <td>0.365591</td>\n",
       "    </tr>\n",
       "    <tr>\n",
       "      <th>1</th>\n",
       "      <td>4.6</td>\n",
       "      <td>4987</td>\n",
       "      <td>7800.0</td>\n",
       "      <td>8750.0</td>\n",
       "      <td>0</td>\n",
       "      <td>0</td>\n",
       "      <td>0.039604</td>\n",
       "      <td>0.365591</td>\n",
       "    </tr>\n",
       "    <tr>\n",
       "      <th>2</th>\n",
       "      <td>4.5</td>\n",
       "      <td>2445</td>\n",
       "      <td>620.0</td>\n",
       "      <td>14000.0</td>\n",
       "      <td>0</td>\n",
       "      <td>0</td>\n",
       "      <td>0.069307</td>\n",
       "      <td>0.010753</td>\n",
       "    </tr>\n",
       "    <tr>\n",
       "      <th>3</th>\n",
       "      <td>3.9</td>\n",
       "      <td>4707</td>\n",
       "      <td>2300.0</td>\n",
       "      <td>5099.0</td>\n",
       "      <td>0</td>\n",
       "      <td>1</td>\n",
       "      <td>0.356436</td>\n",
       "      <td>0.462366</td>\n",
       "    </tr>\n",
       "    <tr>\n",
       "      <th>4</th>\n",
       "      <td>4.6</td>\n",
       "      <td>5563</td>\n",
       "      <td>470.0</td>\n",
       "      <td>11250.0</td>\n",
       "      <td>0</td>\n",
       "      <td>0</td>\n",
       "      <td>0.019802</td>\n",
       "      <td>0.064516</td>\n",
       "    </tr>\n",
       "    <tr>\n",
       "      <th>...</th>\n",
       "      <td>...</td>\n",
       "      <td>...</td>\n",
       "      <td>...</td>\n",
       "      <td>...</td>\n",
       "      <td>...</td>\n",
       "      <td>...</td>\n",
       "      <td>...</td>\n",
       "      <td>...</td>\n",
       "    </tr>\n",
       "    <tr>\n",
       "      <th>88</th>\n",
       "      <td>3.3</td>\n",
       "      <td>1154</td>\n",
       "      <td>1600.0</td>\n",
       "      <td>4205.0</td>\n",
       "      <td>1</td>\n",
       "      <td>0</td>\n",
       "      <td>0.356436</td>\n",
       "      <td>0.365591</td>\n",
       "    </tr>\n",
       "    <tr>\n",
       "      <th>89</th>\n",
       "      <td>3.6</td>\n",
       "      <td>214</td>\n",
       "      <td>3400.0</td>\n",
       "      <td>678.0</td>\n",
       "      <td>0</td>\n",
       "      <td>1</td>\n",
       "      <td>0.009901</td>\n",
       "      <td>0.462366</td>\n",
       "    </tr>\n",
       "    <tr>\n",
       "      <th>90</th>\n",
       "      <td>3.8</td>\n",
       "      <td>1064</td>\n",
       "      <td>2200.0</td>\n",
       "      <td>3726.0</td>\n",
       "      <td>0</td>\n",
       "      <td>1</td>\n",
       "      <td>0.356436</td>\n",
       "      <td>0.365591</td>\n",
       "    </tr>\n",
       "    <tr>\n",
       "      <th>91</th>\n",
       "      <td>4.1</td>\n",
       "      <td>2183</td>\n",
       "      <td>6100.0</td>\n",
       "      <td>7250.0</td>\n",
       "      <td>0</td>\n",
       "      <td>1</td>\n",
       "      <td>0.356436</td>\n",
       "      <td>0.462366</td>\n",
       "    </tr>\n",
       "    <tr>\n",
       "      <th>92</th>\n",
       "      <td>4.0</td>\n",
       "      <td>1866</td>\n",
       "      <td>3200.0</td>\n",
       "      <td>4883.0</td>\n",
       "      <td>0</td>\n",
       "      <td>1</td>\n",
       "      <td>0.118812</td>\n",
       "      <td>0.365591</td>\n",
       "    </tr>\n",
       "  </tbody>\n",
       "</table>\n",
       "<p>93 rows × 8 columns</p>\n",
       "</div>"
      ],
      "text/plain": [
       "    Rating  Reviews  Distance to Landmark    Price  Good  Very Good  \\\n",
       "0      4.0     5593                 930.0   6499.0     0          1   \n",
       "1      4.6     4987                7800.0   8750.0     0          0   \n",
       "2      4.5     2445                 620.0  14000.0     0          0   \n",
       "3      3.9     4707                2300.0   5099.0     0          1   \n",
       "4      4.6     5563                 470.0  11250.0     0          0   \n",
       "..     ...      ...                   ...      ...   ...        ...   \n",
       "88     3.3     1154                1600.0   4205.0     1          0   \n",
       "89     3.6      214                3400.0    678.0     0          1   \n",
       "90     3.8     1064                2200.0   3726.0     0          1   \n",
       "91     4.1     2183                6100.0   7250.0     0          1   \n",
       "92     4.0     1866                3200.0   4883.0     0          1   \n",
       "\n",
       "    Location_frequantly_encoded  Landmark_encoded  \n",
       "0                      0.356436          0.365591  \n",
       "1                      0.039604          0.365591  \n",
       "2                      0.069307          0.010753  \n",
       "3                      0.356436          0.462366  \n",
       "4                      0.019802          0.064516  \n",
       "..                          ...               ...  \n",
       "88                     0.356436          0.365591  \n",
       "89                     0.009901          0.462366  \n",
       "90                     0.356436          0.365591  \n",
       "91                     0.356436          0.462366  \n",
       "92                     0.118812          0.365591  \n",
       "\n",
       "[93 rows x 8 columns]"
      ]
     },
     "execution_count": 45,
     "metadata": {},
     "output_type": "execute_result"
    }
   ],
   "source": [
    "data_7"
   ]
  },
  {
   "cell_type": "code",
   "execution_count": 46,
   "metadata": {
    "colab": {
     "background_save": true,
     "base_uri": "https://localhost:8080/",
     "height": 300
    },
    "executionInfo": {
     "elapsed": 74,
     "status": "ok",
     "timestamp": 1692722767998,
     "user": {
      "displayName": "yash vaddoriya",
      "userId": "15193926449796532411"
     },
     "user_tz": -330
    },
    "id": "1legV3BDTSFw"
   },
   "outputs": [
    {
     "data": {
      "text/html": [
       "<div>\n",
       "<style scoped>\n",
       "    .dataframe tbody tr th:only-of-type {\n",
       "        vertical-align: middle;\n",
       "    }\n",
       "\n",
       "    .dataframe tbody tr th {\n",
       "        vertical-align: top;\n",
       "    }\n",
       "\n",
       "    .dataframe thead th {\n",
       "        text-align: right;\n",
       "    }\n",
       "</style>\n",
       "<table border=\"1\" class=\"dataframe\">\n",
       "  <thead>\n",
       "    <tr style=\"text-align: right;\">\n",
       "      <th></th>\n",
       "      <th>Rating</th>\n",
       "      <th>Reviews</th>\n",
       "      <th>Distance to Landmark</th>\n",
       "      <th>Price</th>\n",
       "      <th>Good</th>\n",
       "      <th>Very Good</th>\n",
       "      <th>Location_frequantly_encoded</th>\n",
       "      <th>Landmark_encoded</th>\n",
       "    </tr>\n",
       "  </thead>\n",
       "  <tbody>\n",
       "    <tr>\n",
       "      <th>count</th>\n",
       "      <td>93.000000</td>\n",
       "      <td>93.000000</td>\n",
       "      <td>93.000000</td>\n",
       "      <td>93.000000</td>\n",
       "      <td>93.000000</td>\n",
       "      <td>93.000000</td>\n",
       "      <td>93.000000</td>\n",
       "      <td>93.000000</td>\n",
       "    </tr>\n",
       "    <tr>\n",
       "      <th>mean</th>\n",
       "      <td>4.000000</td>\n",
       "      <td>1896.978495</td>\n",
       "      <td>3469.677419</td>\n",
       "      <td>6077.559140</td>\n",
       "      <td>0.086022</td>\n",
       "      <td>0.612903</td>\n",
       "      <td>0.173853</td>\n",
       "      <td>0.354376</td>\n",
       "    </tr>\n",
       "    <tr>\n",
       "      <th>std</th>\n",
       "      <td>0.402438</td>\n",
       "      <td>1686.723077</td>\n",
       "      <td>2495.591962</td>\n",
       "      <td>4046.946131</td>\n",
       "      <td>0.281916</td>\n",
       "      <td>0.489726</td>\n",
       "      <td>0.148654</td>\n",
       "      <td>0.150779</td>\n",
       "    </tr>\n",
       "    <tr>\n",
       "      <th>min</th>\n",
       "      <td>3.100000</td>\n",
       "      <td>4.000000</td>\n",
       "      <td>230.000000</td>\n",
       "      <td>404.000000</td>\n",
       "      <td>0.000000</td>\n",
       "      <td>0.000000</td>\n",
       "      <td>0.009901</td>\n",
       "      <td>0.010753</td>\n",
       "    </tr>\n",
       "    <tr>\n",
       "      <th>25%</th>\n",
       "      <td>3.700000</td>\n",
       "      <td>738.000000</td>\n",
       "      <td>1600.000000</td>\n",
       "      <td>3224.000000</td>\n",
       "      <td>0.000000</td>\n",
       "      <td>0.000000</td>\n",
       "      <td>0.049505</td>\n",
       "      <td>0.365591</td>\n",
       "    </tr>\n",
       "    <tr>\n",
       "      <th>50%</th>\n",
       "      <td>4.000000</td>\n",
       "      <td>1406.000000</td>\n",
       "      <td>3100.000000</td>\n",
       "      <td>5583.000000</td>\n",
       "      <td>0.000000</td>\n",
       "      <td>1.000000</td>\n",
       "      <td>0.118812</td>\n",
       "      <td>0.365591</td>\n",
       "    </tr>\n",
       "    <tr>\n",
       "      <th>75%</th>\n",
       "      <td>4.300000</td>\n",
       "      <td>2353.000000</td>\n",
       "      <td>5500.000000</td>\n",
       "      <td>8500.000000</td>\n",
       "      <td>0.000000</td>\n",
       "      <td>1.000000</td>\n",
       "      <td>0.356436</td>\n",
       "      <td>0.462366</td>\n",
       "    </tr>\n",
       "    <tr>\n",
       "      <th>max</th>\n",
       "      <td>4.800000</td>\n",
       "      <td>7303.000000</td>\n",
       "      <td>9500.000000</td>\n",
       "      <td>27000.000000</td>\n",
       "      <td>1.000000</td>\n",
       "      <td>1.000000</td>\n",
       "      <td>0.356436</td>\n",
       "      <td>0.462366</td>\n",
       "    </tr>\n",
       "  </tbody>\n",
       "</table>\n",
       "</div>"
      ],
      "text/plain": [
       "          Rating      Reviews  Distance to Landmark         Price       Good  \\\n",
       "count  93.000000    93.000000             93.000000     93.000000  93.000000   \n",
       "mean    4.000000  1896.978495           3469.677419   6077.559140   0.086022   \n",
       "std     0.402438  1686.723077           2495.591962   4046.946131   0.281916   \n",
       "min     3.100000     4.000000            230.000000    404.000000   0.000000   \n",
       "25%     3.700000   738.000000           1600.000000   3224.000000   0.000000   \n",
       "50%     4.000000  1406.000000           3100.000000   5583.000000   0.000000   \n",
       "75%     4.300000  2353.000000           5500.000000   8500.000000   0.000000   \n",
       "max     4.800000  7303.000000           9500.000000  27000.000000   1.000000   \n",
       "\n",
       "       Very Good  Location_frequantly_encoded  Landmark_encoded  \n",
       "count  93.000000                    93.000000         93.000000  \n",
       "mean    0.612903                     0.173853          0.354376  \n",
       "std     0.489726                     0.148654          0.150779  \n",
       "min     0.000000                     0.009901          0.010753  \n",
       "25%     0.000000                     0.049505          0.365591  \n",
       "50%     1.000000                     0.118812          0.365591  \n",
       "75%     1.000000                     0.356436          0.462366  \n",
       "max     1.000000                     0.356436          0.462366  "
      ]
     },
     "execution_count": 46,
     "metadata": {},
     "output_type": "execute_result"
    }
   ],
   "source": [
    "data_7.describe(include='all')"
   ]
  },
  {
   "cell_type": "code",
   "execution_count": 47,
   "metadata": {
    "colab": {
     "background_save": true,
     "base_uri": "https://localhost:8080/",
     "height": 666
    },
    "executionInfo": {
     "elapsed": 2638,
     "status": "ok",
     "timestamp": 1692722770564,
     "user": {
      "displayName": "yash vaddoriya",
      "userId": "15193926449796532411"
     },
     "user_tz": -330
    },
    "id": "Kdf2Wy769Ob9"
   },
   "outputs": [
    {
     "name": "stderr",
     "output_type": "stream",
     "text": [
      "C:\\Users\\patel\\AppData\\Local\\Temp\\ipykernel_2904\\2350065959.py:1: UserWarning: \n",
      "\n",
      "`distplot` is a deprecated function and will be removed in seaborn v0.14.0.\n",
      "\n",
      "Please adapt your code to use either `displot` (a figure-level function with\n",
      "similar flexibility) or `histplot` (an axes-level function for histograms).\n",
      "\n",
      "For a guide to updating your code to use the new functions, please see\n",
      "https://gist.github.com/mwaskom/de44147ed2974457ad6372750bbe5751\n",
      "\n",
      "  sns.distplot(data_7['Price'])\n"
     ]
    },
    {
     "data": {
      "text/plain": [
       "<Axes: xlabel='Price', ylabel='Density'>"
      ]
     },
     "execution_count": 47,
     "metadata": {},
     "output_type": "execute_result"
    },
    {
     "data": {
      "image/png": "[encoded data removed]",
      "text/plain": [
       "<Figure size 640x480 with 1 Axes>"
      ]
     },
     "metadata": {},
     "output_type": "display_data"
    }
   ],
   "source": [
    "sns.distplot(data_7['Price'])"
   ]
  },
  {
   "cell_type": "code",
   "execution_count": 49,
   "metadata": {
    "colab": {
     "background_save": true
    },
    "executionInfo": {
     "elapsed": 113,
     "status": "ok",
     "timestamp": 1692722773278,
     "user": {
      "displayName": "yash vaddoriya",
      "userId": "15193926449796532411"
     },
     "user_tz": -330
    },
    "id": "27g400Hc2Vlw"
   },
   "outputs": [],
   "source": [
    "Log_price = np.log(data_7['Price'])\n"
   ]
  },
  {
   "cell_type": "code",
   "execution_count": 50,
   "metadata": {
    "colab": {
     "background_save": true
    },
    "executionInfo": {
     "elapsed": 112,
     "status": "ok",
     "timestamp": 1692722773279,
     "user": {
      "displayName": "yash vaddoriya",
      "userId": "15193926449796532411"
     },
     "user_tz": -330
    },
    "id": "-PVReYE02eBZ"
   },
   "outputs": [],
   "source": [
    "data_7['Log_price'] = Log_price"
   ]
  },
  {
   "cell_type": "code",
   "execution_count": 51,
   "metadata": {
    "colab": {
     "background_save": true,
     "base_uri": "https://localhost:8080/",
     "height": 802
    },
    "executionInfo": {
     "elapsed": 112,
     "status": "ok",
     "timestamp": 1692722773279,
     "user": {
      "displayName": "yash vaddoriya",
      "userId": "15193926449796532411"
     },
     "user_tz": -330
    },
    "id": "Q3S73i1T24Ql"
   },
   "outputs": [
    {
     "data": {
      "text/html": [
       "<div>\n",
       "<style scoped>\n",
       "    .dataframe tbody tr th:only-of-type {\n",
       "        vertical-align: middle;\n",
       "    }\n",
       "\n",
       "    .dataframe tbody tr th {\n",
       "        vertical-align: top;\n",
       "    }\n",
       "\n",
       "    .dataframe thead th {\n",
       "        text-align: right;\n",
       "    }\n",
       "</style>\n",
       "<table border=\"1\" class=\"dataframe\">\n",
       "  <thead>\n",
       "    <tr style=\"text-align: right;\">\n",
       "      <th></th>\n",
       "      <th>Rating</th>\n",
       "      <th>Reviews</th>\n",
       "      <th>Distance to Landmark</th>\n",
       "      <th>Price</th>\n",
       "      <th>Good</th>\n",
       "      <th>Very Good</th>\n",
       "      <th>Location_frequantly_encoded</th>\n",
       "      <th>Landmark_encoded</th>\n",
       "      <th>Log_price</th>\n",
       "    </tr>\n",
       "  </thead>\n",
       "  <tbody>\n",
       "    <tr>\n",
       "      <th>0</th>\n",
       "      <td>4.0</td>\n",
       "      <td>5593</td>\n",
       "      <td>930.0</td>\n",
       "      <td>6499.0</td>\n",
       "      <td>0</td>\n",
       "      <td>1</td>\n",
       "      <td>0.356436</td>\n",
       "      <td>0.365591</td>\n",
       "      <td>8.779404</td>\n",
       "    </tr>\n",
       "    <tr>\n",
       "      <th>1</th>\n",
       "      <td>4.6</td>\n",
       "      <td>4987</td>\n",
       "      <td>7800.0</td>\n",
       "      <td>8750.0</td>\n",
       "      <td>0</td>\n",
       "      <td>0</td>\n",
       "      <td>0.039604</td>\n",
       "      <td>0.365591</td>\n",
       "      <td>9.076809</td>\n",
       "    </tr>\n",
       "    <tr>\n",
       "      <th>2</th>\n",
       "      <td>4.5</td>\n",
       "      <td>2445</td>\n",
       "      <td>620.0</td>\n",
       "      <td>14000.0</td>\n",
       "      <td>0</td>\n",
       "      <td>0</td>\n",
       "      <td>0.069307</td>\n",
       "      <td>0.010753</td>\n",
       "      <td>9.546813</td>\n",
       "    </tr>\n",
       "    <tr>\n",
       "      <th>3</th>\n",
       "      <td>3.9</td>\n",
       "      <td>4707</td>\n",
       "      <td>2300.0</td>\n",
       "      <td>5099.0</td>\n",
       "      <td>0</td>\n",
       "      <td>1</td>\n",
       "      <td>0.356436</td>\n",
       "      <td>0.462366</td>\n",
       "      <td>8.536800</td>\n",
       "    </tr>\n",
       "    <tr>\n",
       "      <th>4</th>\n",
       "      <td>4.6</td>\n",
       "      <td>5563</td>\n",
       "      <td>470.0</td>\n",
       "      <td>11250.0</td>\n",
       "      <td>0</td>\n",
       "      <td>0</td>\n",
       "      <td>0.019802</td>\n",
       "      <td>0.064516</td>\n",
       "      <td>9.328123</td>\n",
       "    </tr>\n",
       "    <tr>\n",
       "      <th>...</th>\n",
       "      <td>...</td>\n",
       "      <td>...</td>\n",
       "      <td>...</td>\n",
       "      <td>...</td>\n",
       "      <td>...</td>\n",
       "      <td>...</td>\n",
       "      <td>...</td>\n",
       "      <td>...</td>\n",
       "      <td>...</td>\n",
       "    </tr>\n",
       "    <tr>\n",
       "      <th>88</th>\n",
       "      <td>3.3</td>\n",
       "      <td>1154</td>\n",
       "      <td>1600.0</td>\n",
       "      <td>4205.0</td>\n",
       "      <td>1</td>\n",
       "      <td>0</td>\n",
       "      <td>0.356436</td>\n",
       "      <td>0.365591</td>\n",
       "      <td>8.344030</td>\n",
       "    </tr>\n",
       "    <tr>\n",
       "      <th>89</th>\n",
       "      <td>3.6</td>\n",
       "      <td>214</td>\n",
       "      <td>3400.0</td>\n",
       "      <td>678.0</td>\n",
       "      <td>0</td>\n",
       "      <td>1</td>\n",
       "      <td>0.009901</td>\n",
       "      <td>0.462366</td>\n",
       "      <td>6.519147</td>\n",
       "    </tr>\n",
       "    <tr>\n",
       "      <th>90</th>\n",
       "      <td>3.8</td>\n",
       "      <td>1064</td>\n",
       "      <td>2200.0</td>\n",
       "      <td>3726.0</td>\n",
       "      <td>0</td>\n",
       "      <td>1</td>\n",
       "      <td>0.356436</td>\n",
       "      <td>0.365591</td>\n",
       "      <td>8.223091</td>\n",
       "    </tr>\n",
       "    <tr>\n",
       "      <th>91</th>\n",
       "      <td>4.1</td>\n",
       "      <td>2183</td>\n",
       "      <td>6100.0</td>\n",
       "      <td>7250.0</td>\n",
       "      <td>0</td>\n",
       "      <td>1</td>\n",
       "      <td>0.356436</td>\n",
       "      <td>0.462366</td>\n",
       "      <td>8.888757</td>\n",
       "    </tr>\n",
       "    <tr>\n",
       "      <th>92</th>\n",
       "      <td>4.0</td>\n",
       "      <td>1866</td>\n",
       "      <td>3200.0</td>\n",
       "      <td>4883.0</td>\n",
       "      <td>0</td>\n",
       "      <td>1</td>\n",
       "      <td>0.118812</td>\n",
       "      <td>0.365591</td>\n",
       "      <td>8.493515</td>\n",
       "    </tr>\n",
       "  </tbody>\n",
       "</table>\n",
       "<p>93 rows × 9 columns</p>\n",
       "</div>"
      ],
      "text/plain": [
       "    Rating  Reviews  Distance to Landmark    Price  Good  Very Good  \\\n",
       "0      4.0     5593                 930.0   6499.0     0          1   \n",
       "1      4.6     4987                7800.0   8750.0     0          0   \n",
       "2      4.5     2445                 620.0  14000.0     0          0   \n",
       "3      3.9     4707                2300.0   5099.0     0          1   \n",
       "4      4.6     5563                 470.0  11250.0     0          0   \n",
       "..     ...      ...                   ...      ...   ...        ...   \n",
       "88     3.3     1154                1600.0   4205.0     1          0   \n",
       "89     3.6      214                3400.0    678.0     0          1   \n",
       "90     3.8     1064                2200.0   3726.0     0          1   \n",
       "91     4.1     2183                6100.0   7250.0     0          1   \n",
       "92     4.0     1866                3200.0   4883.0     0          1   \n",
       "\n",
       "    Location_frequantly_encoded  Landmark_encoded  Log_price  \n",
       "0                      0.356436          0.365591   8.779404  \n",
       "1                      0.039604          0.365591   9.076809  \n",
       "2                      0.069307          0.010753   9.546813  \n",
       "3                      0.356436          0.462366   8.536800  \n",
       "4                      0.019802          0.064516   9.328123  \n",
       "..                          ...               ...        ...  \n",
       "88                     0.356436          0.365591   8.344030  \n",
       "89                     0.009901          0.462366   6.519147  \n",
       "90                     0.356436          0.365591   8.223091  \n",
       "91                     0.356436          0.462366   8.888757  \n",
       "92                     0.118812          0.365591   8.493515  \n",
       "\n",
       "[93 rows x 9 columns]"
      ]
     },
     "execution_count": 51,
     "metadata": {},
     "output_type": "execute_result"
    }
   ],
   "source": [
    "data_7"
   ]
  },
  {
   "cell_type": "code",
   "execution_count": 53,
   "metadata": {
    "colab": {
     "background_save": true
    },
    "executionInfo": {
     "elapsed": 111,
     "status": "ok",
     "timestamp": 1692722773280,
     "user": {
      "displayName": "yash vaddoriya",
      "userId": "15193926449796532411"
     },
     "user_tz": -330
    },
    "id": "-2vZGNsp253l"
   },
   "outputs": [],
   "source": [
    "data_8 = data_7.copy()"
   ]
  },
  {
   "cell_type": "code",
   "execution_count": 54,
   "metadata": {
    "colab": {
     "background_save": true
    },
    "executionInfo": {
     "elapsed": 110,
     "status": "ok",
     "timestamp": 1692722773280,
     "user": {
      "displayName": "yash vaddoriya",
      "userId": "15193926449796532411"
     },
     "user_tz": -330
    },
    "id": "W6ZfuNQW2_nH"
   },
   "outputs": [],
   "source": [
    "data_8 = data_8.drop('Price',axis=1)"
   ]
  },
  {
   "cell_type": "code",
   "execution_count": 55,
   "metadata": {
    "colab": {
     "background_save": true,
     "base_uri": "https://localhost:8080/",
     "height": 666
    },
    "executionInfo": {
     "elapsed": 110,
     "status": "ok",
     "timestamp": 1692722773281,
     "user": {
      "displayName": "yash vaddoriya",
      "userId": "15193926449796532411"
     },
     "user_tz": -330
    },
    "id": "3lB-0z4d3Edo"
   },
   "outputs": [
    {
     "name": "stderr",
     "output_type": "stream",
     "text": [
      "C:\\Users\\patel\\AppData\\Local\\Temp\\ipykernel_2904\\3688290399.py:1: UserWarning: \n",
      "\n",
      "`distplot` is a deprecated function and will be removed in seaborn v0.14.0.\n",
      "\n",
      "Please adapt your code to use either `displot` (a figure-level function with\n",
      "similar flexibility) or `histplot` (an axes-level function for histograms).\n",
      "\n",
      "For a guide to updating your code to use the new functions, please see\n",
      "https://gist.github.com/mwaskom/de44147ed2974457ad6372750bbe5751\n",
      "\n",
      "  sns.distplot(data_8['Log_price'])\n"
     ]
    },
    {
     "data": {
      "text/plain": [
       "<Axes: xlabel='Log_price', ylabel='Density'>"
      ]
     },
     "execution_count": 55,
     "metadata": {},
     "output_type": "execute_result"
    },
    {
     "data": {
      "image/png": "[encoded data removed]",
      "text/plain": [
       "<Figure size 640x480 with 1 Axes>"
      ]
     },
     "metadata": {},
     "output_type": "display_data"
    }
   ],
   "source": [
    "sns.distplot(data_8['Log_price'])"
   ]
  },
  {
   "cell_type": "code",
   "execution_count": 57,
   "metadata": {
    "colab": {
     "background_save": true,
     "base_uri": "https://localhost:8080/"
    },
    "executionInfo": {
     "elapsed": 103,
     "status": "ok",
     "timestamp": 1692722773281,
     "user": {
      "displayName": "yash vaddoriya",
      "userId": "15193926449796532411"
     },
     "user_tz": -330
    },
    "id": "YAAtvee-3KlF"
   },
   "outputs": [
    {
     "data": {
      "text/plain": [
       "Rating                         0\n",
       "Reviews                        0\n",
       "Distance to Landmark           0\n",
       "Good                           0\n",
       "Very Good                      0\n",
       "Location_frequantly_encoded    0\n",
       "Landmark_encoded               0\n",
       "Log_price                      0\n",
       "dtype: int64"
      ]
     },
     "execution_count": 57,
     "metadata": {},
     "output_type": "execute_result"
    }
   ],
   "source": [
    "data_8.isnull().sum()"
   ]
  },
  {
   "cell_type": "code",
   "execution_count": 59,
   "metadata": {
    "executionInfo": {
     "elapsed": 100,
     "status": "ok",
     "timestamp": 1692722773282,
     "user": {
      "displayName": "yash vaddoriya",
      "userId": "15193926449796532411"
     },
     "user_tz": -330
    },
    "id": "JG84kVNPF0ys"
   },
   "outputs": [],
   "source": [
    "from statsmodels.stats.outliers_influence import variance_inflation_factor\n",
    "variables = data_8[['Log_price','Distance to Landmark','Reviews']]\n",
    "vif = pd.DataFrame()\n",
    "vif[\"VIF\"] = [variance_inflation_factor(variables.values, i) for i in range(variables.shape[1])]\n",
    "vif['Features'] = variables.columns"
   ]
  },
  {
   "cell_type": "code",
   "execution_count": 60,
   "metadata": {
    "colab": {
     "base_uri": "https://localhost:8080/",
     "height": 143
    },
    "executionInfo": {
     "elapsed": 99,
     "status": "ok",
     "timestamp": 1692722773282,
     "user": {
      "displayName": "yash vaddoriya",
      "userId": "15193926449796532411"
     },
     "user_tz": -330
    },
    "id": "TIn5DHfCGpYP",
    "outputId": "ef388f5e-0beb-40a9-fb19-f9f76b801aa3"
   },
   "outputs": [
    {
     "data": {
      "text/html": [
       "<div>\n",
       "<style scoped>\n",
       "    .dataframe tbody tr th:only-of-type {\n",
       "        vertical-align: middle;\n",
       "    }\n",
       "\n",
       "    .dataframe tbody tr th {\n",
       "        vertical-align: top;\n",
       "    }\n",
       "\n",
       "    .dataframe thead th {\n",
       "        text-align: right;\n",
       "    }\n",
       "</style>\n",
       "<table border=\"1\" class=\"dataframe\">\n",
       "  <thead>\n",
       "    <tr style=\"text-align: right;\">\n",
       "      <th></th>\n",
       "      <th>VIF</th>\n",
       "      <th>Features</th>\n",
       "    </tr>\n",
       "  </thead>\n",
       "  <tbody>\n",
       "    <tr>\n",
       "      <th>0</th>\n",
       "      <td>5.381312</td>\n",
       "      <td>Log_price</td>\n",
       "    </tr>\n",
       "    <tr>\n",
       "      <th>1</th>\n",
       "      <td>3.056117</td>\n",
       "      <td>Distance to Landmark</td>\n",
       "    </tr>\n",
       "    <tr>\n",
       "      <th>2</th>\n",
       "      <td>2.611077</td>\n",
       "      <td>Reviews</td>\n",
       "    </tr>\n",
       "  </tbody>\n",
       "</table>\n",
       "</div>"
      ],
      "text/plain": [
       "        VIF              Features\n",
       "0  5.381312             Log_price\n",
       "1  3.056117  Distance to Landmark\n",
       "2  2.611077               Reviews"
      ]
     },
     "execution_count": 60,
     "metadata": {},
     "output_type": "execute_result"
    }
   ],
   "source": [
    "vif"
   ]
  },
  {
   "cell_type": "code",
   "execution_count": 62,
   "metadata": {
    "colab": {
     "background_save": true,
     "base_uri": "https://localhost:8080/",
     "height": 802
    },
    "executionInfo": {
     "elapsed": 98,
     "status": "ok",
     "timestamp": 1692722773283,
     "user": {
      "displayName": "yash vaddoriya",
      "userId": "15193926449796532411"
     },
     "user_tz": -330
    },
    "id": "FAi8X_zk3XL5"
   },
   "outputs": [
    {
     "data": {
      "text/html": [
       "<div>\n",
       "<style scoped>\n",
       "    .dataframe tbody tr th:only-of-type {\n",
       "        vertical-align: middle;\n",
       "    }\n",
       "\n",
       "    .dataframe tbody tr th {\n",
       "        vertical-align: top;\n",
       "    }\n",
       "\n",
       "    .dataframe thead th {\n",
       "        text-align: right;\n",
       "    }\n",
       "</style>\n",
       "<table border=\"1\" class=\"dataframe\">\n",
       "  <thead>\n",
       "    <tr style=\"text-align: right;\">\n",
       "      <th></th>\n",
       "      <th>Rating</th>\n",
       "      <th>Reviews</th>\n",
       "      <th>Distance to Landmark</th>\n",
       "      <th>Good</th>\n",
       "      <th>Very Good</th>\n",
       "      <th>Location_frequantly_encoded</th>\n",
       "      <th>Landmark_encoded</th>\n",
       "    </tr>\n",
       "  </thead>\n",
       "  <tbody>\n",
       "    <tr>\n",
       "      <th>0</th>\n",
       "      <td>4.0</td>\n",
       "      <td>5593</td>\n",
       "      <td>930.0</td>\n",
       "      <td>0</td>\n",
       "      <td>1</td>\n",
       "      <td>0.356436</td>\n",
       "      <td>0.365591</td>\n",
       "    </tr>\n",
       "    <tr>\n",
       "      <th>1</th>\n",
       "      <td>4.6</td>\n",
       "      <td>4987</td>\n",
       "      <td>7800.0</td>\n",
       "      <td>0</td>\n",
       "      <td>0</td>\n",
       "      <td>0.039604</td>\n",
       "      <td>0.365591</td>\n",
       "    </tr>\n",
       "    <tr>\n",
       "      <th>2</th>\n",
       "      <td>4.5</td>\n",
       "      <td>2445</td>\n",
       "      <td>620.0</td>\n",
       "      <td>0</td>\n",
       "      <td>0</td>\n",
       "      <td>0.069307</td>\n",
       "      <td>0.010753</td>\n",
       "    </tr>\n",
       "    <tr>\n",
       "      <th>3</th>\n",
       "      <td>3.9</td>\n",
       "      <td>4707</td>\n",
       "      <td>2300.0</td>\n",
       "      <td>0</td>\n",
       "      <td>1</td>\n",
       "      <td>0.356436</td>\n",
       "      <td>0.462366</td>\n",
       "    </tr>\n",
       "    <tr>\n",
       "      <th>4</th>\n",
       "      <td>4.6</td>\n",
       "      <td>5563</td>\n",
       "      <td>470.0</td>\n",
       "      <td>0</td>\n",
       "      <td>0</td>\n",
       "      <td>0.019802</td>\n",
       "      <td>0.064516</td>\n",
       "    </tr>\n",
       "    <tr>\n",
       "      <th>...</th>\n",
       "      <td>...</td>\n",
       "      <td>...</td>\n",
       "      <td>...</td>\n",
       "      <td>...</td>\n",
       "      <td>...</td>\n",
       "      <td>...</td>\n",
       "      <td>...</td>\n",
       "    </tr>\n",
       "    <tr>\n",
       "      <th>88</th>\n",
       "      <td>3.3</td>\n",
       "      <td>1154</td>\n",
       "      <td>1600.0</td>\n",
       "      <td>1</td>\n",
       "      <td>0</td>\n",
       "      <td>0.356436</td>\n",
       "      <td>0.365591</td>\n",
       "    </tr>\n",
       "    <tr>\n",
       "      <th>89</th>\n",
       "      <td>3.6</td>\n",
       "      <td>214</td>\n",
       "      <td>3400.0</td>\n",
       "      <td>0</td>\n",
       "      <td>1</td>\n",
       "      <td>0.009901</td>\n",
       "      <td>0.462366</td>\n",
       "    </tr>\n",
       "    <tr>\n",
       "      <th>90</th>\n",
       "      <td>3.8</td>\n",
       "      <td>1064</td>\n",
       "      <td>2200.0</td>\n",
       "      <td>0</td>\n",
       "      <td>1</td>\n",
       "      <td>0.356436</td>\n",
       "      <td>0.365591</td>\n",
       "    </tr>\n",
       "    <tr>\n",
       "      <th>91</th>\n",
       "      <td>4.1</td>\n",
       "      <td>2183</td>\n",
       "      <td>6100.0</td>\n",
       "      <td>0</td>\n",
       "      <td>1</td>\n",
       "      <td>0.356436</td>\n",
       "      <td>0.462366</td>\n",
       "    </tr>\n",
       "    <tr>\n",
       "      <th>92</th>\n",
       "      <td>4.0</td>\n",
       "      <td>1866</td>\n",
       "      <td>3200.0</td>\n",
       "      <td>0</td>\n",
       "      <td>1</td>\n",
       "      <td>0.118812</td>\n",
       "      <td>0.365591</td>\n",
       "    </tr>\n",
       "  </tbody>\n",
       "</table>\n",
       "<p>93 rows × 7 columns</p>\n",
       "</div>"
      ],
      "text/plain": [
       "    Rating  Reviews  Distance to Landmark  Good  Very Good  \\\n",
       "0      4.0     5593                 930.0     0          1   \n",
       "1      4.6     4987                7800.0     0          0   \n",
       "2      4.5     2445                 620.0     0          0   \n",
       "3      3.9     4707                2300.0     0          1   \n",
       "4      4.6     5563                 470.0     0          0   \n",
       "..     ...      ...                   ...   ...        ...   \n",
       "88     3.3     1154                1600.0     1          0   \n",
       "89     3.6      214                3400.0     0          1   \n",
       "90     3.8     1064                2200.0     0          1   \n",
       "91     4.1     2183                6100.0     0          1   \n",
       "92     4.0     1866                3200.0     0          1   \n",
       "\n",
       "    Location_frequantly_encoded  Landmark_encoded  \n",
       "0                      0.356436          0.365591  \n",
       "1                      0.039604          0.365591  \n",
       "2                      0.069307          0.010753  \n",
       "3                      0.356436          0.462366  \n",
       "4                      0.019802          0.064516  \n",
       "..                          ...               ...  \n",
       "88                     0.356436          0.365591  \n",
       "89                     0.009901          0.462366  \n",
       "90                     0.356436          0.365591  \n",
       "91                     0.356436          0.462366  \n",
       "92                     0.118812          0.365591  \n",
       "\n",
       "[93 rows x 7 columns]"
      ]
     },
     "execution_count": 62,
     "metadata": {},
     "output_type": "execute_result"
    }
   ],
   "source": [
    "target = data_8['Log_price']\n",
    "inputs = data_8.drop('Log_price', axis=1)\n",
    "inputs"
   ]
  },
  {
   "cell_type": "code",
   "execution_count": 63,
   "metadata": {
    "colab": {
     "background_save": true
    },
    "executionInfo": {
     "elapsed": 97,
     "status": "ok",
     "timestamp": 1692722773283,
     "user": {
      "displayName": "yash vaddoriya",
      "userId": "15193926449796532411"
     },
     "user_tz": -330
    },
    "id": "MRR1k8PB4lPD"
   },
   "outputs": [],
   "source": [
    "inputs_1 = sm.add_constant(inputs)\n",
    "results = sm.OLS(target, inputs.astype(float)).fit()"
   ]
  },
  {
   "cell_type": "code",
   "execution_count": 64,
   "metadata": {
    "colab": {
     "background_save": true,
     "base_uri": "https://localhost:8080/",
     "height": 589
    },
    "executionInfo": {
     "elapsed": 98,
     "status": "ok",
     "timestamp": 1692722773284,
     "user": {
      "displayName": "yash vaddoriya",
      "userId": "15193926449796532411"
     },
     "user_tz": -330
    },
    "id": "VJVNn4oc42ml"
   },
   "outputs": [
    {
     "data": {
      "text/html": [
       "<table class=\"simpletable\">\n",
       "<caption>OLS Regression Results</caption>\n",
       "<tr>\n",
       "  <th>Dep. Variable:</th>        <td>Log_price</td>    <th>  R-squared (uncentered):</th>      <td>   0.994</td>\n",
       "</tr>\n",
       "<tr>\n",
       "  <th>Model:</th>                   <td>OLS</td>       <th>  Adj. R-squared (uncentered):</th> <td>   0.994</td>\n",
       "</tr>\n",
       "<tr>\n",
       "  <th>Method:</th>             <td>Least Squares</td>  <th>  F-statistic:       </th>          <td>   2178.</td>\n",
       "</tr>\n",
       "<tr>\n",
       "  <th>Date:</th>             <td>Wed, 23 Aug 2023</td> <th>  Prob (F-statistic):</th>          <td>6.32e-94</td>\n",
       "</tr>\n",
       "<tr>\n",
       "  <th>Time:</th>                 <td>08:20:49</td>     <th>  Log-Likelihood:    </th>          <td> -89.933</td>\n",
       "</tr>\n",
       "<tr>\n",
       "  <th>No. Observations:</th>      <td>    93</td>      <th>  AIC:               </th>          <td>   193.9</td>\n",
       "</tr>\n",
       "<tr>\n",
       "  <th>Df Residuals:</th>          <td>    86</td>      <th>  BIC:               </th>          <td>   211.6</td>\n",
       "</tr>\n",
       "<tr>\n",
       "  <th>Df Model:</th>              <td>     7</td>      <th>                     </th>              <td> </td>   \n",
       "</tr>\n",
       "<tr>\n",
       "  <th>Covariance Type:</th>      <td>nonrobust</td>    <th>                     </th>              <td> </td>   \n",
       "</tr>\n",
       "</table>\n",
       "<table class=\"simpletable\">\n",
       "<tr>\n",
       "               <td></td>                  <th>coef</th>     <th>std err</th>      <th>t</th>      <th>P>|t|</th>  <th>[0.025</th>    <th>0.975]</th>  \n",
       "</tr>\n",
       "<tr>\n",
       "  <th>Rating</th>                      <td>    1.9511</td> <td>    0.051</td> <td>   38.086</td> <td> 0.000</td> <td>    1.849</td> <td>    2.053</td>\n",
       "</tr>\n",
       "<tr>\n",
       "  <th>Reviews</th>                     <td>    0.0001</td> <td> 4.36e-05</td> <td>    2.860</td> <td> 0.005</td> <td>  3.8e-05</td> <td>    0.000</td>\n",
       "</tr>\n",
       "<tr>\n",
       "  <th>Distance to Landmark</th>        <td>    0.0001</td> <td> 4.51e-05</td> <td>    3.111</td> <td> 0.003</td> <td> 5.07e-05</td> <td>    0.000</td>\n",
       "</tr>\n",
       "<tr>\n",
       "  <th>Good</th>                        <td>    1.4624</td> <td>    0.263</td> <td>    5.565</td> <td> 0.000</td> <td>    0.940</td> <td>    1.985</td>\n",
       "</tr>\n",
       "<tr>\n",
       "  <th>Very Good</th>                   <td>    0.5200</td> <td>    0.143</td> <td>    3.629</td> <td> 0.000</td> <td>    0.235</td> <td>    0.805</td>\n",
       "</tr>\n",
       "<tr>\n",
       "  <th>Location_frequantly_encoded</th> <td>    2.3564</td> <td>    0.776</td> <td>    3.037</td> <td> 0.003</td> <td>    0.814</td> <td>    3.899</td>\n",
       "</tr>\n",
       "<tr>\n",
       "  <th>Landmark_encoded</th>            <td>   -2.6315</td> <td>    0.741</td> <td>   -3.552</td> <td> 0.001</td> <td>   -4.104</td> <td>   -1.159</td>\n",
       "</tr>\n",
       "</table>\n",
       "<table class=\"simpletable\">\n",
       "<tr>\n",
       "  <th>Omnibus:</th>       <td>24.178</td> <th>  Durbin-Watson:     </th> <td>   2.218</td>\n",
       "</tr>\n",
       "<tr>\n",
       "  <th>Prob(Omnibus):</th> <td> 0.000</td> <th>  Jarque-Bera (JB):  </th> <td>  35.055</td>\n",
       "</tr>\n",
       "<tr>\n",
       "  <th>Skew:</th>          <td>-1.178</td> <th>  Prob(JB):          </th> <td>2.44e-08</td>\n",
       "</tr>\n",
       "<tr>\n",
       "  <th>Kurtosis:</th>      <td> 4.870</td> <th>  Cond. No.          </th> <td>6.60e+04</td>\n",
       "</tr>\n",
       "</table><br/><br/>Notes:<br/>[1] R² is computed without centering (uncentered) since the model does not contain a constant.<br/>[2] Standard Errors assume that the covariance matrix of the errors is correctly specified.<br/>[3] The condition number is large, 6.6e+04. This might indicate that there are<br/>strong multicollinearity or other numerical problems."
      ],
      "text/latex": [
       "\\begin{center}\n",
       "\\begin{tabular}{lclc}\n",
       "\\toprule\n",
       "\\textbf{Dep. Variable:}                &    Log\\_price    & \\textbf{  R-squared (uncentered):}      &     0.994   \\\\\n",
       "\\textbf{Model:}                        &       OLS        & \\textbf{  Adj. R-squared (uncentered):} &     0.994   \\\\\n",
       "\\textbf{Method:}                       &  Least Squares   & \\textbf{  F-statistic:       }          &     2178.   \\\\\n",
       "\\textbf{Date:}                         & Wed, 23 Aug 2023 & \\textbf{  Prob (F-statistic):}          &  6.32e-94   \\\\\n",
       "\\textbf{Time:}                         &     08:20:49     & \\textbf{  Log-Likelihood:    }          &   -89.933   \\\\\n",
       "\\textbf{No. Observations:}             &          93      & \\textbf{  AIC:               }          &     193.9   \\\\\n",
       "\\textbf{Df Residuals:}                 &          86      & \\textbf{  BIC:               }          &     211.6   \\\\\n",
       "\\textbf{Df Model:}                     &           7      & \\textbf{                     }          &             \\\\\n",
       "\\textbf{Covariance Type:}              &    nonrobust     & \\textbf{                     }          &             \\\\\n",
       "\\bottomrule\n",
       "\\end{tabular}\n",
       "\\begin{tabular}{lcccccc}\n",
       "                                       & \\textbf{coef} & \\textbf{std err} & \\textbf{t} & \\textbf{P$> |$t$|$} & \\textbf{[0.025} & \\textbf{0.975]}  \\\\\n",
       "\\midrule\n",
       "\\textbf{Rating}                        &       1.9511  &        0.051     &    38.086  &         0.000        &        1.849    &        2.053     \\\\\n",
       "\\textbf{Reviews}                       &       0.0001  &     4.36e-05     &     2.860  &         0.005        &      3.8e-05    &        0.000     \\\\\n",
       "\\textbf{Distance to Landmark}          &       0.0001  &     4.51e-05     &     3.111  &         0.003        &     5.07e-05    &        0.000     \\\\\n",
       "\\textbf{Good}                          &       1.4624  &        0.263     &     5.565  &         0.000        &        0.940    &        1.985     \\\\\n",
       "\\textbf{Very Good}                     &       0.5200  &        0.143     &     3.629  &         0.000        &        0.235    &        0.805     \\\\\n",
       "\\textbf{Location\\_frequantly\\_encoded} &       2.3564  &        0.776     &     3.037  &         0.003        &        0.814    &        3.899     \\\\\n",
       "\\textbf{Landmark\\_encoded}             &      -2.6315  &        0.741     &    -3.552  &         0.001        &       -4.104    &       -1.159     \\\\\n",
       "\\bottomrule\n",
       "\\end{tabular}\n",
       "\\begin{tabular}{lclc}\n",
       "\\textbf{Omnibus:}       & 24.178 & \\textbf{  Durbin-Watson:     } &    2.218  \\\\\n",
       "\\textbf{Prob(Omnibus):} &  0.000 & \\textbf{  Jarque-Bera (JB):  } &   35.055  \\\\\n",
       "\\textbf{Skew:}          & -1.178 & \\textbf{  Prob(JB):          } & 2.44e-08  \\\\\n",
       "\\textbf{Kurtosis:}      &  4.870 & \\textbf{  Cond. No.          } & 6.60e+04  \\\\\n",
       "\\bottomrule\n",
       "\\end{tabular}\n",
       "%\\caption{OLS Regression Results}\n",
       "\\end{center}\n",
       "\n",
       "Notes: \\newline\n",
       " [1] R² is computed without centering (uncentered) since the model does not contain a constant. \\newline\n",
       " [2] Standard Errors assume that the covariance matrix of the errors is correctly specified. \\newline\n",
       " [3] The condition number is large, 6.6e+04. This might indicate that there are \\newline\n",
       " strong multicollinearity or other numerical problems."
      ],
      "text/plain": [
       "<class 'statsmodels.iolib.summary.Summary'>\n",
       "\"\"\"\n",
       "                                 OLS Regression Results                                \n",
       "=======================================================================================\n",
       "Dep. Variable:              Log_price   R-squared (uncentered):                   0.994\n",
       "Model:                            OLS   Adj. R-squared (uncentered):              0.994\n",
       "Method:                 Least Squares   F-statistic:                              2178.\n",
       "Date:                Wed, 23 Aug 2023   Prob (F-statistic):                    6.32e-94\n",
       "Time:                        08:20:49   Log-Likelihood:                         -89.933\n",
       "No. Observations:                  93   AIC:                                      193.9\n",
       "Df Residuals:                      86   BIC:                                      211.6\n",
       "Df Model:                           7                                                  \n",
       "Covariance Type:            nonrobust                                                  \n",
       "===============================================================================================\n",
       "                                  coef    std err          t      P>|t|      [0.025      0.975]\n",
       "-----------------------------------------------------------------------------------------------\n",
       "Rating                          1.9511      0.051     38.086      0.000       1.849       2.053\n",
       "Reviews                         0.0001   4.36e-05      2.860      0.005     3.8e-05       0.000\n",
       "Distance to Landmark            0.0001   4.51e-05      3.111      0.003    5.07e-05       0.000\n",
       "Good                            1.4624      0.263      5.565      0.000       0.940       1.985\n",
       "Very Good                       0.5200      0.143      3.629      0.000       0.235       0.805\n",
       "Location_frequantly_encoded     2.3564      0.776      3.037      0.003       0.814       3.899\n",
       "Landmark_encoded               -2.6315      0.741     -3.552      0.001      -4.104      -1.159\n",
       "==============================================================================\n",
       "Omnibus:                       24.178   Durbin-Watson:                   2.218\n",
       "Prob(Omnibus):                  0.000   Jarque-Bera (JB):               35.055\n",
       "Skew:                          -1.178   Prob(JB):                     2.44e-08\n",
       "Kurtosis:                       4.870   Cond. No.                     6.60e+04\n",
       "==============================================================================\n",
       "\n",
       "Notes:\n",
       "[1] R² is computed without centering (uncentered) since the model does not contain a constant.\n",
       "[2] Standard Errors assume that the covariance matrix of the errors is correctly specified.\n",
       "[3] The condition number is large, 6.6e+04. This might indicate that there are\n",
       "strong multicollinearity or other numerical problems.\n",
       "\"\"\""
      ]
     },
     "execution_count": 64,
     "metadata": {},
     "output_type": "execute_result"
    }
   ],
   "source": [
    "results.summary()"
   ]
  },
  {
   "cell_type": "code",
   "execution_count": 65,
   "metadata": {
    "colab": {
     "background_save": true
    },
    "executionInfo": {
     "elapsed": 95,
     "status": "ok",
     "timestamp": 1692722773284,
     "user": {
      "displayName": "yash vaddoriya",
      "userId": "15193926449796532411"
     },
     "user_tz": -330
    },
    "id": "IotY-46u442X"
   },
   "outputs": [],
   "source": [
    "inputs = pd.DataFrame(inputs, dtype=float)"
   ]
  },
  {
   "cell_type": "code",
   "execution_count": 66,
   "metadata": {
    "colab": {
     "background_save": true
    },
    "executionInfo": {
     "elapsed": 96,
     "status": "ok",
     "timestamp": 1692722773285,
     "user": {
      "displayName": "yash vaddoriya",
      "userId": "15193926449796532411"
     },
     "user_tz": -330
    },
    "id": "l50266Fi6jkt"
   },
   "outputs": [],
   "source": [
    "from sklearn.preprocessing import StandardScaler\n",
    "scaler = StandardScaler()"
   ]
  },
  {
   "cell_type": "code",
   "execution_count": 67,
   "metadata": {
    "colab": {
     "background_save": true,
     "base_uri": "https://localhost:8080/",
     "height": 74
    },
    "executionInfo": {
     "elapsed": 96,
     "status": "ok",
     "timestamp": 1692722773285,
     "user": {
      "displayName": "yash vaddoriya",
      "userId": "15193926449796532411"
     },
     "user_tz": -330
    },
    "id": "kDuF0QG76uTN"
   },
   "outputs": [
    {
     "data": {
      "text/html": [
       "<style>#sk-container-id-1 {color: black;}#sk-container-id-1 pre{padding: 0;}#sk-container-id-1 div.sk-toggleable {background-color: white;}#sk-container-id-1 label.sk-toggleable__label {cursor: pointer;display: block;width: 100%;margin-bottom: 0;padding: 0.3em;box-sizing: border-box;text-align: center;}#sk-container-id-1 label.sk-toggleable__label-arrow:before {content: \"▸\";float: left;margin-right: 0.25em;color: #696969;}#sk-container-id-1 label.sk-toggleable__label-arrow:hover:before {color: black;}#sk-container-id-1 div.sk-estimator:hover label.sk-toggleable__label-arrow:before {color: black;}#sk-container-id-1 div.sk-toggleable__content {max-height: 0;max-width: 0;overflow: hidden;text-align: left;background-color: #f0f8ff;}#sk-container-id-1 div.sk-toggleable__content pre {margin: 0.2em;color: black;border-radius: 0.25em;background-color: #f0f8ff;}#sk-container-id-1 input.sk-toggleable__control:checked~div.sk-toggleable__content {max-height: 200px;max-width: 100%;overflow: auto;}#sk-container-id-1 input.sk-toggleable__control:checked~label.sk-toggleable__label-arrow:before {content: \"▾\";}#sk-container-id-1 div.sk-estimator input.sk-toggleable__control:checked~label.sk-toggleable__label {background-color: #d4ebff;}#sk-container-id-1 div.sk-label input.sk-toggleable__control:checked~label.sk-toggleable__label {background-color: #d4ebff;}#sk-container-id-1 input.sk-hidden--visually {border: 0;clip: rect(1px 1px 1px 1px);clip: rect(1px, 1px, 1px, 1px);height: 1px;margin: -1px;overflow: hidden;padding: 0;position: absolute;width: 1px;}#sk-container-id-1 div.sk-estimator {font-family: monospace;background-color: #f0f8ff;border: 1px dotted black;border-radius: 0.25em;box-sizing: border-box;margin-bottom: 0.5em;}#sk-container-id-1 div.sk-estimator:hover {background-color: #d4ebff;}#sk-container-id-1 div.sk-parallel-item::after {content: \"\";width: 100%;border-bottom: 1px solid gray;flex-grow: 1;}#sk-container-id-1 div.sk-label:hover label.sk-toggleable__label {background-color: #d4ebff;}#sk-container-id-1 div.sk-serial::before {content: \"\";position: absolute;border-left: 1px solid gray;box-sizing: border-box;top: 0;bottom: 0;left: 50%;z-index: 0;}#sk-container-id-1 div.sk-serial {display: flex;flex-direction: column;align-items: center;background-color: white;padding-right: 0.2em;padding-left: 0.2em;position: relative;}#sk-container-id-1 div.sk-item {position: relative;z-index: 1;}#sk-container-id-1 div.sk-parallel {display: flex;align-items: stretch;justify-content: center;background-color: white;position: relative;}#sk-container-id-1 div.sk-item::before, #sk-container-id-1 div.sk-parallel-item::before {content: \"\";position: absolute;border-left: 1px solid gray;box-sizing: border-box;top: 0;bottom: 0;left: 50%;z-index: -1;}#sk-container-id-1 div.sk-parallel-item {display: flex;flex-direction: column;z-index: 1;position: relative;background-color: white;}#sk-container-id-1 div.sk-parallel-item:first-child::after {align-self: flex-end;width: 50%;}#sk-container-id-1 div.sk-parallel-item:last-child::after {align-self: flex-start;width: 50%;}#sk-container-id-1 div.sk-parallel-item:only-child::after {width: 0;}#sk-container-id-1 div.sk-dashed-wrapped {border: 1px dashed gray;margin: 0 0.4em 0.5em 0.4em;box-sizing: border-box;padding-bottom: 0.4em;background-color: white;}#sk-container-id-1 div.sk-label label {font-family: monospace;font-weight: bold;display: inline-block;line-height: 1.2em;}#sk-container-id-1 div.sk-label-container {text-align: center;}#sk-container-id-1 div.sk-container {/* jupyter's `normalize.less` sets `[hidden] { display: none; }` but bootstrap.min.css set `[hidden] { display: none !important; }` so we also need the `!important` here to be able to override the default hidden behavior on the sphinx rendered scikit-learn.org. See: https://github.com/scikit-learn/scikit-learn/issues/21755 */display: inline-block !important;position: relative;}#sk-container-id-1 div.sk-text-repr-fallback {display: none;}</style><div id=\"sk-container-id-1\" class=\"sk-top-container\"><div class=\"sk-text-repr-fallback\"><pre>StandardScaler()</pre><b>In a Jupyter environment, please rerun this cell to show the HTML representation or trust the notebook. <br />On GitHub, the HTML representation is unable to render, please try loading this page with nbviewer.org.</b></div><div class=\"sk-container\" hidden><div class=\"sk-item\"><div class=\"sk-estimator sk-toggleable\"><input class=\"sk-toggleable__control sk-hidden--visually\" id=\"sk-estimator-id-1\" type=\"checkbox\" checked><label for=\"sk-estimator-id-1\" class=\"sk-toggleable__label sk-toggleable__label-arrow\">StandardScaler</label><div class=\"sk-toggleable__content\"><pre>StandardScaler()</pre></div></div></div></div></div>"
      ],
      "text/plain": [
       "StandardScaler()"
      ]
     },
     "execution_count": 67,
     "metadata": {},
     "output_type": "execute_result"
    }
   ],
   "source": [
    "scaler.fit(inputs)"
   ]
  },
  {
   "cell_type": "code",
   "execution_count": 69,
   "metadata": {
    "colab": {
     "background_save": true
    },
    "executionInfo": {
     "elapsed": 95,
     "status": "ok",
     "timestamp": 1692722773286,
     "user": {
      "displayName": "yash vaddoriya",
      "userId": "15193926449796532411"
     },
     "user_tz": -330
    },
    "id": "_zugOMlb606r"
   },
   "outputs": [],
   "source": [
    "input_scale = scaler.transform(inputs)"
   ]
  },
  {
   "cell_type": "code",
   "execution_count": 70,
   "metadata": {
    "colab": {
     "background_save": true,
     "base_uri": "https://localhost:8080/"
    },
    "executionInfo": {
     "elapsed": 96,
     "status": "ok",
     "timestamp": 1692722773287,
     "user": {
      "displayName": "yash vaddoriya",
      "userId": "15193926449796532411"
     },
     "user_tz": -330
    },
    "id": "GUyEOTMD67_b"
   },
   "outputs": [
    {
     "data": {
      "text/plain": [
       "array([[-2.21895532e-15,  2.20312056e+00, -1.02318117e+00,\n",
       "        -3.06785996e-01,  7.94719414e-01,  1.23489358e+00,\n",
       "         7.47847492e-02],\n",
       "       [ 1.49899295e+00,  1.84189673e+00,  1.74459343e+00,\n",
       "        -3.06785996e-01, -1.25830574e+00, -9.07988806e-01,\n",
       "         7.47847492e-02],\n",
       "       [ 1.24916079e+00,  3.26664075e-01, -1.14807348e+00,\n",
       "        -3.06785996e-01, -1.25830574e+00, -7.07093583e-01,\n",
       "        -2.29134304e+00],\n",
       "       [-2.49832158e-01,  1.67499462e+00, -4.71237766e-01,\n",
       "        -3.06785996e-01,  7.94719414e-01,  1.23489358e+00,\n",
       "         7.20092328e-01],\n",
       "       [ 1.49899295e+00,  2.18523819e+00, -1.20850524e+00,\n",
       "        -3.06785996e-01, -1.25830574e+00, -1.04191896e+00,\n",
       "        -1.93283883e+00],\n",
       "       [ 2.49832158e-01,  2.72468963e+00, -8.74116165e-01,\n",
       "        -3.06785996e-01,  7.94719414e-01,  1.23489358e+00,\n",
       "         7.20092328e-01],\n",
       "       [-7.49496475e-01,  2.05231259e+00, -6.83593670e-02,\n",
       "        -3.06785996e-01,  7.94719414e-01, -3.72268210e-01,\n",
       "         7.47847492e-02],\n",
       "       [ 1.49899295e+00,  1.58915926e+00, -1.17224618e+00,\n",
       "        -3.06785996e-01, -1.25830574e+00,  1.23489358e+00,\n",
       "         7.47847492e-02],\n",
       "       [ 4.99664317e-01, -1.25759836e-01, -7.53252645e-01,\n",
       "        -3.06785996e-01,  7.94719414e-01,  1.23489358e+00,\n",
       "         7.20092328e-01],\n",
       "       [ 7.49496475e-01,  5.04891676e-01, -1.89222887e-01,\n",
       "        -3.06785996e-01, -1.25830574e+00,  1.23489358e+00,\n",
       "         7.20092328e-01],\n",
       "       [ 2.49832158e-01,  1.81745749e+00,  5.25041526e-02,\n",
       "        -3.06785996e-01,  7.94719414e-01, -3.72268210e-01,\n",
       "         7.20092328e-01],\n",
       "       [ 1.24916079e+00,  1.38589634e+00, -1.30519605e+00,\n",
       "        -3.06785996e-01, -1.25830574e+00, -1.04191896e+00,\n",
       "        -2.21964220e+00],\n",
       "       [ 2.49832158e-01,  3.16459588e+00,  9.38836630e-01,\n",
       "        -3.06785996e-01,  7.94719414e-01, -7.74058657e-01,\n",
       "         7.47847492e-02],\n",
       "       [ 4.99664317e-01,  3.22241554e+00, -1.09167050e+00,\n",
       "        -3.06785996e-01,  7.94719414e-01,  1.23489358e+00,\n",
       "         7.47847492e-02],\n",
       "       [-4.99664317e-01, -7.54027033e-01,  5.25041526e-02,\n",
       "        -3.06785996e-01,  7.94719414e-01, -3.72268210e-01,\n",
       "         7.20092328e-01],\n",
       "       [ 7.49496475e-01, -4.05205486e-02, -6.83593670e-02,\n",
       "        -3.06785996e-01, -1.25830574e+00,  1.23489358e+00,\n",
       "         7.20092328e-01],\n",
       "       [ 9.99328634e-01, -2.77759964e-01,  2.42948671e+00,\n",
       "        -3.06785996e-01, -1.25830574e+00, -8.41023732e-01,\n",
       "         7.47847492e-02],\n",
       "       [ 9.99328634e-01, -9.89362842e-02,  8.17973110e-01,\n",
       "        -3.06785996e-01, -1.25830574e+00, -7.74058657e-01,\n",
       "         7.47847492e-02],\n",
       "       [ 9.99328634e-01,  1.65890049e+00, -8.33828325e-01,\n",
       "        -3.06785996e-01, -1.25830574e+00,  1.23489358e+00,\n",
       "         7.20092328e-01],\n",
       "       [ 1.49899295e+00, -1.00318803e+00,  9.27919925e-02,\n",
       "        -3.06785996e-01, -1.25830574e+00, -3.72268210e-01,\n",
       "         7.47847492e-02],\n",
       "       [ 1.24916079e+00,  1.44263921e-01, -9.14404005e-01,\n",
       "        -3.06785996e-01, -1.25830574e+00,  1.23489358e+00,\n",
       "         7.20092328e-01],\n",
       "       [ 7.49496475e-01,  1.02049995e+00,  2.53943352e-01,\n",
       "        -3.06785996e-01, -1.25830574e+00, -3.72268210e-01,\n",
       "         7.20092328e-01],\n",
       "       [ 7.49496475e-01,  2.25926735e-01,  1.66401775e+00,\n",
       "        -3.06785996e-01, -1.25830574e+00, -9.07988806e-01,\n",
       "         7.47847492e-02],\n",
       "       [ 1.24916079e+00,  5.74632911e-01, -7.12964805e-01,\n",
       "        -3.06785996e-01, -1.25830574e+00,  1.23489358e+00,\n",
       "         7.20092328e-01],\n",
       "       [ 9.99328634e-01, -1.06994887e+00, -6.72676965e-01,\n",
       "        -3.06785996e-01, -1.25830574e+00,  1.23489358e+00,\n",
       "         7.20092328e-01],\n",
       "       [ 9.99328634e-01,  1.60358052e-01, -5.51813446e-01,\n",
       "        -3.06785996e-01, -1.25830574e+00,  1.23489358e+00,\n",
       "         7.20092328e-01],\n",
       "       [ 4.99664317e-01,  2.71824813e-01,  9.38836630e-01,\n",
       "        -3.06785996e-01,  7.94719414e-01, -7.74058657e-01,\n",
       "         7.47847492e-02],\n",
       "       [ 1.24916079e+00, -3.39156095e-01, -1.14001591e+00,\n",
       "        -3.06785996e-01, -1.25830574e+00, -7.07093583e-01,\n",
       "        -2.29134304e+00],\n",
       "       [-2.21895532e-15, -6.90842666e-01,  5.25041526e-02,\n",
       "        -3.06785996e-01,  7.94719414e-01, -3.72268210e-01,\n",
       "         7.20092328e-01],\n",
       "       [ 9.99328634e-01,  3.65409206e-01, -4.30949926e-01,\n",
       "        -3.06785996e-01, -1.25830574e+00, -7.07093583e-01,\n",
       "        -1.93283883e+00],\n",
       "       [-9.99328634e-01,  2.43809103e-01,  8.58260950e-01,\n",
       "        -3.06785996e-01,  7.94719414e-01, -7.74058657e-01,\n",
       "         7.47847492e-02],\n",
       "       [-9.99328634e-01,  5.54481598e-02, -1.12390077e+00,\n",
       "        -3.06785996e-01,  7.94719414e-01,  1.23489358e+00,\n",
       "         7.47847492e-02],\n",
       "       [-1.49899295e+00,  4.91181861e-01,  7.37397431e-01,\n",
       "         3.25960120e+00, -1.25830574e+00, -1.04191896e+00,\n",
       "         7.20092328e-01],\n",
       "       [ 2.49832158e-01, -9.14968345e-01,  1.22085151e+00,\n",
       "        -3.06785996e-01,  7.94719414e-01, -7.74058657e-01,\n",
       "         7.20092328e-01],\n",
       "       [-1.74882511e+00, -9.37619344e-01,  1.30142719e+00,\n",
       "         3.25960120e+00, -1.25830574e+00, -9.07988806e-01,\n",
       "         7.47847492e-02],\n",
       "       [-9.99328634e-01,  7.54052671e-01,  8.98548790e-01,\n",
       "        -3.06785996e-01,  7.94719414e-01, -7.74058657e-01,\n",
       "         7.47847492e-02],\n",
       "       [-2.21895532e-15, -4.31548329e-01,  6.97109591e-01,\n",
       "        -3.06785996e-01,  7.94719414e-01, -1.10888403e+00,\n",
       "         7.47847492e-02],\n",
       "       [-1.24916079e+00, -1.00199587e+00, -9.54691844e-01,\n",
       "        -3.06785996e-01,  7.94719414e-01, -1.04191896e+00,\n",
       "        -2.07624051e+00],\n",
       "       [-2.21895532e-15, -4.76734958e-02, -1.07152658e+00,\n",
       "        -3.06785996e-01,  7.94719414e-01,  1.23489358e+00,\n",
       "         7.47847492e-02],\n",
       "       [-4.99664317e-01, -8.45823189e-01,  2.02660831e+00,\n",
       "        -3.06785996e-01,  7.94719414e-01, -8.41023732e-01,\n",
       "         7.47847492e-02],\n",
       "       [ 7.49496475e-01, -2.50224963e-02,  9.27919925e-02,\n",
       "        -3.06785996e-01, -1.25830574e+00,  1.23489358e+00,\n",
       "         7.47847492e-02],\n",
       "       [ 4.99664317e-01, -3.60614936e-01, -1.28908092e+00,\n",
       "        -3.06785996e-01,  7.94719414e-01, -9.74953881e-01,\n",
       "        -1.93283883e+00],\n",
       "       [ 4.99664317e-01,  1.85024183e+00, -4.71237766e-01,\n",
       "        -3.06785996e-01,  7.94719414e-01,  1.23489358e+00,\n",
       "         7.20092328e-01],\n",
       "       [-7.49496475e-01,  7.40342855e-01, -1.08361293e+00,\n",
       "        -3.06785996e-01,  7.94719414e-01,  1.23489358e+00,\n",
       "         7.47847492e-02],\n",
       "       [-1.24916079e+00, -5.90701405e-01, -1.48935047e-01,\n",
       "        -3.06785996e-01,  7.94719414e-01,  1.23489358e+00,\n",
       "         7.20092328e-01],\n",
       "       [-1.99865727e+00, -9.18544819e-01, -4.71237766e-01,\n",
       "         3.25960120e+00, -1.25830574e+00,  1.23489358e+00,\n",
       "         7.20092328e-01],\n",
       "       [ 1.74882511e+00, -6.08583773e-01, -1.22864916e+00,\n",
       "        -3.06785996e-01, -1.25830574e+00, -1.04191896e+00,\n",
       "        -1.93283883e+00],\n",
       "       [ 4.99664317e-01, -2.13383440e-01, -1.08647207e-01,\n",
       "        -3.06785996e-01,  7.94719414e-01,  1.23489358e+00,\n",
       "         7.20092328e-01],\n",
       "       [-2.49832158e-01, -2.92661938e-01,  9.38836630e-01,\n",
       "        -3.06785996e-01,  7.94719414e-01, -9.07988806e-01,\n",
       "         7.47847492e-02],\n",
       "       [ 9.99328634e-01,  1.74067868e-01,  1.50286639e+00,\n",
       "        -3.06785996e-01, -1.25830574e+00, -7.74058657e-01,\n",
       "         7.20092328e-01],\n",
       "       [ 1.99865727e+00, -1.12836460e+00, -6.83593670e-02,\n",
       "        -3.06785996e-01, -1.25830574e+00, -3.72268210e-01,\n",
       "         7.20092328e-01],\n",
       "       [-4.99664317e-01, -9.00066372e-01, -1.01512360e+00,\n",
       "        -3.06785996e-01,  7.94719414e-01,  1.23489358e+00,\n",
       "         7.47847492e-02],\n",
       "       [ 4.99664317e-01, -3.27715225e-02,  2.18775967e+00,\n",
       "        -3.06785996e-01,  7.94719414e-01, -8.41023732e-01,\n",
       "         7.47847492e-02],\n",
       "       [ 2.49832158e-01, -4.58852590e-02, -7.12964805e-01,\n",
       "        -3.06785996e-01,  7.94719414e-01,  1.23489358e+00,\n",
       "         7.20092328e-01],\n",
       "       [ 1.49899295e+00, -1.10392537e+00,  1.70430559e+00,\n",
       "        -3.06785996e-01, -1.25830574e+00, -7.74058657e-01,\n",
       "         7.20092328e-01],\n",
       "       [-1.74882511e+00, -6.33619088e-01,  7.77685270e-01,\n",
       "         3.25960120e+00, -1.25830574e+00, -7.74058657e-01,\n",
       "         7.20092328e-01],\n",
       "       [-7.49496475e-01, -3.03987437e-01, -5.11525606e-01,\n",
       "        -3.06785996e-01,  7.94719414e-01,  1.23489358e+00,\n",
       "         7.20092328e-01],\n",
       "       [-1.24916079e+00, -2.19940308e-01, -1.89222887e-01,\n",
       "        -3.06785996e-01,  7.94719414e-01, -3.72268210e-01,\n",
       "         7.20092328e-01],\n",
       "       [ 2.49832158e-01, -8.04578372e-02,  8.58260950e-01,\n",
       "        -3.06785996e-01,  7.94719414e-01, -7.74058657e-01,\n",
       "         7.47847492e-02],\n",
       "       [ 2.49832158e-01, -3.34983542e-01, -5.11525606e-01,\n",
       "        -3.06785996e-01,  7.94719414e-01,  1.23489358e+00,\n",
       "         7.20092328e-01],\n",
       "       [ 9.99328634e-01, -6.56866166e-01,  1.42229071e+00,\n",
       "        -3.06785996e-01, -1.25830574e+00, -7.74058657e-01,\n",
       "         7.20092328e-01],\n",
       "       [ 7.49496475e-01, -3.66575726e-01,  1.30142719e+00,\n",
       "        -3.06785996e-01, -1.25830574e+00, -7.74058657e-01,\n",
       "         7.20092328e-01],\n",
       "       [ 4.99664317e-01, -1.04550963e+00,  1.98632047e+00,\n",
       "        -3.06785996e-01,  7.94719414e-01, -8.41023732e-01,\n",
       "         7.47847492e-02],\n",
       "       [-4.99664317e-01, -4.13665961e-01, -1.21656280e+00,\n",
       "        -3.06785996e-01,  7.94719414e-01, -9.74953881e-01,\n",
       "        -1.93283883e+00],\n",
       "       [-2.49832158e-01, -9.35831108e-01,  2.42948671e+00,\n",
       "        -3.06785996e-01,  7.94719414e-01, -1.10888403e+00,\n",
       "         7.20092328e-01],\n",
       "       [-1.74882511e+00, -6.55077930e-01, -6.32389125e-01,\n",
       "         3.25960120e+00, -1.25830574e+00,  1.23489358e+00,\n",
       "         7.20092328e-01],\n",
       "       [-2.21895532e-15, -4.14262040e-01, -2.80715271e-02,\n",
       "        -3.06785996e-01,  7.94719414e-01, -3.72268210e-01,\n",
       "         7.20092328e-01],\n",
       "       [-2.21895532e-15, -9.87689975e-01, -1.08647207e-01,\n",
       "        -3.06785996e-01,  7.94719414e-01, -3.72268210e-01,\n",
       "         7.20092328e-01],\n",
       "       [-4.99664317e-01, -1.05027826e+00,  1.78488127e+00,\n",
       "        -3.06785996e-01,  7.94719414e-01, -8.41023732e-01,\n",
       "         7.47847492e-02],\n",
       "       [-9.99328634e-01, -4.35124803e-01, -3.90662086e-01,\n",
       "        -3.06785996e-01,  7.94719414e-01, -1.04191896e+00,\n",
       "        -2.21964220e+00],\n",
       "       [-1.24916079e+00, -1.97289308e-01, -4.71237766e-01,\n",
       "        -3.06785996e-01,  7.94719414e-01, -7.07093583e-01,\n",
       "        -2.07624051e+00],\n",
       "       [-2.24848943e+00, -9.65635054e-01, -4.30949926e-01,\n",
       "         3.25960120e+00, -1.25830574e+00, -7.07093583e-01,\n",
       "        -2.07624051e+00],\n",
       "       [-2.21895532e-15,  3.38585653e-01, -5.92101285e-01,\n",
       "        -3.06785996e-01,  7.94719414e-01,  1.23489358e+00,\n",
       "         7.20092328e-01],\n",
       "       [ 1.74882511e+00, -6.52693614e-01, -1.28505213e+00,\n",
       "        -3.06785996e-01, -1.25830574e+00, -1.04191896e+00,\n",
       "        -2.07624051e+00],\n",
       "       [-7.49496475e-01, -3.55846305e-01,  8.17973110e-01,\n",
       "        -3.06785996e-01,  7.94719414e-01, -1.10888403e+00,\n",
       "         7.20092328e-01],\n",
       "       [-1.24916079e+00,  1.31265555e-02, -1.48935047e-01,\n",
       "        -3.06785996e-01,  7.94719414e-01,  1.23489358e+00,\n",
       "         7.20092328e-01],\n",
       "       [-4.99664317e-01, -7.12897586e-01,  1.66401775e+00,\n",
       "        -3.06785996e-01,  7.94719414e-01, -1.10888403e+00,\n",
       "         7.47847492e-02],\n",
       "       [-4.99664317e-01, -7.77870190e-01, -1.20447645e+00,\n",
       "        -3.06785996e-01,  7.94719414e-01, -7.07093583e-01,\n",
       "        -2.29134304e+00],\n",
       "       [-9.99328634e-01, -3.81477699e-01,  4.15094712e-01,\n",
       "        -3.06785996e-01,  7.94719414e-01, -1.04191896e+00,\n",
       "         7.47847492e-02],\n",
       "       [-7.49496475e-01,  7.51668355e-01, -6.32389125e-01,\n",
       "        -3.06785996e-01,  7.94719414e-01,  1.23489358e+00,\n",
       "         7.47847492e-02],\n",
       "       [-9.99328634e-01, -1.09081163e+00,  9.27919925e-02,\n",
       "        -3.06785996e-01,  7.94719414e-01, -1.10888403e+00,\n",
       "         7.20092328e-01],\n",
       "       [-1.99865727e+00, -5.61493537e-01,  1.73367672e-01,\n",
       "         3.25960120e+00, -1.25830574e+00,  1.23489358e+00,\n",
       "         7.20092328e-01],\n",
       "       [-9.99328634e-01, -2.95642332e-01, -7.93540485e-01,\n",
       "        -3.06785996e-01,  7.94719414e-01,  1.23489358e+00,\n",
       "         7.47847492e-02],\n",
       "       [-2.49832158e-01, -5.43611169e-01, -1.22059159e+00,\n",
       "        -3.06785996e-01,  7.94719414e-01, -9.74953881e-01,\n",
       "        -1.93283883e+00],\n",
       "       [ 7.49496475e-01, -7.23627007e-01, -5.92101285e-01,\n",
       "        -3.06785996e-01, -1.25830574e+00,  1.23489358e+00,\n",
       "         7.20092328e-01],\n",
       "       [-4.99664317e-01, -1.05743121e+00,  1.22163127e-02,\n",
       "        -3.06785996e-01,  7.94719414e-01, -3.72268210e-01,\n",
       "         7.20092328e-01],\n",
       "       [-7.49496475e-01, -9.01854608e-01, -1.08647207e-01,\n",
       "        -3.06785996e-01,  7.94719414e-01,  1.23489358e+00,\n",
       "         7.47847492e-02],\n",
       "       [ 4.99664317e-01, -1.84771651e-01, -1.15210226e+00,\n",
       "        -3.06785996e-01,  7.94719414e-01, -7.07093583e-01,\n",
       "        -2.29134304e+00],\n",
       "       [-1.74882511e+00, -4.42873829e-01, -7.53252645e-01,\n",
       "         3.25960120e+00, -1.25830574e+00,  1.23489358e+00,\n",
       "         7.47847492e-02],\n",
       "       [-9.99328634e-01, -1.00318803e+00, -2.80715271e-02,\n",
       "        -3.06785996e-01,  7.94719414e-01, -1.10888403e+00,\n",
       "         7.20092328e-01],\n",
       "       [-4.99664317e-01, -4.96520933e-01, -5.11525606e-01,\n",
       "        -3.06785996e-01,  7.94719414e-01,  1.23489358e+00,\n",
       "         7.47847492e-02],\n",
       "       [ 2.49832158e-01,  1.70491394e-01,  1.05970015e+00,\n",
       "        -3.06785996e-01,  7.94719414e-01,  1.23489358e+00,\n",
       "         7.20092328e-01],\n",
       "       [-2.21895532e-15, -1.84656281e-02, -1.08647207e-01,\n",
       "        -3.06785996e-01,  7.94719414e-01, -3.72268210e-01,\n",
       "         7.47847492e-02]])"
      ]
     },
     "execution_count": 70,
     "metadata": {},
     "output_type": "execute_result"
    }
   ],
   "source": [
    "input_scale"
   ]
  },
  {
   "cell_type": "code",
   "execution_count": 71,
   "metadata": {
    "colab": {
     "background_save": true
    },
    "executionInfo": {
     "elapsed": 92,
     "status": "ok",
     "timestamp": 1692722773289,
     "user": {
      "displayName": "yash vaddoriya",
      "userId": "15193926449796532411"
     },
     "user_tz": -330
    },
    "id": "JEfjoTgY699_"
   },
   "outputs": [],
   "source": [
    "from sklearn.model_selection import train_test_split\n",
    "x_train, x_test, y_train, y_test = train_test_split(input_scale, target, test_size=0.3)"
   ]
  },
  {
   "cell_type": "code",
   "execution_count": 72,
   "metadata": {
    "colab": {
     "background_save": true,
     "base_uri": "https://localhost:8080/",
     "height": 74
    },
    "executionInfo": {
     "elapsed": 92,
     "status": "ok",
     "timestamp": 1692722773290,
     "user": {
      "displayName": "yash vaddoriya",
      "userId": "15193926449796532411"
     },
     "user_tz": -330
    },
    "id": "si7JYB1C7VFt"
   },
   "outputs": [
    {
     "data": {
      "text/html": [
       "<style>#sk-container-id-2 {color: black;}#sk-container-id-2 pre{padding: 0;}#sk-container-id-2 div.sk-toggleable {background-color: white;}#sk-container-id-2 label.sk-toggleable__label {cursor: pointer;display: block;width: 100%;margin-bottom: 0;padding: 0.3em;box-sizing: border-box;text-align: center;}#sk-container-id-2 label.sk-toggleable__label-arrow:before {content: \"▸\";float: left;margin-right: 0.25em;color: #696969;}#sk-container-id-2 label.sk-toggleable__label-arrow:hover:before {color: black;}#sk-container-id-2 div.sk-estimator:hover label.sk-toggleable__label-arrow:before {color: black;}#sk-container-id-2 div.sk-toggleable__content {max-height: 0;max-width: 0;overflow: hidden;text-align: left;background-color: #f0f8ff;}#sk-container-id-2 div.sk-toggleable__content pre {margin: 0.2em;color: black;border-radius: 0.25em;background-color: #f0f8ff;}#sk-container-id-2 input.sk-toggleable__control:checked~div.sk-toggleable__content {max-height: 200px;max-width: 100%;overflow: auto;}#sk-container-id-2 input.sk-toggleable__control:checked~label.sk-toggleable__label-arrow:before {content: \"▾\";}#sk-container-id-2 div.sk-estimator input.sk-toggleable__control:checked~label.sk-toggleable__label {background-color: #d4ebff;}#sk-container-id-2 div.sk-label input.sk-toggleable__control:checked~label.sk-toggleable__label {background-color: #d4ebff;}#sk-container-id-2 input.sk-hidden--visually {border: 0;clip: rect(1px 1px 1px 1px);clip: rect(1px, 1px, 1px, 1px);height: 1px;margin: -1px;overflow: hidden;padding: 0;position: absolute;width: 1px;}#sk-container-id-2 div.sk-estimator {font-family: monospace;background-color: #f0f8ff;border: 1px dotted black;border-radius: 0.25em;box-sizing: border-box;margin-bottom: 0.5em;}#sk-container-id-2 div.sk-estimator:hover {background-color: #d4ebff;}#sk-container-id-2 div.sk-parallel-item::after {content: \"\";width: 100%;border-bottom: 1px solid gray;flex-grow: 1;}#sk-container-id-2 div.sk-label:hover label.sk-toggleable__label {background-color: #d4ebff;}#sk-container-id-2 div.sk-serial::before {content: \"\";position: absolute;border-left: 1px solid gray;box-sizing: border-box;top: 0;bottom: 0;left: 50%;z-index: 0;}#sk-container-id-2 div.sk-serial {display: flex;flex-direction: column;align-items: center;background-color: white;padding-right: 0.2em;padding-left: 0.2em;position: relative;}#sk-container-id-2 div.sk-item {position: relative;z-index: 1;}#sk-container-id-2 div.sk-parallel {display: flex;align-items: stretch;justify-content: center;background-color: white;position: relative;}#sk-container-id-2 div.sk-item::before, #sk-container-id-2 div.sk-parallel-item::before {content: \"\";position: absolute;border-left: 1px solid gray;box-sizing: border-box;top: 0;bottom: 0;left: 50%;z-index: -1;}#sk-container-id-2 div.sk-parallel-item {display: flex;flex-direction: column;z-index: 1;position: relative;background-color: white;}#sk-container-id-2 div.sk-parallel-item:first-child::after {align-self: flex-end;width: 50%;}#sk-container-id-2 div.sk-parallel-item:last-child::after {align-self: flex-start;width: 50%;}#sk-container-id-2 div.sk-parallel-item:only-child::after {width: 0;}#sk-container-id-2 div.sk-dashed-wrapped {border: 1px dashed gray;margin: 0 0.4em 0.5em 0.4em;box-sizing: border-box;padding-bottom: 0.4em;background-color: white;}#sk-container-id-2 div.sk-label label {font-family: monospace;font-weight: bold;display: inline-block;line-height: 1.2em;}#sk-container-id-2 div.sk-label-container {text-align: center;}#sk-container-id-2 div.sk-container {/* jupyter's `normalize.less` sets `[hidden] { display: none; }` but bootstrap.min.css set `[hidden] { display: none !important; }` so we also need the `!important` here to be able to override the default hidden behavior on the sphinx rendered scikit-learn.org. See: https://github.com/scikit-learn/scikit-learn/issues/21755 */display: inline-block !important;position: relative;}#sk-container-id-2 div.sk-text-repr-fallback {display: none;}</style><div id=\"sk-container-id-2\" class=\"sk-top-container\"><div class=\"sk-text-repr-fallback\"><pre>LinearRegression()</pre><b>In a Jupyter environment, please rerun this cell to show the HTML representation or trust the notebook. <br />On GitHub, the HTML representation is unable to render, please try loading this page with nbviewer.org.</b></div><div class=\"sk-container\" hidden><div class=\"sk-item\"><div class=\"sk-estimator sk-toggleable\"><input class=\"sk-toggleable__control sk-hidden--visually\" id=\"sk-estimator-id-2\" type=\"checkbox\" checked><label for=\"sk-estimator-id-2\" class=\"sk-toggleable__label sk-toggleable__label-arrow\">LinearRegression</label><div class=\"sk-toggleable__content\"><pre>LinearRegression()</pre></div></div></div></div></div>"
      ],
      "text/plain": [
       "LinearRegression()"
      ]
     },
     "execution_count": 72,
     "metadata": {},
     "output_type": "execute_result"
    }
   ],
   "source": [
    "from sklearn.linear_model import LinearRegression\n",
    "\n",
    "reg = LinearRegression()\n",
    "reg.fit(x_train, y_train)"
   ]
  },
  {
   "cell_type": "code",
   "execution_count": 73,
   "metadata": {
    "colab": {
     "background_save": true,
     "base_uri": "https://localhost:8080/"
    },
    "executionInfo": {
     "elapsed": 93,
     "status": "ok",
     "timestamp": 1692722773292,
     "user": {
      "displayName": "yash vaddoriya",
      "userId": "15193926449796532411"
     },
     "user_tz": -330
    },
    "id": "x1kOcyHp7l8Q"
   },
   "outputs": [
    {
     "data": {
      "text/plain": [
       "array([9.40340084, 7.93757516, 7.97509817, 8.61896325, 9.19484396,\n",
       "       8.44271359, 8.90781526, 7.92889332, 9.32796437, 8.26262956,\n",
       "       7.79819563, 8.69431612, 8.32254941, 7.52324784, 8.23738407,\n",
       "       8.8653147 , 8.65681473, 8.10621624, 8.60835178, 8.7030074 ,\n",
       "       8.4541397 , 8.14810406, 9.67824534, 8.65415761, 8.38084701,\n",
       "       8.25440743, 9.15004229, 7.47673366, 7.82635432, 8.40323798,\n",
       "       8.3489779 , 7.83207033, 7.09540095, 7.12589367, 8.82917542,\n",
       "       7.5522179 , 8.56545181, 8.58218955, 8.54391695, 8.2194996 ,\n",
       "       7.95999476, 9.73393889, 8.26865799, 8.03937237, 8.39866908,\n",
       "       8.21986949, 8.68250038, 8.3992821 , 8.97949812, 8.3733809 ,\n",
       "       8.95249303, 8.38435668, 8.43446134, 8.23606457, 9.77512789,\n",
       "       9.82954888, 7.30933133, 7.36365699, 8.44164236, 7.93059004,\n",
       "       8.50196093, 7.47572889, 8.60623038, 8.43927781, 8.88859097])"
      ]
     },
     "execution_count": 73,
     "metadata": {},
     "output_type": "execute_result"
    }
   ],
   "source": [
    "y_hat = reg.predict(x_train)\n",
    "y_hat"
   ]
  },
  {
   "cell_type": "code",
   "execution_count": 74,
   "metadata": {
    "colab": {
     "background_save": true,
     "base_uri": "https://localhost:8080/",
     "height": 666
    },
    "executionInfo": {
     "elapsed": 88,
     "status": "ok",
     "timestamp": 1692722773292,
     "user": {
      "displayName": "yash vaddoriya",
      "userId": "15193926449796532411"
     },
     "user_tz": -330
    },
    "id": "RNJfChp-7rbm"
   },
   "outputs": [
    {
     "name": "stderr",
     "output_type": "stream",
     "text": [
      "C:\\Users\\patel\\AppData\\Local\\Temp\\ipykernel_2904\\673607322.py:1: UserWarning: \n",
      "\n",
      "`distplot` is a deprecated function and will be removed in seaborn v0.14.0.\n",
      "\n",
      "Please adapt your code to use either `displot` (a figure-level function with\n",
      "similar flexibility) or `histplot` (an axes-level function for histograms).\n",
      "\n",
      "For a guide to updating your code to use the new functions, please see\n",
      "https://gist.github.com/mwaskom/de44147ed2974457ad6372750bbe5751\n",
      "\n",
      "  sns.distplot(y_train - y_hat)\n"
     ]
    },
    {
     "data": {
      "text/plain": [
       "<Axes: xlabel='Log_price', ylabel='Density'>"
      ]
     },
     "execution_count": 74,
     "metadata": {},
     "output_type": "execute_result"
    },
    {
     "data": {
      "image/png": "[encoded data removed]",
      "text/plain": [
       "<Figure size 640x480 with 1 Axes>"
      ]
     },
     "metadata": {},
     "output_type": "display_data"
    }
   ],
   "source": [
    "sns.distplot(y_train - y_hat)"
   ]
  },
  {
   "cell_type": "code",
   "execution_count": 75,
   "metadata": {
    "colab": {
     "background_save": true,
     "base_uri": "https://localhost:8080/",
     "height": 482
    },
    "executionInfo": {
     "elapsed": 82,
     "status": "ok",
     "timestamp": 1692722773292,
     "user": {
      "displayName": "yash vaddoriya",
      "userId": "15193926449796532411"
     },
     "user_tz": -330
    },
    "id": "ZwEUsQMt7z8_"
   },
   "outputs": [
    {
     "data": {
      "text/plain": [
       "Text(0, 0.5, 'Predictions(y_hat)')"
      ]
     },
     "execution_count": 75,
     "metadata": {},
     "output_type": "execute_result"
    },
    {
     "data": {
      "image/png": "[encoded data removed]",
      "text/plain": [
       "<Figure size 640x480 with 1 Axes>"
      ]
     },
     "metadata": {},
     "output_type": "display_data"
    }
   ],
   "source": [
    "plt.scatter(y_train, y_hat)\n",
    "plt.xlabel('Target(y_train)',size=18)\n",
    "plt.ylabel('Predictions(y_hat)', size = 18)"
   ]
  },
  {
   "cell_type": "code",
   "execution_count": 76,
   "metadata": {
    "colab": {
     "background_save": true,
     "base_uri": "https://localhost:8080/"
    },
    "executionInfo": {
     "elapsed": 75,
     "status": "ok",
     "timestamp": 1692722773295,
     "user": {
      "displayName": "yash vaddoriya",
      "userId": "15193926449796532411"
     },
     "user_tz": -330
    },
    "id": "eEWJAZ8F8Ekh"
   },
   "outputs": [
    {
     "data": {
      "text/plain": [
       "0.5254886266033079"
      ]
     },
     "execution_count": 76,
     "metadata": {},
     "output_type": "execute_result"
    }
   ],
   "source": [
    "reg.score(x_train, y_train)"
   ]
  },
  {
   "cell_type": "code",
   "execution_count": 77,
   "metadata": {
    "colab": {
     "background_save": true,
     "base_uri": "https://localhost:8080/"
    },
    "executionInfo": {
     "elapsed": 72,
     "status": "ok",
     "timestamp": 1692722773296,
     "user": {
      "displayName": "yash vaddoriya",
      "userId": "15193926449796532411"
     },
     "user_tz": -330
    },
    "id": "DY9aAXPr8K_c"
   },
   "outputs": [
    {
     "data": {
      "text/plain": [
       "-0.2646955847871504"
      ]
     },
     "execution_count": 77,
     "metadata": {},
     "output_type": "execute_result"
    }
   ],
   "source": [
    "reg.score(x_test, y_test)"
   ]
  },
  {
   "cell_type": "code",
   "execution_count": 78,
   "metadata": {
    "colab": {
     "background_save": true,
     "base_uri": "https://localhost:8080/"
    },
    "executionInfo": {
     "elapsed": 4,
     "status": "ok",
     "timestamp": 1692722850284,
     "user": {
      "displayName": "yash vaddoriya",
      "userId": "15193926449796532411"
     },
     "user_tz": -330
    },
    "id": "e3ruzINQB__1"
   },
   "outputs": [
    {
     "name": "stdout",
     "output_type": "stream",
     "text": [
      "Mean Absolute Error: 0.46 degrees\n"
     ]
    }
   ],
   "source": [
    "train_errors = abs(y_hat - y_train)\n",
    "print('Mean Absolute Error:', round(np.mean(train_errors), 2), 'degrees')"
   ]
  },
  {
   "cell_type": "code",
   "execution_count": 79,
   "metadata": {
    "colab": {
     "background_save": true,
     "base_uri": "https://localhost:8080/"
    },
    "executionInfo": {
     "elapsed": 408,
     "status": "ok",
     "timestamp": 1692722967995,
     "user": {
      "displayName": "yash vaddoriya",
      "userId": "15193926449796532411"
     },
     "user_tz": -330
    },
    "id": "8tPYioE9JOaB"
   },
   "outputs": [
    {
     "name": "stdout",
     "output_type": "stream",
     "text": [
      "Accuracy: 94.36 %.\n"
     ]
    }
   ],
   "source": [
    "train_map  = 100 * (train_errors/y_train)\n",
    "train_accuracy = 100 - np.mean(train_map)\n",
    "print('Accuracy:', round(train_accuracy, 2), '%.')"
   ]
  },
  {
   "cell_type": "code",
   "execution_count": 80,
   "metadata": {
    "colab": {
     "background_save": true
    },
    "id": "DyQDJiHCJ06G"
   },
   "outputs": [],
   "source": [
    "y_hat_test = reg.predict(x_test)"
   ]
  },
  {
   "cell_type": "code",
   "execution_count": 81,
   "metadata": {
    "colab": {
     "background_save": true
    },
    "id": "LQ2LRiprJq9L"
   },
   "outputs": [
    {
     "name": "stdout",
     "output_type": "stream",
     "text": [
      "Mean Absolute Error: 0.53 degrees\n"
     ]
    }
   ],
   "source": [
    "test_errors = abs(y_hat_test - y_test)\n",
    "print('Mean Absolute Error:', round(np.mean(test_errors), 2), 'degrees')"
   ]
  },
  {
   "cell_type": "code",
   "execution_count": 82,
   "metadata": {},
   "outputs": [
    {
     "name": "stdout",
     "output_type": "stream",
     "text": [
      "Accuracy: 93.45 %.\n"
     ]
    }
   ],
   "source": [
    "test_train_map  = 100 * (test_errors/y_test)\n",
    "test_accuracy = 100 - np.mean(test_train_map)\n",
    "print('Accuracy:', round(test_accuracy, 2), '%.')"
   ]
  },
  {
   "cell_type": "code",
   "execution_count": 83,
   "metadata": {},
   "outputs": [
    {
     "data": {
      "text/plain": [
       "Text(0, 0.5, 'Predictions(y_hat)')"
      ]
     },
     "execution_count": 83,
     "metadata": {},
     "output_type": "execute_result"
    },
    {
     "data": {
      "image/png": "[encoded data removed]",
      "text/plain": [
       "<Figure size 640x480 with 1 Axes>"
      ]
     },
     "metadata": {},
     "output_type": "display_data"
    }
   ],
   "source": [
    "plt.scatter(y_test, y_hat_test)\n",
    "plt.xlabel('Target(y_train)',size=18)\n",
    "plt.ylabel('Predictions(y_hat)', size = 18)"
   ]
  }
 ],
 "metadata": {
  "colab": {
   "authorship_tag": "ABX9TyMlUQmQsrWVQppMlI2G24BS",
   "mount_file_id": "1Sto_jDhzaUQv9KC_T1eC_tsETfHT35V4",
   "name": "",
   "provenance": [
    {
     "file_id": "1jTX5zOWCnKbvrHrGqK-b18AqR2tIEArd",
     "timestamp": 1692713459332
    }
   ],
   "version": ""
  },
  "kernelspec": {
   "display_name": "Python 3 (ipykernel)",
   "language": "python",
   "name": "python3"
  },
  "language_info": {
   "codemirror_mode": {
    "name": "ipython",
    "version": 3
   },
   "file_extension": ".py",
   "mimetype": "text/x-python",
   "name": "python",
   "nbconvert_exporter": "python",
   "pygments_lexer": "ipython3",
   "version": "3.11.4"
  }
 },
 "nbformat": 4,
 "nbformat_minor": 1
}
